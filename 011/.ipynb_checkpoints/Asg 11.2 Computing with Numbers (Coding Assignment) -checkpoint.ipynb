{
 "cells": [
  {
   "cell_type": "markdown",
   "id": "065d5844",
   "metadata": {},
   "source": [
    "# <center><b>PFDS</b></center> \n",
    "# <center><b>Asg 11.2</b></center> \n",
    "# <center><b>Computing with Numbers (Coding Assignment)</b></center>"
   ]
  },
  {
   "cell_type": "code",
   "execution_count": 1,
   "id": "76c94bdd",
   "metadata": {},
   "outputs": [
    {
     "name": "stdout",
     "output_type": "stream",
     "text": [
      "\n",
      " This notebook is set up to display multiple output in one cell.\n"
     ]
    }
   ],
   "source": [
    "# set up notebook to display multiple output in one cell\n",
    "from IPython.core.interactiveshell import InteractiveShell\n",
    "InteractiveShell.ast_node_interactivity = \"all\"\n",
    "\n",
    "print(\"\\n\", \"This notebook is set up to display multiple output in one cell.\")"
   ]
  },
  {
   "attachments": {
    "image-2.png": {
     "image/png": "[encoded data removed]"
    }
   },
   "cell_type": "markdown",
   "id": "52b8b3fb",
   "metadata": {},
   "source": [
    "<div class=\"alert alert-block alert-success\"><b>Question #1:</b>\n",
    " \n",
    "Write a program to calculate the volume and surface area of a sphere from its radius, which will be given by the user as input. Use the following formulas:\n",
    "<p>&nbsp;</p>\n",
    "\n",
    "![image-2.png](attachment:image-2.png)\n",
    "\n",
    "<p>&nbsp;</p>\n",
    "Round answers to 2 decimal places and use a clearly-worded, aesthetically formatted print statement to display your output.\n",
    "</div>"
   ]
  },
  {
   "cell_type": "code",
   "execution_count": null,
   "id": "2506a66c",
   "metadata": {},
   "outputs": [],
   "source": []
  },
  {
   "cell_type": "markdown",
   "id": "a4603106",
   "metadata": {},
   "source": [
    "<div class=\"alert alert-block alert-success\"><b>Question #2:</b>\n",
    " \n",
    "Write a program that calculates the cost per square inch of a circular pizza, given its diameter and price (which will be given as inputs by the user). The formula for area is A = 𝛑r<sup>2</sup>.\n",
    "<p>&nbsp;</p>    \n",
    " Round answers to 4 decimal places and use a clearly-worded, aesthetically formatted print statement to display your output.\n",
    "</div>"
   ]
  },
  {
   "cell_type": "code",
   "execution_count": null,
   "id": "b8faf4a3",
   "metadata": {},
   "outputs": [],
   "source": []
  },
  {
   "attachments": {
    "image.png": {
     "image/png": "[encoded data removed]"
    }
   },
   "cell_type": "markdown",
   "id": "7837d95a",
   "metadata": {},
   "source": [
    "<div class=\"alert alert-block alert-success\"><b>Question #3:</b>\n",
    " \n",
    "Two points in a plane are specified using the coordinates (x1,y1) and (x2,y2). Write a program that calculates the slope of a line through two (non-vertical) points entered by the user as input.  Use the formula that has been provided below:\n",
    "<p>&nbsp;</p>   \n",
    "    \n",
    "![image.png](attachment:image.png) \n",
    "    \n",
    "<p>&nbsp;</p>      \n",
    "Round answers to 2 decimal places and use a clearly-worded, aesthetically formatted print statement to display your output.\n",
    "</div>"
   ]
  },
  {
   "cell_type": "code",
   "execution_count": null,
   "id": "3c30f64c",
   "metadata": {},
   "outputs": [],
   "source": []
  },
  {
   "attachments": {
    "image-2.png": {
     "image/png": "[encoded data removed]"
    }
   },
   "cell_type": "markdown",
   "id": "abb348c9",
   "metadata": {},
   "source": [
    "<div class=\"alert alert-block alert-success\"><b>Question #4:</b>\n",
    " \n",
    "Write a program to calculate the area of a triangle given the length of its three sides- a, b, and c (which will be provided as user input)- using the formulas found below: \n",
    "<p>&nbsp;</p> \n",
    "    \n",
    "![image-2.png](attachment:image-2.png) \n",
    "    \n",
    "<p>&nbsp;</p>\n",
    "Round answers to 2 decimal places and use a clearly-worded, aesthetically formatted print statement to display your output.\n",
    "</div>"
   ]
  },
  {
   "cell_type": "code",
   "execution_count": null,
   "id": "b264a04f",
   "metadata": {},
   "outputs": [],
   "source": []
  },
  {
   "cell_type": "markdown",
   "id": "d1fe8393",
   "metadata": {},
   "source": [
    "<div class=\"alert alert-block alert-success\"><b>Question #5:</b>\n",
    " \n",
    "Write a program to find the sum of the first n natural numbers, where the value of n is provided by the user. \n",
    "\n",
    "Round answers to 2 decimal places and use a clearly-worded, aesthetically formatted print statement to display your output.\n",
    "</div>"
   ]
  },
  {
   "cell_type": "code",
   "execution_count": null,
   "id": "9c66d7aa",
   "metadata": {},
   "outputs": [],
   "source": []
  },
  {
   "cell_type": "markdown",
   "id": "83c31b6a",
   "metadata": {},
   "source": [
    "<div class=\"alert alert-block alert-success\"><b>Optional Bonus Question:</b>\n",
    " \n",
    "a. A Fibonacci sequence is a sequence of numbers where each successive number is the sum of the previous two. The classic Fibonacci sequence begins: 1, 1, 2, 3, 5, 8, 13, .... Write a program that computes the nth Fibonacci number where n is a value inputted by the user. For example, if n = 6, then the result is 8. \n",
    "<p>&nbsp;</p>    \n",
    "Use a clearly-worded, aesthetically formatted print statement to display your output.\n",
    "    \n",
    "<p>&nbsp;</p>\n",
    "    \n",
    "b. A Fibonacci sequence is a sequence of numbers where each successive number is the sum of the previous two. The classic Fibonacci sequence begins: 1, 1, 2, 3, 5, 8, 13, .... Write a program that computes the sum of the nth Fibonacci number where n is a value inputted by the user. For example, if n = 6, then the result is 20. \n",
    "<p>&nbsp;</p>\n",
    "Use a clearly-worded, aesthetically formatted print statement to display your output.\n",
    "</div>"
   ]
  },
  {
   "cell_type": "code",
   "execution_count": null,
   "id": "11054b3b",
   "metadata": {},
   "outputs": [],
   "source": []
  }
 ],
 "metadata": {
  "kernelspec": {
   "display_name": "Python 3",
   "language": "python",
   "name": "python3"
  },
  "language_info": {
   "codemirror_mode": {
    "name": "ipython",
    "version": 3
   },
   "file_extension": ".py",
   "mimetype": "text/x-python",
   "name": "python",
   "nbconvert_exporter": "python",
   "pygments_lexer": "ipython3",
   "version": "3.8.8"
  }
 },
 "nbformat": 4,
 "nbformat_minor": 5
}
