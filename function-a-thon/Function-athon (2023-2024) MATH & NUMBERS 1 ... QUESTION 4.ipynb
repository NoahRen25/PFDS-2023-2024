{
 "cells": [
  {
   "cell_type": "markdown",
   "id": "401e5dcf",
   "metadata": {
    "toc": true
   },
   "source": [
    "<h1>Table of Contents<span class=\"tocSkip\"></span></h1>\n",
    "<div class=\"toc\"><ul class=\"toc-item\"><li><span><a href=\"#PFDS\" data-toc-modified-id=\"PFDS-1\"><span class=\"toc-item-num\">1&nbsp;&nbsp;</span><center><b>PFDS</b></center></a></span></li><li><span><a href=\"#2023-2024\" data-toc-modified-id=\"2023-2024-2\"><span class=\"toc-item-num\">2&nbsp;&nbsp;</span><center><b>2023-2024</b></center></a></span></li><li><span><a href=\"#Function-athon\" data-toc-modified-id=\"Function-athon-3\"><span class=\"toc-item-num\">3&nbsp;&nbsp;</span><center><b>Function-athon</b></center></a></span><ul class=\"toc-item\"><li><ul class=\"toc-item\"><li><span><a href=\"#NAMES-OF-PEOPLE-IN-YOUR-GROUP:\" data-toc-modified-id=\"NAMES-OF-PEOPLE-IN-YOUR-GROUP:-3.0.1\"><span class=\"toc-item-num\">3.0.1&nbsp;&nbsp;</span>NAMES OF PEOPLE IN YOUR GROUP:<br></a></span></li></ul></li></ul></li><li><span><a href=\"#MATH-/-NUMBERS-1\" data-toc-modified-id=\"MATH-/-NUMBERS-1-4\"><span class=\"toc-item-num\">4&nbsp;&nbsp;</span><center>MATH / NUMBERS 1</center></a></span></li></ul></div>"
   ]
  },
  {
   "cell_type": "markdown",
   "id": "45a10f4b",
   "metadata": {},
   "source": [
    "# <center><b>PFDS</b></center>\n",
    "# <center><b>2023-2024</b></center>\n",
    "# <center><b>Function-athon</b></center>"
   ]
  },
  {
   "cell_type": "markdown",
   "id": "8a456547",
   "metadata": {},
   "source": [
    "<div class=\"alert alert-block alert-warning\">\n",
    "    \n",
    "### NAMES OF PEOPLE IN YOUR GROUP:<br>\n",
    "    \n",
    "1.\n",
    "\n",
    "2.\n",
    "    \n",
    "3.\n",
    "    \n",
    "4.\n",
    "    \n",
    "5.\n",
    "    \n",
    "</div>"
   ]
  },
  {
   "cell_type": "code",
   "execution_count": 12,
   "id": "28565f21",
   "metadata": {
    "id": "28565f21",
    "outputId": "e53152ac-90d8-4a91-a070-b0534de28437"
   },
   "outputs": [
    {
     "name": "stdout",
     "output_type": "stream",
     "text": [
      "The notebook is set up to display multiple output in one cell.\n"
     ]
    }
   ],
   "source": [
    "# set up notebook to display multiple output in one cell\n",
    "\n",
    "from IPython.core.interactiveshell import InteractiveShell\n",
    "InteractiveShell.ast_node_interactivity = \"all\"\n",
    "\n",
    "print('The notebook is set up to display multiple output in one cell.')\n"
   ]
  },
  {
   "cell_type": "markdown",
   "id": "6f99981d",
   "metadata": {},
   "source": [
    "<div class=\"alert alert-block alert-info\">\n",
    "    \n",
    "# <center>MATH / NUMBERS 1</center>\n",
    "</div>"
   ]
  },
  {
   "cell_type": "markdown",
   "id": "bd63bad7",
   "metadata": {},
   "source": [
    "<div class=\"alert alert-block alert-success\"><b>Problem #4:</b>\n",
    "\n",
    "Write a function to count how many <u>unique</u> even numbers are in a list.<br>\n",
    "    \n",
    "Test your code with the following case:<br>\n",
    "    \n",
    "alist_2 = [60, 4, 7, 33, 4, 80, 46, 37, 4, 60, 77, 91, 4, 41, 100, 408, 4, 60, 4, 21, 20, 22, 911, 0, 16, 4, 79, 4, 60, 48]<br> \n",
    "<p>&nbsp;</p>   \n",
    "\n",
    "</div>"
   ]
  },
  {
   "cell_type": "code",
   "execution_count": 3,
   "id": "50c6567d",
   "metadata": {},
   "outputs": [
    {
     "name": "stdout",
     "output_type": "stream",
     "text": [
      "{0, 4, 7, 911, 16, 20, 21, 22, 408, 33, 37, 41, 46, 48, 60, 77, 79, 80, 91, 100}\n"
     ]
    }
   ],
   "source": [
    "alist_2 = [60, 4, 7, 33, 4, 80, 46, 37, 4, 60, 77, 91, 4, 41, 100, 408, 4, 60, 4, 21, 20, 22, 911, 0, 16, 4, 79, 4, 60, 48]\n",
    "tuple_1 = set(alist_2)\n",
    "print(tuple_1)"
   ]
  },
  {
   "cell_type": "code",
   "execution_count": null,
   "id": "32e10345",
   "metadata": {},
   "outputs": [],
   "source": []
  }
 ],
 "metadata": {
  "colab": {
   "name": "15 Functions & Modules Presentation 1 (JN) .ipynb",
   "provenance": []
  },
  "hide_input": false,
  "kernelspec": {
   "display_name": "Python 3 (ipykernel)",
   "language": "python",
   "name": "python3"
  },
  "language_info": {
   "codemirror_mode": {
    "name": "ipython",
    "version": 3
   },
   "file_extension": ".py",
   "mimetype": "text/x-python",
   "name": "python",
   "nbconvert_exporter": "python",
   "pygments_lexer": "ipython3",
   "version": "3.11.5"
  },
  "toc": {
   "base_numbering": 1,
   "nav_menu": {},
   "number_sections": true,
   "sideBar": true,
   "skip_h1_title": false,
   "title_cell": "Table of Contents",
   "title_sidebar": "Contents",
   "toc_cell": true,
   "toc_position": {},
   "toc_section_display": true,
   "toc_window_display": false
  },
  "varInspector": {
   "cols": {
    "lenName": 16,
    "lenType": 16,
    "lenVar": 40
   },
   "kernels_config": {
    "python": {
     "delete_cmd_postfix": "",
     "delete_cmd_prefix": "del ",
     "library": "var_list.py",
     "varRefreshCmd": "print(var_dic_list())"
    },
    "r": {
     "delete_cmd_postfix": ") ",
     "delete_cmd_prefix": "rm(",
     "library": "var_list.r",
     "varRefreshCmd": "cat(var_dic_list()) "
    }
   },
   "types_to_exclude": [
    "module",
    "function",
    "builtin_function_or_method",
    "instance",
    "_Feature"
   ],
   "window_display": false
  }
 },
 "nbformat": 4,
 "nbformat_minor": 5
}
