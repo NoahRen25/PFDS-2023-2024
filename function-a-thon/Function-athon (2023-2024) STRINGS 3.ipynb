{
 "cells": [
  {
   "cell_type": "markdown",
   "id": "9e9cf8a8",
   "metadata": {
    "toc": true
   },
   "source": [
    "<h1>Table of Contents<span class=\"tocSkip\"></span></h1>\n",
    "<div class=\"toc\"><ul class=\"toc-item\"><li><span><a href=\"#PFDS\" data-toc-modified-id=\"PFDS-1\"><span class=\"toc-item-num\">1&nbsp;&nbsp;</span><center><b>PFDS</b></center></a></span></li><li><span><a href=\"#2023-2024\" data-toc-modified-id=\"2023-2024-2\"><span class=\"toc-item-num\">2&nbsp;&nbsp;</span><center><b>2023-2024</b></center></a></span></li><li><span><a href=\"#Function-athon\" data-toc-modified-id=\"Function-athon-3\"><span class=\"toc-item-num\">3&nbsp;&nbsp;</span><center><b>Function-athon</b></center></a></span><ul class=\"toc-item\"><li><ul class=\"toc-item\"><li><span><a href=\"#NAMES-OF-PEOPLE-IN-YOUR-GROUP:\" data-toc-modified-id=\"NAMES-OF-PEOPLE-IN-YOUR-GROUP:-3.0.1\"><span class=\"toc-item-num\">3.0.1&nbsp;&nbsp;</span>NAMES OF PEOPLE IN YOUR GROUP:<br></a></span></li></ul></li></ul></li><li><span><a href=\"#STRINGS-/-TEXT\" data-toc-modified-id=\"STRINGS-/-TEXT-4\"><span class=\"toc-item-num\">4&nbsp;&nbsp;</span><center>STRINGS / TEXT</center></a></span></li></ul></div>"
   ]
  },
  {
   "cell_type": "markdown",
   "id": "45a10f4b",
   "metadata": {},
   "source": [
    "# <center><b>PFDS</b></center>\n",
    "# <center><b>2023-2024</b></center>\n",
    "# <center><b>Function-athon</b></center>"
   ]
  },
  {
   "cell_type": "markdown",
   "id": "2527f985",
   "metadata": {},
   "source": [
    "<div class=\"alert alert-block alert-warning\">\n",
    "    \n",
    "### NAMES OF PEOPLE IN YOUR GROUP:<br>\n",
    "    \n",
    "1.\n",
    "\n",
    "2.\n",
    "    \n",
    "3.\n",
    "    \n",
    "4.\n",
    "    \n",
    "5.\n",
    "    \n",
    "</div>"
   ]
  },
  {
   "cell_type": "code",
   "execution_count": 12,
   "id": "28565f21",
   "metadata": {
    "id": "28565f21",
    "outputId": "e53152ac-90d8-4a91-a070-b0534de28437"
   },
   "outputs": [
    {
     "name": "stdout",
     "output_type": "stream",
     "text": [
      "The notebook is set up to display multiple output in one cell.\n"
     ]
    }
   ],
   "source": [
    "# set up notebook to display multiple output in one cell\n",
    "\n",
    "from IPython.core.interactiveshell import InteractiveShell\n",
    "InteractiveShell.ast_node_interactivity = \"all\"\n",
    "\n",
    "print('The notebook is set up to display multiple output in one cell.')\n"
   ]
  },
  {
   "cell_type": "markdown",
   "id": "6f99981d",
   "metadata": {},
   "source": [
    "<div class=\"alert alert-block alert-info\">\n",
    "    \n",
    "# <center>STRINGS / TEXT</center>\n",
    "</div>"
   ]
  },
  {
   "cell_type": "markdown",
   "id": "83e0f086",
   "metadata": {},
   "source": [
    "<div class=\"alert alert-block alert-success\"><b>Problem #3:</b> Complete the following task:<br>\n",
    "\n",
    "Write a function that takes a list of words as input and returns the list of words with more than 5 characters.\n",
    "\n",
    "</div>"
   ]
  },
  {
   "cell_type": "code",
   "execution_count": 2,
   "id": "bba0f971",
   "metadata": {},
   "outputs": [
    {
     "ename": "SyntaxError",
     "evalue": "invalid syntax (2822384400.py, line 3)",
     "output_type": "error",
     "traceback": [
      "\u001b[1;36m  Cell \u001b[1;32mIn[2], line 3\u001b[1;36m\u001b[0m\n\u001b[1;33m    for words.lower() is not 'q':\u001b[0m\n\u001b[1;37m                      ^\u001b[0m\n\u001b[1;31mSyntaxError\u001b[0m\u001b[1;31m:\u001b[0m invalid syntax\n"
     ]
    }
   ],
   "source": [
    "test = []\n",
    "words = input(\"Enter words, q when you're done: \")\n",
    "for words.lower() is not 'q': \n",
    "    test = test.append(words)\n",
    "    words = input(\"Enter words, q when you're done: \")\n",
    "print(test)"
   ]
  },
  {
   "cell_type": "code",
   "execution_count": null,
   "id": "9faaf5c6",
   "metadata": {},
   "outputs": [],
   "source": []
  }
 ],
 "metadata": {
  "colab": {
   "name": "15 Functions & Modules Presentation 1 (JN) .ipynb",
   "provenance": []
  },
  "hide_input": false,
  "kernelspec": {
   "display_name": "Python 3 (ipykernel)",
   "language": "python",
   "name": "python3"
  },
  "language_info": {
   "codemirror_mode": {
    "name": "ipython",
    "version": 3
   },
   "file_extension": ".py",
   "mimetype": "text/x-python",
   "name": "python",
   "nbconvert_exporter": "python",
   "pygments_lexer": "ipython3",
   "version": "3.11.5"
  },
  "toc": {
   "base_numbering": 1,
   "nav_menu": {},
   "number_sections": true,
   "sideBar": true,
   "skip_h1_title": false,
   "title_cell": "Table of Contents",
   "title_sidebar": "Contents",
   "toc_cell": true,
   "toc_position": {},
   "toc_section_display": true,
   "toc_window_display": false
  },
  "varInspector": {
   "cols": {
    "lenName": 16,
    "lenType": 16,
    "lenVar": 40
   },
   "kernels_config": {
    "python": {
     "delete_cmd_postfix": "",
     "delete_cmd_prefix": "del ",
     "library": "var_list.py",
     "varRefreshCmd": "print(var_dic_list())"
    },
    "r": {
     "delete_cmd_postfix": ") ",
     "delete_cmd_prefix": "rm(",
     "library": "var_list.r",
     "varRefreshCmd": "cat(var_dic_list()) "
    }
   },
   "types_to_exclude": [
    "module",
    "function",
    "builtin_function_or_method",
    "instance",
    "_Feature"
   ],
   "window_display": false
  }
 },
 "nbformat": 4,
 "nbformat_minor": 5
}
