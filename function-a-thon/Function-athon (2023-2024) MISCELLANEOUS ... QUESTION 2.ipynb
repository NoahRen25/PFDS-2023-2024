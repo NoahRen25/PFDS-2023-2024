{
 "cells": [
  {
   "cell_type": "markdown",
   "id": "40a55251",
   "metadata": {
    "toc": true
   },
   "source": [
    "<h1>Table of Contents<span class=\"tocSkip\"></span></h1>\n",
    "<div class=\"toc\"><ul class=\"toc-item\"><li><span><a href=\"#PFDS\" data-toc-modified-id=\"PFDS-1\"><span class=\"toc-item-num\">1&nbsp;&nbsp;</span><center><b>PFDS</b></center></a></span></li><li><span><a href=\"#2023-2024\" data-toc-modified-id=\"2023-2024-2\"><span class=\"toc-item-num\">2&nbsp;&nbsp;</span><center><b>2023-2024</b></center></a></span></li><li><span><a href=\"#Function-athon\" data-toc-modified-id=\"Function-athon-3\"><span class=\"toc-item-num\">3&nbsp;&nbsp;</span><center><b>Function-athon</b></center></a></span><ul class=\"toc-item\"><li><ul class=\"toc-item\"><li><span><a href=\"#NAMES-OF-PEOPLE-IN-YOUR-GROUP:\" data-toc-modified-id=\"NAMES-OF-PEOPLE-IN-YOUR-GROUP:-3.0.1\"><span class=\"toc-item-num\">3.0.1&nbsp;&nbsp;</span>NAMES OF PEOPLE IN YOUR GROUP:<br></a></span></li></ul></li></ul></li><li><span><a href=\"#MISCELLANEOUS\" data-toc-modified-id=\"MISCELLANEOUS-4\"><span class=\"toc-item-num\">4&nbsp;&nbsp;</span><center>MISCELLANEOUS</center></a></span></li></ul></div>"
   ]
  },
  {
   "cell_type": "markdown",
   "id": "45a10f4b",
   "metadata": {},
   "source": [
    "# <center><b>PFDS</b></center>\n",
    "# <center><b>2023-2024</b></center>\n",
    "# <center><b>Function-athon</b></center>"
   ]
  },
  {
   "cell_type": "markdown",
   "id": "8a456547",
   "metadata": {},
   "source": [
    "<div class=\"alert alert-block alert-warning\">\n",
    "    \n",
    "### NAMES OF PEOPLE IN YOUR GROUP:<br>\n",
    "    \n",
    "1.<br> \n",
    "\n",
    "2.<br> \n",
    "    \n",
    "3.<br>\n",
    "    \n",
    "4.<br>\n",
    "    \n",
    "5.<br>\n",
    "    \n",
    "6.<br>\n",
    "    \n",
    "</div>"
   ]
  },
  {
   "cell_type": "code",
   "execution_count": 12,
   "id": "28565f21",
   "metadata": {
    "id": "28565f21",
    "outputId": "e53152ac-90d8-4a91-a070-b0534de28437"
   },
   "outputs": [
    {
     "name": "stdout",
     "output_type": "stream",
     "text": [
      "The notebook is set up to display multiple output in one cell.\n"
     ]
    }
   ],
   "source": [
    "# set up notebook to display multiple output in one cell\n",
    "\n",
    "from IPython.core.interactiveshell import InteractiveShell\n",
    "InteractiveShell.ast_node_interactivity = \"all\"\n",
    "\n",
    "print('The notebook is set up to display multiple output in one cell.')\n"
   ]
  },
  {
   "cell_type": "markdown",
   "id": "6f99981d",
   "metadata": {},
   "source": [
    "<div class=\"alert alert-block alert-info\">\n",
    "    \n",
    "# <center>MISCELLANEOUS</center>\n",
    "</div>"
   ]
  },
  {
   "cell_type": "markdown",
   "id": "3eab09ca",
   "metadata": {},
   "source": [
    "<div class=\"alert alert-block alert-success\"><b>Question #2:</b> Complete the following task:<br>\n",
    "\n",
    "You are given a list of strings, and you need to filter out strings that contain the letter 'a', capitalize the remaining strings, and then sort them alphabetically. Implement a function that accomplishes this using Python's filter, map, and a lambda function.\n",
    "\n",
    "<hr style=\"border:1px solid gray\"> \n",
    "\n",
    "Write a Python function named **filter_capitalize_and_sort_strings** that takes a list of strings as input and returns a sorted list of capitalized strings that do not contain the letter 'a'.\n",
    "    \n",
    "</div>"
   ]
  },
  {
   "cell_type": "code",
   "execution_count": 35,
   "id": "1698719e",
   "metadata": {},
   "outputs": [
    {
     "name": "stdout",
     "output_type": "stream",
     "text": [
      "['test', 'gjarsm']\n"
     ]
    }
   ],
   "source": [
    "def filter_capitalize_and_sort_strings(strings):\n",
    "    sorted_strings = []\n",
    "    for i in strings:\n",
    "        for a in range(len(i)):\n",
    "            if(i[a] =='a'):\n",
    "                strings.remove(i)\n",
    "    return strings\n",
    "print(filter_capitalize_and_sort_strings(['test', 'a', 'gjarsm', 'iaejfsngf']))\n",
    "            "
   ]
  },
  {
   "cell_type": "code",
   "execution_count": 49,
   "id": "81afc930",
   "metadata": {},
   "outputs": [
    {
     "name": "stdout",
     "output_type": "stream",
     "text": [
      "['test', 'a', 'gjarsm', 'iaejfsngf']\n"
     ]
    }
   ],
   "source": [
    "def filter_capitalize_and_sort_strings(strings):\n",
    "    sorted_strings = []\n",
    "    i=0\n",
    "    while(i < len(strings)):\n",
    "        temp = strings[i]\n",
    "        for a in range(len(temp)):\n",
    "            if(temp[a] =='a'):\n",
    "                temp_two = strings[i]\n",
    "                strings.remove(temp_two)\n",
    "                i-=1\n",
    "            i+=1\n",
    "    return strings\n",
    "print(filter_capitalize_and_sort_strings(['test', 'a', 'gjarsm', 'iaejfsngf']))\n",
    "            "
   ]
  },
  {
   "cell_type": "code",
   "execution_count": null,
   "id": "c48b5bb4",
   "metadata": {},
   "outputs": [],
   "source": []
  },
  {
   "cell_type": "code",
   "execution_count": null,
   "id": "3e7d2d99",
   "metadata": {},
   "outputs": [],
   "source": []
  },
  {
   "cell_type": "code",
   "execution_count": null,
   "id": "44ce38ef",
   "metadata": {},
   "outputs": [],
   "source": []
  },
  {
   "cell_type": "code",
   "execution_count": null,
   "id": "1f40a017",
   "metadata": {},
   "outputs": [],
   "source": []
  }
 ],
 "metadata": {
  "colab": {
   "name": "15 Functions & Modules Presentation 1 (JN) .ipynb",
   "provenance": []
  },
  "hide_input": false,
  "kernelspec": {
   "display_name": "Python 3 (ipykernel)",
   "language": "python",
   "name": "python3"
  },
  "language_info": {
   "codemirror_mode": {
    "name": "ipython",
    "version": 3
   },
   "file_extension": ".py",
   "mimetype": "text/x-python",
   "name": "python",
   "nbconvert_exporter": "python",
   "pygments_lexer": "ipython3",
   "version": "3.11.5"
  },
  "toc": {
   "base_numbering": 1,
   "nav_menu": {},
   "number_sections": true,
   "sideBar": true,
   "skip_h1_title": false,
   "title_cell": "Table of Contents",
   "title_sidebar": "Contents",
   "toc_cell": true,
   "toc_position": {},
   "toc_section_display": true,
   "toc_window_display": false
  },
  "varInspector": {
   "cols": {
    "lenName": 16,
    "lenType": 16,
    "lenVar": 40
   },
   "kernels_config": {
    "python": {
     "delete_cmd_postfix": "",
     "delete_cmd_prefix": "del ",
     "library": "var_list.py",
     "varRefreshCmd": "print(var_dic_list())"
    },
    "r": {
     "delete_cmd_postfix": ") ",
     "delete_cmd_prefix": "rm(",
     "library": "var_list.r",
     "varRefreshCmd": "cat(var_dic_list()) "
    }
   },
   "types_to_exclude": [
    "module",
    "function",
    "builtin_function_or_method",
    "instance",
    "_Feature"
   ],
   "window_display": false
  }
 },
 "nbformat": 4,
 "nbformat_minor": 5
}
