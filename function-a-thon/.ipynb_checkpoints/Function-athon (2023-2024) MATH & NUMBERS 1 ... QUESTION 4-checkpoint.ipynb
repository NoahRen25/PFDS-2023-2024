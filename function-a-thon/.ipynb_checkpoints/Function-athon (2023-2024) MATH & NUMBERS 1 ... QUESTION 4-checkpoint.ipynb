{
 "cells": [
  {
   "cell_type": "markdown",
   "id": "45a10f4b",
   "metadata": {},
   "source": [
    "# <center><b>PFDS</b></center>\n",
    "# <center><b>2023-2024</b></center>\n",
    "# <center><b>Function-athon</b></center>"
   ]
  },
  {
   "cell_type": "markdown",
   "id": "8a456547",
   "metadata": {},
   "source": [
    "<div class=\"alert alert-block alert-warning\">\n",
    "    \n",
    "### NAMES OF PEOPLE IN YOUR GROUP:<br>\n",
    "    \n",
    "1.\n",
    "\n",
    "2.\n",
    "    \n",
    "3.\n",
    "    \n",
    "4.\n",
    "    \n",
    "5.\n",
    "    \n",
    "</div>"
   ]
  },
  {
   "cell_type": "code",
   "execution_count": 12,
   "id": "28565f21",
   "metadata": {
    "id": "28565f21",
    "outputId": "e53152ac-90d8-4a91-a070-b0534de28437"
   },
   "outputs": [
    {
     "name": "stdout",
     "output_type": "stream",
     "text": [
      "The notebook is set up to display multiple output in one cell.\n"
     ]
    }
   ],
   "source": [
    "# set up notebook to display multiple output in one cell\n",
    "\n",
    "from IPython.core.interactiveshell import InteractiveShell\n",
    "InteractiveShell.ast_node_interactivity = \"all\"\n",
    "\n",
    "print('The notebook is set up to display multiple output in one cell.')\n"
   ]
  },
  {
   "cell_type": "markdown",
   "id": "6f99981d",
   "metadata": {},
   "source": [
    "<div class=\"alert alert-block alert-info\">\n",
    "    \n",
    "# <center>MATH / NUMBERS 1</center>\n",
    "</div>"
   ]
  },
  {
   "cell_type": "markdown",
   "id": "bd63bad7",
   "metadata": {},
   "source": [
    "<div class=\"alert alert-block alert-success\"><b>Problem #4:</b>\n",
    "\n",
    "Write a function to count how many <u>unique</u> even numbers are in a list.<br>\n",
    "    \n",
    "Test your code with the following case:<br>\n",
    "    \n",
    "alist_2 = [60, 4, 7, 33, 4, 80, 46, 37, 4, 60, 77, 91, 4, 41, 100, 408, 4, 60, 4, 21, 20, 22, 911, 0, 16, 4, 79, 4, 60, 48]<br> \n",
    "<p>&nbsp;</p>   \n",
    "\n",
    "</div>"
   ]
  },
  {
   "cell_type": "code",
   "execution_count": null,
   "id": "50c6567d",
   "metadata": {},
   "outputs": [],
   "source": []
  },
  {
   "cell_type": "code",
   "execution_count": null,
   "id": "32e10345",
   "metadata": {},
   "outputs": [],
   "source": []
  }
 ],
 "metadata": {
  "colab": {
   "name": "15 Functions & Modules Presentation 1 (JN) .ipynb",
   "provenance": []
  },
  "kernelspec": {
   "display_name": "Python 3 (ipykernel)",
   "language": "python",
   "name": "python3"
  },
  "language_info": {
   "codemirror_mode": {
    "name": "ipython",
    "version": 3
   },
   "file_extension": ".py",
   "mimetype": "text/x-python",
   "name": "python",
   "nbconvert_exporter": "python",
   "pygments_lexer": "ipython3",
   "version": "3.9.12"
  }
 },
 "nbformat": 4,
 "nbformat_minor": 5
}
