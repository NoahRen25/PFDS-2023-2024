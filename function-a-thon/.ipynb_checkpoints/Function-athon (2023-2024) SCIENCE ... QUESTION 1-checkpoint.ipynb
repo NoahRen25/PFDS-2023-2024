{
 "cells": [
  {
   "cell_type": "markdown",
   "id": "45a10f4b",
   "metadata": {},
   "source": [
    "# <center><b>PFDS</b></center>\n",
    "# <center><b>2023-2024</b></center>\n",
    "# <center><b>Function-athon</b></center>"
   ]
  },
  {
   "cell_type": "markdown",
   "id": "8a456547",
   "metadata": {},
   "source": [
    "<div class=\"alert alert-block alert-warning\">\n",
    "    \n",
    "### NAMES OF PEOPLE IN YOUR GROUP:<br>\n",
    "    \n",
    "1.\n",
    "\n",
    "2.\n",
    "    \n",
    "3.\n",
    "    \n",
    "4.\n",
    "    \n",
    "5.\n",
    "    \n",
    "</div>"
   ]
  },
  {
   "cell_type": "code",
   "execution_count": 12,
   "id": "28565f21",
   "metadata": {
    "id": "28565f21",
    "outputId": "e53152ac-90d8-4a91-a070-b0534de28437"
   },
   "outputs": [
    {
     "name": "stdout",
     "output_type": "stream",
     "text": [
      "The notebook is set up to display multiple output in one cell.\n"
     ]
    }
   ],
   "source": [
    "# set up notebook to display multiple output in one cell\n",
    "\n",
    "from IPython.core.interactiveshell import InteractiveShell\n",
    "InteractiveShell.ast_node_interactivity = \"all\"\n",
    "\n",
    "print('The notebook is set up to display multiple output in one cell.')\n"
   ]
  },
  {
   "cell_type": "markdown",
   "id": "6f99981d",
   "metadata": {},
   "source": [
    "<div class=\"alert alert-block alert-info\">\n",
    "    \n",
    "# <center>SCIENCE</center>\n",
    "</div>"
   ]
  },
  {
   "cell_type": "markdown",
   "id": "bd13bc4c",
   "metadata": {},
   "source": [
    "<div class=\"alert alert-block alert-success\"><b>Problem #1:</b> Complete the following steps:<br>\n",
    "    \n",
    "**Part One:**\n",
    "\n",
    "The universal gas law states that the pressure P, and temperature T of a volume V of gas with number of particles n is related by the equation below, where R is the universal gas constant:<br>\n",
    "\n",
    "&emsp;&emsp;PV = nRT<br>\n",
    "\n",
    "Write a function called gas_v() to calculate the volume V of a gas based on pressure P, temperature T, number of particles n and universal gas constant R.<br>\n",
    "    \n",
    "Use your function to find the volume of gas with the following parameters:<br>\n",
    "\n",
    "- T = 273.15\n",
    "- n = 6.02 × 10$^{23}$\n",
    "- R = 8.314\n",
    "- P = 101,325<br>\n",
    "\n",
    "**Part Two:**\n",
    "\n",
    "Rewrite the gas_v() function above with the default values indicated below:\n",
    "\n",
    "- n = 6.02 × 10$^{23}$\n",
    "- R = 8.314\n",
    "- P = 101,325<br> \n",
    "    \n",
    "Use your function to find the volume of gas with the following temperature using the default arguments:<br>\n",
    "    \n",
    "- T = 500<br>\n",
    "    \n",
    "Use your function to find the volume of gas with the following temperature using the default arguments and under half of the default pressure:<br>\n",
    "    \n",
    "- T = 500\n",
    "\n",
    "</div>"
   ]
  },
  {
   "cell_type": "markdown",
   "id": "0d0a0eaa",
   "metadata": {},
   "source": []
  },
  {
   "cell_type": "code",
   "execution_count": null,
   "id": "32e10345",
   "metadata": {},
   "outputs": [],
   "source": []
  }
 ],
 "metadata": {
  "colab": {
   "name": "15 Functions & Modules Presentation 1 (JN) .ipynb",
   "provenance": []
  },
  "kernelspec": {
   "display_name": "Python 3 (ipykernel)",
   "language": "python",
   "name": "python3"
  },
  "language_info": {
   "codemirror_mode": {
    "name": "ipython",
    "version": 3
   },
   "file_extension": ".py",
   "mimetype": "text/x-python",
   "name": "python",
   "nbconvert_exporter": "python",
   "pygments_lexer": "ipython3",
   "version": "3.9.12"
  }
 },
 "nbformat": 4,
 "nbformat_minor": 5
}
