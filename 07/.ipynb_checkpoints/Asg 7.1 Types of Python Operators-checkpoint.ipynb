{
 "cells": [
  {
   "cell_type": "markdown",
   "id": "3e5ebe2d",
   "metadata": {},
   "source": [
    "## <center><b>07 Types of Python Operators</b></center>\n",
    "# <center><b>Asg 7.1 (JN Asg)</b></center>"
   ]
  },
  {
   "cell_type": "code",
   "execution_count": 2,
   "id": "934ae5e7",
   "metadata": {},
   "outputs": [
    {
     "name": "stdout",
     "output_type": "stream",
     "text": [
      "The notebook is set up to display multiple output in one cell.\n"
     ]
    }
   ],
   "source": [
    "# set up notebook to display multiple output in one cell\n",
    "\n",
    "from IPython.core.interactiveshell import InteractiveShell\n",
    "InteractiveShell.ast_node_interactivity = \"all\"\n",
    "\n",
    "print('The notebook is set up to display multiple output in one cell.')"
   ]
  },
  {
   "cell_type": "markdown",
   "id": "f9422e4c",
   "metadata": {},
   "source": [
    "<div class=\"alert alert-block alert-success\">\n",
    "<b>Question 1:</b><br>\n",
    "    \n",
    "<b>True or False:</b>&emsp; Operations involving a float always produce a float.\n",
    "</div>"
   ]
  },
  {
   "cell_type": "code",
   "execution_count": null,
   "id": "b3f9c445",
   "metadata": {},
   "outputs": [],
   "source": [
    "print(\"true\")"
   ]
  },
  {
   "cell_type": "markdown",
   "id": "36b5d0de",
   "metadata": {},
   "source": [
    "<div class=\"alert alert-block alert-success\">\n",
    "<b>Question 2:</b><br>\n",
    "    \n",
    "a. Calculate 5 ** 2 ** 3<br>\n",
    "b. How could you rewrite the problem above using parentheses to guarantee that the correct order of operations is being used?<br>\n",
    "c. When doing successive exponentiation, like in part (a) above, which operator gets done first -- the right-most operator or the left-most operator?\n",
    "\n",
    "</div>"
   ]
  },
  {
   "cell_type": "code",
   "execution_count": 3,
   "id": "76edafa1",
   "metadata": {},
   "outputs": [
    {
     "name": "stdout",
     "output_type": "stream",
     "text": [
      "390625\n"
     ]
    }
   ],
   "source": [
    "print(5**2**3)"
   ]
  },
  {
   "cell_type": "code",
   "execution_count": 4,
   "id": "d164731a",
   "metadata": {},
   "outputs": [
    {
     "name": "stdout",
     "output_type": "stream",
     "text": [
      "390625\n"
     ]
    }
   ],
   "source": [
    "print(5**(2**3))"
   ]
  },
  {
   "cell_type": "code",
   "execution_count": null,
   "id": "505c32a5",
   "metadata": {},
   "outputs": [],
   "source": [
    "print(\"The right-most operator\")"
   ]
  },
  {
   "cell_type": "markdown",
   "id": "4f981801",
   "metadata": {},
   "source": [
    "<div class=\"alert alert-block alert-success\">\n",
    "<b>Question 3:</b><br>\n",
    "    \n",
    "a. Write code to find the remainder when 7894 is divided by 37<br>\n",
    "b. Write code to find the number of full hours in 598 minutes.\n",
    "\n",
    "</div>"
   ]
  },
  {
   "cell_type": "code",
   "execution_count": 5,
   "id": "5db934b8",
   "metadata": {},
   "outputs": [
    {
     "name": "stdout",
     "output_type": "stream",
     "text": [
      "13\n"
     ]
    }
   ],
   "source": [
    "print(7894 % 37)"
   ]
  },
  {
   "cell_type": "code",
   "execution_count": 6,
   "id": "8a0713a1",
   "metadata": {},
   "outputs": [
    {
     "name": "stdout",
     "output_type": "stream",
     "text": [
      "9\n"
     ]
    }
   ],
   "source": [
    "print(int(598/60))"
   ]
  },
  {
   "cell_type": "markdown",
   "id": "5724c2d3",
   "metadata": {},
   "source": [
    "<div class=\"alert alert-block alert-success\">\n",
    "<b>Question 4:</b><br>\n",
    "    \n",
    "a. List the 6 relational operators and verbally describe what they mean.<br>\n",
    "b. Fill in the blanks: Relational operators _____________ two values and then return either a ________ or _______ value.\n",
    "</div>"
   ]
  },
  {
   "cell_type": "code",
   "execution_count": 7,
   "id": "cd6bf876",
   "metadata": {},
   "outputs": [
    {
     "name": "stdout",
     "output_type": "stream",
     "text": [
      "greater than (>), less than(<), equal to(==). greater than or equal to(>=), less than or equal to(<=), not equal to(!=)\n"
     ]
    }
   ],
   "source": [
    "print(\"greater than (>), less than(<), equal to(==). greater than or equal to(>=), less than or equal to(<=), not equal to(!=)\")"
   ]
  },
  {
   "cell_type": "code",
   "execution_count": 8,
   "id": "1020d74e",
   "metadata": {},
   "outputs": [
    {
     "name": "stdout",
     "output_type": "stream",
     "text": [
      "require, true or false\n"
     ]
    }
   ],
   "source": [
    "print('compare, true, false')"
   ]
  },
  {
   "cell_type": "markdown",
   "id": "d55a527c",
   "metadata": {},
   "source": [
    "<div class=\"alert alert-block alert-success\">\n",
    "<b>Question 5:</b><br>\n",
    "\n",
    "Given: x = 100 and y = 5\n",
    "    \n",
    "a. Show 2 different ways to update x to take on the value x + y. Print out your results.<br>\n",
    "b. Show 2 different ways to update x to take on the value x - y. Print out your results.<br>\n",
    "c. Show 2 different ways to update x to take on the value x * y. Print out your results.<br>\n",
    "d. Show 2 different ways to update x to take on the value x / y. Print out your results.<br>\n",
    "\n",
    "</div>"
   ]
  },
  {
   "cell_type": "code",
   "execution_count": 9,
   "id": "c09b4b68",
   "metadata": {},
   "outputs": [
    {
     "name": "stdout",
     "output_type": "stream",
     "text": [
      "105\n",
      "105\n"
     ]
    }
   ],
   "source": [
    "x = 100\n",
    "y = 5\n",
    "x +=y\n",
    "print(x)\n",
    "x = 100\n",
    "y = 5\n",
    "x = x + y\n",
    "print(x)"
   ]
  },
  {
   "cell_type": "code",
   "execution_count": 10,
   "id": "4f1b0f03",
   "metadata": {},
   "outputs": [
    {
     "name": "stdout",
     "output_type": "stream",
     "text": [
      "95\n",
      "95\n"
     ]
    }
   ],
   "source": [
    "x = 100\n",
    "y = 5\n",
    "x -=y\n",
    "print(x)\n",
    "x = 100\n",
    "y = 5\n",
    "x = x - y\n",
    "print(x)"
   ]
  },
  {
   "cell_type": "code",
   "execution_count": 11,
   "id": "a2f9c042",
   "metadata": {},
   "outputs": [
    {
     "name": "stdout",
     "output_type": "stream",
     "text": [
      "500\n",
      "500\n"
     ]
    }
   ],
   "source": [
    "x = 100\n",
    "y = 5\n",
    "x *=y\n",
    "print(x)\n",
    "x = 100\n",
    "y = 5\n",
    "x = x * y\n",
    "print(x)"
   ]
  },
  {
   "cell_type": "code",
   "execution_count": 12,
   "id": "532eee7a",
   "metadata": {},
   "outputs": [
    {
     "name": "stdout",
     "output_type": "stream",
     "text": [
      "20.0\n",
      "20.0\n"
     ]
    }
   ],
   "source": [
    "x = 100\n",
    "y = 5\n",
    "x /=y\n",
    "print(x)\n",
    "x = 100\n",
    "y = 5\n",
    "x = x / y\n",
    "print(x)"
   ]
  },
  {
   "cell_type": "markdown",
   "id": "014b0787",
   "metadata": {},
   "source": [
    "<div class=\"alert alert-block alert-success\">\n",
    "<b>Question 6:</b><br>\n",
    "\n",
    "Given: a = 753, b = 19, c = 4, and d = 3\n",
    "    \n",
    "a. Show 2 different ways to update a to take on the value of the remainder when a is divided by b. Print out your results.<br>\n",
    "b. Show 2 different ways to update a to take on the value of the integer part when a is divided by b. Print out your results.<br>\n",
    "c. Show 2 different ways to update c to take on the value of the when c is raised to the d power. Print out your results.<br>\n",
    " \n",
    "</div>"
   ]
  },
  {
   "cell_type": "code",
   "execution_count": 13,
   "id": "c5be8e16",
   "metadata": {},
   "outputs": [
    {
     "name": "stdout",
     "output_type": "stream",
     "text": [
      "12\n",
      "12\n"
     ]
    }
   ],
   "source": [
    "a = 753\n",
    "b = 19\n",
    "a %= b\n",
    "print(a)\n",
    "a = 753\n",
    "b = 19\n",
    "a = a % b\n",
    "print(a)"
   ]
  },
  {
   "cell_type": "code",
   "execution_count": 15,
   "id": "16d9350e",
   "metadata": {},
   "outputs": [
    {
     "name": "stdout",
     "output_type": "stream",
     "text": [
      "39\n",
      "39\n"
     ]
    }
   ],
   "source": [
    "a = 753\n",
    "b = 19\n",
    "a //= b\n",
    "print(a)\n",
    "a = 753\n",
    "b = 19\n",
    "a = a // b\n",
    "print(a)"
   ]
  },
  {
   "cell_type": "code",
   "execution_count": 18,
   "id": "87fece8e",
   "metadata": {},
   "outputs": [
    {
     "name": "stdout",
     "output_type": "stream",
     "text": [
      "64\n",
      "64\n"
     ]
    }
   ],
   "source": [
    "c = 4\n",
    "d = 3\n",
    "c **= d\n",
    "print(c)\n",
    "c = 4\n",
    "d = 3\n",
    "c = c ** d\n",
    "print(c)"
   ]
  },
  {
   "cell_type": "markdown",
   "id": "40539ff6",
   "metadata": {},
   "source": [
    "<div class=\"alert alert-block alert-success\">\n",
    "<b>Question 7:</b><br>\n",
    "    \n",
    "What value will the following statements return?\n",
    "\n",
    "a. False and False<br>\n",
    "b. False and True<br>\n",
    "c. 100 > 75 and 10 != 10<br>\n",
    "d. (21/3 >= 7 and 50 !=73) and True<br>\n",
    "\n",
    "Fill in the Blank:  The <b>and</b> logical operator returns _______ if both values are True. Otherwise, it returns ________.\n",
    "\n",
    "</div>"
   ]
  },
  {
   "cell_type": "code",
   "execution_count": 24,
   "id": "56335fa5",
   "metadata": {},
   "outputs": [
    {
     "name": "stdout",
     "output_type": "stream",
     "text": [
      "false\n"
     ]
    }
   ],
   "source": [
    "print(\"false\")"
   ]
  },
  {
   "cell_type": "code",
   "execution_count": 23,
   "id": "6b022fe1",
   "metadata": {},
   "outputs": [
    {
     "name": "stdout",
     "output_type": "stream",
     "text": [
      "false\n"
     ]
    }
   ],
   "source": [
    "print(\"false\")"
   ]
  },
  {
   "cell_type": "code",
   "execution_count": 22,
   "id": "92c3a6e6",
   "metadata": {},
   "outputs": [
    {
     "name": "stdout",
     "output_type": "stream",
     "text": [
      "false\n"
     ]
    }
   ],
   "source": [
    "print('false')"
   ]
  },
  {
   "cell_type": "code",
   "execution_count": 19,
   "id": "ebdf460b",
   "metadata": {},
   "outputs": [
    {
     "name": "stdout",
     "output_type": "stream",
     "text": [
      "true\n"
     ]
    }
   ],
   "source": [
    "print('true')"
   ]
  },
  {
   "cell_type": "code",
   "execution_count": 21,
   "id": "47318d38",
   "metadata": {},
   "outputs": [
    {
     "name": "stdout",
     "output_type": "stream",
     "text": [
      "true, false\n"
     ]
    }
   ],
   "source": [
    "print('true, false')"
   ]
  },
  {
   "cell_type": "markdown",
   "id": "7b63df97",
   "metadata": {},
   "source": [
    "<div class=\"alert alert-block alert-success\">\n",
    "<b>Question 8:</b><br>\n",
    "    \n",
    "What value will the following statements return?\n",
    "\n",
    "a. False or False<br>\n",
    "b. True or False<br>\n",
    "c. 20 != 20 or 17 <= 12<br>\n",
    "d. 35 >= 120 - 80 or (False and 2 ** 3 == 8)<br>\n",
    "e. (73 // 10 == 7 and 85 % 9 >= 3) or (False and True)<br>\n",
    "\n",
    "Fill in the Blank:  The <b>or</b> logical operator returns _______ if at least one value is True. Otherwise, it returns ________.\n",
    "\n",
    "</div>"
   ]
  },
  {
   "cell_type": "code",
   "execution_count": null,
   "id": "03b225b8",
   "metadata": {},
   "outputs": [],
   "source": [
    "print('false')"
   ]
  },
  {
   "cell_type": "code",
   "execution_count": null,
   "id": "e60c9937",
   "metadata": {},
   "outputs": [],
   "source": [
    "print('true')"
   ]
  },
  {
   "cell_type": "code",
   "execution_count": null,
   "id": "c8d81299",
   "metadata": {},
   "outputs": [],
   "source": [
    "print('false')"
   ]
  },
  {
   "cell_type": "code",
   "execution_count": null,
   "id": "c6d26c18",
   "metadata": {},
   "outputs": [],
   "source": [
    "print('false')"
   ]
  },
  {
   "cell_type": "code",
   "execution_count": null,
   "id": "c0c02c98",
   "metadata": {},
   "outputs": [],
   "source": [
    "print('true')"
   ]
  },
  {
   "cell_type": "code",
   "execution_count": null,
   "id": "347b259e",
   "metadata": {},
   "outputs": [],
   "source": [
    "print('true, false')"
   ]
  },
  {
   "cell_type": "markdown",
   "id": "9121a304",
   "metadata": {},
   "source": [
    "<div class=\"alert alert-block alert-success\">\n",
    "<b>Question 9:</b><br>\n",
    "    \n",
    "What value will the following statements return?\n",
    "\n",
    "a. not(16 // 5 > 4 and True)<br>\n",
    "b. not(True and True)<br>\n",
    "c. not(64 % 10 == 4<br>\n",
    "\n",
    "Fill in the Blank:  The logical <b>not</b> operator returns _____ if an expression is true and returns ______ if an expression is false.\n",
    "\n",
    "</div>"
   ]
  },
  {
   "cell_type": "code",
   "execution_count": null,
   "id": "79c8028c",
   "metadata": {},
   "outputs": [],
   "source": [
    "print('true')"
   ]
  },
  {
   "cell_type": "code",
   "execution_count": null,
   "id": "99650e30",
   "metadata": {},
   "outputs": [],
   "source": [
    "print('false')"
   ]
  },
  {
   "cell_type": "code",
   "execution_count": null,
   "id": "746b1dcb",
   "metadata": {},
   "outputs": [],
   "source": [
    "print('false')"
   ]
  },
  {
   "cell_type": "code",
   "execution_count": null,
   "id": "00e3fe47",
   "metadata": {},
   "outputs": [],
   "source": [
    "print('false, true')"
   ]
  },
  {
   "cell_type": "markdown",
   "id": "bb2d3255",
   "metadata": {},
   "source": [
    "<div class=\"alert alert-block alert-success\">\n",
    "<b>Question 9:</b><br>\n",
    "    \n",
    "What value will the following statements return?\n",
    "\n",
    "a. 3 in [24 // 7, 34, \"Python\"]<br>\n",
    "b. \"apple\" in [\"orange\", \"peach\", \"strawberry\"]<br>\n",
    "c. \"Packers in [\"Bears\", \"Lions\", \"packers\", \"Vikings\"]<br>\n",
    "d.  \"sun\" in \"Sunday\"<br>\n",
    "e.  \"sun\" in \"sunday\"<br>\n",
    "\n",
    "Fill in the Blank:  The <b>in</b> operator returns _______ if the first value is in the second set of values. Otherwise, it returns ______.\n",
    "\n",
    "</div>"
   ]
  },
  {
   "cell_type": "code",
   "execution_count": null,
   "id": "c6200a53",
   "metadata": {},
   "outputs": [],
   "source": [
    "print('true')"
   ]
  },
  {
   "cell_type": "code",
   "execution_count": null,
   "id": "6ec6b340",
   "metadata": {},
   "outputs": [],
   "source": [
    "print('false')"
   ]
  },
  {
   "cell_type": "code",
   "execution_count": null,
   "id": "81103fb7",
   "metadata": {},
   "outputs": [],
   "source": [
    "print('false')"
   ]
  },
  {
   "cell_type": "code",
   "execution_count": null,
   "id": "140d0dff",
   "metadata": {},
   "outputs": [],
   "source": [
    "print('false')"
   ]
  },
  {
   "cell_type": "code",
   "execution_count": null,
   "id": "0743d28c",
   "metadata": {},
   "outputs": [],
   "source": [
    "print('true')"
   ]
  },
  {
   "cell_type": "code",
   "execution_count": null,
   "id": "808494a4",
   "metadata": {},
   "outputs": [],
   "source": [
    "print('true, false')"
   ]
  },
  {
   "cell_type": "markdown",
   "id": "67a71235",
   "metadata": {},
   "source": [
    "<div class=\"alert alert-block alert-success\">\n",
    "<b>Question 10\n",
    ":</b><br>\n",
    "    \n",
    "What value will the following statements return?\n",
    "\n",
    "a. 13 not in [135 // 10, 72, \"Data\"]<br>\n",
    "b. \"apple\" not in [\"orange\", \"peach\", \"strawberry\"]<br>\n",
    "c. \"Packers not in [\"Bears\", \"Lions\", \"packers\", \"Vikings\"]<br>\n",
    "d.  \"sun\" not in \"Sunday\"<br>\n",
    "e.  \"sun\" not in \"sunday\"<br>\n",
    "\n",
    "Fill in the Blank:  The <b>not in</b> operator returns _______ if the first value is in the second set of values. Otherwise, it returns ______.\n",
    "\n",
    "</div>"
   ]
  },
  {
   "cell_type": "code",
   "execution_count": null,
   "id": "d02a2500",
   "metadata": {},
   "outputs": [],
   "source": [
    "print('false')"
   ]
  },
  {
   "cell_type": "code",
   "execution_count": null,
   "id": "53a66940",
   "metadata": {},
   "outputs": [],
   "source": [
    "print('true')"
   ]
  },
  {
   "cell_type": "code",
   "execution_count": null,
   "id": "39f2b536",
   "metadata": {},
   "outputs": [],
   "source": [
    "print('true')"
   ]
  },
  {
   "cell_type": "code",
   "execution_count": null,
   "id": "ed71da8e",
   "metadata": {},
   "outputs": [],
   "source": [
    "print('true')"
   ]
  },
  {
   "cell_type": "code",
   "execution_count": null,
   "id": "fa2e338d",
   "metadata": {},
   "outputs": [],
   "source": [
    "print('false')"
   ]
  },
  {
   "cell_type": "code",
   "execution_count": null,
   "id": "46786992",
   "metadata": {},
   "outputs": [],
   "source": [
    "print('false, true')"
   ]
  },
  {
   "cell_type": "code",
   "execution_count": null,
   "id": "8cb668dd",
   "metadata": {},
   "outputs": [],
   "source": [
    "print('true')"
   ]
  },
  {
   "cell_type": "markdown",
   "id": "cc772b23",
   "metadata": {},
   "source": [
    "<div class=\"alert alert-block alert-success\">\n",
    "<b>Question 11:</b><br>\n",
    "    \n",
    "a. What value will the following statements return?<br>\n",
    "\n",
    "a = 16 // 5<br>\n",
    "b = 2 + 1<br>\n",
    "a is b<br>\n",
    "\n",
    "<p>&nbsp;</b>\n",
    "\n",
    "b. What value will the following statements return?<br>\n",
    "\n",
    "x = 11<br>\n",
    "y = 14<br>\n",
    "z = 25.0<br>\n",
    "x + y is z<br>\n",
    "\n",
    "<p>&nbsp;</b>\n",
    "\n",
    "c. What value will the following statements return?<br>\n",
    "\n",
    "2 is \"2\"<br>\n",
    "\n",
    "<p>&nbsp;</b>\n",
    "\n",
    "d. Fill in the Blank:  The <b>is</b> operator returns ______ if the first value is the same as the second value Otherwise, it returns ______.<br>\n",
    "\n",
    "</div>"
   ]
  },
  {
   "cell_type": "code",
   "execution_count": 29,
   "id": "dc37e1f6",
   "metadata": {},
   "outputs": [
    {
     "name": "stdout",
     "output_type": "stream",
     "text": [
      "false\n"
     ]
    }
   ],
   "source": [
    "print('true')"
   ]
  },
  {
   "cell_type": "code",
   "execution_count": null,
   "id": "c16a71e7",
   "metadata": {},
   "outputs": [],
   "source": [
    "print('false')"
   ]
  },
  {
   "cell_type": "code",
   "execution_count": null,
   "id": "495f543a",
   "metadata": {},
   "outputs": [],
   "source": [
    "print('false')"
   ]
  },
  {
   "cell_type": "code",
   "execution_count": null,
   "id": "914e70b2",
   "metadata": {},
   "outputs": [],
   "source": [
    "print('true, false')"
   ]
  },
  {
   "cell_type": "markdown",
   "id": "e97690c1",
   "metadata": {},
   "source": [
    "<div class=\"alert alert-block alert-success\">\n",
    "<b>Question 12</b><br>\n",
    "    \n",
    "a. What value will the following statements return?<br>\n",
    "\n",
    "a = 35 // 6<br>\n",
    "b = 34 -29 <br>\n",
    "a is not b<br>\n",
    "\n",
    "<p>&nbsp;</b>\n",
    "\n",
    "b. What value will the following statements return?<br>\n",
    "\n",
    "x = 20 // 3<br>\n",
    "y = 20 / 3<br>\n",
    "x is not y<br>\n",
    "\n",
    "<p>&nbsp;</b>\n",
    "\n",
    "c. What value will the following statements return?<br>\n",
    "\n",
    "10 is not \"10\"<br>\n",
    "\n",
    "<p>&nbsp;</b>\n",
    "\n",
    "d. Fill in the Blank:  The <b>is not</b> operator returns ______ if the first value is not the same as the second value Otherwise, it returns ______.<br>\n",
    "\n",
    "</div>"
   ]
  },
  {
   "cell_type": "code",
   "execution_count": null,
   "id": "a86ad216",
   "metadata": {},
   "outputs": [],
   "source": [
    "print('false')"
   ]
  },
  {
   "cell_type": "code",
   "execution_count": null,
   "id": "685b7b1a",
   "metadata": {},
   "outputs": [],
   "source": [
    "print('true')"
   ]
  },
  {
   "cell_type": "code",
   "execution_count": null,
   "id": "74115d53",
   "metadata": {},
   "outputs": [],
   "source": [
    "print('true')"
   ]
  },
  {
   "cell_type": "code",
   "execution_count": null,
   "id": "897a659f",
   "metadata": {},
   "outputs": [],
   "source": [
    "print('true, false')"
   ]
  },
  {
   "cell_type": "code",
   "execution_count": null,
   "id": "b15c3aea",
   "metadata": {},
   "outputs": [],
   "source": []
  }
 ],
 "metadata": {
  "kernelspec": {
   "display_name": "Python 3 (ipykernel)",
   "language": "python",
   "name": "python3"
  },
  "language_info": {
   "codemirror_mode": {
    "name": "ipython",
    "version": 3
   },
   "file_extension": ".py",
   "mimetype": "text/x-python",
   "name": "python",
   "nbconvert_exporter": "python",
   "pygments_lexer": "ipython3",
   "version": "3.11.4"
  }
 },
 "nbformat": 4,
 "nbformat_minor": 5
}
