{
 "cells": [
  {
   "cell_type": "markdown",
   "id": "ca164401",
   "metadata": {
    "toc": true
   },
   "source": [
    "<h1>Table of Contents<span class=\"tocSkip\"></span></h1>\n",
    "<div class=\"toc\"><ul class=\"toc-item\"><li><span><a href=\"#PFDS\" data-toc-modified-id=\"PFDS-1\"><span class=\"toc-item-num\">1&nbsp;&nbsp;</span><center><b>PFDS</b></center></a></span></li><li><span><a href=\"#Asg-27.2\" data-toc-modified-id=\"Asg-27.2-2\"><span class=\"toc-item-num\">2&nbsp;&nbsp;</span><center><b>Asg 27.2</b></center></a></span></li><li><span><a href=\"#Pandas-DataFrames-(Coding)\" data-toc-modified-id=\"Pandas-DataFrames-(Coding)-3\"><span class=\"toc-item-num\">3&nbsp;&nbsp;</span><center><b>Pandas DataFrames (Coding)</b></center></a></span></li></ul></div>"
   ]
  },
  {
   "attachments": {
    "6.jpg": {
     "image/jpeg": "[encoded data removed]"
    }
   },
   "cell_type": "markdown",
   "id": "7996f024",
   "metadata": {},
   "source": [
    "# <center><b>PFDS</b></center>\n",
    "# <center><b>Asg 27.2</b></center>\n",
    "# <center><b>Pandas DataFrames (Coding)</b></center>\n",
    "\n",
    "![6.jpg](attachment:6.jpg)"
   ]
  },
  {
   "cell_type": "markdown",
   "id": "8a25e0bb",
   "metadata": {},
   "source": [
    "<div class=\"alert alert-block alert-warning\">\n",
    "<b><font size=\"4\">Files needed for this assignment:</font></b>\n",
    "</div>"
   ]
  },
  {
   "cell_type": "markdown",
   "id": "6cdb4f28",
   "metadata": {},
   "source": [
    "[<b>cars</b>](https://drive.google.com/file/d/1_ZydPXtAYGjmjHJCAuk4c3LfUkpY0lhu/view?usp=share_link)"
   ]
  },
  {
   "cell_type": "markdown",
   "id": "0c2abc18",
   "metadata": {},
   "source": [
    "<div class=\"alert alert-block alert-danger\"><b><font size=\"4\">Note:</font></b><br>\n",
    "    \n",
    "<b><font size=\"4\">You also must provide the appropriate code and run all of your output to receive full credit for this assignment.</b></font>\n",
    "\n",
    "</div>"
   ]
  },
  {
   "cell_type": "code",
   "execution_count": 47,
   "id": "4b62756f",
   "metadata": {},
   "outputs": [
    {
     "name": "stdout",
     "output_type": "stream",
     "text": [
      "The notebook is set up to display multiple output in one cell.\n"
     ]
    }
   ],
   "source": [
    "# set up notebook to display multiple output in one cell\n",
    "\n",
    "from IPython.core.interactiveshell import InteractiveShell\n",
    "InteractiveShell.ast_node_interactivity = \"all\"\n",
    "\n",
    "print('The notebook is set up to display multiple output in one cell.')"
   ]
  },
  {
   "cell_type": "code",
   "execution_count": 48,
   "id": "62240e47",
   "metadata": {},
   "outputs": [],
   "source": [
    "# conventional way to import pandas and numpy\n",
    "\n",
    "import pandas as pd\n",
    "import numpy as np"
   ]
  },
  {
   "cell_type": "markdown",
   "id": "b1f92fd2",
   "metadata": {},
   "source": [
    "<div class=\"alert alert-block alert-info\">\n",
    "    <center><b><font size=\"6\">PART ONE</font></b></center></div>"
   ]
  },
  {
   "cell_type": "markdown",
   "id": "26f795d4",
   "metadata": {},
   "source": [
    "<div class=\"alert alert-block alert-info\"\n",
    "     \n",
    "**Use the student data that is found below for Questions 1 - 16:**\n",
    "<p>&nbsp;</p>\n",
    "ID, State, Grade, Gender, Age, Height, Weight<br>\n",
    "105, CO, 12, Female, 17, 64, 121<br>\n",
    "197, SC. 11, Female, 18, 66, 118<br>\n",
    "203, IN, 11, Male, 18, 70, 185<br>\n",
    "321, NJ, 12, Male, 18, 74, 167<br>\n",
    "476, WI, 11, Male, 17, 68, 158<br>\n",
    "</div>"
   ]
  },
  {
   "cell_type": "markdown",
   "id": "50cc368b",
   "metadata": {},
   "source": [
    "<div class=\"alert alert-block alert-success\"><b>Question 1:</b>\n",
    "<p>&nbsp;</p>\n",
    "\n",
    "Create a dictionary of lists from the data found above. Name the dictionary <b>student_dict</b>.<br>"
   ]
  },
  {
   "cell_type": "code",
   "execution_count": 10,
   "id": "1063bdb3",
   "metadata": {},
   "outputs": [
    {
     "data": {
      "text/plain": [
       "{'ID': [105, 197, 203, 321, 476],\n",
       " 'State': ['CO', 'SC', 'IN', 'NJ', 'WI'],\n",
       " 'Grade': [12, 11, 11, 12, 11],\n",
       " 'Gender': ['Female', 'Female', 'Male', 'Male', 'Male'],\n",
       " 'Age': [17, 18, 18, 18, 17],\n",
       " 'Height': [64, 66, 70, 74, 68],\n",
       " 'Weight': [121, 118, 185, 167, 158]}"
      ]
     },
     "execution_count": 10,
     "metadata": {},
     "output_type": "execute_result"
    }
   ],
   "source": [
    "student_dict = {\n",
    "    'ID' : [105, 197, 203, 321, 476],\n",
    "    'State': ['CO', 'SC', 'IN', 'NJ', 'WI'],\n",
    "    'Grade': [12, 11, 11, 12, 11],\n",
    "    'Gender': ['Female', 'Female', 'Male', 'Male', 'Male'],\n",
    "    'Age' : [17, 18, 18, 18, 17],\n",
    "    'Height' : [64, 66, 70, 74, 68],\n",
    "    'Weight' : [121, 118, 185, 167, 158]\n",
    "}\n",
    "student_dict"
   ]
  },
  {
   "cell_type": "markdown",
   "id": "6ac9c688",
   "metadata": {},
   "source": [
    "<div class=\"alert alert-block alert-success\"><b>Question 2:</b>\n",
    "<p>&nbsp;</p>\n",
    "\n",
    "Use the dictionary from Part (a) to create a DataFrame. Name the DataFrame <b>student_df</b>."
   ]
  },
  {
   "cell_type": "code",
   "execution_count": 12,
   "id": "da7c4780",
   "metadata": {},
   "outputs": [
    {
     "data": {
      "text/html": [
       "<div>\n",
       "<style scoped>\n",
       "    .dataframe tbody tr th:only-of-type {\n",
       "        vertical-align: middle;\n",
       "    }\n",
       "\n",
       "    .dataframe tbody tr th {\n",
       "        vertical-align: top;\n",
       "    }\n",
       "\n",
       "    .dataframe thead th {\n",
       "        text-align: right;\n",
       "    }\n",
       "</style>\n",
       "<table border=\"1\" class=\"dataframe\">\n",
       "  <thead>\n",
       "    <tr style=\"text-align: right;\">\n",
       "      <th></th>\n",
       "      <th>ID</th>\n",
       "      <th>State</th>\n",
       "      <th>Grade</th>\n",
       "      <th>Gender</th>\n",
       "      <th>Age</th>\n",
       "      <th>Height</th>\n",
       "      <th>Weight</th>\n",
       "    </tr>\n",
       "  </thead>\n",
       "  <tbody>\n",
       "    <tr>\n",
       "      <th>0</th>\n",
       "      <td>105</td>\n",
       "      <td>CO</td>\n",
       "      <td>12</td>\n",
       "      <td>Female</td>\n",
       "      <td>17</td>\n",
       "      <td>64</td>\n",
       "      <td>121</td>\n",
       "    </tr>\n",
       "    <tr>\n",
       "      <th>1</th>\n",
       "      <td>197</td>\n",
       "      <td>SC</td>\n",
       "      <td>11</td>\n",
       "      <td>Female</td>\n",
       "      <td>18</td>\n",
       "      <td>66</td>\n",
       "      <td>118</td>\n",
       "    </tr>\n",
       "    <tr>\n",
       "      <th>2</th>\n",
       "      <td>203</td>\n",
       "      <td>IN</td>\n",
       "      <td>11</td>\n",
       "      <td>Male</td>\n",
       "      <td>18</td>\n",
       "      <td>70</td>\n",
       "      <td>185</td>\n",
       "    </tr>\n",
       "    <tr>\n",
       "      <th>3</th>\n",
       "      <td>321</td>\n",
       "      <td>NJ</td>\n",
       "      <td>12</td>\n",
       "      <td>Male</td>\n",
       "      <td>18</td>\n",
       "      <td>74</td>\n",
       "      <td>167</td>\n",
       "    </tr>\n",
       "    <tr>\n",
       "      <th>4</th>\n",
       "      <td>476</td>\n",
       "      <td>WI</td>\n",
       "      <td>11</td>\n",
       "      <td>Male</td>\n",
       "      <td>17</td>\n",
       "      <td>68</td>\n",
       "      <td>158</td>\n",
       "    </tr>\n",
       "  </tbody>\n",
       "</table>\n",
       "</div>"
      ],
      "text/plain": [
       "    ID State  Grade  Gender  Age  Height  Weight\n",
       "0  105    CO     12  Female   17      64     121\n",
       "1  197    SC     11  Female   18      66     118\n",
       "2  203    IN     11    Male   18      70     185\n",
       "3  321    NJ     12    Male   18      74     167\n",
       "4  476    WI     11    Male   17      68     158"
      ]
     },
     "execution_count": 12,
     "metadata": {},
     "output_type": "execute_result"
    }
   ],
   "source": [
    "student_df = pd.DataFrame(student_dict)"
   ]
  },
  {
   "cell_type": "markdown",
   "id": "81615f68",
   "metadata": {},
   "source": [
    "<div class=\"alert alert-block alert-success\"><b>Question 3:</b>\n",
    "<p>&nbsp;</p>\n",
    "\n",
    "Use the appropriate DataFrame attribute to access the index (i.e. to access the row labels) for the DataFrame that you created in Question 2."
   ]
  },
  {
   "cell_type": "code",
   "execution_count": 13,
   "id": "b96a9fc5",
   "metadata": {},
   "outputs": [
    {
     "data": {
      "text/plain": [
       "RangeIndex(start=0, stop=5, step=1)"
      ]
     },
     "execution_count": 13,
     "metadata": {},
     "output_type": "execute_result"
    }
   ],
   "source": [
    "student_df.index"
   ]
  },
  {
   "cell_type": "markdown",
   "id": "f05e1c2b",
   "metadata": {},
   "source": [
    "<div class=\"alert alert-block alert-success\"><b>Question 4:</b>\n",
    "<p>&nbsp;</p>\n",
    "\n",
    "Use the appropriate DataFrame attribute to access the column labels for the DataFrame that you created in Question 2."
   ]
  },
  {
   "cell_type": "code",
   "execution_count": 14,
   "id": "fd51ecea",
   "metadata": {},
   "outputs": [
    {
     "data": {
      "text/plain": [
       "Index(['ID', 'State', 'Grade', 'Gender', 'Age', 'Height', 'Weight'], dtype='object')"
      ]
     },
     "execution_count": 14,
     "metadata": {},
     "output_type": "execute_result"
    }
   ],
   "source": [
    "student_df.columns"
   ]
  },
  {
   "cell_type": "markdown",
   "id": "2e2fa0e8",
   "metadata": {},
   "source": [
    "<div class=\"alert alert-block alert-success\"><b>Question 5:</b>\n",
    "<p>&nbsp;</p>\n",
    "\n",
    "Use the appropriate DataFrame attribute to access the data for the DataFrame that you created in Question 2."
   ]
  },
  {
   "cell_type": "code",
   "execution_count": 17,
   "id": "fe2b1796",
   "metadata": {},
   "outputs": [
    {
     "data": {
      "text/plain": [
       "array([[105, 'CO', 12, 'Female', 17, 64, 121],\n",
       "       [197, 'SC', 11, 'Female', 18, 66, 118],\n",
       "       [203, 'IN', 11, 'Male', 18, 70, 185],\n",
       "       [321, 'NJ', 12, 'Male', 18, 74, 167],\n",
       "       [476, 'WI', 11, 'Male', 17, 68, 158]], dtype=object)"
      ]
     },
     "execution_count": 17,
     "metadata": {},
     "output_type": "execute_result"
    }
   ],
   "source": [
    "student_df.values"
   ]
  },
  {
   "cell_type": "markdown",
   "id": "b4ca5a87",
   "metadata": {},
   "source": [
    "<div class=\"alert alert-block alert-success\"><b>Question 6:</b>\n",
    "<p>&nbsp;</p>\n",
    "\n",
    "Redo Question 2, but this time use the strings 'One', 'Two', 'Three', 'Four', 'Five' for the index."
   ]
  },
  {
   "cell_type": "code",
   "execution_count": 32,
   "id": "09ca3d65",
   "metadata": {},
   "outputs": [
    {
     "data": {
      "text/html": [
       "<div>\n",
       "<style scoped>\n",
       "    .dataframe tbody tr th:only-of-type {\n",
       "        vertical-align: middle;\n",
       "    }\n",
       "\n",
       "    .dataframe tbody tr th {\n",
       "        vertical-align: top;\n",
       "    }\n",
       "\n",
       "    .dataframe thead th {\n",
       "        text-align: right;\n",
       "    }\n",
       "</style>\n",
       "<table border=\"1\" class=\"dataframe\">\n",
       "  <thead>\n",
       "    <tr style=\"text-align: right;\">\n",
       "      <th></th>\n",
       "      <th>ID</th>\n",
       "      <th>State</th>\n",
       "      <th>Grade</th>\n",
       "      <th>Gender</th>\n",
       "      <th>Age</th>\n",
       "      <th>Height</th>\n",
       "      <th>Weight</th>\n",
       "    </tr>\n",
       "  </thead>\n",
       "  <tbody>\n",
       "    <tr>\n",
       "      <th>One</th>\n",
       "      <td>105</td>\n",
       "      <td>CO</td>\n",
       "      <td>12</td>\n",
       "      <td>Female</td>\n",
       "      <td>17</td>\n",
       "      <td>64</td>\n",
       "      <td>121</td>\n",
       "    </tr>\n",
       "    <tr>\n",
       "      <th>Two</th>\n",
       "      <td>197</td>\n",
       "      <td>SC</td>\n",
       "      <td>11</td>\n",
       "      <td>Female</td>\n",
       "      <td>18</td>\n",
       "      <td>66</td>\n",
       "      <td>118</td>\n",
       "    </tr>\n",
       "    <tr>\n",
       "      <th>Three</th>\n",
       "      <td>203</td>\n",
       "      <td>IN</td>\n",
       "      <td>11</td>\n",
       "      <td>Male</td>\n",
       "      <td>18</td>\n",
       "      <td>70</td>\n",
       "      <td>185</td>\n",
       "    </tr>\n",
       "    <tr>\n",
       "      <th>Four</th>\n",
       "      <td>321</td>\n",
       "      <td>NJ</td>\n",
       "      <td>12</td>\n",
       "      <td>Male</td>\n",
       "      <td>18</td>\n",
       "      <td>74</td>\n",
       "      <td>167</td>\n",
       "    </tr>\n",
       "    <tr>\n",
       "      <th>Five</th>\n",
       "      <td>476</td>\n",
       "      <td>WI</td>\n",
       "      <td>11</td>\n",
       "      <td>Male</td>\n",
       "      <td>17</td>\n",
       "      <td>68</td>\n",
       "      <td>158</td>\n",
       "    </tr>\n",
       "  </tbody>\n",
       "</table>\n",
       "</div>"
      ],
      "text/plain": [
       "        ID State  Grade  Gender  Age  Height  Weight\n",
       "One    105    CO     12  Female   17      64     121\n",
       "Two    197    SC     11  Female   18      66     118\n",
       "Three  203    IN     11    Male   18      70     185\n",
       "Four   321    NJ     12    Male   18      74     167\n",
       "Five   476    WI     11    Male   17      68     158"
      ]
     },
     "execution_count": 32,
     "metadata": {},
     "output_type": "execute_result"
    }
   ],
   "source": [
    "student_df = pd.DataFrame(student_dict, index=[ 'One', 'Two', 'Three', 'Four', 'Five'])\n",
    "student_df"
   ]
  },
  {
   "cell_type": "markdown",
   "id": "e31fcbda",
   "metadata": {},
   "source": [
    "<div class=\"alert alert-block alert-success\"><b>Question 7:</b>\n",
    "<p>&nbsp;</p>\n",
    "    \n",
    "Redo Question 2, but this time use a NumPy array to set the index to [01, 02, 11, 12, 13]."
   ]
  },
  {
   "cell_type": "code",
   "execution_count": 21,
   "id": "3c99c731",
   "metadata": {},
   "outputs": [
    {
     "data": {
      "text/html": [
       "<div>\n",
       "<style scoped>\n",
       "    .dataframe tbody tr th:only-of-type {\n",
       "        vertical-align: middle;\n",
       "    }\n",
       "\n",
       "    .dataframe tbody tr th {\n",
       "        vertical-align: top;\n",
       "    }\n",
       "\n",
       "    .dataframe thead th {\n",
       "        text-align: right;\n",
       "    }\n",
       "</style>\n",
       "<table border=\"1\" class=\"dataframe\">\n",
       "  <thead>\n",
       "    <tr style=\"text-align: right;\">\n",
       "      <th></th>\n",
       "      <th>ID</th>\n",
       "      <th>State</th>\n",
       "      <th>Grade</th>\n",
       "      <th>Gender</th>\n",
       "      <th>Age</th>\n",
       "      <th>Height</th>\n",
       "      <th>Weight</th>\n",
       "    </tr>\n",
       "  </thead>\n",
       "  <tbody>\n",
       "    <tr>\n",
       "      <th>01</th>\n",
       "      <td>105</td>\n",
       "      <td>CO</td>\n",
       "      <td>12</td>\n",
       "      <td>Female</td>\n",
       "      <td>17</td>\n",
       "      <td>64</td>\n",
       "      <td>121</td>\n",
       "    </tr>\n",
       "    <tr>\n",
       "      <th>02</th>\n",
       "      <td>197</td>\n",
       "      <td>SC</td>\n",
       "      <td>11</td>\n",
       "      <td>Female</td>\n",
       "      <td>18</td>\n",
       "      <td>66</td>\n",
       "      <td>118</td>\n",
       "    </tr>\n",
       "    <tr>\n",
       "      <th>11</th>\n",
       "      <td>203</td>\n",
       "      <td>IN</td>\n",
       "      <td>11</td>\n",
       "      <td>Male</td>\n",
       "      <td>18</td>\n",
       "      <td>70</td>\n",
       "      <td>185</td>\n",
       "    </tr>\n",
       "    <tr>\n",
       "      <th>12</th>\n",
       "      <td>321</td>\n",
       "      <td>NJ</td>\n",
       "      <td>12</td>\n",
       "      <td>Male</td>\n",
       "      <td>18</td>\n",
       "      <td>74</td>\n",
       "      <td>167</td>\n",
       "    </tr>\n",
       "    <tr>\n",
       "      <th>13</th>\n",
       "      <td>476</td>\n",
       "      <td>WI</td>\n",
       "      <td>11</td>\n",
       "      <td>Male</td>\n",
       "      <td>17</td>\n",
       "      <td>68</td>\n",
       "      <td>158</td>\n",
       "    </tr>\n",
       "  </tbody>\n",
       "</table>\n",
       "</div>"
      ],
      "text/plain": [
       "     ID State  Grade  Gender  Age  Height  Weight\n",
       "01  105    CO     12  Female   17      64     121\n",
       "02  197    SC     11  Female   18      66     118\n",
       "11  203    IN     11    Male   18      70     185\n",
       "12  321    NJ     12    Male   18      74     167\n",
       "13  476    WI     11    Male   17      68     158"
      ]
     },
     "execution_count": 21,
     "metadata": {},
     "output_type": "execute_result"
    }
   ],
   "source": [
    "array = np.array(['01', '02', 11, 12, 13])\n",
    "student_df = pd.DataFrame(student_dict, index=array)\n",
    "student_df"
   ]
  },
  {
   "cell_type": "markdown",
   "id": "839117c2",
   "metadata": {},
   "source": [
    "<div class=\"alert alert-block alert-success\"><b>Question 8:</b>\n",
    "<p>&nbsp;</p>\n",
    "    \n",
    "Redo Question 2, and then on the resulting DataFrame reset the index to be the ID column."
   ]
  },
  {
   "cell_type": "code",
   "execution_count": 26,
   "id": "92de9f19",
   "metadata": {},
   "outputs": [
    {
     "data": {
      "text/html": [
       "<div>\n",
       "<style scoped>\n",
       "    .dataframe tbody tr th:only-of-type {\n",
       "        vertical-align: middle;\n",
       "    }\n",
       "\n",
       "    .dataframe tbody tr th {\n",
       "        vertical-align: top;\n",
       "    }\n",
       "\n",
       "    .dataframe thead th {\n",
       "        text-align: right;\n",
       "    }\n",
       "</style>\n",
       "<table border=\"1\" class=\"dataframe\">\n",
       "  <thead>\n",
       "    <tr style=\"text-align: right;\">\n",
       "      <th></th>\n",
       "      <th>ID</th>\n",
       "      <th>State</th>\n",
       "      <th>Grade</th>\n",
       "      <th>Gender</th>\n",
       "      <th>Age</th>\n",
       "      <th>Height</th>\n",
       "      <th>Weight</th>\n",
       "    </tr>\n",
       "    <tr>\n",
       "      <th>ID</th>\n",
       "      <th></th>\n",
       "      <th></th>\n",
       "      <th></th>\n",
       "      <th></th>\n",
       "      <th></th>\n",
       "      <th></th>\n",
       "      <th></th>\n",
       "    </tr>\n",
       "  </thead>\n",
       "  <tbody>\n",
       "    <tr>\n",
       "      <th>105</th>\n",
       "      <td>105</td>\n",
       "      <td>CO</td>\n",
       "      <td>12</td>\n",
       "      <td>Female</td>\n",
       "      <td>17</td>\n",
       "      <td>64</td>\n",
       "      <td>121</td>\n",
       "    </tr>\n",
       "    <tr>\n",
       "      <th>197</th>\n",
       "      <td>197</td>\n",
       "      <td>SC</td>\n",
       "      <td>11</td>\n",
       "      <td>Female</td>\n",
       "      <td>18</td>\n",
       "      <td>66</td>\n",
       "      <td>118</td>\n",
       "    </tr>\n",
       "    <tr>\n",
       "      <th>203</th>\n",
       "      <td>203</td>\n",
       "      <td>IN</td>\n",
       "      <td>11</td>\n",
       "      <td>Male</td>\n",
       "      <td>18</td>\n",
       "      <td>70</td>\n",
       "      <td>185</td>\n",
       "    </tr>\n",
       "    <tr>\n",
       "      <th>321</th>\n",
       "      <td>321</td>\n",
       "      <td>NJ</td>\n",
       "      <td>12</td>\n",
       "      <td>Male</td>\n",
       "      <td>18</td>\n",
       "      <td>74</td>\n",
       "      <td>167</td>\n",
       "    </tr>\n",
       "    <tr>\n",
       "      <th>476</th>\n",
       "      <td>476</td>\n",
       "      <td>WI</td>\n",
       "      <td>11</td>\n",
       "      <td>Male</td>\n",
       "      <td>17</td>\n",
       "      <td>68</td>\n",
       "      <td>158</td>\n",
       "    </tr>\n",
       "  </tbody>\n",
       "</table>\n",
       "</div>"
      ],
      "text/plain": [
       "      ID State  Grade  Gender  Age  Height  Weight\n",
       "ID                                                \n",
       "105  105    CO     12  Female   17      64     121\n",
       "197  197    SC     11  Female   18      66     118\n",
       "203  203    IN     11    Male   18      70     185\n",
       "321  321    NJ     12    Male   18      74     167\n",
       "476  476    WI     11    Male   17      68     158"
      ]
     },
     "execution_count": 26,
     "metadata": {},
     "output_type": "execute_result"
    }
   ],
   "source": [
    "student_df = pd.DataFrame(student_dict, index=student_df['ID'])"
   ]
  },
  {
   "cell_type": "markdown",
   "id": "06028a94",
   "metadata": {},
   "source": [
    "<div class=\"alert alert-block alert-success\"><b>Question 9:</b>\n",
    "<p>&nbsp;</p>\n",
    "\n",
    "Redo Question 2, and then on the resulting DataFrame, reset the index to be a multi-index using the ID and Gender columns."
   ]
  },
  {
   "cell_type": "code",
   "execution_count": 33,
   "id": "a9e9dd53",
   "metadata": {},
   "outputs": [
    {
     "data": {
      "text/html": [
       "<div>\n",
       "<style scoped>\n",
       "    .dataframe tbody tr th:only-of-type {\n",
       "        vertical-align: middle;\n",
       "    }\n",
       "\n",
       "    .dataframe tbody tr th {\n",
       "        vertical-align: top;\n",
       "    }\n",
       "\n",
       "    .dataframe thead th {\n",
       "        text-align: right;\n",
       "    }\n",
       "</style>\n",
       "<table border=\"1\" class=\"dataframe\">\n",
       "  <thead>\n",
       "    <tr style=\"text-align: right;\">\n",
       "      <th></th>\n",
       "      <th></th>\n",
       "      <th>State</th>\n",
       "      <th>Grade</th>\n",
       "      <th>Age</th>\n",
       "      <th>Height</th>\n",
       "      <th>Weight</th>\n",
       "    </tr>\n",
       "    <tr>\n",
       "      <th>ID</th>\n",
       "      <th>Gender</th>\n",
       "      <th></th>\n",
       "      <th></th>\n",
       "      <th></th>\n",
       "      <th></th>\n",
       "      <th></th>\n",
       "    </tr>\n",
       "  </thead>\n",
       "  <tbody>\n",
       "    <tr>\n",
       "      <th>105</th>\n",
       "      <th>Female</th>\n",
       "      <td>CO</td>\n",
       "      <td>12</td>\n",
       "      <td>17</td>\n",
       "      <td>64</td>\n",
       "      <td>121</td>\n",
       "    </tr>\n",
       "    <tr>\n",
       "      <th>197</th>\n",
       "      <th>Female</th>\n",
       "      <td>SC</td>\n",
       "      <td>11</td>\n",
       "      <td>18</td>\n",
       "      <td>66</td>\n",
       "      <td>118</td>\n",
       "    </tr>\n",
       "    <tr>\n",
       "      <th>203</th>\n",
       "      <th>Male</th>\n",
       "      <td>IN</td>\n",
       "      <td>11</td>\n",
       "      <td>18</td>\n",
       "      <td>70</td>\n",
       "      <td>185</td>\n",
       "    </tr>\n",
       "    <tr>\n",
       "      <th>321</th>\n",
       "      <th>Male</th>\n",
       "      <td>NJ</td>\n",
       "      <td>12</td>\n",
       "      <td>18</td>\n",
       "      <td>74</td>\n",
       "      <td>167</td>\n",
       "    </tr>\n",
       "    <tr>\n",
       "      <th>476</th>\n",
       "      <th>Male</th>\n",
       "      <td>WI</td>\n",
       "      <td>11</td>\n",
       "      <td>17</td>\n",
       "      <td>68</td>\n",
       "      <td>158</td>\n",
       "    </tr>\n",
       "  </tbody>\n",
       "</table>\n",
       "</div>"
      ],
      "text/plain": [
       "           State  Grade  Age  Height  Weight\n",
       "ID  Gender                                  \n",
       "105 Female    CO     12   17      64     121\n",
       "197 Female    SC     11   18      66     118\n",
       "203 Male      IN     11   18      70     185\n",
       "321 Male      NJ     12   18      74     167\n",
       "476 Male      WI     11   17      68     158"
      ]
     },
     "execution_count": 33,
     "metadata": {},
     "output_type": "execute_result"
    }
   ],
   "source": [
    "student_df = pd.DataFrame(student_dict)\n",
    "student_df.set_index(['ID', 'Gender'])"
   ]
  },
  {
   "cell_type": "markdown",
   "id": "937786d8",
   "metadata": {},
   "source": [
    "<div class=\"alert alert-block alert-success\"><b>Question 10:</b>\n",
    "<p>&nbsp;</p>\n",
    "Redo Question 2, but only include the columns ID, Grade, and Height in your DataFrame."
   ]
  },
  {
   "cell_type": "code",
   "execution_count": 35,
   "id": "6ab8b6db",
   "metadata": {},
   "outputs": [
    {
     "data": {
      "text/html": [
       "<div>\n",
       "<style scoped>\n",
       "    .dataframe tbody tr th:only-of-type {\n",
       "        vertical-align: middle;\n",
       "    }\n",
       "\n",
       "    .dataframe tbody tr th {\n",
       "        vertical-align: top;\n",
       "    }\n",
       "\n",
       "    .dataframe thead th {\n",
       "        text-align: right;\n",
       "    }\n",
       "</style>\n",
       "<table border=\"1\" class=\"dataframe\">\n",
       "  <thead>\n",
       "    <tr style=\"text-align: right;\">\n",
       "      <th></th>\n",
       "      <th>ID</th>\n",
       "      <th>Grade</th>\n",
       "      <th>Height</th>\n",
       "    </tr>\n",
       "  </thead>\n",
       "  <tbody>\n",
       "    <tr>\n",
       "      <th>0</th>\n",
       "      <td>105</td>\n",
       "      <td>12</td>\n",
       "      <td>64</td>\n",
       "    </tr>\n",
       "    <tr>\n",
       "      <th>1</th>\n",
       "      <td>197</td>\n",
       "      <td>11</td>\n",
       "      <td>66</td>\n",
       "    </tr>\n",
       "    <tr>\n",
       "      <th>2</th>\n",
       "      <td>203</td>\n",
       "      <td>11</td>\n",
       "      <td>70</td>\n",
       "    </tr>\n",
       "    <tr>\n",
       "      <th>3</th>\n",
       "      <td>321</td>\n",
       "      <td>12</td>\n",
       "      <td>74</td>\n",
       "    </tr>\n",
       "    <tr>\n",
       "      <th>4</th>\n",
       "      <td>476</td>\n",
       "      <td>11</td>\n",
       "      <td>68</td>\n",
       "    </tr>\n",
       "  </tbody>\n",
       "</table>\n",
       "</div>"
      ],
      "text/plain": [
       "    ID  Grade  Height\n",
       "0  105     12      64\n",
       "1  197     11      66\n",
       "2  203     11      70\n",
       "3  321     12      74\n",
       "4  476     11      68"
      ]
     },
     "execution_count": 35,
     "metadata": {},
     "output_type": "execute_result"
    }
   ],
   "source": [
    "student_df = pd.DataFrame(student_dict)\n",
    "student_df=pd.DataFrame(student_df, columns=['ID', 'Grade', 'Height'])\n",
    "student_df"
   ]
  },
  {
   "cell_type": "markdown",
   "id": "1ebb28cd",
   "metadata": {},
   "source": [
    "<div class=\"alert alert-block alert-success\"><b>Question 11:</b>\n",
    "<p>&nbsp;</p>\n",
    "\n",
    " Redo Question 2, but put the columns in alphabetical order."
   ]
  },
  {
   "cell_type": "code",
   "execution_count": 39,
   "id": "93929a05",
   "metadata": {},
   "outputs": [
    {
     "data": {
      "text/html": [
       "<div>\n",
       "<style scoped>\n",
       "    .dataframe tbody tr th:only-of-type {\n",
       "        vertical-align: middle;\n",
       "    }\n",
       "\n",
       "    .dataframe tbody tr th {\n",
       "        vertical-align: top;\n",
       "    }\n",
       "\n",
       "    .dataframe thead th {\n",
       "        text-align: right;\n",
       "    }\n",
       "</style>\n",
       "<table border=\"1\" class=\"dataframe\">\n",
       "  <thead>\n",
       "    <tr style=\"text-align: right;\">\n",
       "      <th></th>\n",
       "      <th>Age</th>\n",
       "      <th>Gender</th>\n",
       "      <th>Grade</th>\n",
       "      <th>Height</th>\n",
       "      <th>ID</th>\n",
       "      <th>State</th>\n",
       "      <th>Weight</th>\n",
       "    </tr>\n",
       "  </thead>\n",
       "  <tbody>\n",
       "    <tr>\n",
       "      <th>0</th>\n",
       "      <td>17</td>\n",
       "      <td>Female</td>\n",
       "      <td>12</td>\n",
       "      <td>64</td>\n",
       "      <td>105</td>\n",
       "      <td>CO</td>\n",
       "      <td>121</td>\n",
       "    </tr>\n",
       "    <tr>\n",
       "      <th>1</th>\n",
       "      <td>18</td>\n",
       "      <td>Female</td>\n",
       "      <td>11</td>\n",
       "      <td>66</td>\n",
       "      <td>197</td>\n",
       "      <td>SC</td>\n",
       "      <td>118</td>\n",
       "    </tr>\n",
       "    <tr>\n",
       "      <th>2</th>\n",
       "      <td>18</td>\n",
       "      <td>Male</td>\n",
       "      <td>11</td>\n",
       "      <td>70</td>\n",
       "      <td>203</td>\n",
       "      <td>IN</td>\n",
       "      <td>185</td>\n",
       "    </tr>\n",
       "    <tr>\n",
       "      <th>3</th>\n",
       "      <td>18</td>\n",
       "      <td>Male</td>\n",
       "      <td>12</td>\n",
       "      <td>74</td>\n",
       "      <td>321</td>\n",
       "      <td>NJ</td>\n",
       "      <td>167</td>\n",
       "    </tr>\n",
       "    <tr>\n",
       "      <th>4</th>\n",
       "      <td>17</td>\n",
       "      <td>Male</td>\n",
       "      <td>11</td>\n",
       "      <td>68</td>\n",
       "      <td>476</td>\n",
       "      <td>WI</td>\n",
       "      <td>158</td>\n",
       "    </tr>\n",
       "  </tbody>\n",
       "</table>\n",
       "</div>"
      ],
      "text/plain": [
       "   Age  Gender  Grade  Height   ID State  Weight\n",
       "0   17  Female     12      64  105    CO     121\n",
       "1   18  Female     11      66  197    SC     118\n",
       "2   18    Male     11      70  203    IN     185\n",
       "3   18    Male     12      74  321    NJ     167\n",
       "4   17    Male     11      68  476    WI     158"
      ]
     },
     "execution_count": 39,
     "metadata": {},
     "output_type": "execute_result"
    }
   ],
   "source": [
    "student_df = pd.DataFrame(student_dict)\n",
    "student_df = student_df.reindex(sorted(student_df.columns), axis=1)\n",
    "student_df"
   ]
  },
  {
   "cell_type": "markdown",
   "id": "88b703d8",
   "metadata": {},
   "source": [
    "<div class=\"alert alert-block alert-success\"><b>Question 12:</b>\n",
    "<p>&nbsp;</p>\n",
    "\n",
    "Redo Question 2, then use bracket notation to find the data type for the ID, State, and Grade columns."
   ]
  },
  {
   "cell_type": "code",
   "execution_count": 50,
   "id": "53629124",
   "metadata": {},
   "outputs": [
    {
     "data": {
      "text/plain": [
       "0    105\n",
       "1    197\n",
       "2    203\n",
       "3    321\n",
       "4    476\n",
       "Name: ID, dtype: int64"
      ]
     },
     "execution_count": 50,
     "metadata": {},
     "output_type": "execute_result"
    },
    {
     "data": {
      "text/plain": [
       "0    CO\n",
       "1    SC\n",
       "2    IN\n",
       "3    NJ\n",
       "4    WI\n",
       "Name: State, dtype: object"
      ]
     },
     "execution_count": 50,
     "metadata": {},
     "output_type": "execute_result"
    },
    {
     "data": {
      "text/plain": [
       "0    12\n",
       "1    11\n",
       "2    11\n",
       "3    12\n",
       "4    11\n",
       "Name: Grade, dtype: int64"
      ]
     },
     "execution_count": 50,
     "metadata": {},
     "output_type": "execute_result"
    }
   ],
   "source": [
    "student_df = pd.DataFrame(student_dict)\n",
    "student_df['ID']\n",
    "student_df['State']\n",
    "student_df['Grade']"
   ]
  },
  {
   "cell_type": "markdown",
   "id": "455cd439",
   "metadata": {},
   "source": [
    "<div class=\"alert alert-block alert-success\"><b>Question 13:</b>\n",
    "<p>&nbsp;</p>\n",
    "    \n",
    "Redo Question 2, then use dot notation to find the data type for the Gender, Age, and Height columns."
   ]
  },
  {
   "cell_type": "code",
   "execution_count": 51,
   "id": "bdbfc975",
   "metadata": {},
   "outputs": [
    {
     "data": {
      "text/plain": [
       "dtype('int64')"
      ]
     },
     "execution_count": 51,
     "metadata": {},
     "output_type": "execute_result"
    },
    {
     "data": {
      "text/plain": [
       "dtype('O')"
      ]
     },
     "execution_count": 51,
     "metadata": {},
     "output_type": "execute_result"
    },
    {
     "data": {
      "text/plain": [
       "dtype('int64')"
      ]
     },
     "execution_count": 51,
     "metadata": {},
     "output_type": "execute_result"
    }
   ],
   "source": [
    "student_df = pd.DataFrame(student_dict)\n",
    "student_df['ID'].dtypes\n",
    "student_df['State'].dtypes\n",
    "student_df['Grade'].dtypes"
   ]
  },
  {
   "cell_type": "markdown",
   "id": "83c23361",
   "metadata": {},
   "source": [
    "<div class=\"alert alert-block alert-success\"><b>Question 14:</b>\n",
    "<p>&nbsp;</p>\n",
    " \n",
    "Redo Question 2, then find the data types for all of the columns using a single command."
   ]
  },
  {
   "cell_type": "code",
   "execution_count": 52,
   "id": "9d9d5f3c",
   "metadata": {},
   "outputs": [
    {
     "name": "stdout",
     "output_type": "stream",
     "text": [
      "<class 'pandas.core.frame.DataFrame'>\n",
      "RangeIndex: 5 entries, 0 to 4\n",
      "Data columns (total 7 columns):\n",
      " #   Column  Non-Null Count  Dtype \n",
      "---  ------  --------------  ----- \n",
      " 0   ID      5 non-null      int64 \n",
      " 1   State   5 non-null      object\n",
      " 2   Grade   5 non-null      int64 \n",
      " 3   Gender  5 non-null      object\n",
      " 4   Age     5 non-null      int64 \n",
      " 5   Height  5 non-null      int64 \n",
      " 6   Weight  5 non-null      int64 \n",
      "dtypes: int64(5), object(2)\n",
      "memory usage: 412.0+ bytes\n"
     ]
    }
   ],
   "source": [
    "student_df = pd.DataFrame(student_dict)\n",
    "student_df.info()"
   ]
  },
  {
   "cell_type": "markdown",
   "id": "6959f21c",
   "metadata": {},
   "source": [
    "<div class=\"alert alert-block alert-success\"><b>Question 15:</b>\n",
    "<p>&nbsp;</p>\n",
    "    \n",
    "Redo Question 2, and then find the mean Height and Weight."
   ]
  },
  {
   "cell_type": "code",
   "execution_count": 53,
   "id": "fb803b28",
   "metadata": {},
   "outputs": [
    {
     "data": {
      "text/plain": [
       "68.4"
      ]
     },
     "execution_count": 53,
     "metadata": {},
     "output_type": "execute_result"
    },
    {
     "data": {
      "text/plain": [
       "149.8"
      ]
     },
     "execution_count": 53,
     "metadata": {},
     "output_type": "execute_result"
    }
   ],
   "source": [
    "student_df = pd.DataFrame(student_dict)\n",
    "student_df['Height'].mean()\n",
    "student_df['Weight'].mean()"
   ]
  },
  {
   "cell_type": "markdown",
   "id": "2371b247",
   "metadata": {},
   "source": [
    "<div class=\"alert alert-block alert-success\"><b>Question 16:</b>\n",
    "<p>&nbsp;</p>\n",
    "    \n",
    "Redo Question 2, and then find the unique elements from the Age column. "
   ]
  },
  {
   "cell_type": "code",
   "execution_count": 60,
   "id": "097f74f5",
   "metadata": {},
   "outputs": [
    {
     "data": {
      "text/plain": [
       "array([17, 18], dtype=int64)"
      ]
     },
     "execution_count": 60,
     "metadata": {},
     "output_type": "execute_result"
    }
   ],
   "source": [
    "student_df = pd.DataFrame(student_dict)\n",
    "student_df['Age'].unique()"
   ]
  },
  {
   "cell_type": "markdown",
   "id": "5d8332e4",
   "metadata": {},
   "source": [
    "<div class=\"alert alert-block alert-info\">\n",
    "<center><b><font size=\"6\">PART TWO</font></b></center>\n",
    "</div>   "
   ]
  },
  {
   "cell_type": "markdown",
   "id": "ef885b44",
   "metadata": {},
   "source": [
    "<div class=\"alert alert-block alert-info\"\n",
    "\n",
    "<b>For Questions 17 - 26:</b> Read in the following dataset.  Name the DataFrame that you create <b>cars</b>:\n",
    "\n",
    "[<b>cars</b>](https://drive.google.com/file/d/1_ZydPXtAYGjmjHJCAuk4c3LfUkpY0lhu/view?usp=share_link)\n",
    "</div>"
   ]
  },
  {
   "cell_type": "code",
   "execution_count": 55,
   "id": "45b20527",
   "metadata": {},
   "outputs": [
    {
     "data": {
      "text/html": [
       "<div>\n",
       "<style scoped>\n",
       "    .dataframe tbody tr th:only-of-type {\n",
       "        vertical-align: middle;\n",
       "    }\n",
       "\n",
       "    .dataframe tbody tr th {\n",
       "        vertical-align: top;\n",
       "    }\n",
       "\n",
       "    .dataframe thead th {\n",
       "        text-align: right;\n",
       "    }\n",
       "</style>\n",
       "<table border=\"1\" class=\"dataframe\">\n",
       "  <thead>\n",
       "    <tr style=\"text-align: right;\">\n",
       "      <th></th>\n",
       "      <th>Manufacturer</th>\n",
       "      <th>Year</th>\n",
       "      <th>Fuel</th>\n",
       "      <th>Transmission</th>\n",
       "      <th>Price</th>\n",
       "    </tr>\n",
       "  </thead>\n",
       "  <tbody>\n",
       "    <tr>\n",
       "      <th>0</th>\n",
       "      <td>Acura</td>\n",
       "      <td>2012</td>\n",
       "      <td>Gas</td>\n",
       "      <td>Automatic</td>\n",
       "      <td>10299</td>\n",
       "    </tr>\n",
       "    <tr>\n",
       "      <th>1</th>\n",
       "      <td>Jaguar</td>\n",
       "      <td>2011</td>\n",
       "      <td>Gas</td>\n",
       "      <td>Automatic</td>\n",
       "      <td>9500</td>\n",
       "    </tr>\n",
       "    <tr>\n",
       "      <th>2</th>\n",
       "      <td>Honda</td>\n",
       "      <td>2004</td>\n",
       "      <td>Gas</td>\n",
       "      <td>Automatic</td>\n",
       "      <td>3995</td>\n",
       "    </tr>\n",
       "    <tr>\n",
       "      <th>3</th>\n",
       "      <td>Chevrolet</td>\n",
       "      <td>2016</td>\n",
       "      <td>Gas</td>\n",
       "      <td>Automatic</td>\n",
       "      <td>41988</td>\n",
       "    </tr>\n",
       "    <tr>\n",
       "      <th>4</th>\n",
       "      <td>Kia</td>\n",
       "      <td>2015</td>\n",
       "      <td>Gas</td>\n",
       "      <td>Automatic</td>\n",
       "      <td>12995</td>\n",
       "    </tr>\n",
       "    <tr>\n",
       "      <th>...</th>\n",
       "      <td>...</td>\n",
       "      <td>...</td>\n",
       "      <td>...</td>\n",
       "      <td>...</td>\n",
       "      <td>...</td>\n",
       "    </tr>\n",
       "    <tr>\n",
       "      <th>460461</th>\n",
       "      <td>Rover</td>\n",
       "      <td>2008</td>\n",
       "      <td>Gas</td>\n",
       "      <td>Automatic</td>\n",
       "      <td>7950</td>\n",
       "    </tr>\n",
       "    <tr>\n",
       "      <th>460462</th>\n",
       "      <td>Nissan</td>\n",
       "      <td>2016</td>\n",
       "      <td>Gas</td>\n",
       "      <td>Automatic</td>\n",
       "      <td>13995</td>\n",
       "    </tr>\n",
       "    <tr>\n",
       "      <th>460463</th>\n",
       "      <td>BMW</td>\n",
       "      <td>2010</td>\n",
       "      <td>Gas</td>\n",
       "      <td>Automatic</td>\n",
       "      <td>10995</td>\n",
       "    </tr>\n",
       "    <tr>\n",
       "      <th>460464</th>\n",
       "      <td>Dodge</td>\n",
       "      <td>2015</td>\n",
       "      <td>Other</td>\n",
       "      <td>Manual</td>\n",
       "      <td>6495</td>\n",
       "    </tr>\n",
       "    <tr>\n",
       "      <th>460465</th>\n",
       "      <td>GMC</td>\n",
       "      <td>2008</td>\n",
       "      <td>Gas</td>\n",
       "      <td>Automatic</td>\n",
       "      <td>8990</td>\n",
       "    </tr>\n",
       "  </tbody>\n",
       "</table>\n",
       "<p>460466 rows × 5 columns</p>\n",
       "</div>"
      ],
      "text/plain": [
       "       Manufacturer  Year   Fuel Transmission  Price\n",
       "0             Acura  2012    Gas    Automatic  10299\n",
       "1            Jaguar  2011    Gas    Automatic   9500\n",
       "2             Honda  2004    Gas    Automatic   3995\n",
       "3         Chevrolet  2016    Gas    Automatic  41988\n",
       "4               Kia  2015    Gas    Automatic  12995\n",
       "...             ...   ...    ...          ...    ...\n",
       "460461        Rover  2008    Gas    Automatic   7950\n",
       "460462       Nissan  2016    Gas    Automatic  13995\n",
       "460463          BMW  2010    Gas    Automatic  10995\n",
       "460464        Dodge  2015  Other       Manual   6495\n",
       "460465          GMC  2008    Gas    Automatic   8990\n",
       "\n",
       "[460466 rows x 5 columns]"
      ]
     },
     "execution_count": 55,
     "metadata": {},
     "output_type": "execute_result"
    }
   ],
   "source": [
    "cars_df = pd.read_csv('cars.csv')\n",
    "cars_df"
   ]
  },
  {
   "cell_type": "markdown",
   "id": "a2b23af3",
   "metadata": {},
   "source": [
    "<div class=\"alert alert-block alert-success\"><b>Question 17:</b>\n",
    "<p>&nbsp;</p>\n",
    "    \n",
    "Inspect the <b>cars</b> DataFrame by viewing the first 5 rows of the DataFrame."
   ]
  },
  {
   "cell_type": "code",
   "execution_count": 56,
   "id": "8465db2c",
   "metadata": {},
   "outputs": [
    {
     "data": {
      "text/html": [
       "<div>\n",
       "<style scoped>\n",
       "    .dataframe tbody tr th:only-of-type {\n",
       "        vertical-align: middle;\n",
       "    }\n",
       "\n",
       "    .dataframe tbody tr th {\n",
       "        vertical-align: top;\n",
       "    }\n",
       "\n",
       "    .dataframe thead th {\n",
       "        text-align: right;\n",
       "    }\n",
       "</style>\n",
       "<table border=\"1\" class=\"dataframe\">\n",
       "  <thead>\n",
       "    <tr style=\"text-align: right;\">\n",
       "      <th></th>\n",
       "      <th>Manufacturer</th>\n",
       "      <th>Year</th>\n",
       "      <th>Fuel</th>\n",
       "      <th>Transmission</th>\n",
       "      <th>Price</th>\n",
       "    </tr>\n",
       "  </thead>\n",
       "  <tbody>\n",
       "    <tr>\n",
       "      <th>0</th>\n",
       "      <td>Acura</td>\n",
       "      <td>2012</td>\n",
       "      <td>Gas</td>\n",
       "      <td>Automatic</td>\n",
       "      <td>10299</td>\n",
       "    </tr>\n",
       "    <tr>\n",
       "      <th>1</th>\n",
       "      <td>Jaguar</td>\n",
       "      <td>2011</td>\n",
       "      <td>Gas</td>\n",
       "      <td>Automatic</td>\n",
       "      <td>9500</td>\n",
       "    </tr>\n",
       "    <tr>\n",
       "      <th>2</th>\n",
       "      <td>Honda</td>\n",
       "      <td>2004</td>\n",
       "      <td>Gas</td>\n",
       "      <td>Automatic</td>\n",
       "      <td>3995</td>\n",
       "    </tr>\n",
       "    <tr>\n",
       "      <th>3</th>\n",
       "      <td>Chevrolet</td>\n",
       "      <td>2016</td>\n",
       "      <td>Gas</td>\n",
       "      <td>Automatic</td>\n",
       "      <td>41988</td>\n",
       "    </tr>\n",
       "    <tr>\n",
       "      <th>4</th>\n",
       "      <td>Kia</td>\n",
       "      <td>2015</td>\n",
       "      <td>Gas</td>\n",
       "      <td>Automatic</td>\n",
       "      <td>12995</td>\n",
       "    </tr>\n",
       "  </tbody>\n",
       "</table>\n",
       "</div>"
      ],
      "text/plain": [
       "  Manufacturer  Year Fuel Transmission  Price\n",
       "0        Acura  2012  Gas    Automatic  10299\n",
       "1       Jaguar  2011  Gas    Automatic   9500\n",
       "2        Honda  2004  Gas    Automatic   3995\n",
       "3    Chevrolet  2016  Gas    Automatic  41988\n",
       "4          Kia  2015  Gas    Automatic  12995"
      ]
     },
     "execution_count": 56,
     "metadata": {},
     "output_type": "execute_result"
    }
   ],
   "source": [
    "cars_df.head(5)"
   ]
  },
  {
   "cell_type": "markdown",
   "id": "23f86f3e",
   "metadata": {},
   "source": [
    "<div class=\"alert alert-block alert-success\"><b>Question 18:</b>\n",
    "<p>&nbsp;</p>\n",
    "    \n",
    "Inspect the cars DataFrame by viewing the first 7 rows of the DataFrame."
   ]
  },
  {
   "cell_type": "code",
   "execution_count": 57,
   "id": "6b1b42b4",
   "metadata": {},
   "outputs": [
    {
     "data": {
      "text/html": [
       "<div>\n",
       "<style scoped>\n",
       "    .dataframe tbody tr th:only-of-type {\n",
       "        vertical-align: middle;\n",
       "    }\n",
       "\n",
       "    .dataframe tbody tr th {\n",
       "        vertical-align: top;\n",
       "    }\n",
       "\n",
       "    .dataframe thead th {\n",
       "        text-align: right;\n",
       "    }\n",
       "</style>\n",
       "<table border=\"1\" class=\"dataframe\">\n",
       "  <thead>\n",
       "    <tr style=\"text-align: right;\">\n",
       "      <th></th>\n",
       "      <th>Manufacturer</th>\n",
       "      <th>Year</th>\n",
       "      <th>Fuel</th>\n",
       "      <th>Transmission</th>\n",
       "      <th>Price</th>\n",
       "    </tr>\n",
       "  </thead>\n",
       "  <tbody>\n",
       "    <tr>\n",
       "      <th>0</th>\n",
       "      <td>Acura</td>\n",
       "      <td>2012</td>\n",
       "      <td>Gas</td>\n",
       "      <td>Automatic</td>\n",
       "      <td>10299</td>\n",
       "    </tr>\n",
       "    <tr>\n",
       "      <th>1</th>\n",
       "      <td>Jaguar</td>\n",
       "      <td>2011</td>\n",
       "      <td>Gas</td>\n",
       "      <td>Automatic</td>\n",
       "      <td>9500</td>\n",
       "    </tr>\n",
       "    <tr>\n",
       "      <th>2</th>\n",
       "      <td>Honda</td>\n",
       "      <td>2004</td>\n",
       "      <td>Gas</td>\n",
       "      <td>Automatic</td>\n",
       "      <td>3995</td>\n",
       "    </tr>\n",
       "    <tr>\n",
       "      <th>3</th>\n",
       "      <td>Chevrolet</td>\n",
       "      <td>2016</td>\n",
       "      <td>Gas</td>\n",
       "      <td>Automatic</td>\n",
       "      <td>41988</td>\n",
       "    </tr>\n",
       "    <tr>\n",
       "      <th>4</th>\n",
       "      <td>Kia</td>\n",
       "      <td>2015</td>\n",
       "      <td>Gas</td>\n",
       "      <td>Automatic</td>\n",
       "      <td>12995</td>\n",
       "    </tr>\n",
       "    <tr>\n",
       "      <th>5</th>\n",
       "      <td>Chevrolet</td>\n",
       "      <td>2014</td>\n",
       "      <td>Gas</td>\n",
       "      <td>Automatic</td>\n",
       "      <td>10995</td>\n",
       "    </tr>\n",
       "    <tr>\n",
       "      <th>6</th>\n",
       "      <td>BMW</td>\n",
       "      <td>2011</td>\n",
       "      <td>Gas</td>\n",
       "      <td>Automatic</td>\n",
       "      <td>8995</td>\n",
       "    </tr>\n",
       "  </tbody>\n",
       "</table>\n",
       "</div>"
      ],
      "text/plain": [
       "  Manufacturer  Year Fuel Transmission  Price\n",
       "0        Acura  2012  Gas    Automatic  10299\n",
       "1       Jaguar  2011  Gas    Automatic   9500\n",
       "2        Honda  2004  Gas    Automatic   3995\n",
       "3    Chevrolet  2016  Gas    Automatic  41988\n",
       "4          Kia  2015  Gas    Automatic  12995\n",
       "5    Chevrolet  2014  Gas    Automatic  10995\n",
       "6          BMW  2011  Gas    Automatic   8995"
      ]
     },
     "execution_count": 57,
     "metadata": {},
     "output_type": "execute_result"
    }
   ],
   "source": [
    "cars_df.head(7)"
   ]
  },
  {
   "cell_type": "markdown",
   "id": "e3e228ad",
   "metadata": {},
   "source": [
    "<div class=\"alert alert-block alert-success\"><b>Question 19:</b>\n",
    "<p>&nbsp;</p>\n",
    "    \n",
    "Inspect the cars DataFrame by viewing the first 5 rows of the Year column."
   ]
  },
  {
   "cell_type": "code",
   "execution_count": 58,
   "id": "e700c378",
   "metadata": {},
   "outputs": [
    {
     "data": {
      "text/plain": [
       "0    2012\n",
       "1    2011\n",
       "2    2004\n",
       "3    2016\n",
       "4    2015\n",
       "Name: Year, dtype: int64"
      ]
     },
     "execution_count": 58,
     "metadata": {},
     "output_type": "execute_result"
    }
   ],
   "source": [
    "cars_df['Year'].head(5)"
   ]
  },
  {
   "cell_type": "markdown",
   "id": "4fe54f52",
   "metadata": {},
   "source": [
    "<div class=\"alert alert-block alert-success\"><b>Question 20:</b>\n",
    "<p>&nbsp;</p>\n",
    "    \n",
    "Inspect the cars DataFrame by viewing the first 4 rows of the Manufacturer and Transmission columns."
   ]
  },
  {
   "cell_type": "code",
   "execution_count": 63,
   "id": "6dff491f",
   "metadata": {},
   "outputs": [
    {
     "data": {
      "text/html": [
       "<div>\n",
       "<style scoped>\n",
       "    .dataframe tbody tr th:only-of-type {\n",
       "        vertical-align: middle;\n",
       "    }\n",
       "\n",
       "    .dataframe tbody tr th {\n",
       "        vertical-align: top;\n",
       "    }\n",
       "\n",
       "    .dataframe thead th {\n",
       "        text-align: right;\n",
       "    }\n",
       "</style>\n",
       "<table border=\"1\" class=\"dataframe\">\n",
       "  <thead>\n",
       "    <tr style=\"text-align: right;\">\n",
       "      <th></th>\n",
       "      <th>Manufacturer</th>\n",
       "      <th>Transmission</th>\n",
       "    </tr>\n",
       "  </thead>\n",
       "  <tbody>\n",
       "    <tr>\n",
       "      <th>0</th>\n",
       "      <td>Acura</td>\n",
       "      <td>Automatic</td>\n",
       "    </tr>\n",
       "    <tr>\n",
       "      <th>1</th>\n",
       "      <td>Jaguar</td>\n",
       "      <td>Automatic</td>\n",
       "    </tr>\n",
       "    <tr>\n",
       "      <th>2</th>\n",
       "      <td>Honda</td>\n",
       "      <td>Automatic</td>\n",
       "    </tr>\n",
       "    <tr>\n",
       "      <th>3</th>\n",
       "      <td>Chevrolet</td>\n",
       "      <td>Automatic</td>\n",
       "    </tr>\n",
       "  </tbody>\n",
       "</table>\n",
       "</div>"
      ],
      "text/plain": [
       "  Manufacturer Transmission\n",
       "0        Acura    Automatic\n",
       "1       Jaguar    Automatic\n",
       "2        Honda    Automatic\n",
       "3    Chevrolet    Automatic"
      ]
     },
     "execution_count": 63,
     "metadata": {},
     "output_type": "execute_result"
    }
   ],
   "source": [
    "cars_df[['Manufacturer', 'Transmission']].head(4)"
   ]
  },
  {
   "cell_type": "markdown",
   "id": "ce7dc56d",
   "metadata": {},
   "source": [
    "<div class=\"alert alert-block alert-success\"><b>Question 21:</b>\n",
    "<p>&nbsp;</p>\n",
    "    \n",
    "Inspect the cars DataFrame by viewing the last 5 rows of the DataFrame."
   ]
  },
  {
   "cell_type": "code",
   "execution_count": 61,
   "id": "f059c7df",
   "metadata": {},
   "outputs": [
    {
     "data": {
      "text/html": [
       "<div>\n",
       "<style scoped>\n",
       "    .dataframe tbody tr th:only-of-type {\n",
       "        vertical-align: middle;\n",
       "    }\n",
       "\n",
       "    .dataframe tbody tr th {\n",
       "        vertical-align: top;\n",
       "    }\n",
       "\n",
       "    .dataframe thead th {\n",
       "        text-align: right;\n",
       "    }\n",
       "</style>\n",
       "<table border=\"1\" class=\"dataframe\">\n",
       "  <thead>\n",
       "    <tr style=\"text-align: right;\">\n",
       "      <th></th>\n",
       "      <th>Manufacturer</th>\n",
       "      <th>Year</th>\n",
       "      <th>Fuel</th>\n",
       "      <th>Transmission</th>\n",
       "      <th>Price</th>\n",
       "    </tr>\n",
       "  </thead>\n",
       "  <tbody>\n",
       "    <tr>\n",
       "      <th>460461</th>\n",
       "      <td>Rover</td>\n",
       "      <td>2008</td>\n",
       "      <td>Gas</td>\n",
       "      <td>Automatic</td>\n",
       "      <td>7950</td>\n",
       "    </tr>\n",
       "    <tr>\n",
       "      <th>460462</th>\n",
       "      <td>Nissan</td>\n",
       "      <td>2016</td>\n",
       "      <td>Gas</td>\n",
       "      <td>Automatic</td>\n",
       "      <td>13995</td>\n",
       "    </tr>\n",
       "    <tr>\n",
       "      <th>460463</th>\n",
       "      <td>BMW</td>\n",
       "      <td>2010</td>\n",
       "      <td>Gas</td>\n",
       "      <td>Automatic</td>\n",
       "      <td>10995</td>\n",
       "    </tr>\n",
       "    <tr>\n",
       "      <th>460464</th>\n",
       "      <td>Dodge</td>\n",
       "      <td>2015</td>\n",
       "      <td>Other</td>\n",
       "      <td>Manual</td>\n",
       "      <td>6495</td>\n",
       "    </tr>\n",
       "    <tr>\n",
       "      <th>460465</th>\n",
       "      <td>GMC</td>\n",
       "      <td>2008</td>\n",
       "      <td>Gas</td>\n",
       "      <td>Automatic</td>\n",
       "      <td>8990</td>\n",
       "    </tr>\n",
       "  </tbody>\n",
       "</table>\n",
       "</div>"
      ],
      "text/plain": [
       "       Manufacturer  Year   Fuel Transmission  Price\n",
       "460461        Rover  2008    Gas    Automatic   7950\n",
       "460462       Nissan  2016    Gas    Automatic  13995\n",
       "460463          BMW  2010    Gas    Automatic  10995\n",
       "460464        Dodge  2015  Other       Manual   6495\n",
       "460465          GMC  2008    Gas    Automatic   8990"
      ]
     },
     "execution_count": 61,
     "metadata": {},
     "output_type": "execute_result"
    }
   ],
   "source": [
    "cars_df.tail(5)"
   ]
  },
  {
   "cell_type": "markdown",
   "id": "de3308eb",
   "metadata": {},
   "source": [
    "<div class=\"alert alert-block alert-success\"><b>Question 22:</b>\n",
    "<p>&nbsp;</p>\n",
    "    \n",
    "Inspect the cars DataFrame by viewing the last 8 rows of the DataFrame."
   ]
  },
  {
   "cell_type": "code",
   "execution_count": 62,
   "id": "d894b329",
   "metadata": {},
   "outputs": [
    {
     "data": {
      "text/html": [
       "<div>\n",
       "<style scoped>\n",
       "    .dataframe tbody tr th:only-of-type {\n",
       "        vertical-align: middle;\n",
       "    }\n",
       "\n",
       "    .dataframe tbody tr th {\n",
       "        vertical-align: top;\n",
       "    }\n",
       "\n",
       "    .dataframe thead th {\n",
       "        text-align: right;\n",
       "    }\n",
       "</style>\n",
       "<table border=\"1\" class=\"dataframe\">\n",
       "  <thead>\n",
       "    <tr style=\"text-align: right;\">\n",
       "      <th></th>\n",
       "      <th>Manufacturer</th>\n",
       "      <th>Year</th>\n",
       "      <th>Fuel</th>\n",
       "      <th>Transmission</th>\n",
       "      <th>Price</th>\n",
       "    </tr>\n",
       "  </thead>\n",
       "  <tbody>\n",
       "    <tr>\n",
       "      <th>460458</th>\n",
       "      <td>GMC</td>\n",
       "      <td>2013</td>\n",
       "      <td>Gas</td>\n",
       "      <td>Automatic</td>\n",
       "      <td>9995</td>\n",
       "    </tr>\n",
       "    <tr>\n",
       "      <th>460459</th>\n",
       "      <td>Audi</td>\n",
       "      <td>2006</td>\n",
       "      <td>Gas</td>\n",
       "      <td>Automatic</td>\n",
       "      <td>5295</td>\n",
       "    </tr>\n",
       "    <tr>\n",
       "      <th>460460</th>\n",
       "      <td>Mazda</td>\n",
       "      <td>2015</td>\n",
       "      <td>Gas</td>\n",
       "      <td>Automatic</td>\n",
       "      <td>12955</td>\n",
       "    </tr>\n",
       "    <tr>\n",
       "      <th>460461</th>\n",
       "      <td>Rover</td>\n",
       "      <td>2008</td>\n",
       "      <td>Gas</td>\n",
       "      <td>Automatic</td>\n",
       "      <td>7950</td>\n",
       "    </tr>\n",
       "    <tr>\n",
       "      <th>460462</th>\n",
       "      <td>Nissan</td>\n",
       "      <td>2016</td>\n",
       "      <td>Gas</td>\n",
       "      <td>Automatic</td>\n",
       "      <td>13995</td>\n",
       "    </tr>\n",
       "    <tr>\n",
       "      <th>460463</th>\n",
       "      <td>BMW</td>\n",
       "      <td>2010</td>\n",
       "      <td>Gas</td>\n",
       "      <td>Automatic</td>\n",
       "      <td>10995</td>\n",
       "    </tr>\n",
       "    <tr>\n",
       "      <th>460464</th>\n",
       "      <td>Dodge</td>\n",
       "      <td>2015</td>\n",
       "      <td>Other</td>\n",
       "      <td>Manual</td>\n",
       "      <td>6495</td>\n",
       "    </tr>\n",
       "    <tr>\n",
       "      <th>460465</th>\n",
       "      <td>GMC</td>\n",
       "      <td>2008</td>\n",
       "      <td>Gas</td>\n",
       "      <td>Automatic</td>\n",
       "      <td>8990</td>\n",
       "    </tr>\n",
       "  </tbody>\n",
       "</table>\n",
       "</div>"
      ],
      "text/plain": [
       "       Manufacturer  Year   Fuel Transmission  Price\n",
       "460458          GMC  2013    Gas    Automatic   9995\n",
       "460459         Audi  2006    Gas    Automatic   5295\n",
       "460460        Mazda  2015    Gas    Automatic  12955\n",
       "460461        Rover  2008    Gas    Automatic   7950\n",
       "460462       Nissan  2016    Gas    Automatic  13995\n",
       "460463          BMW  2010    Gas    Automatic  10995\n",
       "460464        Dodge  2015  Other       Manual   6495\n",
       "460465          GMC  2008    Gas    Automatic   8990"
      ]
     },
     "execution_count": 62,
     "metadata": {},
     "output_type": "execute_result"
    }
   ],
   "source": [
    "cars_df.tail(8)"
   ]
  },
  {
   "cell_type": "markdown",
   "id": "bba44b67",
   "metadata": {},
   "source": [
    "<div class=\"alert alert-block alert-success\"><b>Question 23:</b>\n",
    "<p>&nbsp;</p>\n",
    "    \n",
    "Use the appropriate DataFrame attribute to find the number of rows and columns in the DataFrame."
   ]
  },
  {
   "cell_type": "code",
   "execution_count": 64,
   "id": "cd8da812",
   "metadata": {},
   "outputs": [
    {
     "data": {
      "text/plain": [
       "460466"
      ]
     },
     "execution_count": 64,
     "metadata": {},
     "output_type": "execute_result"
    },
    {
     "data": {
      "text/plain": [
       "5"
      ]
     },
     "execution_count": 64,
     "metadata": {},
     "output_type": "execute_result"
    }
   ],
   "source": [
    "len(cars_df.values)\n",
    "len(cars_df.columns)"
   ]
  },
  {
   "cell_type": "markdown",
   "id": "475edb30",
   "metadata": {},
   "source": [
    "<div class=\"alert alert-block alert-success\"><b>Question 24:</b>\n",
    "<p>&nbsp;</p>\n",
    "    \n",
    "Find the number of non-null values in the Transmission column."
   ]
  },
  {
   "cell_type": "code",
   "execution_count": 78,
   "id": "89ef0624",
   "metadata": {},
   "outputs": [
    {
     "data": {
      "text/plain": [
       "457183"
      ]
     },
     "execution_count": 78,
     "metadata": {},
     "output_type": "execute_result"
    }
   ],
   "source": [
    "cars_df['Transmission'].count()"
   ]
  },
  {
   "cell_type": "markdown",
   "id": "4788bb17",
   "metadata": {},
   "source": [
    "<div class=\"alert alert-block alert-success\"><b>Question 25:</b>\n",
    "<p>&nbsp;</p>\n",
    "    \n",
    "Find the unique elements from the Manufacturer column."
   ]
  },
  {
   "cell_type": "code",
   "execution_count": 75,
   "id": "6bc462c2",
   "metadata": {},
   "outputs": [
    {
     "data": {
      "text/plain": [
       "array(['Acura', 'Jaguar', 'Honda', 'Chevrolet', 'Kia', 'BMW', 'Toyota',\n",
       "       'Nissan', 'Volkswagen', 'Ford', 'GMC', 'Subaru', 'Ram', 'Lexus',\n",
       "       'Volvo', 'Buick', 'Jeep', 'Hyundai', 'Mercedes-Benz', 'Cadillac',\n",
       "       'Audi', 'Infiniti', 'Dodge', 'Pontiac', 'Mini', 'Chrysler',\n",
       "       'Mazda', 'Mercury', nan, 'Fiat', 'Harley-Davidson', 'Saturn',\n",
       "       'Mitsubishi', 'Lincoln', 'Rover', 'Tesla', 'Alfa-Romeo',\n",
       "       'Aston-Martin', 'Ferrari', 'Land Rover', 'Porche', 'Hennessey'],\n",
       "      dtype=object)"
      ]
     },
     "execution_count": 75,
     "metadata": {},
     "output_type": "execute_result"
    }
   ],
   "source": [
    "cars_df['Manufacturer'].unique()"
   ]
  },
  {
   "cell_type": "markdown",
   "id": "ee0387f9",
   "metadata": {},
   "source": [
    "<div class=\"alert alert-block alert-success\"><b>Question 26:</b>\n",
    "<p>&nbsp;</p>\n",
    "    \n",
    "Find the maximum and minimum price for these used cars."
   ]
  },
  {
   "cell_type": "code",
   "execution_count": 77,
   "id": "173b03bf",
   "metadata": {},
   "outputs": [
    {
     "data": {
      "text/plain": [
       "1"
      ]
     },
     "execution_count": 77,
     "metadata": {},
     "output_type": "execute_result"
    },
    {
     "data": {
      "text/plain": [
       "4294967295"
      ]
     },
     "execution_count": 77,
     "metadata": {},
     "output_type": "execute_result"
    }
   ],
   "source": [
    "cars_df['Price'].min()\n",
    "cars_df['Price'].max()"
   ]
  },
  {
   "cell_type": "markdown",
   "id": "14571712",
   "metadata": {},
   "source": [
    "<div class=\"alert alert-block alert-info\">\n",
    "<center><b><font size=\"6\">PART THREE</font></b></center>\n",
    "</div>"
   ]
  },
  {
   "cell_type": "markdown",
   "id": "bd7d44b3",
   "metadata": {},
   "source": [
    "<div class=\"alert alert-block alert-success\"><b>Question 27:</b>\n",
    "<p>&nbsp;</p>\n",
    "    \n",
    "Create a 3 x 7 NumPy array of random integers from 60 to 95."
   ]
  },
  {
   "cell_type": "code",
   "execution_count": 83,
   "id": "a235ee2b",
   "metadata": {},
   "outputs": [
    {
     "data": {
      "text/plain": [
       "array([[64.40545247, 85.35582726, 69.27923265, 64.35386899, 79.86726591,\n",
       "        72.62096144, 69.63751359],\n",
       "       [64.19751151, 70.8271706 , 62.38907966, 71.91259179, 84.04337104,\n",
       "        92.93183185, 68.83828308],\n",
       "       [89.17946433, 77.61836378, 72.10987717, 81.00239542, 68.30450758,\n",
       "        69.14550705, 68.38559322]])"
      ]
     },
     "execution_count": 83,
     "metadata": {},
     "output_type": "execute_result"
    }
   ],
   "source": [
    "array = np.array(np.random.default_rng().random(21).reshape(3, 7))\n",
    "array *=35\n",
    "array +=60\n",
    "array"
   ]
  },
  {
   "cell_type": "markdown",
   "id": "aa41a612",
   "metadata": {},
   "source": [
    "<div class=\"alert alert-block alert-success\"><b>Question 28:</b>\n",
    "<p>&nbsp;</p>\n",
    "    \n",
    "Use the NumPy array that you created in Question 27 to create a DataFrame named <b>august_temps</b>."
   ]
  },
  {
   "cell_type": "code",
   "execution_count": 85,
   "id": "8c64b2b3",
   "metadata": {},
   "outputs": [
    {
     "data": {
      "text/html": [
       "<div>\n",
       "<style scoped>\n",
       "    .dataframe tbody tr th:only-of-type {\n",
       "        vertical-align: middle;\n",
       "    }\n",
       "\n",
       "    .dataframe tbody tr th {\n",
       "        vertical-align: top;\n",
       "    }\n",
       "\n",
       "    .dataframe thead th {\n",
       "        text-align: right;\n",
       "    }\n",
       "</style>\n",
       "<table border=\"1\" class=\"dataframe\">\n",
       "  <thead>\n",
       "    <tr style=\"text-align: right;\">\n",
       "      <th></th>\n",
       "      <th>0</th>\n",
       "      <th>1</th>\n",
       "      <th>2</th>\n",
       "      <th>3</th>\n",
       "      <th>4</th>\n",
       "      <th>5</th>\n",
       "      <th>6</th>\n",
       "    </tr>\n",
       "  </thead>\n",
       "  <tbody>\n",
       "    <tr>\n",
       "      <th>0</th>\n",
       "      <td>64.405452</td>\n",
       "      <td>85.355827</td>\n",
       "      <td>69.279233</td>\n",
       "      <td>64.353869</td>\n",
       "      <td>79.867266</td>\n",
       "      <td>72.620961</td>\n",
       "      <td>69.637514</td>\n",
       "    </tr>\n",
       "    <tr>\n",
       "      <th>1</th>\n",
       "      <td>64.197512</td>\n",
       "      <td>70.827171</td>\n",
       "      <td>62.389080</td>\n",
       "      <td>71.912592</td>\n",
       "      <td>84.043371</td>\n",
       "      <td>92.931832</td>\n",
       "      <td>68.838283</td>\n",
       "    </tr>\n",
       "    <tr>\n",
       "      <th>2</th>\n",
       "      <td>89.179464</td>\n",
       "      <td>77.618364</td>\n",
       "      <td>72.109877</td>\n",
       "      <td>81.002395</td>\n",
       "      <td>68.304508</td>\n",
       "      <td>69.145507</td>\n",
       "      <td>68.385593</td>\n",
       "    </tr>\n",
       "  </tbody>\n",
       "</table>\n",
       "</div>"
      ],
      "text/plain": [
       "           0          1          2          3          4          5          6\n",
       "0  64.405452  85.355827  69.279233  64.353869  79.867266  72.620961  69.637514\n",
       "1  64.197512  70.827171  62.389080  71.912592  84.043371  92.931832  68.838283\n",
       "2  89.179464  77.618364  72.109877  81.002395  68.304508  69.145507  68.385593"
      ]
     },
     "execution_count": 85,
     "metadata": {},
     "output_type": "execute_result"
    }
   ],
   "source": [
    "august_temps = pd.DataFrame(array)\n",
    "august_temps"
   ]
  },
  {
   "cell_type": "markdown",
   "id": "6df52f49",
   "metadata": {},
   "source": [
    "<div class=\"alert alert-block alert-success\"><b>Question 29:</b>\n",
    "<p>&nbsp;</p>\n",
    "Manually set the column labels of the DataFrame that you created to the days of the week -- starting with Sunday and ending with Saturday; and manually set the row labels (i.e. the index) to 2019, 2020, and 2021."
   ]
  },
  {
   "cell_type": "code",
   "execution_count": 97,
   "id": "15c688ef",
   "metadata": {},
   "outputs": [
    {
     "data": {
      "text/html": [
       "<div>\n",
       "<style scoped>\n",
       "    .dataframe tbody tr th:only-of-type {\n",
       "        vertical-align: middle;\n",
       "    }\n",
       "\n",
       "    .dataframe tbody tr th {\n",
       "        vertical-align: top;\n",
       "    }\n",
       "\n",
       "    .dataframe thead th {\n",
       "        text-align: right;\n",
       "    }\n",
       "</style>\n",
       "<table border=\"1\" class=\"dataframe\">\n",
       "  <thead>\n",
       "    <tr style=\"text-align: right;\">\n",
       "      <th></th>\n",
       "      <th>Sunday</th>\n",
       "      <th>Monday</th>\n",
       "      <th>Tuesday</th>\n",
       "      <th>Wednesday</th>\n",
       "      <th>Thursday</th>\n",
       "      <th>Friday</th>\n",
       "      <th>Saturday</th>\n",
       "    </tr>\n",
       "  </thead>\n",
       "  <tbody>\n",
       "    <tr>\n",
       "      <th>2019</th>\n",
       "      <td>64.405452</td>\n",
       "      <td>85.355827</td>\n",
       "      <td>69.279233</td>\n",
       "      <td>64.353869</td>\n",
       "      <td>79.867266</td>\n",
       "      <td>72.620961</td>\n",
       "      <td>69.637514</td>\n",
       "    </tr>\n",
       "    <tr>\n",
       "      <th>2020</th>\n",
       "      <td>64.197512</td>\n",
       "      <td>70.827171</td>\n",
       "      <td>62.389080</td>\n",
       "      <td>71.912592</td>\n",
       "      <td>84.043371</td>\n",
       "      <td>92.931832</td>\n",
       "      <td>68.838283</td>\n",
       "    </tr>\n",
       "    <tr>\n",
       "      <th>2021</th>\n",
       "      <td>89.179464</td>\n",
       "      <td>77.618364</td>\n",
       "      <td>72.109877</td>\n",
       "      <td>81.002395</td>\n",
       "      <td>68.304508</td>\n",
       "      <td>69.145507</td>\n",
       "      <td>68.385593</td>\n",
       "    </tr>\n",
       "  </tbody>\n",
       "</table>\n",
       "</div>"
      ],
      "text/plain": [
       "         Sunday     Monday    Tuesday  Wednesday   Thursday     Friday  \\\n",
       "2019  64.405452  85.355827  69.279233  64.353869  79.867266  72.620961   \n",
       "2020  64.197512  70.827171  62.389080  71.912592  84.043371  92.931832   \n",
       "2021  89.179464  77.618364  72.109877  81.002395  68.304508  69.145507   \n",
       "\n",
       "       Saturday  \n",
       "2019  69.637514  \n",
       "2020  68.838283  \n",
       "2021  68.385593  "
      ]
     },
     "execution_count": 97,
     "metadata": {},
     "output_type": "execute_result"
    }
   ],
   "source": [
    "august_temps = august_temps.rename({0: 2019, 1: 2020, 2: 2021})\n",
    "august_temps = august_temps.rename(columns={0: 'Sunday', 1: 'Monday', 2: 'Tuesday', 3: 'Wednesday', 4: 'Thursday', 5: 'Friday', 6: 'Saturday'})\n",
    "august_temps"
   ]
  },
  {
   "cell_type": "markdown",
   "id": "cfacc140",
   "metadata": {},
   "source": [
    "<div class=\"alert alert-block alert-info\">\n",
    "<center><b><font size=\"6\">PART FOUR</font></b></center>\n",
    "</div>"
   ]
  },
  {
   "cell_type": "markdown",
   "id": "58de81b6",
   "metadata": {},
   "source": [
    "<div class=\"alert alert-block alert-success\"><b>Question 30:</b>\n",
    "<p>&nbsp;</p>\n",
    "    \n",
    "Create a 4 x 5 NumPy array of random numbers from a Normal distribution with a mean of 88 and a standard deviation of 8.2."
   ]
  },
  {
   "cell_type": "code",
   "execution_count": 98,
   "id": "7a5a2d05",
   "metadata": {},
   "outputs": [
    {
     "data": {
      "text/plain": [
       "array([[ 98.03089291,  68.76337921,  89.45401634,  89.51854685,\n",
       "         86.158451  ],\n",
       "       [ 79.21657187,  89.59487782, 101.19755608,  87.2136918 ,\n",
       "        119.23741346],\n",
       "       [ 85.47182616,  88.80235287,  82.82102067, 102.66603952,\n",
       "         73.30473315],\n",
       "       [ 84.1142629 ,  88.70382694,  76.96038466,  86.90729271,\n",
       "         87.91137484]])"
      ]
     },
     "execution_count": 98,
     "metadata": {},
     "output_type": "execute_result"
    }
   ],
   "source": [
    "array = np.array(np.random.normal(88, 8.2, 20).reshape(4, 5))\n",
    "array"
   ]
  },
  {
   "cell_type": "markdown",
   "id": "720452b6",
   "metadata": {},
   "source": [
    "<div class=\"alert alert-block alert-success\"><b>Question 31:</b>\n",
    "<p>&nbsp;</p>\n",
    "    \n",
    "Use the NumPy array that you created in Question 30 to create a DataFrame named test_scores."
   ]
  },
  {
   "cell_type": "code",
   "execution_count": 100,
   "id": "f56344c4",
   "metadata": {},
   "outputs": [],
   "source": [
    "test_scores = pd.DataFrame(array)"
   ]
  },
  {
   "cell_type": "markdown",
   "id": "dcaf96c2",
   "metadata": {},
   "source": [
    "<div class=\"alert alert-block alert-success\"><b>Question 32:</b>\n",
    "<p>&nbsp;</p>\n",
    "    \n",
    "Manually set the column labels of the DataFrame that you created to Test_1, Test_2, Test_3, Test_4, and Test_5;  and manually set the row labels (i.e. the index) to Student_1, Student_2, Student_3, and Student_4."
   ]
  },
  {
   "cell_type": "code",
   "execution_count": 101,
   "id": "4780ed7c",
   "metadata": {},
   "outputs": [
    {
     "data": {
      "text/html": [
       "<div>\n",
       "<style scoped>\n",
       "    .dataframe tbody tr th:only-of-type {\n",
       "        vertical-align: middle;\n",
       "    }\n",
       "\n",
       "    .dataframe tbody tr th {\n",
       "        vertical-align: top;\n",
       "    }\n",
       "\n",
       "    .dataframe thead th {\n",
       "        text-align: right;\n",
       "    }\n",
       "</style>\n",
       "<table border=\"1\" class=\"dataframe\">\n",
       "  <thead>\n",
       "    <tr style=\"text-align: right;\">\n",
       "      <th></th>\n",
       "      <th>0</th>\n",
       "      <th>1</th>\n",
       "      <th>2</th>\n",
       "      <th>3</th>\n",
       "      <th>4</th>\n",
       "    </tr>\n",
       "  </thead>\n",
       "  <tbody>\n",
       "    <tr>\n",
       "      <th>Student_1</th>\n",
       "      <td>98.030893</td>\n",
       "      <td>68.763379</td>\n",
       "      <td>89.454016</td>\n",
       "      <td>89.518547</td>\n",
       "      <td>86.158451</td>\n",
       "    </tr>\n",
       "    <tr>\n",
       "      <th>Student_2</th>\n",
       "      <td>79.216572</td>\n",
       "      <td>89.594878</td>\n",
       "      <td>101.197556</td>\n",
       "      <td>87.213692</td>\n",
       "      <td>119.237413</td>\n",
       "    </tr>\n",
       "    <tr>\n",
       "      <th>Student_3</th>\n",
       "      <td>85.471826</td>\n",
       "      <td>88.802353</td>\n",
       "      <td>82.821021</td>\n",
       "      <td>102.666040</td>\n",
       "      <td>73.304733</td>\n",
       "    </tr>\n",
       "    <tr>\n",
       "      <th>Student_4</th>\n",
       "      <td>84.114263</td>\n",
       "      <td>88.703827</td>\n",
       "      <td>76.960385</td>\n",
       "      <td>86.907293</td>\n",
       "      <td>87.911375</td>\n",
       "    </tr>\n",
       "  </tbody>\n",
       "</table>\n",
       "</div>"
      ],
      "text/plain": [
       "                   0          1           2           3           4\n",
       "Student_1  98.030893  68.763379   89.454016   89.518547   86.158451\n",
       "Student_2  79.216572  89.594878  101.197556   87.213692  119.237413\n",
       "Student_3  85.471826  88.802353   82.821021  102.666040   73.304733\n",
       "Student_4  84.114263  88.703827   76.960385   86.907293   87.911375"
      ]
     },
     "execution_count": 101,
     "metadata": {},
     "output_type": "execute_result"
    }
   ],
   "source": [
    "test_scores = test_scores.rename({0: 'Student_1', 1: 'Student_2', 2 : 'Student_3', 3 : 'Student_4'})\n",
    "test_scores = test_scores.rename({0: 'Test_1', 1: 'Test_2', 2: 'Test_3', 3: 'Test_4', 4: 'Test_5'})\n",
    "test_scores"
   ]
  },
  {
   "cell_type": "code",
   "execution_count": null,
   "id": "ee18e46d",
   "metadata": {},
   "outputs": [],
   "source": []
  }
 ],
 "metadata": {
  "hide_input": false,
  "kernelspec": {
   "display_name": "Python 3 (ipykernel)",
   "language": "python",
   "name": "python3"
  },
  "language_info": {
   "codemirror_mode": {
    "name": "ipython",
    "version": 3
   },
   "file_extension": ".py",
   "mimetype": "text/x-python",
   "name": "python",
   "nbconvert_exporter": "python",
   "pygments_lexer": "ipython3",
   "version": "3.11.5"
  },
  "toc": {
   "base_numbering": 1,
   "nav_menu": {},
   "number_sections": true,
   "sideBar": true,
   "skip_h1_title": false,
   "title_cell": "Table of Contents",
   "title_sidebar": "Contents",
   "toc_cell": true,
   "toc_position": {},
   "toc_section_display": true,
   "toc_window_display": false
  },
  "varInspector": {
   "cols": {
    "lenName": 16,
    "lenType": 16,
    "lenVar": 40
   },
   "kernels_config": {
    "python": {
     "delete_cmd_postfix": "",
     "delete_cmd_prefix": "del ",
     "library": "var_list.py",
     "varRefreshCmd": "print(var_dic_list())"
    },
    "r": {
     "delete_cmd_postfix": ") ",
     "delete_cmd_prefix": "rm(",
     "library": "var_list.r",
     "varRefreshCmd": "cat(var_dic_list()) "
    }
   },
   "types_to_exclude": [
    "module",
    "function",
    "builtin_function_or_method",
    "instance",
    "_Feature"
   ],
   "window_display": false
  }
 },
 "nbformat": 4,
 "nbformat_minor": 5
}
