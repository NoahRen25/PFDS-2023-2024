{
 "cells": [
  {
   "cell_type": "markdown",
   "id": "d1975153",
   "metadata": {},
   "source": [
    "# <b><center>PFDS</center></b> \n",
    "# <b><center>MIDTERM EXAM -- UNITS 1 - 11</center></b> \n",
    "# <b><center>CODING QUESTION #5</center></b> "
   ]
  },
  {
   "cell_type": "code",
   "execution_count": 1,
   "id": "bb6ae98e",
   "metadata": {},
   "outputs": [
    {
     "name": "stdout",
     "output_type": "stream",
     "text": [
      "This notebook is now set up to display multiple output in one cell.\n"
     ]
    }
   ],
   "source": [
    "# set up notebook to display multiple output in one cell\n",
    "from IPython.core.interactiveshell import InteractiveShell\n",
    "InteractiveShell.ast_node_interactivity = \"all\"\n",
    "\n",
    "print(\"This notebook is now set up to display multiple output in one cell.\")"
   ]
  },
  {
   "cell_type": "markdown",
   "id": "8e78a91a",
   "metadata": {},
   "source": [
    "<div class=\"alert alert-block alert-success\">You will need the following formula to complete this problem. For simplicity, we will assume payments would be made monthly and the interest would be compounded monthly.\n",
    "\n",
    "Use the following formula to calculate a monthly payment:\n",
    "\\begin{equation}\n",
    "M = P\\left[ \\frac{r\\left( 1+r\\right)^n}{\\left( 1+r\\right)^n-1} \\right]\n",
    "\\end{equation}\n",
    "\n",
    "\n",
    "The variables are defined as follows:<br><br>\n",
    "\\$ r\\$ = The annual interest rate converted to a decimal then divided by \\$ 12\\$<br>\n",
    "\\$ n\\$ = The total number of monthly payments for the duration of the loan<br>\n",
    "\\$P \\$ = The principal (or loan) amount<br>\n",
    "\\$M \\$ = The monthly payment\n",
    "</div>"
   ]
  },
  {
   "cell_type": "markdown",
   "id": "9fe8da9c",
   "metadata": {},
   "source": [
    "<div class=\"alert alert-block alert-success\">For example, to calculate the monthly payment on a 30-year loan of 200,000 dollars with an annual interest rate of 2.25%, the variable amounts for the first formula would be:<br>\n",
    "\n",
    "𝑟=  0.0225/12 = 0.001875<br>\n",
    "𝑛=  360<br>\n",
    "𝑃=  200000\n",
    "\n",
    "Which will result in a monthly payment of  𝑀=  764.49<br>\n",
    "</div>"
   ]
  },
  {
   "cell_type": "code",
   "execution_count": 15,
   "id": "7e889dc8",
   "metadata": {},
   "outputs": [
    {
     "name": "stdout",
     "output_type": "stream",
     "text": [
      "Please enter your principal loan amount: 450000\n",
      "Please enter the total number of monthly payments you will make for the duration of your loan: 240\n",
      "Please enter the annual interest rate of your loan: 4.2\n",
      "Loan details\n",
      "the annual interest rate on your loan is: 4.2%\n",
      "The total number of monthly payments for the duration of your loan is 240 months.\n",
      "The principal loan amount for your loan is 450000.\n",
      "Given these details, your monthly payment will be $2774.57\n"
     ]
    }
   ],
   "source": [
    "p = eval(input(\"Please enter your principal loan amount: \"))\n",
    "n = eval(input(\"Please enter the total number of monthly payments you will make for the duration of your loan: \"))\n",
    "r = eval(input(\"Please enter the annual interest rate of your loan: \")) / 1200\n",
    "\n",
    "print(\"Loan details\")\n",
    "print(f\"the annual interest rate on your loan is: {r*1200}%\")\n",
    "print(f\"The total number of monthly payments for the duration of your loan is {n} months.\")\n",
    "print(f\"The principal loan amount for your loan is {p}.\")\n",
    "top_math = r * (1 + r)**n\n",
    "bottom_math = (1 + r)**n - 1\n",
    "m = round((top_math / bottom_math) * p, 2)\n",
    "print(f'Given these details, your monthly payment will be ${m}')"
   ]
  },
  {
   "cell_type": "code",
   "execution_count": null,
   "id": "75582da3",
   "metadata": {},
   "outputs": [],
   "source": []
  },
  {
   "cell_type": "markdown",
   "id": "9ef82215",
   "metadata": {},
   "source": []
  }
 ],
 "metadata": {
  "kernelspec": {
   "display_name": "Python 3 (ipykernel)",
   "language": "python",
   "name": "python3"
  },
  "language_info": {
   "codemirror_mode": {
    "name": "ipython",
    "version": 3
   },
   "file_extension": ".py",
   "mimetype": "text/x-python",
   "name": "python",
   "nbconvert_exporter": "python",
   "pygments_lexer": "ipython3",
   "version": "3.11.4"
  }
 },
 "nbformat": 4,
 "nbformat_minor": 5
}
