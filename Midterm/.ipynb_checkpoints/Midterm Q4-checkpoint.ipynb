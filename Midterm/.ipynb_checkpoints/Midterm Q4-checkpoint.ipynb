{
 "cells": [
  {
   "cell_type": "markdown",
   "id": "d1975153",
   "metadata": {},
   "source": [
    "# <b><center>PFDS</center></b> \n",
    "# <b><center>MIDTERM EXAM -- UNITS 1 - 11</center></b> \n",
    "# <b><center>CODING QUESTION #4</center></b> "
   ]
  },
  {
   "cell_type": "code",
   "execution_count": 1,
   "id": "bb6ae98e",
   "metadata": {},
   "outputs": [
    {
     "name": "stdout",
     "output_type": "stream",
     "text": [
      "This notebook is now set up to display multiple output in one cell.\n"
     ]
    }
   ],
   "source": [
    "# set up notebook to display multiple output in one cell\n",
    "from IPython.core.interactiveshell import InteractiveShell\n",
    "InteractiveShell.ast_node_interactivity = \"all\"\n",
    "\n",
    "print(\"This notebook is now set up to display multiple output in one cell.\")"
   ]
  },
  {
   "cell_type": "markdown",
   "id": "669dfd07",
   "metadata": {},
   "source": [
    "<div class=\"alert alert-block alert-success\">\n",
    "John had to take 4 tests during his first-term Calculus class.  His scores on those tests were 87 out of 100, 73 out of 75, 48 out of 50, and 185 out of 200.\n",
    "<p>&nbsp;</p>    \n",
    "Write the proper code to do the following:\n",
    "<p>&nbsp;</p>\n",
    "a. Create two variables -- one called <b>points_earned</b> and the other called <b>points_possible</b> and assign the points John earned on the first test to the variable <b>points_earned</b> and assign the points possible on the first test to the variable <b>points_possible</b>. \n",
    "<p>&nbsp;</p> \n",
    "b. Update the two variables after each test.\n",
    "<p>&nbsp;</p> \n",
    "c. After the final test, display John's overall percent on the tests to two decimal places in an output statement that says ... <b>\"John's overall average on the 4 Calculus tests was  ___ %.\"</b>  In the blank include John's overall percent that you calculated. \n",
    "</div>"
   ]
  },
  {
   "cell_type": "code",
   "execution_count": 3,
   "id": "787b81e9",
   "metadata": {},
   "outputs": [
    {
     "name": "stdout",
     "output_type": "stream",
     "text": [
      "John's overall average on the 4 Calculus tests was 92.47 %\n"
     ]
    }
   ],
   "source": [
    "points_earned = 87\n",
    "points_possible = 100\n",
    "points_earned += 73\n",
    "points_possible += 75\n",
    "points_earned += 48\n",
    "points_possible += 50\n",
    "points_earned += 185\n",
    "points_possible += 200\n",
    "total_percent = round(points_earned/points_possible * 100, 2)\n",
    "print(f'John\\'s overall average on the 4 Calculus tests was {total_percent} %')"
   ]
  },
  {
   "cell_type": "code",
   "execution_count": null,
   "id": "e0bd0f2c",
   "metadata": {},
   "outputs": [],
   "source": []
  }
 ],
 "metadata": {
  "kernelspec": {
   "display_name": "Python 3 (ipykernel)",
   "language": "python",
   "name": "python3"
  },
  "language_info": {
   "codemirror_mode": {
    "name": "ipython",
    "version": 3
   },
   "file_extension": ".py",
   "mimetype": "text/x-python",
   "name": "python",
   "nbconvert_exporter": "python",
   "pygments_lexer": "ipython3",
   "version": "3.11.4"
  }
 },
 "nbformat": 4,
 "nbformat_minor": 5
}
