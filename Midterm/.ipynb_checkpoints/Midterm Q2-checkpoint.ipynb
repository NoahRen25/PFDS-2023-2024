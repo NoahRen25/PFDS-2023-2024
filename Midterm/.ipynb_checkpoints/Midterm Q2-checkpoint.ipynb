{
 "cells": [
  {
   "cell_type": "markdown",
   "id": "d1975153",
   "metadata": {},
   "source": [
    "# <b><center>PFDS</center></b> \n",
    "# <b><center>MIDTERM EXAM -- UNITS 1 - 11</center></b> \n",
    "# <b><center>CODING QUESTION #2</center></b> "
   ]
  },
  {
   "cell_type": "code",
   "execution_count": 1,
   "id": "e0d3b648",
   "metadata": {},
   "outputs": [
    {
     "name": "stdout",
     "output_type": "stream",
     "text": [
      "This notebook is now set up to display multiple output in one cell.\n"
     ]
    }
   ],
   "source": [
    "# set up notebook to display multiple output in one cell\n",
    "from IPython.core.interactiveshell import InteractiveShell\n",
    "InteractiveShell.ast_node_interactivity = \"all\"\n",
    "\n",
    "print(\"This notebook is now set up to display multiple output in one cell.\")"
   ]
  },
  {
   "cell_type": "markdown",
   "id": "e311a794",
   "metadata": {},
   "source": [
    "<div class=\"alert alert-block alert-success\">\n",
    "A bicycle shop sells bikes and helmets. Some people already own helments, so on average the shop sells one helmet for every five bicycles. Helmets cost \\$50 and bikes cost $250. Write a program that prompts for the number of bikes that the shop expects to sell over the next monthand outputs the total amount of expected revenue.  \n",
    "    \n",
    "Test your code using the following test case:  250 bikes sold\n",
    "</div>"
   ]
  },
  {
   "cell_type": "code",
   "execution_count": 1,
   "id": "3889b66c",
   "metadata": {},
   "outputs": [
    {
     "name": "stdout",
     "output_type": "stream",
     "text": [
      "Please enter the amount of bikes the shop expects to sell over the next month 250\n",
      "Your total expected revenue for the coming month is 65000\n"
     ]
    }
   ],
   "source": [
    "bikes_sold = eval(input('Please enter the amount of bikes the shop expects to sell over the next month '))\n",
    "helmets_sold = int(bikes_sold / 5)\n",
    "bikes_profit = bikes_sold * 250\n",
    "helmets_profit = helmets_sold * 50\n",
    "total_profit = bikes_profit + helmets_profit\n",
    "print(f'Your total expected revenue for the coming month is ${total_profit}')"
   ]
  },
  {
   "cell_type": "code",
   "execution_count": null,
   "id": "0a5fbb59",
   "metadata": {},
   "outputs": [],
   "source": []
  }
 ],
 "metadata": {
  "kernelspec": {
   "display_name": "Python 3 (ipykernel)",
   "language": "python",
   "name": "python3"
  },
  "language_info": {
   "codemirror_mode": {
    "name": "ipython",
    "version": 3
   },
   "file_extension": ".py",
   "mimetype": "text/x-python",
   "name": "python",
   "nbconvert_exporter": "python",
   "pygments_lexer": "ipython3",
   "version": "3.11.4"
  }
 },
 "nbformat": 4,
 "nbformat_minor": 5
}
