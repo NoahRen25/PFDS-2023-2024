{
 "cells": [
  {
   "cell_type": "markdown",
   "id": "d1975153",
   "metadata": {},
   "source": [
    "# <b><center>PFDS</center></b> \n",
    "# <b><center>MIDTERM EXAM -- UNITS 1 - 11</center></b> \n",
    "# <b><center>CODING QUESTION #1</center></b> "
   ]
  },
  {
   "cell_type": "code",
   "execution_count": 5,
   "id": "5b1f3f98",
   "metadata": {},
   "outputs": [
    {
     "name": "stdout",
     "output_type": "stream",
     "text": [
      "This notebook is now set up to display multiple output in one cell.\n"
     ]
    }
   ],
   "source": [
    "# set up notebook to display multiple output in one cell\n",
    "from IPython.core.interactiveshell import InteractiveShell\n",
    "InteractiveShell.ast_node_interactivity = \"all\"\n",
    "\n",
    "print(\"This notebook is now set up to display multiple output in one cell.\")"
   ]
  },
  {
   "cell_type": "markdown",
   "id": "e311a794",
   "metadata": {},
   "source": [
    "<div class=\"alert alert-block alert-success\">\n",
    "The math.pow(x,y) function returns the value of x raised to the y power. For example,\n",
    "math.pow(2,3) returns 8.0. Write a program that prompts for the x and y values, and outputs\n",
    "the result of calling math.pow(x,y).<br>\n",
    "\n",
    "Test your code using x = 5 and y = 4.\n",
    "</div>"
   ]
  },
  {
   "cell_type": "code",
   "execution_count": 2,
   "id": "3889b66c",
   "metadata": {},
   "outputs": [
    {
     "name": "stdout",
     "output_type": "stream",
     "text": [
      "Please enter the value you would like to be raised to a power 5\n",
      "Please enter the value you would like your original number to be raised to 4\n",
      "Your final answer is 625.0\n"
     ]
    }
   ],
   "source": [
    "import math\n",
    "\n",
    "x = eval(input(\"Please enter the value you would like to be raised to a power \"))\n",
    "y = eval(input(\"Please enter the value you would like your original number to be raised to \"))\n",
    "squared = math.pow(x, y)\n",
    "print(f'Your final answer is {squared}')"
   ]
  },
  {
   "cell_type": "code",
   "execution_count": null,
   "id": "906df4cd",
   "metadata": {},
   "outputs": [],
   "source": []
  }
 ],
 "metadata": {
  "kernelspec": {
   "display_name": "Python 3 (ipykernel)",
   "language": "python",
   "name": "python3"
  },
  "language_info": {
   "codemirror_mode": {
    "name": "ipython",
    "version": 3
   },
   "file_extension": ".py",
   "mimetype": "text/x-python",
   "name": "python",
   "nbconvert_exporter": "python",
   "pygments_lexer": "ipython3",
   "version": "3.11.4"
  }
 },
 "nbformat": 4,
 "nbformat_minor": 5
}
