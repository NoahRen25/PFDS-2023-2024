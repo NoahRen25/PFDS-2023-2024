{
 "cells": [
  {
   "cell_type": "markdown",
   "id": "d1975153",
   "metadata": {},
   "source": [
    "# <b><center>PFDS</center></b> \n",
    "# <b><center>MIDTERM EXAM -- UNITS 1 - 11</center></b> \n",
    "# <b><center>CODING QUESTION #3</center></b> "
   ]
  },
  {
   "cell_type": "code",
   "execution_count": 1,
   "id": "efae74a4",
   "metadata": {},
   "outputs": [
    {
     "name": "stdout",
     "output_type": "stream",
     "text": [
      "This notebook is now set up to display multiple output in one cell.\n"
     ]
    }
   ],
   "source": [
    "# set up notebook to display multiple output in one cell\n",
    "from IPython.core.interactiveshell import InteractiveShell\n",
    "InteractiveShell.ast_node_interactivity = \"all\"\n",
    "\n",
    "print(\"This notebook is now set up to display multiple output in one cell.\")"
   ]
  },
  {
   "cell_type": "markdown",
   "id": "e311a794",
   "metadata": {},
   "source": [
    "<div class=\"alert alert-block alert-success\">\n",
    "<div class=\"alert alert-block alert-success\">The winner of the 2021 Tokyo Olympics Men's Marathon was Eliud Kipchoge in a time of 7718 seconds.<br>\n",
    "Write code to calculate and print out the winning time in hours, minutes, and seconds.<br>\n",
    "\n",
    "Your output should look as follows:\n",
    "\n",
    "<i>The winning time in this year's Olympics Men's Marathon was ___ hours, _____ minutes, and _____ seconds.</i>\n",
    "</div>\n",
    "</div>"
   ]
  },
  {
   "cell_type": "code",
   "execution_count": 6,
   "id": "3889b66c",
   "metadata": {},
   "outputs": [
    {
     "name": "stdout",
     "output_type": "stream",
     "text": [
      "The winning time in this year's Olympics Men's Marathon was 2 hours, 8 minutes, and 38 seconds\n"
     ]
    }
   ],
   "source": [
    "time = 7718\n",
    "hours = int(time / 3600)\n",
    "time -= hours*3600\n",
    "minutes = int(time / 60)\n",
    "time -= minutes*60\n",
    "seconds = time\n",
    "print(f'The winning time in this year\\'s Olympics Men\\'s Marathon was {hours} hours, {minutes} minutes, and {seconds} seconds')"
   ]
  },
  {
   "cell_type": "code",
   "execution_count": null,
   "id": "dfc1ab82",
   "metadata": {},
   "outputs": [],
   "source": []
  }
 ],
 "metadata": {
  "kernelspec": {
   "display_name": "Python 3 (ipykernel)",
   "language": "python",
   "name": "python3"
  },
  "language_info": {
   "codemirror_mode": {
    "name": "ipython",
    "version": 3
   },
   "file_extension": ".py",
   "mimetype": "text/x-python",
   "name": "python",
   "nbconvert_exporter": "python",
   "pygments_lexer": "ipython3",
   "version": "3.11.4"
  }
 },
 "nbformat": 4,
 "nbformat_minor": 5
}
