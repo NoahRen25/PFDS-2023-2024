{
 "cells": [
  {
   "cell_type": "markdown",
   "id": "81ca2699",
   "metadata": {},
   "source": [
    "# <center><b>08 Comments in Python</b></center>\n",
    "# <center><b>Asg 8.1 (JN Asg)</b></center>"
   ]
  },
  {
   "cell_type": "markdown",
   "id": "b7aae4f2",
   "metadata": {},
   "source": [
    "<div class=\"alert alert-block alert-success\"><b>Question #1:</b>\n",
    "\n",
    "List the three special types of comments in Python.<br>    \n",
    "</div>"
   ]
  },
  {
   "cell_type": "markdown",
   "id": "57cd8379",
   "metadata": {},
   "source": [
    "### Answers for Question #1\n"
   ]
  },
  {
   "cell_type": "markdown",
   "id": "e05a786a",
   "metadata": {},
   "source": []
  },
  {
   "cell_type": "markdown",
   "id": "339e45f4",
   "metadata": {},
   "source": []
  },
  {
   "cell_type": "markdown",
   "id": "89b41d15",
   "metadata": {},
   "source": []
  },
  {
   "cell_type": "markdown",
   "id": "db50b6b0",
   "metadata": {},
   "source": [
    "<div class=\"alert alert-block alert-success\"><b>Question #6:</b>\n",
    "\n",
    "Step 1: Do a search to find at least 3 advantages of (or reasons for) including comments within a program\n",
    "     \n",
    "Step 2: Use two different methods for adding multiline comments within a code cell to list the advantages of (or reasons for) including comments within a program that you found in Step 1 above.\n",
    "    \n",
    "Make sure to name the method right after the 3 dots in the top line of the code cell provided below.\n",
    "\n",
    "</div>\n"
   ]
  },
  {
   "cell_type": "code",
   "execution_count": null,
   "id": "180a0f64",
   "metadata": {},
   "outputs": [],
   "source": [
    "### Method #1 for Adding Multiline Comments ..."
   ]
  },
  {
   "cell_type": "code",
   "execution_count": null,
   "id": "2c70546d",
   "metadata": {},
   "outputs": [],
   "source": [
    "### Method #2 for Adding Multiline Comments ..."
   ]
  },
  {
   "cell_type": "code",
   "execution_count": null,
   "id": "e3c0498c",
   "metadata": {},
   "outputs": [],
   "source": [
    "# Use this cell for statement 1"
   ]
  },
  {
   "cell_type": "code",
   "execution_count": null,
   "id": "7679cd0b",
   "metadata": {},
   "outputs": [],
   "source": [
    "# Use this cell for statement 2"
   ]
  },
  {
   "cell_type": "code",
   "execution_count": null,
   "id": "a0ef3786",
   "metadata": {},
   "outputs": [],
   "source": []
  }
 ],
 "metadata": {
  "kernelspec": {
   "display_name": "Python 3 (ipykernel)",
   "language": "python",
   "name": "python3"
  },
  "language_info": {
   "codemirror_mode": {
    "name": "ipython",
    "version": 3
   },
   "file_extension": ".py",
   "mimetype": "text/x-python",
   "name": "python",
   "nbconvert_exporter": "python",
   "pygments_lexer": "ipython3",
   "version": "3.9.12"
  }
 },
 "nbformat": 4,
 "nbformat_minor": 5
}
