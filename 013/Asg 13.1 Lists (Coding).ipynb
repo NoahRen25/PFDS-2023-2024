{
 "cells": [
  {
   "cell_type": "markdown",
   "id": "879bcdd3",
   "metadata": {},
   "source": [
    "# <center><b>13 Lists</b></center>\n",
    "# <center><b>Asg 13.1 (JN Assignment)</center>"
   ]
  },
  {
   "cell_type": "code",
   "execution_count": 1,
   "id": "baae6235",
   "metadata": {},
   "outputs": [
    {
     "name": "stdout",
     "output_type": "stream",
     "text": [
      "The notebook is now set up to display multiple output in one cell'\n"
     ]
    }
   ],
   "source": [
    "# set up notebook to display multiple output in one cell\n",
    "\n",
    "from IPython.core.interactiveshell import InteractiveShell\n",
    "InteractiveShell.ast_node_interactivity = \"all\"\n",
    "\n",
    "print(\"The notebook is now set up to display multiple output in one cell'\")"
   ]
  },
  {
   "cell_type": "markdown",
   "id": "049f9bca",
   "metadata": {},
   "source": [
    "<div class=\"alert alert-block alert-success\"><b><font size=\"3\">Question #1:</font></b><br>\n",
    "<p>&nbsp;</p>\n",
    "<center><i><b>Note: For each part below, you are allowed only one statement to accomplish the requested task and print out the result.</b></i></center>\n",
    "<p>&nbsp;</p> \n",
    "<b>Given:</b> our_list = [31.6, \"Honda\", [\"humility\", \"curiousity\", \"empathy\"], \"pi\", 26, [\"3\", 2, '1'], \"3\", 2, '1']<br>\n",
    " \n",
    "a. write code to find the number of items in <b>our_list</b><br>\n",
    "b. write code to access the third item of <b>our_list</b><br> \n",
    "c. write code that uses a negative index to access the last item of <b>our_list</b><br>\n",
    "d. write code to access the fifth, sixth, and seventh items of <b>our_list</b><br>\n",
    "e. write code that uses negative indexes to access the second and third items of <b>our_list</b><br>\n",
    "f. write code that incorporates exponentiation, the modulus operater, and other arithmetic operators to access the fourth element of <b>our_list</b><br>\n",
    "<p>&emsp;</p>(<b>Suggestion:</b> You may want to use the link below in conjunction with the snipping tool / screen shot key to help you do this.)\n",
    "    \n",
    "[Python Tutor](https://pythontutor.com/visualize.html#mode=edit)"
   ]
  },
  {
   "cell_type": "code",
   "execution_count": 4,
   "id": "bfe8b846",
   "metadata": {},
   "outputs": [
    {
     "name": "stdout",
     "output_type": "stream",
     "text": [
      "9\n"
     ]
    }
   ],
   "source": [
    "our_list = [31.6, \"Honda\", [\"humility\", \"curiousity\", \"empathy\"], \"pi\", 26, [\"3\", 2, '1'], \"3\", 2, '1']\n",
    "print(len(our_list))"
   ]
  },
  {
   "cell_type": "code",
   "execution_count": 6,
   "id": "b9d50565",
   "metadata": {},
   "outputs": [
    {
     "name": "stdout",
     "output_type": "stream",
     "text": [
      "['humility', 'curiousity', 'empathy']\n"
     ]
    }
   ],
   "source": [
    "print(our_list[2])"
   ]
  },
  {
   "cell_type": "code",
   "execution_count": 7,
   "id": "04f2677a",
   "metadata": {},
   "outputs": [
    {
     "name": "stdout",
     "output_type": "stream",
     "text": [
      "1\n"
     ]
    }
   ],
   "source": [
    "print(our_list[-1])"
   ]
  },
  {
   "cell_type": "code",
   "execution_count": 8,
   "id": "477fbade",
   "metadata": {},
   "outputs": [
    {
     "name": "stdout",
     "output_type": "stream",
     "text": [
      "[26, ['3', 2, '1'], '3']\n"
     ]
    }
   ],
   "source": [
    "print(our_list[4:7])"
   ]
  },
  {
   "cell_type": "code",
   "execution_count": 10,
   "id": "6e41d8b8",
   "metadata": {},
   "outputs": [
    {
     "name": "stdout",
     "output_type": "stream",
     "text": [
      "['Honda', ['humility', 'curiousity', 'empathy']]\n"
     ]
    }
   ],
   "source": [
    "print(our_list[-8 : -6])"
   ]
  },
  {
   "cell_type": "code",
   "execution_count": 12,
   "id": "943d66dc",
   "metadata": {},
   "outputs": [
    {
     "name": "stdout",
     "output_type": "stream",
     "text": [
      "pi\n"
     ]
    }
   ],
   "source": [
    "print(our_list[1**1 % 1 + 3])"
   ]
  },
  {
   "cell_type": "markdown",
   "id": "2e7b153d",
   "metadata": {},
   "source": [
    "<div class=\"alert alert-block alert-success\"><b><font size=\"3\">Question #2:</font></b>\n",
    "<p>&nbsp;</p>\n",
    "<center><i><b>Note: For each part below, you are allowed only one statement to accomplish the requested task and print out the result.</b></i></center>\n",
    "<p>&nbsp;</p> \n",
    "<b>Given:</b> our_list = [31.6, \"Honda\", [\"humility\", \"curiousity\", \"empathy\"], \"pi\", 26, [\"3\", 2, '1'], \"3\", 2, '1']<br>\n",
    "\n",
    "a. write code that incorporates the len() function to access the sixth element of <b>our_list</b><br>\n",
    "b. write code that does not include a start index to access the first four elements of <b>our_list</b><br>\n",
    "c. write code that does not include a stop index to print out the last three elelements of <b>our_list</b><br>\n",
    "d. write code to access the second and third items of the first nested list in <b>our_list</b><br>\n",
    "e. write code to determine if 'humility\" is an item in <b>our_list</b><br>\n",
    "f. write code to determine if [\"3\", 2, '1'] is an item in <b>our_list</b><br>\n",
    "g. write a print statement that summarizes what you discovered from Parts e and f \n",
    "\n",
    "<p>&emsp;</p>(<b>Suggestion:</b> You may want to use the link below in conjunction with the snipping tool / screen shot key to help you do this.)\n",
    "    \n",
    "[Python Tutor](https://pythontutor.com/visualize.html#mode=edit)"
   ]
  },
  {
   "cell_type": "code",
   "execution_count": 14,
   "id": "ea121f1d",
   "metadata": {},
   "outputs": [
    {
     "name": "stdout",
     "output_type": "stream",
     "text": [
      "['3', 2, '1']\n"
     ]
    }
   ],
   "source": [
    "our_list = [31.6, \"Honda\", [\"humility\", \"curiousity\", \"empathy\"], \"pi\", 26, [\"3\", 2, '1'], \"3\", 2, '1']\n",
    "print(our_list[len(our_list) - 4])"
   ]
  },
  {
   "cell_type": "code",
   "execution_count": 15,
   "id": "34526511",
   "metadata": {},
   "outputs": [
    {
     "name": "stdout",
     "output_type": "stream",
     "text": [
      "[31.6, 'Honda', ['humility', 'curiousity', 'empathy'], 'pi']\n"
     ]
    }
   ],
   "source": [
    "print(our_list[:4])"
   ]
  },
  {
   "cell_type": "code",
   "execution_count": 18,
   "id": "b04462b0",
   "metadata": {},
   "outputs": [
    {
     "name": "stdout",
     "output_type": "stream",
     "text": [
      "['3', 2, '1']\n"
     ]
    }
   ],
   "source": [
    "print(our_list[6:])"
   ]
  },
  {
   "cell_type": "code",
   "execution_count": 19,
   "id": "2a15086c",
   "metadata": {},
   "outputs": [
    {
     "name": "stdout",
     "output_type": "stream",
     "text": [
      "['curiousity', 'empathy']\n"
     ]
    }
   ],
   "source": [
    "print(our_list[2][1:])"
   ]
  },
  {
   "cell_type": "code",
   "execution_count": 24,
   "id": "c4b5295d",
   "metadata": {},
   "outputs": [
    {
     "name": "stdout",
     "output_type": "stream",
     "text": [
      "True\n"
     ]
    }
   ],
   "source": [
    "print('humility' in our_list)"
   ]
  },
  {
   "cell_type": "code",
   "execution_count": 26,
   "id": "d543eac3",
   "metadata": {},
   "outputs": [
    {
     "name": "stdout",
     "output_type": "stream",
     "text": [
      "True\n"
     ]
    }
   ],
   "source": [
    "print(['3', 2, '1'] in our_list)"
   ]
  },
  {
   "cell_type": "code",
   "execution_count": null,
   "id": "32034142",
   "metadata": {},
   "outputs": [],
   "source": [
    "print(\"the compuer doesn't search inside nested lists for items, and counts the listed items as just one item.\")"
   ]
  },
  {
   "cell_type": "markdown",
   "id": "703c05ba",
   "metadata": {},
   "source": [
    "<div class=\"alert alert-block alert-success\"><b><font size=\"3\">Question #3:</font></b>\n",
    "<p>&nbsp;</p>\n",
    "<center><i><b>Note: For each part below, you are allowed only one statement to accomplish the requested task and print out the result.</b></i></center>\n",
    "<p>&nbsp;</p> \n",
    "<b>Given:</b> our_list = [31.6, \"Honda\", [\"humility\", \"curiousity\", \"empathy\"], \"pi\", 26, [\"3\", 2, '1'], \"3\", 2, '1']<br>\n",
    "\n",
    "a. write code to clone <b>our_list</b> and store the result in a variable named  <b>our_list_clone</b><br>\n",
    "b. write code to see if <b>our_list</b> equals <b>our_list_clone</b> (i.e. do they contain the exact same items?)<br>\n",
    "c. write code to see if <b>our_list</b> references the same object as <b>our_list_clone</b><br>\n",
    "d. write a print statement that summarizes what you discovered from Parts b and c<br>\n",
    "e. create a Markdown cell where you include a reference diagram to support your answer to Part d\n",
    "    \n",
    "<p>&emsp;</p>(<b>Suggestion:</b> You may want to use the link below in conjunction with the snipping tool / screen shot key to help you do this.)\n",
    "    \n",
    "[Python Tutor](https://pythontutor.com/visualize.html#mode=edit)"
   ]
  },
  {
   "cell_type": "code",
   "execution_count": 28,
   "id": "51ad045c",
   "metadata": {},
   "outputs": [
    {
     "name": "stdout",
     "output_type": "stream",
     "text": [
      "[31.6, 'Honda', ['humility', 'curiousity', 'empathy'], 'pi', 26, ['3', 2, '1'], '3', 2, '1']\n"
     ]
    }
   ],
   "source": [
    "our_list = [31.6, \"Honda\", [\"humility\", \"curiousity\", \"empathy\"], \"pi\", 26, [\"3\", 2, '1'], \"3\", 2, '1']\n",
    "our_list_clone = our_list[:]\n",
    "print(our_list_clone)"
   ]
  },
  {
   "cell_type": "code",
   "execution_count": 29,
   "id": "404e7a2f",
   "metadata": {},
   "outputs": [
    {
     "name": "stdout",
     "output_type": "stream",
     "text": [
      "True\n"
     ]
    }
   ],
   "source": [
    "print(our_list_clone == our_list)"
   ]
  },
  {
   "cell_type": "code",
   "execution_count": 35,
   "id": "83a04297",
   "metadata": {},
   "outputs": [
    {
     "name": "stdout",
     "output_type": "stream",
     "text": [
      "False\n"
     ]
    }
   ],
   "source": [
    "print(our_list_clone is our_list)"
   ]
  },
  {
   "cell_type": "code",
   "execution_count": null,
   "id": "76b5ffc5",
   "metadata": {},
   "outputs": [],
   "source": [
    "print(\"the 2 lists have the same values, however, they don't reference the same objects!!\")"
   ]
  },
  {
   "attachments": {
    "image.png": {
     "image/png": "[encoded data removed]"
    }
   },
   "cell_type": "markdown",
   "id": "8ba9e56b",
   "metadata": {},
   "source": [
    "![image.png](attachment:image.png)"
   ]
  },
  {
   "cell_type": "markdown",
   "id": "449cfde8",
   "metadata": {},
   "source": [
    "<div class=\"alert alert-block alert-success\"><b><font size=\"3\">Question #4:</font></b>\n",
    "<p>&nbsp;</p>    \n",
    "nba = ['Bucks', 'Warriors', 'Nets', 'Lakers']<br>\n",
    "mlb = [\"Brewers\", 'Giants', 'Yankees', 'Dodgers']\n",
    "<p>&nbsp;</p> \n",
    "a. write code to produce a list named <b>pro_teams</b> where ...<br>\n",
    "<p>&nbsp;</p> \n",
    "pro_teams = ['Bucks', 'Warriors', 'Nets', 'Lakers', \"Brewers\", 'Giants', 'Yankees', 'Dodgers', 'Packers', 'Bears']<br>\n",
    "<p>&nbsp;</p> \n",
    "b. write code to print out <b>pro_teams</b>\n",
    "<p>&nbsp;</p> \n",
    "c. write code to produce a list named <b>nba_twice</b> where ...\n",
    "<p>&nbsp;</p>\n",
    "nba_twice = ['Bucks', 'Warriors', 'Nets', 'Lakers','Bucks', 'Warriors', 'Nets', 'Lakers']\n",
    "<p>&nbsp;</p> \n",
    "d. write code to print out <b>nba_twice</b>\n",
    "<p>&nbsp;</p> \n",
    "e. write code to produce a list named <b>pro_teams_2</b> where ...\n",
    "<p>&nbsp;</p> \n",
    "pro_teams_2 = ['Bucks', 'Warriors', 'Nets', 'Lakers', \"Brewers\", 'Giants', 'Yankees', 'Dodgers', 'Packers', 'Bears','Packers', 'Bears']\n",
    "<p>&nbsp;</p> \n",
    "f. write code to print out <b>pro_teams_2</b> "
   ]
  },
  {
   "cell_type": "code",
   "execution_count": 39,
   "id": "eeb9505f",
   "metadata": {},
   "outputs": [],
   "source": [
    "nba = ['Bucks', 'Warriors', 'Nets', 'Lakers']\n",
    "mlb = [\"Brewers\", 'Giants', 'Yankees', 'Dodgers']\n",
    "\n",
    "pro_teams = nba[:] + mlb[:]"
   ]
  },
  {
   "cell_type": "code",
   "execution_count": 38,
   "id": "cdd24585",
   "metadata": {},
   "outputs": [
    {
     "name": "stdout",
     "output_type": "stream",
     "text": [
      "['Bucks', 'Warriors', 'Nets', 'Lakers', 'Brewers', 'Giants', 'Yankees', 'Dodgers']\n"
     ]
    }
   ],
   "source": [
    "print(pro_teams)"
   ]
  },
  {
   "cell_type": "code",
   "execution_count": 40,
   "id": "e968b616",
   "metadata": {},
   "outputs": [
    {
     "name": "stdout",
     "output_type": "stream",
     "text": [
      "['Bucks', 'Warriors', 'Nets', 'Lakers', 'Bucks', 'Warriors', 'Nets', 'Lakers']\n"
     ]
    }
   ],
   "source": [
    "nba_twice = nba[:]*2\n",
    "print(nba_twice)"
   ]
  },
  {
   "cell_type": "code",
   "execution_count": 41,
   "id": "16e46cff",
   "metadata": {},
   "outputs": [],
   "source": [
    "nfl = ['Packers', 'Bears']\n",
    "pro_teams_2 = pro_teams[:] + nfl[:] * 2"
   ]
  },
  {
   "cell_type": "code",
   "execution_count": 42,
   "id": "ddeadd31",
   "metadata": {},
   "outputs": [
    {
     "name": "stdout",
     "output_type": "stream",
     "text": [
      "['Bucks', 'Warriors', 'Nets', 'Lakers', 'Brewers', 'Giants', 'Yankees', 'Dodgers', 'Packers', 'Bears', 'Packers', 'Bears']\n"
     ]
    }
   ],
   "source": [
    "print(pro_teams_2)"
   ]
  },
  {
   "cell_type": "code",
   "execution_count": null,
   "id": "e25d01da",
   "metadata": {},
   "outputs": [],
   "source": []
  },
  {
   "cell_type": "markdown",
   "id": "4db398c9",
   "metadata": {},
   "source": [
    "<div class=\"alert alert-block alert-success\"><b><font size=\"3\">Question #5:</font></b>\n",
    "<p>&nbsp;</p> \n",
    "Create a list called <b>mylist</b> with the following 9 items: \"I, am, excited, to, be, learning, about, Python, lists!\". \n",
    "<p>&nbsp;</p> \n",
    "<b><i>Part 1: Beginning with the empty list ...</i></b>\n",
    "<p>&nbsp;</p> \n",
    "i.   use the append() method to add the first three items to <b>mylist</b><br>\n",
    "ii.  use the extend() method to add the next three items to <b>mylist</b><br>\n",
    "iii. use concatenation to add the last three items to <b>mylist</b><br> \n",
    "iv.  write code to print out the final version of <b>mylist</b><br> \n",
    "v.   write code to print out the type of the final version of <b>mylist</b><br>\n",
    "vi.  write code to print out a blank line\n",
    "<p>&nbsp;</p> \n",
    "<p>&nbsp;</p> \n",
    "<b><i>Part 2: Using the results from Part 1 above ...</i></b>\n",
    "<p>&nbsp;</p>     \n",
    "i.   convert <b>mylist</b> to a string named <b>mystring</b><br> \n",
    "ii.  write code to print out <b>mystring</b><br>\n",
    "ii.  write code to print out the type of <b>mystring</b>\n",
    "<p>&nbsp;</p> \n",
    "</div>"
   ]
  },
  {
   "cell_type": "code",
   "execution_count": 54,
   "id": "665eb731",
   "metadata": {},
   "outputs": [
    {
     "name": "stdout",
     "output_type": "stream",
     "text": [
      "['I', 'am', 'excited', 'to', 'be', 'learning', 'about', 'python', 'lists']\n",
      "<class 'list'>\n",
      "\n",
      "\n"
     ]
    }
   ],
   "source": [
    "mylist = []\n",
    "mylist.append('I')\n",
    "mylist.append('am')\n",
    "mylist.append('excited')\n",
    "extend = ['to', 'be', 'learning']\n",
    "mylist.extend(extend)\n",
    "concatenate = ['about', 'python', 'lists']\n",
    "mylist = mylist + concatenate\n",
    "print(mylist)\n",
    "print(type(mylist))\n",
    "print('\\n')"
   ]
  },
  {
   "cell_type": "code",
   "execution_count": 60,
   "id": "98319cec",
   "metadata": {},
   "outputs": [
    {
     "name": "stdout",
     "output_type": "stream",
     "text": [
      "['I', 'am', 'excited', 'to', 'be', 'learning', 'about', 'python', 'lists']\n",
      "<class 'str'>\n"
     ]
    }
   ],
   "source": [
    "mystring = str(mylist)\n",
    "print(mystring)\n",
    "print(type(mystring))"
   ]
  },
  {
   "cell_type": "markdown",
   "id": "1be31bca",
   "metadata": {},
   "source": [
    "<div class=\"alert alert-block alert-success\"><b><font size=\"3\">Question #6:</font></b>\n",
    "<p>&nbsp;</p>    \n",
    "spam_phrases_1 = ['ADDITIONAL INCOME', 'Earn extra cash', 'Make $', 'Work at home', 'Incredible deal', 'No hidden Costs']\n",
    "<p>&nbsp;</p> \n",
    "a. write code to print out <b>spam_phrases_1</b><br>\n",
    "b. write code to print out the type of <b>spam_phrases_1</b><br>\n",
    "c. write code to print out a blank line<br>\n",
    "<p>&nbsp;</p> \n",
    "d. write code to assign the value 'Eliminate bad credit' as the fourth value in <b>spam_phrases_1</b> and store the result in a variable named <b>spam_phrases_2</b><br>\n",
    "e. write code to print out <b>spam_phrases_2</b><br>\n",
    "f. write code to print out a blank line<br>\n",
    "<p>&nbsp;</p> \n",
    "g. write code to remove the sixth item from <b>spam_phrases_2</b> and store the result in a variable named <b>spam_phrases_3</b><br>\n",
    "h. write code to print out <b>spam_phrases_3</b><br>\n",
    "i. write code to print out a blank line<br>\n",
    "<p>&nbsp;</p> \n",
    "j. write code to add the following phrases to <b>spam_phrases_3</b> and store the result in a variable named <b>spam_phrases_4</b>: 'Lower monthly payment', 'Multi level marketing', \"This isn't spam\", 'One time mailing'<br>\n",
    "k. write code to print out <b>spam_phrases_4</b><br>\n",
    "l. write code to print out a blank line<br>\n",
    "<p>&nbsp;</p> \n",
    "m. write code to remove the second, third, and fourth terms from <b>spam_phrases_4</b> and store the result in a variable named <b>spam_phrases_5</b><br>\n",
    "n. write code to print out <b>spam_phrases_5</b><br>\n",
    "o. write code to print out a blank line<br>\n",
    "<p>&nbsp;</p> \n",
    "Given: new_spam = ['No medical exams', 'Reverses aging', 'Online pharmacy']\n",
    "<p>&nbsp;</p> \n",
    "p. use concatenation to add <b>new_spam</b> to <b>spam_phrases_5</b> and store the result in a variable named <b>spam_phrases_5</b><br>\n",
    "q. write code to print out <b>spam_phrases_6</b><br>\n",
    "r. write code to print out a blank line<br>\n",
    "<p>&nbsp;</p> \n",
    "s. write code to remove 'ADDITIONAL INCOME' and 'Lower monthly payment' from  <b>spam_phrases_6</b> and store the result in a variable named  <b>spam_phrases_7</b><br>\n",
    "t. write code to print out <b>spam_phrases_7</b>\n",
    "</div>"
   ]
  },
  {
   "cell_type": "code",
   "execution_count": 82,
   "id": "ed162748",
   "metadata": {},
   "outputs": [
    {
     "name": "stdout",
     "output_type": "stream",
     "text": [
      "['ADDITIONAL INCOME', 'Earn extra cash', 'Make $', 'Work at home', 'Incredible deal', 'No hidden Costs']\n",
      "<class 'list'> \n",
      "\n",
      "['ADDITIONAL INCOME', 'Earn extra cash', 'Make $', 'Eliminate bad credit', 'Work at home', 'Incredible deal', 'No hidden Costs'] \n",
      "\n",
      "['ADDITIONAL INCOME', 'Earn extra cash', 'Make $', 'Eliminate bad credit', 'Work at home', 'No hidden Costs'] \n",
      "\n",
      "['ADDITIONAL INCOME', 'Earn extra cash', 'Make $', 'Eliminate bad credit', 'Work at home', 'No hidden Costs', 'Lower monthly payment', 'Multi level marketing', \"This isn't spam\", 'One time mailing'] \n",
      "\n",
      "['ADDITIONAL INCOME', 'Work at home', 'No hidden Costs', 'Lower monthly payment', 'Multi level marketing', \"This isn't spam\", 'One time mailing'] \n",
      "\n",
      "['ADDITIONAL INCOME', 'Work at home', 'No hidden Costs', 'Lower monthly payment', 'Multi level marketing', \"This isn't spam\", 'One time mailing', 'No medical exams', 'Reverses aging', 'Online pharmacy'] \n",
      "\n",
      "['Work at home', 'No hidden Costs', 'Multi level marketing', \"This isn't spam\", 'One time mailing', 'No medical exams', 'Reverses aging', 'Online pharmacy']\n"
     ]
    }
   ],
   "source": [
    "spam_phrases_1 = ['ADDITIONAL INCOME', 'Earn extra cash', 'Make $', 'Work at home', 'Incredible deal', 'No hidden Costs']\n",
    "print(spam_phrases_1)\n",
    "print(type(spam_phrases_1), '\\n')\n",
    "\n",
    "spam_phrases_2 = spam_phrases_1[:]\n",
    "spam_phrases_2.insert(3, 'Eliminate bad credit')\n",
    "print(spam_phrases_2, '\\n')\n",
    "\n",
    "spam_phrases_3 = spam_phrases_2[:]\n",
    "spam_phrases_3.pop(5)\n",
    "print(spam_phrases_3, '\\n')\n",
    "\n",
    "add = ['Lower monthly payment', 'Multi level marketing', \"This isn't spam\", 'One time mailing']\n",
    "spam_phrases_4 = spam_phrases_3[:] + add[:]\n",
    "print(spam_phrases_4, '\\n')\n",
    "\n",
    "spam_phrases_5 = spam_phrases_4\n",
    "del spam_phrases_5 [1:4]\n",
    "print(spam_phrases_5, '\\n')\n",
    "\n",
    "new_spam =  ['No medical exams', 'Reverses aging', 'Online pharmacy']\n",
    "spam_phrases_6 = spam_phrases_5[:] + new_spam[:]\n",
    "print(spam_phrases_6, '\\n')\n",
    "\n",
    "spam_phrases_7 = spam_phrases_6[:]\n",
    "spam_phrases_7.remove('ADDITIONAL INCOME')\n",
    "spam_phrases_7.remove('Lower monthly payment')\n",
    "print(spam_phrases_7)"
   ]
  },
  {
   "cell_type": "markdown",
   "id": "f9f1a8ad",
   "metadata": {},
   "source": [
    "<div class=\"alert alert-block alert-success\"><b><font size=\"3\">Question #7</font>:</b>\n",
    "<p>&nbsp;</p>    \n",
    "greater_metro = ['BCHS', 'BEHS', 'Arrowhead', \"SH', 'Muskego','Men Falls', 'Heritage Christian', 'Brookfield Academy', 'WA Hale', 'WA Central', 'Franklin']\n",
    "<p>&nbsp;</p> \n",
    "a. write code to print <b>greater_metro</b><br>\n",
    "b. write code that uses item assignment to replace 'Arrowhead' with 'Gtown' and 'Muskego' with \"MUHS' in <b>greater_metro</b><br>\n",
    "c. write code to print <b>greater_metro</b><br>\n",
    "d. write code to that utilizes the empty list [ ] to delete 'Heritage Christian' and 'Brookfield Academy' from <b>greater_metro</b><br>\n",
    "e. write code to print <b>greater_metro</b><br>    \n",
    "f. write code to simultaneously update <b>greater_metro</b> by inserting'Tosa East' and 'Tosa West' as the third and fourth items of <b>greater_metro</b><br>\n",
    "g. write code to print <b>greater_metro</b><br>   \n",
    "h. write code that uses the del statement to delete 'WA Central' and 'Franklin' from <b>greater_metro</b><br>  \n",
    "i. write code to print <b>greater_metro</b><br>  \n",
    "j. write code that prints out <b>greater_metro</b> in alphabetical order<br>\n",
    "</div>"
   ]
  },
  {
   "cell_type": "code",
   "execution_count": 2,
   "id": "ddc31e8c",
   "metadata": {},
   "outputs": [
    {
     "name": "stdout",
     "output_type": "stream",
     "text": [
      "['BCHS', 'BEHS', 'Arrowhead', 'SH', 'Muskego', 'Men Falls', 'Heritage Christian', 'Brookfield Academy', 'WA Hale', 'WA Central', 'Franklin']\n"
     ]
    }
   ],
   "source": [
    "greater_metro = ['BCHS', 'BEHS', 'Arrowhead', 'SH', 'Muskego','Men Falls', 'Heritage Christian', 'Brookfield Academy', 'WA Hale', 'WA Central', 'Franklin']\n",
    "print(greater_metro)"
   ]
  },
  {
   "cell_type": "code",
   "execution_count": 3,
   "id": "bfad1788",
   "metadata": {},
   "outputs": [],
   "source": [
    "greater_metro[2] = 'Gtown'\n",
    "greater_metro[4] = 'MUHS'"
   ]
  },
  {
   "cell_type": "code",
   "execution_count": 4,
   "id": "bd2fd7e2",
   "metadata": {},
   "outputs": [
    {
     "name": "stdout",
     "output_type": "stream",
     "text": [
      "['BCHS', 'BEHS', 'Gtown', 'SH', 'MUHS', 'Men Falls', 'Heritage Christian', 'Brookfield Academy', 'WA Hale', 'WA Central', 'Franklin']\n"
     ]
    }
   ],
   "source": [
    "print(greater_metro)"
   ]
  },
  {
   "cell_type": "code",
   "execution_count": 5,
   "id": "3cc5fc68",
   "metadata": {},
   "outputs": [],
   "source": [
    "greater_metro[6:8] = [ ] "
   ]
  },
  {
   "cell_type": "code",
   "execution_count": 6,
   "id": "8b0516d6",
   "metadata": {},
   "outputs": [
    {
     "name": "stdout",
     "output_type": "stream",
     "text": [
      "['BCHS', 'BEHS', 'Gtown', 'SH', 'MUHS', 'Men Falls', 'WA Hale', 'WA Central', 'Franklin']\n"
     ]
    }
   ],
   "source": [
    "print(greater_metro)"
   ]
  },
  {
   "cell_type": "code",
   "execution_count": 7,
   "id": "b775ccd1",
   "metadata": {},
   "outputs": [],
   "source": [
    "greater_metro[2:2] = ['Tosa East', 'Tosa West']"
   ]
  },
  {
   "cell_type": "code",
   "execution_count": 8,
   "id": "0072c1b6",
   "metadata": {},
   "outputs": [
    {
     "name": "stdout",
     "output_type": "stream",
     "text": [
      "['BCHS', 'BEHS', 'Tosa East', 'Tosa West', 'Gtown', 'SH', 'MUHS', 'Men Falls', 'WA Hale', 'WA Central', 'Franklin']\n"
     ]
    }
   ],
   "source": [
    "print(greater_metro)"
   ]
  },
  {
   "cell_type": "code",
   "execution_count": 9,
   "id": "d6621c3e",
   "metadata": {},
   "outputs": [],
   "source": [
    "del greater_metro[9:]"
   ]
  },
  {
   "cell_type": "code",
   "execution_count": 10,
   "id": "962ff984",
   "metadata": {},
   "outputs": [
    {
     "name": "stdout",
     "output_type": "stream",
     "text": [
      "['BCHS', 'BEHS', 'Tosa East', 'Tosa West', 'Gtown', 'SH', 'MUHS', 'Men Falls', 'WA Hale']\n"
     ]
    }
   ],
   "source": [
    "print(greater_metro)"
   ]
  },
  {
   "cell_type": "code",
   "execution_count": 11,
   "id": "d888acdd",
   "metadata": {},
   "outputs": [
    {
     "name": "stdout",
     "output_type": "stream",
     "text": [
      "['BCHS', 'BEHS', 'Gtown', 'MUHS', 'Men Falls', 'SH', 'Tosa East', 'Tosa West', 'WA Hale']\n"
     ]
    }
   ],
   "source": [
    "print(sorted(greater_metro))"
   ]
  },
  {
   "cell_type": "markdown",
   "id": "8ef6f141",
   "metadata": {},
   "source": [
    "<div class=\"alert alert-block alert-success\"><b><font size=\"3\">Question #8:</font></b>\n",
    "<p>&nbsp;</p>    \n",
    "Create a markdown cell to identify / describe at least two important ways that list are different than strings.\n",
    "<p>&nbsp;</p> \n",
    "</div>"
   ]
  },
  {
   "cell_type": "markdown",
   "id": "8abf7a6f",
   "metadata": {},
   "source": [
    "1. lists are mutable and can be changed, whereas strings are immutable\n",
    "2. lists can have any type, and in any one list, items can be different types, whereas string type"
   ]
  },
  {
   "cell_type": "markdown",
   "id": "6e44f11a",
   "metadata": {},
   "source": [
    "<div class=\"alert alert-block alert-success\"><b><font size=\"3\">Question #9:</font></b>\n",
    "<p>&nbsp;</p> \n",
    "a.  run the following code and then explain in a Markdown cell what you observed about how the pop() list method works \n",
    "<p>&nbsp;</p> \n",
    "alist_1 = [9, 18, 27, 36, 45, 54, 63, 72, 81, 90]<br>\n",
    "print(alist_1.pop())<br>\n",
    "print(alist_1)<br>\n",
    " \n",
    "print()<br>\n",
    "\n",
    "alist_2 = [9, 18, 27, 36, 45, 54, 63, 72, 81, 90]<br>\n",
    "print(alist_2.pop(4))<br>\n",
    "print(alist_2)<br>\n",
    "<p>&nbsp;</p> \n",
    "b. write code that will print out <b>alist_1</b> in reverse order<br>\n",
    "<p>&nbsp;</p> \n",
    "c. days = \"The days of the week are Sunday, Monday, Tuesday, Wednesday, Thursday, Friday, and Saturday.\"<br>\n",
    "<p>&emsp;</p>... write code that uses the appropriate string method along with the delimiter \"day\" to convert the string <b>days</b> to a list "
   ]
  },
  {
   "cell_type": "code",
   "execution_count": 1,
   "id": "44b02d1f",
   "metadata": {},
   "outputs": [
    {
     "name": "stdout",
     "output_type": "stream",
     "text": [
      "90\n",
      "[9, 18, 27, 36, 45, 54, 63, 72, 81]\n",
      "\n",
      "45\n",
      "[9, 18, 27, 36, 54, 63, 72, 81, 90]\n"
     ]
    }
   ],
   "source": [
    "# Code cell for Part a above\n",
    "\n",
    "alist_1 = [9, 18, 27, 36, 45, 54, 63, 72, 81, 90]\n",
    "print(alist_1.pop())\n",
    "print(alist_1)\n",
    "\n",
    "print()\n",
    "\n",
    "alist_2 = [9, 18, 27, 36, 45, 54, 63, 72, 81, 90]\n",
    "print(alist_2.pop(4))\n",
    "print(alist_2)"
   ]
  },
  {
   "cell_type": "markdown",
   "id": "73c7a1d9",
   "metadata": {},
   "source": [
    "The pop method removes the specified index from the list"
   ]
  },
  {
   "cell_type": "code",
   "execution_count": 7,
   "id": "849709e7",
   "metadata": {},
   "outputs": [
    {
     "name": "stdout",
     "output_type": "stream",
     "text": [
      "[81, 72, 63, 54, 45, 36, 27, 18, 9]\n"
     ]
    }
   ],
   "source": [
    "alist_1.reverse()\n",
    "print(alist_1)"
   ]
  },
  {
   "cell_type": "code",
   "execution_count": 14,
   "id": "2abac602",
   "metadata": {},
   "outputs": [
    {
     "name": "stdout",
     "output_type": "stream",
     "text": [
      "['The ', 's of the week are Sun', ', Mon', ', Tues', ', Wednes', ', Thurs', ', Fri', ', and Satur', '.']\n"
     ]
    }
   ],
   "source": [
    "days = \"The days of the week are Sunday, Monday, Tuesday, Wednesday, Thursday, Friday, and Saturday.\"\n",
    "split = days.split('day')\n",
    "print(split)"
   ]
  },
  {
   "cell_type": "markdown",
   "id": "f4ab9474",
   "metadata": {},
   "source": [
    "<div class=\"alert alert-block alert-success\"><b><font size = \"3\">Question #10:</font></b>\n",
    "<p>&nbsp;</p> \n",
    "<u>Given:</u><br>\n",
    "<p>&nbsp;</p> \n",
    "x = (2 ** 3 ** 2 // 50 / 5)<br>\n",
    "y = (((3.14 + 2.71) * 100) ** 0 + 1)<br>\n",
    "z = 5\n",
    "<p>&nbsp;</p>  \n",
    "<b><i>For each of the Parts a - d below create a Markdown cell to provide your answer.  In those Markdown cells create reference diagrams to support your answer (Hint: use the <u><i>Python Tutor</u></i> link that is found below to help you create the reference diagrams.)<br>\n",
    "<p>&nbsp;</p>A code cell has also been provided that contains some initial lines of code for you to run.  Update this code cell with the proper code that you would need to support your answers to Parts a - d</i></b><br>\n",
    "<p>&nbsp;</p> \n",
    "first_list = [x, z]<br>\n",
    "second_list = [y, z]\n",
    "<p>&nbsp;</p> \n",
    "a. Do the first_list and second_list contain the same elements?\n",
    "<p>&nbsp;</p> \n",
    "b. Do first_list and second_list reference the same object?<br>\n",
    "<p>&nbsp;</p>\n",
    "Add the following line of code in the code cell that has been provided ...<br>\n",
    "<p>&nbsp;</p>\n",
    "first_list = second_list<br>\n",
    "<p>&nbsp;</p>\n",
    "c. Do first_list and second_list now reference the same object?<br> \n",
    "<p>&nbsp;</p> \n",
    "Add the following line of code in the code cell that has been provided ...<br>\n",
    "<p>&nbsp;</p>\n",
    "first_list[1] = 15<br>\n",
    "<p>&nbsp;</p>\n",
    "d. What would the output be for the following print command? What do you notice when you run this print command?<br>\n",
    "<p>&nbsp;</p>\n",
    "print(second_list)\n",
    "<p>&nbsp;</p>\n",
    "    \n",
    "[Python Tutor](https://pythontutor.com/visualize.html#mode=edit)"
   ]
  },
  {
   "cell_type": "code",
   "execution_count": 20,
   "id": "fb1f80d3",
   "metadata": {},
   "outputs": [
    {
     "name": "stdout",
     "output_type": "stream",
     "text": [
      "[2.0, 5]\n",
      "[2.0, 5]\n",
      "True\n",
      "[2.0, 15]\n"
     ]
    }
   ],
   "source": [
    "# Code cell for Question #10\n",
    "\n",
    "x = (2 ** 3 ** 2 // 50 / 5)\n",
    "y = (((3.14 + 2.71) * 100) ** 0 + 1)\n",
    "z = 5\n",
    "\n",
    "first_list = [x, z]\n",
    "second_list = [y, z]\n",
    "               \n",
    "print(first_list)\n",
    "print(second_list)\n",
    "first_list = second_list\n",
    "print(first_list is second_list)\n",
    "first_list[1] = 15\n",
    "print(second_list)\n"
   ]
  },
  {
   "attachments": {
    "image.png": {
     "image/png": "[encoded data removed]"
    }
   },
   "cell_type": "markdown",
   "id": "b52719a1",
   "metadata": {},
   "source": [
    "Yes, they contain the same elements as z is the same, and both x and y = 2.0, even if they don't reference the same object\n",
    "![image.png](attachment:image.png)"
   ]
  },
  {
   "attachments": {
    "image.png": {
     "image/png": "[encoded data removed]"
    }
   },
   "cell_type": "markdown",
   "id": "c78e249d",
   "metadata": {},
   "source": [
    "No, they don't reference the same object, since they're created separately, and ever set equal to eachother\n",
    "![image.png](attachment:image.png)"
   ]
  },
  {
   "attachments": {
    "image.png": {
     "image/png": "[encoded data removed]"
    }
   },
   "cell_type": "markdown",
   "id": "391824dc",
   "metadata": {},
   "source": [
    "Yes, since when you set one equal to eachother, they now reference the same object\n",
    "![image.png](attachment:image.png)"
   ]
  },
  {
   "attachments": {
    "image.png": {
     "image/png": "[encoded data removed]"
    }
   },
   "cell_type": "markdown",
   "id": "37fcf200",
   "metadata": {},
   "source": [
    "Since they reference the same object now, it will change both the elements in first_list & second_list, even though you only directly changed first_list\n",
    "![image.png](attachment:image.png)"
   ]
  },
  {
   "cell_type": "markdown",
   "id": "6e8266b8",
   "metadata": {},
   "source": [
    "<div class=\"alert alert-block alert-success\"><b><font size=\"3\">Question #11:</font></b>\n",
    "<p>&nbsp;</p>    \n",
    "a. create a string named <b>ds_advice</b> that contains the following passage:\n",
    "<p>&nbsp;</p>   \n",
    "\"Ben Franklin created a step-by-step plan to improve his writing. If you want to master data science, you can actually \n",
    "learn from what Franklin did. He broke everything down and set out to improve at every level. he set out to improve vocabulary,\n",
    "improve sentence structure, and improve organization. He also identified excellent writers and attempted to rewrite and mimic \n",
    "their work himself. Then he would compare his version to the original, so he could identify specific areas that he still \n",
    "needed to improve.\"<br>\n",
    "<p>&nbsp;</p> \n",
    "b. write code to print out <b>ds_advice</b>\n",
    "<p>&nbsp;</p> \n",
    "c. write code to print out on a single line of output the number of characters in <b>ds_advice</b> and the data type of <b>ds_advice</b><br>\n",
    "<p>&nbsp;</p>                                                                                                                    d. write code that uses the appropriate string method to convert <b>ds_advice</b> into a list named <b>ds_advice_list</b>\n",
    "<p>&nbsp;</p>    \n",
    "e. write code to print out <b>ds_advice_list</b>\n",
    "<p>&nbsp;</p> \n",
    "g. write code to print out on a single line of output the number of items in <b>ds_advice_list</b> and the data type of <b>ds_advice_list</b><br>\n",
    "<p>&nbsp;</p>\n",
    "h. write code to print out the position that the item 'improve' first occurs in <b>ds_advice_list</b><br>\n",
    "<p>&nbsp;</p> \n",
    "i.  write code to print out the number of times the item 'improve' occurs in <b>ds_advice_list</b>\n",
    "<p>&nbsp;</p> \n",
    "</div>"
   ]
  },
  {
   "cell_type": "code",
   "execution_count": 25,
   "id": "b527c4b5",
   "metadata": {},
   "outputs": [],
   "source": [
    "ds_advice = \"Ben Franklin created a step-by-step plan to improve his writing. If you want to master data science, you can actually learn from what Franklin did. He broke everything down and set out to improve at every level. he set out to improve vocabulary, improve sentence structure, and improve organization. He also identified excellent writers and attempted to rewrite and mimic their work himself. Then he would compare his version to the original, so he could identify specific areas that he still needed to improve.\""
   ]
  },
  {
   "cell_type": "code",
   "execution_count": 26,
   "id": "002f8fa3",
   "metadata": {},
   "outputs": [
    {
     "name": "stdout",
     "output_type": "stream",
     "text": [
      "Ben Franklin created a step-by-step plan to improve his writing. If you want to master data science, you can actually learn from what Franklin did. He broke everything down and set out to improve at every level. he set out to improve vocabulary, improve sentence structure, and improve organization. He also identified excellent writers and attempted to rewrite and mimic their work himself. Then he would compare his version to the original, so he could identify specific areas that he still needed to improve.\n"
     ]
    }
   ],
   "source": [
    "print(ds_advice)"
   ]
  },
  {
   "cell_type": "code",
   "execution_count": 27,
   "id": "300414ee",
   "metadata": {},
   "outputs": [
    {
     "name": "stdout",
     "output_type": "stream",
     "text": [
      "511 <class 'str'>\n"
     ]
    }
   ],
   "source": [
    "print(len(ds_advice), type(ds_advice))"
   ]
  },
  {
   "cell_type": "code",
   "execution_count": 31,
   "id": "5b189d2d",
   "metadata": {},
   "outputs": [],
   "source": [
    "ds_advice_list = ds_advice.split()"
   ]
  },
  {
   "cell_type": "code",
   "execution_count": 32,
   "id": "a946073d",
   "metadata": {},
   "outputs": [
    {
     "name": "stdout",
     "output_type": "stream",
     "text": [
      "['Ben', 'Franklin', 'created', 'a', 'step-by-step', 'plan', 'to', 'improve', 'his', 'writing.', 'If', 'you', 'want', 'to', 'master', 'data', 'science,', 'you', 'can', 'actually', 'learn', 'from', 'what', 'Franklin', 'did.', 'He', 'broke', 'everything', 'down', 'and', 'set', 'out', 'to', 'improve', 'at', 'every', 'level.', 'he', 'set', 'out', 'to', 'improve', 'vocabulary,', 'improve', 'sentence', 'structure,', 'and', 'improve', 'organization.', 'He', 'also', 'identified', 'excellent', 'writers', 'and', 'attempted', 'to', 'rewrite', 'and', 'mimic', 'their', 'work', 'himself.', 'Then', 'he', 'would', 'compare', 'his', 'version', 'to', 'the', 'original,', 'so', 'he', 'could', 'identify', 'specific', 'areas', 'that', 'he', 'still', 'needed', 'to', 'improve.']\n"
     ]
    }
   ],
   "source": [
    "print(ds_advice_list)"
   ]
  },
  {
   "cell_type": "code",
   "execution_count": 33,
   "id": "68a17185",
   "metadata": {},
   "outputs": [
    {
     "name": "stdout",
     "output_type": "stream",
     "text": [
      "84 <class 'list'>\n"
     ]
    }
   ],
   "source": [
    "print(len(ds_advice_list), type(ds_advice_list))"
   ]
  },
  {
   "cell_type": "code",
   "execution_count": 34,
   "id": "9cf5fc70",
   "metadata": {},
   "outputs": [
    {
     "name": "stdout",
     "output_type": "stream",
     "text": [
      "7\n"
     ]
    }
   ],
   "source": [
    "print(ds_advice_list.index('improve'))"
   ]
  },
  {
   "cell_type": "code",
   "execution_count": 35,
   "id": "93023b6a",
   "metadata": {},
   "outputs": [
    {
     "name": "stdout",
     "output_type": "stream",
     "text": [
      "5\n"
     ]
    }
   ],
   "source": [
    "print(ds_advice_list.count('improve'))"
   ]
  },
  {
   "cell_type": "markdown",
   "id": "60d4bb73",
   "metadata": {},
   "source": [
    "<div class=\"alert alert-block alert-success\"><b><font size=\"3\">Question #12:</font></b>\n",
    "<p>&nbsp;</p>\n",
    "a. Create a list called <b>myList</b> with the following six items: 76, 92.3, “hello”, True, 4, 76. \n",
    "<p>&nbsp;</p>\n",
    "Using the following guidelines, begin with the empty list and add 4 statements to create <b>myList</b>:\n",
    "<p>&nbsp;</p>\n",
    "1st Statement: Use the append() method to add the first item to the list.<br>\n",
    "2nd Statement: Use the append() method to add the second item to the list.<br>\n",
    "3rd Statement: Use the extend() method to add the third and fourth items to the list.<br>\n",
    "4th Statement: Use concatenation to add the fifth and sixth items to the list.<br>\n",
    "<p>&nbsp;</p>\n",
    "b. append “apple” and 76 to the list and print the result\n",
    "<p>&nbsp;</p>\n",
    "c. insert the value “cat” at position 3 and print the result\n",
    "<p>&nbsp;</p>\n",
    "d. insert the value 99 at the start of the list and print the result\n",
    "<p>&nbsp;</p>\n",
    "e. find the index of “hello” and print the result\n",
    "<p>&nbsp;</p>\n",
    "f. count the number of 76s in the list and print the result\n",
    "<p>&nbsp;</p>\n",
    "g. remove the first occurrence of 76 from the list and print the result\n",
    "<p>&nbsp;</p>\n",
    "h. Remove True from the list using pop and index and print the result\n",
    "<p>&nbsp;</p> \n",
    "</div>"
   ]
  },
  {
   "cell_type": "code",
   "execution_count": 52,
   "id": "c3398d7b",
   "metadata": {},
   "outputs": [],
   "source": [
    "myList = []\n",
    "myList.append(76)\n",
    "myList.append(92.3)\n",
    "myList.extend(['hello', True])\n",
    "extra = [4, 76]\n",
    "myList = myList + extra"
   ]
  },
  {
   "cell_type": "code",
   "execution_count": 53,
   "id": "fbfc6414",
   "metadata": {},
   "outputs": [
    {
     "name": "stdout",
     "output_type": "stream",
     "text": [
      "[76, 92.3, 'hello', True, 4, 76, 'apple', 76]\n"
     ]
    }
   ],
   "source": [
    "myList.append('apple')\n",
    "myList.append(76)\n",
    "print(myList)"
   ]
  },
  {
   "cell_type": "code",
   "execution_count": 54,
   "id": "918d5ae4",
   "metadata": {},
   "outputs": [
    {
     "name": "stdout",
     "output_type": "stream",
     "text": [
      "[76, 92.3, 'cat', 'hello', True, 4, 76, 'apple', 76]\n"
     ]
    }
   ],
   "source": [
    "myList.insert(2, 'cat')\n",
    "print(myList)"
   ]
  },
  {
   "cell_type": "code",
   "execution_count": 55,
   "id": "49f12740",
   "metadata": {},
   "outputs": [
    {
     "name": "stdout",
     "output_type": "stream",
     "text": [
      "[99, 76, 92.3, 'cat', 'hello', True, 4, 76, 'apple', 76]\n"
     ]
    }
   ],
   "source": [
    "myList.insert(0, 99)\n",
    "print(myList)"
   ]
  },
  {
   "cell_type": "code",
   "execution_count": 56,
   "id": "2ce9712b",
   "metadata": {},
   "outputs": [
    {
     "name": "stdout",
     "output_type": "stream",
     "text": [
      "4\n"
     ]
    }
   ],
   "source": [
    "print(myList.index('hello'))"
   ]
  },
  {
   "cell_type": "code",
   "execution_count": 57,
   "id": "44590940",
   "metadata": {},
   "outputs": [
    {
     "name": "stdout",
     "output_type": "stream",
     "text": [
      "3\n"
     ]
    }
   ],
   "source": [
    "print(myList.count(76))"
   ]
  },
  {
   "cell_type": "code",
   "execution_count": 58,
   "id": "0ba24ee0",
   "metadata": {},
   "outputs": [
    {
     "name": "stdout",
     "output_type": "stream",
     "text": [
      "[99, 92.3, 'cat', 'hello', True, 4, 76, 'apple', 76]\n"
     ]
    }
   ],
   "source": [
    "myList.remove(76)\n",
    "print(myList)"
   ]
  },
  {
   "cell_type": "code",
   "execution_count": 59,
   "id": "d99b9997",
   "metadata": {},
   "outputs": [
    {
     "name": "stdout",
     "output_type": "stream",
     "text": [
      "[99, 92.3, 'cat', 'hello', 4, 76, 'apple', 76]\n"
     ]
    }
   ],
   "source": [
    "myList.pop(myList.index(True))\n",
    "print(myList)"
   ]
  },
  {
   "cell_type": "markdown",
   "id": "5af5a58f",
   "metadata": {},
   "source": [
    "<div class=\"alert alert-block alert-danger\"><b>Note:</b> \n",
    "<p>&nbsp;</p> \n",
    "- Once you are satisfied with the results, submit your .ipynb notebook and a pdf and/or html file to Google Classroom. \n",
    "<p>&nbsp;</p> \n",
    "- Your files should include all output ... i.e., run each cell and save your file before submitting.\n",
    "<p>&nbsp;</p> \n",
    "</div>"
   ]
  },
  {
   "cell_type": "code",
   "execution_count": null,
   "id": "ecb168ca",
   "metadata": {},
   "outputs": [],
   "source": []
  }
 ],
 "metadata": {
  "kernelspec": {
   "display_name": "Python 3 (ipykernel)",
   "language": "python",
   "name": "python3"
  },
  "language_info": {
   "codemirror_mode": {
    "name": "ipython",
    "version": 3
   },
   "file_extension": ".py",
   "mimetype": "text/x-python",
   "name": "python",
   "nbconvert_exporter": "python",
   "pygments_lexer": "ipython3",
   "version": "3.11.4"
  }
 },
 "nbformat": 4,
 "nbformat_minor": 5
}
