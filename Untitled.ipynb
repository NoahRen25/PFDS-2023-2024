{
 "cells": [
  {
   "cell_type": "code",
   "execution_count": 1,
   "id": "53b82ce2",
   "metadata": {},
   "outputs": [
    {
     "name": "stdout",
     "output_type": "stream",
     "text": [
      "File C:\\Users\\nren2_6wfk1d7\\.jupyter\\nbconfig\\common.json is OK.\n",
      "Failed JSON file is: C:\\Users\\nren2_6wfk1d7\\.jupyter\\nbconfig\\notebook.json\n",
      "File C:\\ProgramData\\jupyter\\nbconfig\\notebook.json is OK.\n",
      "File C:\\ProgramData\\jupyter\\nbconfig\\tree.json is OK.\n"
     ]
    }
   ],
   "source": [
    "import glob\n",
    "import os\n",
    "import json\n",
    "from jupyter_core.paths import jupyter_config_path\n",
    "\n",
    "for d in jupyter_config_path():\n",
    "    for p in glob.glob(os.path.join(d, 'nbconfig', '*.json')):\n",
    "        try:\n",
    "            with open(p, 'r') as f:\n",
    "                json.load(f)\n",
    "            print('File {0} is OK.'.format(p))\n",
    "        except json.decoder.JSONDecodeError:\n",
    "            print('Failed JSON file is:', p)"
   ]
  },
  {
   "cell_type": "code",
   "execution_count": null,
   "id": "213ea7c7",
   "metadata": {},
   "outputs": [],
   "source": [
    "t"
   ]
  }
 ],
 "metadata": {
  "kernelspec": {
   "display_name": "Python 3 (ipykernel)",
   "language": "python",
   "name": "python3"
  },
  "language_info": {
   "codemirror_mode": {
    "name": "ipython",
    "version": 3
   },
   "file_extension": ".py",
   "mimetype": "text/x-python",
   "name": "python",
   "nbconvert_exporter": "python",
   "pygments_lexer": "ipython3",
   "version": "3.11.5"
  }
 },
 "nbformat": 4,
 "nbformat_minor": 5
}
