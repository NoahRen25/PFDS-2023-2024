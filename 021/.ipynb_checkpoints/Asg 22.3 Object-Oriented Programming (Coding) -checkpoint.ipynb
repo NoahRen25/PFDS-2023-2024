{
 "cells": [
  {
   "cell_type": "markdown",
   "id": "92c22d70",
   "metadata": {
    "toc": true
   },
   "source": [
    "<h1>Table of Contents<span class=\"tocSkip\"></span></h1>\n",
    "<div class=\"toc\"><ul class=\"toc-item\"><li><span><a href=\"#PFDS\" data-toc-modified-id=\"PFDS-1\"><span class=\"toc-item-num\">1&nbsp;&nbsp;</span><center><b>PFDS</b></center></a></span></li><li><span><a href=\"#Asg-22.3\" data-toc-modified-id=\"Asg-22.3-2\"><span class=\"toc-item-num\">2&nbsp;&nbsp;</span><center><b>Asg 22.3</b></center></a></span></li><li><span><a href=\"#Object-Oriented-Programming-(Coding)\" data-toc-modified-id=\"Object-Oriented-Programming-(Coding)-3\"><span class=\"toc-item-num\">3&nbsp;&nbsp;</span><center><b>Object-Oriented Programming (Coding)</b></center></a></span><ul class=\"toc-item\"><li><ul class=\"toc-item\"><li><span><a href=\"#HINT\" data-toc-modified-id=\"HINT-3.0.1\"><span class=\"toc-item-num\">3.0.1&nbsp;&nbsp;</span>HINT</a></span></li><li><span><a href=\"#HINT\" data-toc-modified-id=\"HINT-3.0.2\"><span class=\"toc-item-num\">3.0.2&nbsp;&nbsp;</span>HINT</a></span></li><li><span><a href=\"#HINT\" data-toc-modified-id=\"HINT-3.0.3\"><span class=\"toc-item-num\">3.0.3&nbsp;&nbsp;</span>HINT</a></span></li></ul></li></ul></li></ul></div>"
   ]
  },
  {
   "cell_type": "markdown",
   "id": "ec19c223",
   "metadata": {},
   "source": [
    "# <center><b>PFDS</b></center>\n",
    "# <center><b>Asg 22.3</b></center>\n",
    "# <center><b>Object-Oriented Programming (Coding)</b></center>"
   ]
  },
  {
   "cell_type": "code",
   "execution_count": null,
   "id": "28565f21",
   "metadata": {
    "id": "28565f21",
    "outputId": "7ca09b98-5151-488f-a676-d01d5d07684c"
   },
   "outputs": [
    {
     "name": "stdout",
     "output_type": "stream",
     "text": [
      "The notebook is set up to display multiple output in one cell.\n"
     ]
    }
   ],
   "source": [
    "# set up notebook to display multiple output in one cell\n",
    "\n",
    "from IPython.core.interactiveshell import InteractiveShell\n",
    "InteractiveShell.ast_node_interactivity = \"all\"\n",
    "\n",
    "print('The notebook is set up to display multiple output in one cell.')"
   ]
  },
  {
   "cell_type": "markdown",
   "id": "4dee6245",
   "metadata": {
    "id": "4dee6245"
   },
   "source": [
    "<div class=\"alert alert-block alert-success\"><b>Problem #1: Creating a Class with instance attributes</b>\n",
    "\n",
    "Write a Python program to create a Vehicle class with max_speed and mileage instance attributes.\n",
    "</div>"
   ]
  },
  {
   "cell_type": "code",
   "execution_count": null,
   "id": "37aae5a1",
   "metadata": {},
   "outputs": [],
   "source": [
    "class Vehicle:\n",
    "    def __init__(self, max_speed, mileage):\n",
    "        self.max_speed = max_speed\n",
    "        self.mileage = mileage"
   ]
  },
  {
   "cell_type": "markdown",
   "id": "2d3e9a9a",
   "metadata": {
    "id": "2d3e9a9a"
   },
   "source": [
    "<div class=\"alert alert-block alert-success\"><b>Problem #2:</b> Creating a Vehicle class without any variables and methods\n",
    "\n",
    "Write a Python program to create a Vehicle class that doesn't have any variables and methods.\n",
    "\n",
    "</div>"
   ]
  },
  {
   "cell_type": "code",
   "execution_count": 17,
   "id": "a7891adb",
   "metadata": {
    "id": "a7891adb"
   },
   "outputs": [],
   "source": [
    "def Vehicle():\n",
    "    pass"
   ]
  },
  {
   "attachments": {
    "image-2.png": {
     "image/png": "[encoded data removed]"
    }
   },
   "cell_type": "markdown",
   "id": "08616205",
   "metadata": {
    "id": "b20a18b4"
   },
   "source": [
    "<div class=\"alert alert-block alert-success\"><b>Problem #3:</b> Creating a child class Bus that will inherit all of the variables and methods of the Vehicle class\n",
    "\n",
    "Use the code that is provided in the code cell below to create a Bus object that will inherit all of the variables and methods of the parent Vehicle class and display it.\n",
    "\n",
    "<u>Expected Output:</u>\n",
    "\n",
    "![image-2.png](attachment:image-2.png)\n",
    "    \n",
    "</div>"
   ]
  },
  {
   "cell_type": "code",
   "execution_count": 31,
   "id": "1c2633de",
   "metadata": {
    "id": "1c2633de"
   },
   "outputs": [],
   "source": [
    "class Vehicle:\n",
    "\n",
    "    def __init__(self, name, max_speed, mileage):\n",
    "        self.name = name\n",
    "        self.max_speed = max_speed\n",
    "        self.mileage = mileage"
   ]
  },
  {
   "cell_type": "code",
   "execution_count": 37,
   "id": "fc4600b3",
   "metadata": {},
   "outputs": [
    {
     "name": "stdout",
     "output_type": "stream",
     "text": [
      "Vehicle Name: School Volvo Speed: 180 Mileage: 12\n"
     ]
    }
   ],
   "source": [
    "class Bus(Vehicle):\n",
    "    def __repr__(self):\n",
    "        return f'Vehicle Name: {self.name} Speed: {self.max_speed} Mileage: {self.mileage}'\n",
    "this_bus = Bus(\"School Volvo\", 180, 12)\n",
    "print(this_bus.__repr__())"
   ]
  },
  {
   "attachments": {
    "image.png": {
     "image/png": "[encoded data removed]"
    }
   },
   "cell_type": "markdown",
   "id": "7887733b",
   "metadata": {},
   "source": [
    "<div class=\"alert alert-block alert-success\"><b>Problem #4:</b> Class Inheritance\n",
    "\n",
    "Create a **Bus class** that inherits from the **Vehicle** class. Give the capacity argument of CBus.seating_capacity()</code> a default value of 50.<br>\n",
    "    \n",
    "Use the code in the code cell below for your parent Vehicle class.<br>\n",
    "    \n",
    "<u>Expected Output:</u>\n",
    "\n",
    "![image.png](attachment:image.png)\n",
    "\n",
    "</div>"
   ]
  },
  {
   "cell_type": "code",
   "execution_count": 52,
   "id": "f25785a7",
   "metadata": {},
   "outputs": [],
   "source": [
    "class Vehicle:\n",
    "    def __init__(self, name, max_speed, mileage):\n",
    "        self.name = name\n",
    "        self.max_speed = max_speed\n",
    "        self.mileage = mileage\n",
    "\n",
    "    def seating_capacity(self, capacity):\n",
    "        return f\"The seating capacity of a {self.name} is {capacity} passengers\""
   ]
  },
  {
   "cell_type": "code",
   "execution_count": 53,
   "id": "4bbdc14d",
   "metadata": {},
   "outputs": [
    {
     "name": "stdout",
     "output_type": "stream",
     "text": [
      "The seating capacity of a bus is 50 passengers\n"
     ]
    }
   ],
   "source": [
    "class Bus(Vehicle):\n",
    "    def __init__(self, name, max_speed, mileage, capacity=50):\n",
    "        super().__init__('bus', max_speed, mileage)\n",
    "        self.capacity = capacity\n",
    "    def bus_capacity(self):\n",
    "        return super().seating_capacity(self.capacity)\n",
    "this_bus = Bus(15, 180, 50)\n",
    "print(this_bus.bus_capacity())"
   ]
  },
  {
   "cell_type": "markdown",
   "id": "cc734039",
   "metadata": {},
   "source": [
    "### HINT"
   ]
  },
  {
   "cell_type": "markdown",
   "id": "d617dc31",
   "metadata": {},
   "source": [
    "- First, use method overriding.\n",
    "- Next, use default method argument in the seating_capacity() method definition of a bus class."
   ]
  },
  {
   "attachments": {
    "image.png": {
     "image/png": "[encoded data removed]"
    }
   },
   "cell_type": "markdown",
   "id": "230133aa",
   "metadata": {},
   "source": [
    "<div class=\"alert alert-block alert-success\"><b>Problem #5:</b> Defining a property that must have the same value for every class instance (object)\n",
    "\n",
    "Define a **class** attribute \"**color**\" with a default value **white** ... i.e., every Vehicle should be white.\n",
    "\n",
    "Use the code in the following code cell for this exercise.<br>\n",
    "    \n",
    "<u>Expected Output</u><br>\n",
    "<p>&nbsp;</p>\n",
    "    \n",
    "![image.png](attachment:image.png)\n",
    "\n",
    "</div>"
   ]
  },
  {
   "cell_type": "code",
   "execution_count": 2,
   "id": "7b41b8fc",
   "metadata": {
    "id": "7b41b8fc"
   },
   "outputs": [],
   "source": [
    "class Vehicle:\n",
    "    color = \"White\"\n",
    "    def __init__(self, name, max_speed, mileage):\n",
    "        self.name = name\n",
    "        self.max_speed = max_speed\n",
    "        self.mileage = mileage\n",
    "    def __repr__(self):\n",
    "        return f\"Color: {self.color} Name: {self.name} Speed: {self.max_speed} Mileage: {self.mileage}\"\n",
    "class Bus(Vehicle):\n",
    "    def __repr__(self):\n",
    "        return super().__repr__()\n",
    "\n",
    "class Car(Vehicle):\n",
    "    def __repr__(self):\n",
    "        return super().__repr__()"
   ]
  },
  {
   "cell_type": "code",
   "execution_count": 3,
   "id": "59a0368a",
   "metadata": {},
   "outputs": [
    {
     "name": "stdout",
     "output_type": "stream",
     "text": [
      "Color: White Name: School Volvo Speed: 180 Mileage: 12\n",
      "Color: White Name: Audi Q5 Speed: 240 Mileage: 180\n"
     ]
    }
   ],
   "source": [
    "this_bus = Bus(\"School Volvo\", 180, 12)\n",
    "this_car = Car(\"Audi Q5\", 240, 180)\n",
    "print(this_bus.__repr__())\n",
    "print(this_car.__repr__())"
   ]
  },
  {
   "cell_type": "markdown",
   "id": "f5e970c8",
   "metadata": {},
   "source": [
    "### HINT "
   ]
  },
  {
   "cell_type": "markdown",
   "id": "1d5568ce",
   "metadata": {},
   "source": [
    "- Define a <code style=\"background:light rose;color:red\">color</code> as a class variable in a Vehicle class"
   ]
  },
  {
   "attachments": {
    "image.png": {
     "image/png": "[encoded data removed]"
    }
   },
   "cell_type": "markdown",
   "id": "8ee9bc29",
   "metadata": {},
   "source": [
    "<div class=\"alert alert-block alert-success\"><b>Problem #6:</b> Class Inheritance\n",
    "\n",
    "Create a **Bus** child class that inherits from the Vehicle class. The default fare charge of any vehicle is **seating capacity * 100**. If Vehicle is **Bus** instance, we need to add an extra 10% on full fare as a maintenance charge. So total fare for bus instance will become the **final amount = total fare + 10% of the total fare**.\n",
    "\n",
    "Note: The bus seating capacity is **50**. so the final fare amount should be **5500**. You need to override the <code style=\"background:light rose;color:red\">fare()</code> method of a Vehicle class in Bus class.\n",
    "\n",
    "Use the code in the following code cell for your parent Vehicle class. We need to access the parent class from inside a method of a child class.\n",
    "\n",
    "<u>Expected Output</u>\n",
    "    \n",
    "![image.png](attachment:image.png)\n",
    "\n",
    "</div>"
   ]
  },
  {
   "cell_type": "code",
   "execution_count": 8,
   "id": "ce8f7b7c",
   "metadata": {
    "id": "ce8f7b7c"
   },
   "outputs": [
    {
     "name": "stdout",
     "output_type": "stream",
     "text": [
      "Total Bus fare is: $ 5500.0\n"
     ]
    }
   ],
   "source": [
    "class Vehicle:\n",
    "    def __init__(self, name, mileage, capacity):\n",
    "        self.name = name\n",
    "        self.mileage = mileage\n",
    "        self.capacity = capacity\n",
    "\n",
    "    def fare(self):\n",
    "        return self.capacity * 100\n",
    "\n",
    "class Bus(Vehicle):\n",
    "    def fare(self):\n",
    "        return super().fare() * 1.1\n",
    "School_bus = Bus(\"School Volvo\", 12, 50)\n",
    "print(\"Total Bus fare is: $\", School_bus.fare())"
   ]
  },
  {
   "cell_type": "code",
   "execution_count": null,
   "id": "8fe8fc8b",
   "metadata": {},
   "outputs": [],
   "source": []
  },
  {
   "cell_type": "markdown",
   "id": "4ca17fda",
   "metadata": {
    "id": "4ca17fda"
   },
   "source": [
    "<div class=\"alert alert-block alert-success\"><b>Problem #7:</b> Checking the type of an object\n",
    "\n",
    "Write a program to determine which class a given Bus object belongs to.<br>\n",
    "    \n",
    "\n",
    "**Given**:<br>\n",
    "    \n",
    "    \n",
    "Use the code given in the code cell below.\n",
    "\n",
    "</div>"
   ]
  },
  {
   "cell_type": "code",
   "execution_count": 12,
   "id": "2541d3df",
   "metadata": {
    "id": "2541d3df"
   },
   "outputs": [
    {
     "name": "stdout",
     "output_type": "stream",
     "text": [
      "<class '__main__.Bus'>\n"
     ]
    }
   ],
   "source": [
    "class Vehicle:\n",
    "    def __init__(self, name, mileage, capacity):\n",
    "        self.name = name\n",
    "        self.mileage = mileage\n",
    "        self.capacity = capacity\n",
    "\n",
    "class Bus(Vehicle):\n",
    "    pass\n",
    "\n",
    "School_bus = Bus(\"School Volvo\", 12, 50)\n",
    "print(type(School_bus))"
   ]
  },
  {
   "cell_type": "code",
   "execution_count": null,
   "id": "a4450fc5",
   "metadata": {},
   "outputs": [],
   "source": []
  },
  {
   "cell_type": "markdown",
   "id": "f4a5ded9",
   "metadata": {},
   "source": [
    "### HINT"
   ]
  },
  {
   "cell_type": "markdown",
   "id": "6023c203",
   "metadata": {},
   "source": [
    "- Use Python’s built-in function <code style=\"background:light rose;color:red\">type()</code>."
   ]
  },
  {
   "cell_type": "markdown",
   "id": "4c0640dd",
   "metadata": {
    "id": "4c0640dd"
   },
   "source": [
    "<div class=\"alert alert-block alert-success\"><b>Problem #8:</b> \n",
    "    \n",
    "Determine if School_bus is also an instance of the Vehicle class.\n",
    "\n",
    "Use the code given in the code cell below.\n",
    "\n",
    "</div>"
   ]
  },
  {
   "cell_type": "code",
   "execution_count": 20,
   "id": "01ce78c3",
   "metadata": {
    "id": "01ce78c3"
   },
   "outputs": [
    {
     "name": "stdout",
     "output_type": "stream",
     "text": [
      "False\n"
     ]
    }
   ],
   "source": [
    "class Vehicle:\n",
    "    def __init__(self, name, mileage, capacity):\n",
    "        self.name = name\n",
    "        self.mileage = mileage\n",
    "        self.capacity = capacity\n",
    "\n",
    "class Bus(Vehicle):\n",
    "    pass\n",
    "\n",
    "print(isinstance(School_bus, Vehicle))"
   ]
  },
  {
   "cell_type": "code",
   "execution_count": null,
   "id": "9e8ed2ea",
   "metadata": {},
   "outputs": [],
   "source": []
  },
  {
   "cell_type": "code",
   "execution_count": null,
   "id": "d4e646ee",
   "metadata": {
    "id": "d4e646ee"
   },
   "outputs": [],
   "source": []
  }
 ],
 "metadata": {
  "colab": {
   "name": "14 Loops and List Comprehensions Asg 4 (Coding)  .ipynb",
   "provenance": []
  },
  "hide_input": false,
  "kernelspec": {
   "display_name": "Python 3 (ipykernel)",
   "language": "python",
   "name": "python3"
  },
  "language_info": {
   "codemirror_mode": {
    "name": "ipython",
    "version": 3
   },
   "file_extension": ".py",
   "mimetype": "text/x-python",
   "name": "python",
   "nbconvert_exporter": "python",
   "pygments_lexer": "ipython3",
   "version": "3.11.5"
  },
  "toc": {
   "base_numbering": 1,
   "nav_menu": {},
   "number_sections": true,
   "sideBar": true,
   "skip_h1_title": false,
   "title_cell": "Table of Contents",
   "title_sidebar": "Contents",
   "toc_cell": true,
   "toc_position": {},
   "toc_section_display": true,
   "toc_window_display": false
  },
  "varInspector": {
   "cols": {
    "lenName": 16,
    "lenType": 16,
    "lenVar": 40
   },
   "kernels_config": {
    "python": {
     "delete_cmd_postfix": "",
     "delete_cmd_prefix": "del ",
     "library": "var_list.py",
     "varRefreshCmd": "print(var_dic_list())"
    },
    "r": {
     "delete_cmd_postfix": ") ",
     "delete_cmd_prefix": "rm(",
     "library": "var_list.r",
     "varRefreshCmd": "cat(var_dic_list()) "
    }
   },
   "types_to_exclude": [
    "module",
    "function",
    "builtin_function_or_method",
    "instance",
    "_Feature"
   ],
   "window_display": false
  }
 },
 "nbformat": 4,
 "nbformat_minor": 5
}
