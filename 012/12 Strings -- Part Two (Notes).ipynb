{
 "cells": [
  {
   "cell_type": "markdown",
   "id": "aa4ccd50",
   "metadata": {},
   "source": [
    "# <center><b>Python for Data Science</b></center>\n",
    "# <center><b>Lesson 12</b></center>\n",
    "# <center><b>Strings -- Part Two</b></center>"
   ]
  },
  {
   "cell_type": "markdown",
   "id": "076af6d5",
   "metadata": {},
   "source": [
    "<center><i>Adapted from:</i></center>\n",
    "<center>*****************</center>\n",
    "\n",
    "<center>How to Think Like a Computer Scientist: Interactive Edition</center>"
   ]
  },
  {
   "cell_type": "markdown",
   "id": "fd6dbf1f",
   "metadata": {},
   "source": [
    "<b>Resources:<br></b>\n",
    "\n",
    "- [How to Think Like a Computer Scientist: Interactive Edition](https://runestone.academy/ns/books/published/thinkcspy/index.html)\n",
    "***\n",
    "- [Advanced String Slicing](https://drive.google.com/file/d/153mM7pEgLHzNdJtip_bxOottivtZGx20/view?usp=sharing)\n",
    "- [Strings and Character Data in Python (Real Python)](https://realpython.com/python-strings/)\n",
    "- [Python Strings -- Stanford Computer Science](https://cs.stanford.edu/people/nick/py/python-string.html)\n",
    "- [Mastering Python Strings (Towards Data Science)](https://towardsdatascience.com/mastering-python-strings-3c933686962a)\n",
    "- [Python Strings (tutorialspoint)](https://www.tutorialspoint.com/python/python_strings.htm)\n",
    "- [Python Strings -- With Examples (Programiz)](https://www.programiz.com/python-programming/string)"
   ]
  },
  {
   "cell_type": "markdown",
   "id": "d44e0861",
   "metadata": {},
   "source": [
    "##  <span style=\"color:green\">TABLE OF CONTENTS</span>\n",
    "\n",
    "1. [Strings Revisited](#1.1)<br>\n",
    "2. [Strings as a Collection Data Type](#1.2)<br>\n",
    "3. [Operations on Strings](#1.3)<br>\n",
    "a. [Concatenation ... (The + Operator with Strings)](#1.4)<br>\n",
    "b. [Repetition ... (The * Operator with Strings)](#1.5)\n",
    "4. [Index Operator: Working with the Characters of a String](#1.6)<br>\n",
    "5. [The Length Function Applied to a String](#1.7)<br>\n",
    "6. [The Slice Operator](#1.8)\n",
    "7. [String Comparison](#1.9)\n",
    "8. [Strings Are Immutable](#1.10)\n",
    "9. [The In and Not In Operators](#1.11)\n",
    "10. [Character Classification](#1.12)\n",
    "11. [String Methods](#1.13)\n",
    "12. [Summary](#1.14)\n",
    "13. [Glossary](#1.15)"
   ]
  },
  {
   "cell_type": "code",
   "execution_count": 15,
   "id": "0cb374e6",
   "metadata": {},
   "outputs": [
    {
     "name": "stdout",
     "output_type": "stream",
     "text": [
      "This notebook is now set up to display multiple output in one cell.\n"
     ]
    }
   ],
   "source": [
    "# set up notebook to display multiple output in one cell\n",
    "from IPython.core.interactiveshell import InteractiveShell\n",
    "InteractiveShell.ast_node_interactivity = \"all\"\n",
    "\n",
    "print(\"This notebook is now set up to display multiple output in one cell.\")"
   ]
  },
  {
   "cell_type": "markdown",
   "id": "4a6a61fe",
   "metadata": {},
   "source": [
    "<a class=\"anchor\" id=\"1.1\"></a>\n",
    "<a class=\"anchor\" id=\"T1\"></a>\n",
    "<div class=\"alert alert-block alert-info\">\n",
    "<b><font size=\"4\">1. Strings Revisited</font></b></div>"
   ]
  },
  {
   "cell_type": "markdown",
   "id": "789f6555",
   "metadata": {},
   "source": [
    "- Throughout the start of the course strings have been used to represent words or phrases that we wanted to print out. \n",
    "- The definition of a string was simple: a string is simply some characters inside quotes. \n",
    "- In this unit strings will be explored in much more detail."
   ]
  },
  {
   "cell_type": "markdown",
   "id": "3e8557e7",
   "metadata": {},
   "source": [
    "<a class=\"anchor\" id=\"1.2\"></a>\n",
    "<a class=\"anchor\" id=\"T1\"></a>\n",
    "<div class=\"alert alert-block alert-info\">\n",
    "<b><font size=\"4\">2. Strings as a Collection Data Type</font></b></div>"
   ]
  },
  {
   "cell_type": "markdown",
   "id": "950265df",
   "metadata": {},
   "source": [
    "- So far we have seen built-in data types like: int, float, bool, and str. \n",
    "- int, float, and bool are considered to be simple or primitive data types because their values are not composed of any smaller parts. They cannot be broken down. \n",
    "- On the other hand, strings and lists are different from the others because they are made up of smaller pieces. In the case of strings, they are made up of smaller strings each containing one character.\n",
    "- Types that are comprised of smaller pieces are called **collection data types**. (See [<b>Collection Data Types in Python</b>](https://medium.com/analytics-vidhya/collection-data-types-in-python-3a3f9c0b554).)\n",
    "- Depending on what we are doing, we may want to treat a collection data type as a single entity (the whole), or we may want to access its parts. This ambiguity is useful.\n",
    "- Strings can be defined as <u>sequential</u> collections of characters. This means that the individual characters that make up the string are assumed to be in a particular order from left to right.\n",
    "- A string that contains no characters, often referred to as the empty string, is still considered to be a string. It is simply a sequence of zero characters and is represented by '  ' or “  ” (two single or two double quotes with nothing in between)."
   ]
  },
  {
   "cell_type": "markdown",
   "id": "1e1e2ab5",
   "metadata": {},
   "source": [
    "<a class=\"anchor\" id=\"1.3\"></a>\n",
    "<a class=\"anchor\" id=\"T1\"></a>\n",
    "<div class=\"alert alert-block alert-info\">\n",
    "<b><font size=\"4\">3. Operations on Strings</font></b></div>"
   ]
  },
  {
   "cell_type": "markdown",
   "id": "30aa631f",
   "metadata": {},
   "source": [
    "- In general, you cannot perform mathematical operations on strings, even if the strings look like numbers."
   ]
  },
  {
   "cell_type": "code",
   "execution_count": 16,
   "id": "4e98ec82",
   "metadata": {},
   "outputs": [
    {
     "name": "stdout",
     "output_type": "stream",
     "text": [
      "<class 'str'>\n",
      "<class 'int'>\n"
     ]
    },
    {
     "ename": "TypeError",
     "evalue": "can only concatenate str (not \"int\") to str",
     "output_type": "error",
     "traceback": [
      "\u001b[1;31m---------------------------------------------------------------------------\u001b[0m",
      "\u001b[1;31mTypeError\u001b[0m                                 Traceback (most recent call last)",
      "Input \u001b[1;32mIn [16]\u001b[0m, in \u001b[0;36m<cell line: 6>\u001b[1;34m()\u001b[0m\n\u001b[0;32m      3\u001b[0m \u001b[38;5;28mprint\u001b[39m(\u001b[38;5;28mtype\u001b[39m(\u001b[38;5;124m'\u001b[39m\u001b[38;5;124mPython\u001b[39m\u001b[38;5;124m'\u001b[39m))\n\u001b[0;32m      4\u001b[0m \u001b[38;5;28mprint\u001b[39m(\u001b[38;5;28mtype\u001b[39m(\u001b[38;5;241m10\u001b[39m))\n\u001b[1;32m----> 6\u001b[0m \u001b[38;5;124;43m'\u001b[39;49m\u001b[38;5;124;43mPython\u001b[39;49m\u001b[38;5;124;43m'\u001b[39;49m\u001b[43m \u001b[49m\u001b[38;5;241;43m+\u001b[39;49m\u001b[43m \u001b[49m\u001b[38;5;241;43m10\u001b[39;49m\n",
      "\u001b[1;31mTypeError\u001b[0m: can only concatenate str (not \"int\") to str"
     ]
    }
   ],
   "source": [
    "# Try to add a string and an integer\n",
    "\n",
    "print(type('Python'))\n",
    "print(type(10))\n",
    "\n",
    "'Python' + 10   # Assumes that Python has type string"
   ]
  },
  {
   "cell_type": "code",
   "execution_count": 17,
   "id": "010fc4e0",
   "metadata": {},
   "outputs": [
    {
     "ename": "TypeError",
     "evalue": "unsupported operand type(s) for /: 'str' and 'int'",
     "output_type": "error",
     "traceback": [
      "\u001b[1;31m---------------------------------------------------------------------------\u001b[0m",
      "\u001b[1;31mTypeError\u001b[0m                                 Traceback (most recent call last)",
      "Input \u001b[1;32mIn [17]\u001b[0m, in \u001b[0;36m<cell line: 3>\u001b[1;34m()\u001b[0m\n\u001b[0;32m      1\u001b[0m \u001b[38;5;66;03m# Try to divide a string and an integer\u001b[39;00m\n\u001b[1;32m----> 3\u001b[0m \u001b[38;5;124;43m\"\u001b[39;49m\u001b[38;5;124;43mdog\u001b[39;49m\u001b[38;5;124;43m\"\u001b[39;49m\u001b[43m \u001b[49m\u001b[38;5;241;43m/\u001b[39;49m\u001b[43m \u001b[49m\u001b[38;5;241;43m16\u001b[39;49m\n",
      "\u001b[1;31mTypeError\u001b[0m: unsupported operand type(s) for /: 'str' and 'int'"
     ]
    }
   ],
   "source": [
    "# Try to divide a string by an integer\n",
    "\n",
    "\"dog\" / 16\n"
   ]
  },
  {
   "cell_type": "code",
   "execution_count": 89,
   "id": "1f5fbb82",
   "metadata": {},
   "outputs": [
    {
     "ename": "NameError",
     "evalue": "name 'Python' is not defined",
     "output_type": "error",
     "traceback": [
      "\u001b[1;31m---------------------------------------------------------------------------\u001b[0m",
      "\u001b[1;31mNameError\u001b[0m                                 Traceback (most recent call last)",
      "\u001b[1;32m<ipython-input-89-ba7b3f3b2cb7>\u001b[0m in \u001b[0;36m<module>\u001b[1;34m\u001b[0m\n\u001b[0;32m      1\u001b[0m \u001b[1;31m# Run the code in this cell\u001b[0m\u001b[1;33m\u001b[0m\u001b[1;33m\u001b[0m\u001b[1;33m\u001b[0m\u001b[0m\n\u001b[0;32m      2\u001b[0m \u001b[1;33m\u001b[0m\u001b[0m\n\u001b[1;32m----> 3\u001b[1;33m \u001b[0mPython\u001b[0m \u001b[1;33m*\u001b[0m \u001b[1;34m\"dog\"\u001b[0m\u001b[1;33m\u001b[0m\u001b[1;33m\u001b[0m\u001b[0m\n\u001b[0m",
      "\u001b[1;31mNameError\u001b[0m: name 'Python' is not defined"
     ]
    }
   ],
   "source": [
    "# Try to multiply a string by an integer\n",
    "\n",
    "Python * \"dog\""
   ]
  },
  {
   "cell_type": "code",
   "execution_count": 18,
   "id": "fc9e2077",
   "metadata": {},
   "outputs": [
    {
     "data": {
      "text/plain": [
       "20"
      ]
     },
     "execution_count": 18,
     "metadata": {},
     "output_type": "execute_result"
    }
   ],
   "source": [
    "# Adding two integers\n",
    "\n",
    "12 + 8"
   ]
  },
  {
   "cell_type": "code",
   "execution_count": 19,
   "id": "9b4ec31f",
   "metadata": {},
   "outputs": [
    {
     "ename": "TypeError",
     "evalue": "can only concatenate str (not \"int\") to str",
     "output_type": "error",
     "traceback": [
      "\u001b[1;31m---------------------------------------------------------------------------\u001b[0m",
      "\u001b[1;31mTypeError\u001b[0m                                 Traceback (most recent call last)",
      "Input \u001b[1;32mIn [19]\u001b[0m, in \u001b[0;36m<cell line: 3>\u001b[1;34m()\u001b[0m\n\u001b[0;32m      1\u001b[0m \u001b[38;5;66;03m# Run the code in this cell\u001b[39;00m\n\u001b[1;32m----> 3\u001b[0m \u001b[38;5;124;43m\"\u001b[39;49m\u001b[38;5;124;43m12\u001b[39;49m\u001b[38;5;124;43m\"\u001b[39;49m\u001b[43m \u001b[49m\u001b[38;5;241;43m+\u001b[39;49m\u001b[43m \u001b[49m\u001b[38;5;241;43m8\u001b[39;49m\n",
      "\u001b[1;31mTypeError\u001b[0m: can only concatenate str (not \"int\") to str"
     ]
    }
   ],
   "source": [
    "# Run the code in this cell\n",
    "\n",
    "\"12\" + 8   # Why doesn't this work?"
   ]
  },
  {
   "cell_type": "markdown",
   "id": "f4e30a41",
   "metadata": {},
   "source": [
    "<a class=\"anchor\" id=\"1.4\"></a>\n",
    "### <span style=\"color:green\">a. Concatenation ... (The + Operator with Strings)</span>"
   ]
  },
  {
   "cell_type": "markdown",
   "id": "ace13f48",
   "metadata": {},
   "source": [
    "- The + operator does work with strings, but for strings, the + operator represents **concatenation**, not addition. \n",
    "- Concatenation means joining the two operands by linking them end-to-end."
   ]
  },
  {
   "cell_type": "code",
   "execution_count": 23,
   "id": "50c9488b",
   "metadata": {},
   "outputs": [
    {
     "name": "stdout",
     "output_type": "stream",
     "text": [
      "Brookfield Central Lancers\n",
      "Brookfield East Spartans\n"
     ]
    }
   ],
   "source": [
    "# Concatenation examples\n",
    "\n",
    "school_1 = \"Brookfield Central \"   # notice the blank space at the end of the string\n",
    "school_2 = \"Brookfield East\"\n",
    "nickname_1 = \"Lancers\"\n",
    "nickname_2 = \" Spartans\"           # notice the blank space at the beginning of the string\n",
    "\n",
    "print(school_1 + nickname_1)\n",
    "print(school_2 + nickname_2)"
   ]
  },
  {
   "cell_type": "markdown",
   "id": "f52ca5a8",
   "metadata": {},
   "source": [
    "- The space after the word Central and the space before the word Spartans are parts of their respective strings and are necessary to produce the space between the concatenated strings. "
   ]
  },
  {
   "cell_type": "code",
   "execution_count": 24,
   "id": "ad04d485",
   "metadata": {},
   "outputs": [
    {
     "name": "stdout",
     "output_type": "stream",
     "text": [
      "Wauwatosa EastRed Raiders\n"
     ]
    }
   ],
   "source": [
    "# Concatenation example ... but this time without the spaces\n",
    "\n",
    "school_3 = \"Wauwatosa East\"\n",
    "nickname_3 = \"Red Raiders\"\n",
    "\n",
    "print(school_3 + nickname_3)      # What do you notice?"
   ]
  },
  {
   "cell_type": "markdown",
   "id": "08e3c4fc",
   "metadata": {},
   "source": [
    "<a class=\"anchor\" id=\"1.5\"></a>\n",
    "### <span style=\"color:green\">b. Repetition ... (The * Operator with Strings)</span>"
   ]
  },
  {
   "cell_type": "markdown",
   "id": "41f4c012",
   "metadata": {},
   "source": [
    "- The * operator also works on strings.  \n",
    "- It performs <b>repetition</b>.  \n",
    "- For example, 'Pandas'*4 is 'PandasPandasPandasPandas'.  \n",
    "- One of the operands has to be a string and the other has to be an integer."
   ]
  },
  {
   "cell_type": "code",
   "execution_count": 25,
   "id": "3490b2de",
   "metadata": {},
   "outputs": [
    {
     "name": "stdout",
     "output_type": "stream",
     "text": [
      "defensedefensedefensedefense\n",
      "Bucks in six ! Bucks in six ! Bucks in six ! \n",
      "Bucks in six ! ! ! \n"
     ]
    }
   ],
   "source": [
    "# Repetition examples\n",
    "\n",
    "print(\"defense\" * 4)\n",
    "\n",
    "name = \"Bucks \"\n",
    "number = \"six \"\n",
    "\n",
    "print((name + \"in \" + number + \"! \") * 3)\n",
    "print(name + \"in \" + number + \"! \" * 3)"
   ]
  },
  {
   "cell_type": "markdown",
   "id": "34af3ea4",
   "metadata": {},
   "source": [
    "- Note in the last example that the order of operations for * and + is the same as it was for arithmetic. \n",
    "- The repetition is done before the concatenation. \n",
    "- If you want to cause the concatenation to be done first, you will need to use parenthesis."
   ]
  },
  {
   "cell_type": "code",
   "execution_count": 26,
   "id": "ed160ac0",
   "metadata": {},
   "outputs": [
    {
     "name": "stdout",
     "output_type": "stream",
     "text": [
      "BlueBlueBlue\n"
     ]
    },
    {
     "ename": "TypeError",
     "evalue": "can't multiply sequence by non-int of type 'str'",
     "output_type": "error",
     "traceback": [
      "\u001b[1;31m---------------------------------------------------------------------------\u001b[0m",
      "\u001b[1;31mTypeError\u001b[0m                                 Traceback (most recent call last)",
      "Input \u001b[1;32mIn [26]\u001b[0m, in \u001b[0;36m<cell line: 2>\u001b[1;34m()\u001b[0m\n\u001b[0;32m      1\u001b[0m \u001b[38;5;28mprint\u001b[39m(\u001b[38;5;241m3\u001b[39m \u001b[38;5;241m*\u001b[39m \u001b[38;5;124m\"\u001b[39m\u001b[38;5;124mBlue\u001b[39m\u001b[38;5;124m\"\u001b[39m)\n\u001b[1;32m----> 2\u001b[0m \u001b[38;5;28mprint\u001b[39m(\u001b[38;5;124;43m\"\u001b[39;49m\u001b[38;5;124;43m3\u001b[39;49m\u001b[38;5;124;43m\"\u001b[39;49m\u001b[43m \u001b[49m\u001b[38;5;241;43m*\u001b[39;49m\u001b[43m \u001b[49m\u001b[38;5;124;43m\"\u001b[39;49m\u001b[38;5;124;43mBlue\u001b[39;49m\u001b[38;5;124;43m\"\u001b[39;49m)\n",
      "\u001b[1;31mTypeError\u001b[0m: can't multiply sequence by non-int of type 'str'"
     ]
    }
   ],
   "source": [
    "print(3 * \"Blue\")\n",
    "print(\"3\" * \"Blue\")     # What conclusion can you draw?"
   ]
  },
  {
   "cell_type": "code",
   "execution_count": 27,
   "id": "98bb69aa",
   "metadata": {},
   "outputs": [
    {
     "name": "stdout",
     "output_type": "stream",
     "text": [
      "3Blue\n"
     ]
    },
    {
     "ename": "TypeError",
     "evalue": "unsupported operand type(s) for +: 'int' and 'str'",
     "output_type": "error",
     "traceback": [
      "\u001b[1;31m---------------------------------------------------------------------------\u001b[0m",
      "\u001b[1;31mTypeError\u001b[0m                                 Traceback (most recent call last)",
      "Input \u001b[1;32mIn [27]\u001b[0m, in \u001b[0;36m<cell line: 2>\u001b[1;34m()\u001b[0m\n\u001b[0;32m      1\u001b[0m \u001b[38;5;28mprint\u001b[39m(\u001b[38;5;124m\"\u001b[39m\u001b[38;5;124m3\u001b[39m\u001b[38;5;124m\"\u001b[39m \u001b[38;5;241m+\u001b[39m \u001b[38;5;124m\"\u001b[39m\u001b[38;5;124mBlue\u001b[39m\u001b[38;5;124m\"\u001b[39m)\n\u001b[1;32m----> 2\u001b[0m \u001b[38;5;28mprint\u001b[39m(\u001b[38;5;241;43m3\u001b[39;49m\u001b[43m \u001b[49m\u001b[38;5;241;43m+\u001b[39;49m\u001b[43m \u001b[49m\u001b[38;5;124;43m\"\u001b[39;49m\u001b[38;5;124;43mBlue\u001b[39;49m\u001b[38;5;124;43m\"\u001b[39;49m)\n",
      "\u001b[1;31mTypeError\u001b[0m: unsupported operand type(s) for +: 'int' and 'str'"
     ]
    }
   ],
   "source": [
    "print(\"3\" + \"Blue\")\n",
    "print(3 + \"Blue\")      # What conclusion can you draw?"
   ]
  },
  {
   "cell_type": "markdown",
   "id": "b79b2705",
   "metadata": {},
   "source": [
    "<a class=\"anchor\" id=\"1.6\"></a>\n",
    "<a class=\"anchor\" id=\"T1\"></a>\n",
    "<div class=\"alert alert-block alert-info\">\n",
    "<b><font size=\"4\">4. Index Operator: Working with the Characters of a String</font></b></div>"
   ]
  },
  {
   "attachments": {
    "UW.PNG": {
     "image/png": "[encoded data removed]"
    }
   },
   "cell_type": "markdown",
   "id": "496c236c",
   "metadata": {},
   "source": [
    "###### The indexing operator (Python uses square brackets to enclose the index) selects a single character from a string. \n",
    "<p>&nbsp;</p>\n",
    "\n",
    "- The characters are accessed by their position or index value. \n",
    "- For example, in the string shown below, the 17 characters are indexed left to right from postion 0 to position 16.\n",
    "\n",
    "![UW.PNG](attachment:UW.PNG)\n",
    "<p>&nbsp;</p>\n",
    "\n",
    "- It is also the case that the positions are named from right to left using negative numbers where -1 is the rightmost index and so on. Note that the character at index 9 (or -8) is the blank character."
   ]
  },
  {
   "cell_type": "code",
   "execution_count": 29,
   "id": "65a2dad0",
   "metadata": {},
   "outputs": [
    {
     "name": "stdout",
     "output_type": "stream",
     "text": [
      "n\n",
      " \n",
      "W\n",
      "W\n",
      "\n",
      "W is the zero-eth letter of the string.\n",
      "W is the zero-eth letter of the string.\n"
     ]
    }
   ],
   "source": [
    "# Run the code in this cell\n",
    "\n",
    "college_team = 'Wisconsin Badgers'\n",
    "x = college_team[5]\n",
    "y = college_team[9]\n",
    "z = college_team[0]\n",
    "p = college_team[4 * 3 - 12]\n",
    "\n",
    "print(x)\n",
    "print(y)\n",
    "print(z)\n",
    "print(p)\n",
    "\n",
    "print()\n",
    "\n",
    "print(f\"{z} is the zero-eth letter of the string.\")\n",
    "print(f\"{p} is the zero-eth letter of the string.\")"
   ]
  },
  {
   "cell_type": "markdown",
   "id": "5791330f",
   "metadata": {},
   "source": [
    "- The expression **college_team[5]** selects the character at index 5 from college_team, and creates a new string containing just this one character. The variable x refers to the result.\n",
    "- Computer scientists often start counting from zero. The letter at index zero of \"Wisconsin Badgers\" is W. \n",
    "- If you want the zero-eth letter of a string, you just put 0, or any expression with the value 0, in the brackets. \n",
    "- The expression in brackets is called an **index**. \n",
    "- An index specifies a member of an ordered collection. In this case the collection of characters in the string. The index indicates which character you want. It can be any integer expression so long as it evaluates to a valid index value.\n",
    "- Note that indexing returns a string — Python has no special type for a single character. It is just a string of length 1."
   ]
  },
  {
   "cell_type": "code",
   "execution_count": 30,
   "id": "ccaa263d",
   "metadata": {},
   "outputs": [
    {
     "name": "stdout",
     "output_type": "stream",
     "text": [
      "s\n",
      "n\n"
     ]
    }
   ],
   "source": [
    "# Use some negative indexes\n",
    "\n",
    "last_character = college_team[-1]\n",
    "print(last_character)\n",
    "\n",
    "character = college_team[-9]\n",
    "print(character)"
   ]
  },
  {
   "cell_type": "markdown",
   "id": "5e8a5c1c",
   "metadata": {},
   "source": [
    "<a class=\"anchor\" id=\"1.7\"></a>\n",
    "<a class=\"anchor\" id=\"T1\"></a>\n",
    "<div class=\"alert alert-block alert-info\">\n",
    "<b><font size=\"4\">5. The Length Function Applied to a String</font></b></div>"
   ]
  },
  {
   "cell_type": "markdown",
   "id": "99f99538",
   "metadata": {},
   "source": [
    "- The **len** function, when applied to a string, returns the number of characters in a string."
   ]
  },
  {
   "cell_type": "code",
   "execution_count": 102,
   "id": "94c25336",
   "metadata": {},
   "outputs": [
    {
     "name": "stdout",
     "output_type": "stream",
     "text": [
      "20\n"
     ]
    }
   ],
   "source": [
    "# Example of len() function applied to a string\n",
    "\n",
    "school = \"Marquette University\"\n",
    "print(len(school))\n"
   ]
  },
  {
   "cell_type": "code",
   "execution_count": 32,
   "id": "17563277",
   "metadata": {},
   "outputs": [
    {
     "ename": "IndexError",
     "evalue": "string index out of range",
     "output_type": "error",
     "traceback": [
      "\u001b[1;31m---------------------------------------------------------------------------\u001b[0m",
      "\u001b[1;31mIndexError\u001b[0m                                Traceback (most recent call last)",
      "Input \u001b[1;32mIn [32]\u001b[0m, in \u001b[0;36m<cell line: 5>\u001b[1;34m()\u001b[0m\n\u001b[0;32m      3\u001b[0m school \u001b[38;5;241m=\u001b[39m \u001b[38;5;124m\"\u001b[39m\u001b[38;5;124mMarquette University\u001b[39m\u001b[38;5;124m\"\u001b[39m\n\u001b[0;32m      4\u001b[0m n \u001b[38;5;241m=\u001b[39m \u001b[38;5;28mlen\u001b[39m(school)\n\u001b[1;32m----> 5\u001b[0m last_character \u001b[38;5;241m=\u001b[39m \u001b[43mschool\u001b[49m\u001b[43m[\u001b[49m\u001b[43mn\u001b[49m\u001b[43m]\u001b[49m     \u001b[38;5;66;03m# this will cause an error!\u001b[39;00m\n\u001b[0;32m      6\u001b[0m \u001b[38;5;28mprint\u001b[39m(last_character)\n",
      "\u001b[1;31mIndexError\u001b[0m: string index out of range"
     ]
    }
   ],
   "source": [
    "# common mistake when finding the last character of a string \n",
    "\n",
    "school = \"Marquette University\"\n",
    "n = len(school)\n",
    "last_character = school[n]     # this will cause an error!\n",
    "print(last_character)"
   ]
  },
  {
   "cell_type": "markdown",
   "id": "0f7246ba",
   "metadata": {},
   "source": [
    "- The code in the cell above causes the runtime error IndexError: string index out of range. \n",
    "- The reason is that there is no letter at index position 20 in \"Marquette University\". \n",
    "- Since Python starts counting at zero, the 20 indexes are numbered 0 to 19. \n",
    "- To get the last character, we have to subtract 1 from the length (see below)."
   ]
  },
  {
   "cell_type": "code",
   "execution_count": 33,
   "id": "72cbba8d",
   "metadata": {},
   "outputs": [
    {
     "name": "stdout",
     "output_type": "stream",
     "text": [
      "y\n"
     ]
    }
   ],
   "source": [
    "# correct way to find the last character of a string \n",
    "\n",
    "school = \"Marquette University\"\n",
    "n = len(school)\n",
    "last_character = school[n - 1]     # this will work!\n",
    "print(last_character)"
   ]
  },
  {
   "cell_type": "markdown",
   "id": "66c1cde1",
   "metadata": {},
   "source": [
    "- You can also use negative indices, which count backward from the end of the string. \n",
    "- The expression school [-1] yields the last letter, school[-2] yields the second to last, and so on. "
   ]
  },
  {
   "cell_type": "code",
   "execution_count": 34,
   "id": "c15b5a40",
   "metadata": {},
   "outputs": [
    {
     "name": "stdout",
     "output_type": "stream",
     "text": [
      "y\n",
      "t\n"
     ]
    }
   ],
   "source": [
    "# Using negative indices\n",
    "\n",
    "school = \"Marquette University\"\n",
    "last_character = school[-1]\n",
    "print(last_character)\n",
    "\n",
    "second_last_character = school[-2]\n",
    "print(second_last_character)\n"
   ]
  },
  {
   "cell_type": "markdown",
   "id": "68729a13",
   "metadata": {},
   "source": [
    "<a class=\"anchor\" id=\"1.8\"></a>\n",
    "<a class=\"anchor\" id=\"T1\"></a>\n",
    "<div class=\"alert alert-block alert-info\">\n",
    "<b><font size=\"4\">6. The Slice Operator</font></b></div>"
   ]
  },
  {
   "cell_type": "markdown",
   "id": "26741c0e",
   "metadata": {},
   "source": [
    "- A substring of a string is called a slice. \n",
    "- Selecting a slice is similar to selecting a character ...\n",
    "- The **slice operator** [n:m] returns the part of the string from the n’th character to the m’th character, including the first but excluding the last. \n",
    "- In other words, start with the character at index n and go up to but do not include the character at index m. \n",
    "- If you omit the first index (before the colon), the slice starts at the beginning of the string. \n",
    "- If you omit the second index, the slice goes to the end of the string.\n",
    "- There is no Index Out Of Range exception for a slice. A slice is forgiving and shifts any offending index to something legal."
   ]
  },
  {
   "attachments": {
    "slice-2.PNG": {
     "image/png": "[encoded data removed]"
    }
   },
   "cell_type": "markdown",
   "id": "7b6f1f09",
   "metadata": {},
   "source": [
    "![slice-2.PNG](attachment:slice-2.PNG)"
   ]
  },
  {
   "cell_type": "code",
   "execution_count": 41,
   "id": "75aef43e",
   "metadata": {},
   "outputs": [
    {
     "name": "stdout",
     "output_type": "stream",
     "text": [
      "Country\n",
      " Western\n"
     ]
    }
   ],
   "source": [
    "# Using the slice operator\n",
    "\n",
    "music = \"Country Western\"\n",
    "print(music[0:7])\n",
    "print(music[7:15])"
   ]
  },
  {
   "cell_type": "code",
   "execution_count": 39,
   "id": "a1105ee2",
   "metadata": {},
   "outputs": [
    {
     "name": "stdout",
     "output_type": "stream",
     "text": [
      "ern\n",
      "ern\n"
     ]
    }
   ],
   "source": [
    "# Using the slice operator\n",
    "\n",
    "print(music[12:15])\n",
    "print(music[12:300])"
   ]
  },
  {
   "cell_type": "code",
   "execution_count": 42,
   "id": "eb8ebe5b",
   "metadata": {},
   "outputs": [
    {
     "name": "stdout",
     "output_type": "stream",
     "text": [
      "West\n",
      "\n",
      "\n"
     ]
    }
   ],
   "source": [
    "# Using the slice operator\n",
    "\n",
    "print(music[-7:-3])\n",
    "print(music[-3:-7])\n",
    "print(music[4:-15])"
   ]
  },
  {
   "cell_type": "code",
   "execution_count": 43,
   "id": "40b164fa",
   "metadata": {},
   "outputs": [
    {
     "name": "stdout",
     "output_type": "stream",
     "text": [
      "ry Western\n",
      "Country Wes\n"
     ]
    }
   ],
   "source": [
    "# Using the slice operator\n",
    "\n",
    "print(music[5:])\n",
    "print(music[:11])"
   ]
  },
  {
   "cell_type": "markdown",
   "id": "8d2cd853",
   "metadata": {},
   "source": [
    "<a class=\"anchor\" id=\"1.9\"></a>\n",
    "<a class=\"anchor\" id=\"T1\"></a>\n",
    "<div class=\"alert alert-block alert-info\">\n",
    "<b><font size=\"4\">7. String Comparison</font></b></div>"
   ]
  },
  {
   "cell_type": "markdown",
   "id": "f6633a90",
   "metadata": {},
   "source": [
    "- The comparison operators also work on strings. \n",
    "- To see if two strings are equal you simply write a boolean expression using the equality operator.\n",
    "- Other comparison operations are useful for putting words in lexicographical order. This is similar to the alphabetical where you would use with a dictionary, except that **all the uppercase letters come before all the lowercase letters**.\n",
    "- It is probably clear to you that the word apple would be less than (come before) the word banana. After all, a is before b in the alphabet. But what if we consider the words apple and Apple? Are they the same?\n",
    "- It turns out, as you recall from our discussion of variable names, that uppercase and lowercase letters are considered to be different from one another. The way the computer knows they are different is that each character is assigned a unique integer value. “A” is 65, “B” is 66, and “5” is 53. The way you can find out the so-called ordinal value for a given character is to use a character function called ord.\n",
    "- When you compare characters or strings to one another, Python converts the characters into their equivalent ordinal values and compares the integers from left to right. As you can see from the example above, “a” is greater than “A” so “apple” is greater than “Apple”.\n",
    "- Humans commonly ignore capitalization when comparing two words. However, computers do not. A common way to address this issue is to convert strings to a standard format, such as all lowercase, before performing the comparison."
   ]
  },
  {
   "cell_type": "code",
   "execution_count": 61,
   "id": "167dee76",
   "metadata": {},
   "outputs": [
    {
     "name": "stdout",
     "output_type": "stream",
     "text": [
      "True \n",
      "\n",
      "The ordinal value of a =  97 .\n",
      "The ordinal value of b =  98 .\n"
     ]
    }
   ],
   "source": [
    "# String comparison example\n",
    "\n",
    "print(\"apple\" < \"banana\", \"\\n\")\n",
    "print(\"The ordinal value of a = \", ord('a'), \".\") \n",
    "print(\"The ordinal value of b = \", ord('b'), \".\")"
   ]
  },
  {
   "cell_type": "code",
   "execution_count": 62,
   "id": "0958c8db",
   "metadata": {},
   "outputs": [
    {
     "name": "stdout",
     "output_type": "stream",
     "text": [
      "True\n",
      "False\n",
      "False\n"
     ]
    }
   ],
   "source": [
    "# More string comparison examples \n",
    "\n",
    "print(\"apple\" == \"apple\")\n",
    "print(\"apple\" == \"Apple\")\n",
    "print(\"apple\" < \"Apple\")"
   ]
  },
  {
   "cell_type": "code",
   "execution_count": 108,
   "id": "8154cc2d",
   "metadata": {},
   "outputs": [
    {
     "name": "stdout",
     "output_type": "stream",
     "text": [
      "99\n",
      "67\n",
      "True\n"
     ]
    }
   ],
   "source": [
    "# More string comparison examples \n",
    "\n",
    "print(ord('c'))\n",
    "print(ord('C'))\n",
    "print('cat' > 'Cat')\n"
   ]
  },
  {
   "cell_type": "markdown",
   "id": "ac633aa8",
   "metadata": {},
   "source": [
    "<a class=\"anchor\" id=\"1.10\"></a>\n",
    "<a class=\"anchor\" id=\"T1\"></a>\n",
    "<div class=\"alert alert-block alert-info\">\n",
    "<b><font size=\"4\">8. Strings Are Immutable</font></b></div>"
   ]
  },
  {
   "cell_type": "markdown",
   "id": "de2c1343",
   "metadata": {},
   "source": [
    "- One thing that makes strings different from some other Python collection types is that you are not allowed to modify the individual characters in the collection. \n",
    "- It is tempting to use the [ ] operator on the left side of an assignment, with the intention of changing a character in a string. For example, in the following code, we would like to change the first letter of greeting."
   ]
  },
  {
   "cell_type": "code",
   "execution_count": 109,
   "id": "159d3712",
   "metadata": {},
   "outputs": [
    {
     "ename": "TypeError",
     "evalue": "'str' object does not support item assignment",
     "output_type": "error",
     "traceback": [
      "\u001b[1;31m---------------------------------------------------------------------------\u001b[0m",
      "\u001b[1;31mTypeError\u001b[0m                                 Traceback (most recent call last)",
      "\u001b[1;32m<ipython-input-109-52f021bca4ed>\u001b[0m in \u001b[0;36m<module>\u001b[1;34m\u001b[0m\n\u001b[0;32m      1\u001b[0m \u001b[0mschool_abbreviation\u001b[0m \u001b[1;33m=\u001b[0m \u001b[1;34m'BEHS'\u001b[0m\u001b[1;33m\u001b[0m\u001b[1;33m\u001b[0m\u001b[0m\n\u001b[1;32m----> 2\u001b[1;33m \u001b[0mschool_abbreviation\u001b[0m\u001b[1;33m[\u001b[0m\u001b[1;36m1\u001b[0m\u001b[1;33m]\u001b[0m \u001b[1;33m=\u001b[0m \u001b[1;34m'C'\u001b[0m    \u001b[1;31m# using the [] operator to change a character in a string isn't allowed\u001b[0m\u001b[1;33m\u001b[0m\u001b[1;33m\u001b[0m\u001b[0m\n\u001b[0m\u001b[0;32m      3\u001b[0m \u001b[0mprint\u001b[0m\u001b[1;33m(\u001b[0m\u001b[0mschool_abbreviation\u001b[0m\u001b[1;33m)\u001b[0m\u001b[1;33m\u001b[0m\u001b[1;33m\u001b[0m\u001b[0m\n",
      "\u001b[1;31mTypeError\u001b[0m: 'str' object does not support item assignment"
     ]
    }
   ],
   "source": [
    "# Example of strings being immutable\n",
    "\n",
    "school_abbreviation = 'BEHS'\n",
    "school_abbreviation[1] = 'C'    # using the [] operator to change a character in a string isn't allowed\n",
    "print(school_abbreviation)\n"
   ]
  },
  {
   "cell_type": "markdown",
   "id": "fa71a148",
   "metadata": {},
   "source": [
    "- Instead of producing the output BCHS, this code produces the runtime error TypeError: 'str' object does not support item assignment.\n",
    "- Strings are **immutable**, which means you cannot change an existing string. The best you can do is create a new string that is a variation on the original."
   ]
  },
  {
   "cell_type": "markdown",
   "id": "50c5ae5b",
   "metadata": {},
   "source": [
    "<a class=\"anchor\" id=\"1.11\"></a>\n",
    "<div class=\"alert alert-block alert-info\">\n",
    "<b><font size=\"4\">9. The In and Not In Operators</font></b></div>"
   ]
  },
  {
   "cell_type": "markdown",
   "id": "4acf52ef",
   "metadata": {},
   "source": [
    "- The <b>in</b> operator tests if one string is a substring of another."
   ]
  },
  {
   "cell_type": "code",
   "execution_count": 110,
   "id": "9214fa9a",
   "metadata": {},
   "outputs": [
    {
     "name": "stdout",
     "output_type": "stream",
     "text": [
      "True\n",
      "True\n",
      "False\n",
      "True\n",
      "True\n",
      "False\n"
     ]
    }
   ],
   "source": [
    "# Examples involving the in operator\n",
    "\n",
    "print('currency' in 'concurrency')\n",
    "print('conc' in 'concurrency')\n",
    "print('red' in 'concurrency')\n",
    "print('concurrency' in 'concurrency')\n",
    "print('' in 'concurrency')\n",
    "print('red' in 'Red')\n"
   ]
  },
  {
   "cell_type": "markdown",
   "id": "433a4e48",
   "metadata": {},
   "source": [
    "- A string is a substring of itself, and the empty string is a substring of any other string. "
   ]
  },
  {
   "cell_type": "markdown",
   "id": "6982c193",
   "metadata": {},
   "source": [
    "- The <b>not in</b> operator returns the logical opposite result of <b>in</b>."
   ]
  },
  {
   "cell_type": "code",
   "execution_count": 3,
   "id": "f5658b0d",
   "metadata": {},
   "outputs": [
    {
     "name": "stdout",
     "output_type": "stream",
     "text": [
      "False\n",
      "True\n"
     ]
    }
   ],
   "source": [
    "# Examples involving the not in operator\n",
    "\n",
    "print('gram' not in 'Instagram')\n",
    "print('Python' not in 'Instgram') "
   ]
  },
  {
   "cell_type": "markdown",
   "id": "b88fc735",
   "metadata": {},
   "source": [
    "<a class=\"anchor\" id=\"1.12\"></a>\n",
    "<div class=\"alert alert-block alert-info\">\n",
    "<b><font size=\"4\">10. Character Classification</font></b></div>"
   ]
  },
  {
   "cell_type": "markdown",
   "id": "c21a27b6",
   "metadata": {},
   "source": [
    "- It is often helpful to examine a character and test whether it is upper- or lowercase, or whether it is a character or a digit. \n",
    "- The string module provides several constants that are useful for these purposes. \n",
    "- One of these, string.digits is equivalent to “0123456789”. It can be used to check if a character is a digit using the in operator.\n",
    "- The string string.ascii_lowercase contains all of the ascii letters that the system considers to be lowercase. \n",
    "- Similarly, string.ascii_uppercase contains all of the uppercase letters. \n",
    "- string.punctuation comprises all the characters considered to be punctuation.\n",
    "- For more information on string operations, refer to the [String Module Documentation](https://docs.python.org/3/library/string.html#module-string).\n",
    "<p>&nbsp;</p>\n",
    "- [ASCII](9https://en.wikipedia.org/wiki/ASCII)"
   ]
  },
  {
   "cell_type": "code",
   "execution_count": 5,
   "id": "d1c37667",
   "metadata": {},
   "outputs": [
    {
     "name": "stdout",
     "output_type": "stream",
     "text": [
      "abcdefghijklmnopqrstuvwxyz\n",
      "ABCDEFGHIJKLMNOPQRSTUVWXYZ\n",
      "0123456789\n",
      "!\"#$%&'()*+,-./:;<=>?@[\\]^_`{|}~\n"
     ]
    }
   ],
   "source": [
    "# String module constants\n",
    "\n",
    "import string                     # we need to import the string module\n",
    "\n",
    "print(string.ascii_lowercase)\n",
    "print(string.ascii_uppercase)\n",
    "print(string.digits)\n",
    "print(string.punctuation)\n"
   ]
  },
  {
   "cell_type": "markdown",
   "id": "14cbb540",
   "metadata": {},
   "source": [
    "<a class=\"anchor\" id=\"1.13\"></a>\n",
    "<div class=\"alert alert-block alert-info\">\n",
    "<b><font size=\"4\">11. String Methods</font></b></div>"
   ]
  },
  {
   "cell_type": "markdown",
   "id": "db6976db",
   "metadata": {},
   "source": [
    "- This topic will be covered separately."
   ]
  },
  {
   "cell_type": "markdown",
   "id": "d172c70d",
   "metadata": {},
   "source": [
    "<a class=\"anchor\" id=\"1.14\"></a>\n",
    "<div class=\"alert alert-block alert-info\">\n",
    "<b><font size=\"4\">12. Summary</font></b></div>"
   ]
  },
  {
   "cell_type": "markdown",
   "id": "99074be1",
   "metadata": {},
   "source": [
    "[Strings: Summary of Key Concepts](https://docs.google.com/document/d/1A2kcmaNS1UcJcoz2iTM63zSEw0RQ634RXlzKjI1GveM/edit?usp=sharing)"
   ]
  },
  {
   "cell_type": "markdown",
   "id": "1687d2db",
   "metadata": {},
   "source": [
    "<a class=\"anchor\" id=\"1.15\"></a>\n",
    "<div class=\"alert alert-block alert-info\">\n",
    "<b><font size=\"4\">13. Glossary</font></b></div>"
   ]
  },
  {
   "cell_type": "markdown",
   "id": "19ba6e7d",
   "metadata": {},
   "source": [
    "[Strings: Glossary](https://docs.google.com/document/d/1LIGgBTYSk8JPd8tUmJrh1-owuw844d5m3SxyF6YKtpQ/edit?usp=sharing)"
   ]
  },
  {
   "cell_type": "code",
   "execution_count": null,
   "id": "a66de878",
   "metadata": {},
   "outputs": [],
   "source": []
  }
 ],
 "metadata": {
  "kernelspec": {
   "display_name": "Python 3 (ipykernel)",
   "language": "python",
   "name": "python3"
  },
  "language_info": {
   "codemirror_mode": {
    "name": "ipython",
    "version": 3
   },
   "file_extension": ".py",
   "mimetype": "text/x-python",
   "name": "python",
   "nbconvert_exporter": "python",
   "pygments_lexer": "ipython3",
   "version": "3.11.4"
  }
 },
 "nbformat": 4,
 "nbformat_minor": 5
}
