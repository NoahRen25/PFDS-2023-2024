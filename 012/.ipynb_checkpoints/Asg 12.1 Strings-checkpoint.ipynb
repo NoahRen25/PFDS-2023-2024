{
 "cells": [
  {
   "cell_type": "markdown",
   "id": "09b372b5",
   "metadata": {},
   "source": [
    "# <center><b>PFDS</b></center> \n",
    "# <center><b>Asg 12.1</b></center> \n",
    "# <center><b>Strings</b></center>"
   ]
  },
  {
   "cell_type": "code",
   "execution_count": 9,
   "id": "97b3efb8",
   "metadata": {},
   "outputs": [],
   "source": [
    "# set up notebook to display multiple output in one cell\n",
    "\n",
    "from IPython.core.interactiveshell import InteractiveShell\n",
    "InteractiveShell.ast_node_interactivity = \"all\""
   ]
  },
  {
   "cell_type": "markdown",
   "id": "53bee6d2",
   "metadata": {},
   "source": [
    "<div class=\"alert alert-block alert-success\"><b>Question #1:</b>\n",
    "\n",
    "What is the result of each of the following?\n",
    "<p>&nbsp;</p>    \n",
    "a. \"Python\"[3]\n",
    "<p>&nbsp;</p> \n",
    "b. \"Python\"[-1]\n",
    "<p>&nbsp;</p> \n",
    "c. \"Python\"[0]\n",
    "<p>&nbsp;</p> \n",
    "d. \"Seaborn is a Python data visualization library based on matplotlib.\"[3:15]\n",
    "<p>&nbsp;</p> \n",
    "e. \"Seaborn is a Python data visualization library based on matplotlib.\"[-10:-1]\n",
    "<p>&nbsp;</p> \n",
    "f.  \"Seaborn is a Python data visualization library based on matplotlib.\"[ : ]\n",
    "<p>&nbsp;</p> \n",
    "g. \"A pandas groupby operation involves some combination of splitting the object, applying a function, and combining the results.\"[:16] \n",
    "<p>&nbsp;</p> \n",
    "h. \"A pandas groupby operation involves some combination of splitting the object, applying a function, and combining the results.\"[117:]  \n",
    "</div>"
   ]
  },
  {
   "cell_type": "code",
   "execution_count": 1,
   "id": "44b02677",
   "metadata": {},
   "outputs": [
    {
     "name": "stdout",
     "output_type": "stream",
     "text": [
      "h\n"
     ]
    }
   ],
   "source": [
    "print('h')"
   ]
  },
  {
   "cell_type": "code",
   "execution_count": 2,
   "id": "e7cd32d5",
   "metadata": {},
   "outputs": [
    {
     "name": "stdout",
     "output_type": "stream",
     "text": [
      "n\n"
     ]
    }
   ],
   "source": [
    "print('n')"
   ]
  },
  {
   "cell_type": "code",
   "execution_count": 3,
   "id": "fa608ec3",
   "metadata": {},
   "outputs": [
    {
     "name": "stdout",
     "output_type": "stream",
     "text": [
      "P\n"
     ]
    }
   ],
   "source": [
    "print('P')"
   ]
  },
  {
   "cell_type": "code",
   "execution_count": null,
   "id": "6b4483de",
   "metadata": {},
   "outputs": [],
   "source": [
    "print('born is a Py')"
   ]
  },
  {
   "cell_type": "code",
   "execution_count": 5,
   "id": "e7ee7f38",
   "metadata": {},
   "outputs": [
    {
     "name": "stdout",
     "output_type": "stream",
     "text": [
      "atplotlib\n"
     ]
    }
   ],
   "source": [
    "print('atpotlib')"
   ]
  },
  {
   "cell_type": "code",
   "execution_count": 7,
   "id": "f993ea16",
   "metadata": {},
   "outputs": [
    {
     "name": "stdout",
     "output_type": "stream",
     "text": [
      "Seaborn is a Python data visualization library based on matplotlib.\n"
     ]
    }
   ],
   "source": [
    "print(\"Seaborn is a Python data visualization library based on matplotlib.\")"
   ]
  },
  {
   "cell_type": "code",
   "execution_count": 8,
   "id": "456c4cfc",
   "metadata": {},
   "outputs": [
    {
     "name": "stdout",
     "output_type": "stream",
     "text": [
      "A pandas groupby\n"
     ]
    }
   ],
   "source": [
    "print(\"A pandas groupby\")"
   ]
  },
  {
   "cell_type": "code",
   "execution_count": 10,
   "id": "b25971bd",
   "metadata": {},
   "outputs": [
    {
     "name": "stdout",
     "output_type": "stream",
     "text": [
      "results.\n"
     ]
    }
   ],
   "source": [
    "print(\"results.\")"
   ]
  },
  {
   "cell_type": "markdown",
   "id": "c87dcf0a",
   "metadata": {},
   "source": [
    "<div class=\"alert alert-block alert-success\"><b>Question #2:</b>\n",
    "<p>&nbsp;</p>    \n",
    "What is the result of each of the following?\n",
    "<p>&nbsp;</p>  \n",
    "a. print('x' in 'matplotlib')\n",
    "<p>&nbsp;</p> \n",
    "b. print('t' in 'matplotlib')\n",
    "<p>&nbsp;</p> \n",
    "c. print('plot' in 'matplotlib')\n",
    "<p>&nbsp;</p> \n",
    "d. print('math' in 'matplotlib')\n",
    "<p>&nbsp;</p> \n",
    "e. print('math' not in 'matplotlib')\n",
    "<p>&nbsp;</p> \n",
    "f. print('plot' not in 'matplotlib')\n",
    "<p>&nbsp;</p> \n",
    "g. print('M' in 'matplotlib') \n",
    "</div>"
   ]
  },
  {
   "cell_type": "code",
   "execution_count": 13,
   "id": "5ab529b5",
   "metadata": {},
   "outputs": [
    {
     "name": "stdout",
     "output_type": "stream",
     "text": [
      "false\n"
     ]
    }
   ],
   "source": [
    "print('false')"
   ]
  },
  {
   "cell_type": "code",
   "execution_count": 12,
   "id": "93742f0b",
   "metadata": {},
   "outputs": [
    {
     "name": "stdout",
     "output_type": "stream",
     "text": [
      "True\n"
     ]
    }
   ],
   "source": [
    "print('true')"
   ]
  },
  {
   "cell_type": "code",
   "execution_count": 11,
   "id": "9ff8871a",
   "metadata": {},
   "outputs": [
    {
     "name": "stdout",
     "output_type": "stream",
     "text": [
      "True\n"
     ]
    }
   ],
   "source": [
    "print('true')"
   ]
  },
  {
   "cell_type": "code",
   "execution_count": 14,
   "id": "6f744b3b",
   "metadata": {},
   "outputs": [
    {
     "name": "stdout",
     "output_type": "stream",
     "text": [
      "false\n"
     ]
    }
   ],
   "source": [
    "print('false')"
   ]
  },
  {
   "cell_type": "code",
   "execution_count": 15,
   "id": "dec5fc20",
   "metadata": {},
   "outputs": [
    {
     "name": "stdout",
     "output_type": "stream",
     "text": [
      "true\n"
     ]
    }
   ],
   "source": [
    "print('true')"
   ]
  },
  {
   "cell_type": "code",
   "execution_count": 16,
   "id": "b1e28635",
   "metadata": {},
   "outputs": [
    {
     "name": "stdout",
     "output_type": "stream",
     "text": [
      "false\n"
     ]
    }
   ],
   "source": [
    "print('false')"
   ]
  },
  {
   "cell_type": "code",
   "execution_count": 17,
   "id": "c9314522",
   "metadata": {},
   "outputs": [
    {
     "name": "stdout",
     "output_type": "stream",
     "text": [
      "false\n"
     ]
    }
   ],
   "source": [
    "print('false')"
   ]
  },
  {
   "cell_type": "markdown",
   "id": "72d9f57f",
   "metadata": {},
   "source": [
    "<div class=\"alert alert-block alert-success\"><b>Question #3:</b>\n",
    "<p>&nbsp;</p>    \n",
    "What is the result of each of the following?\n",
    "<p>&nbsp;</p> \n",
    "a. ‘pandas’ > ‘numpy’\n",
    "<p>&nbsp;</p> \n",
    "b. ‘pandas’ == ‘Pandas’\n",
    "<p>&nbsp;</p> \n",
    "c. 'pandas' > 'Pandas'\n",
    "<p>&nbsp;</p> \n",
    "d. 'numpy' == 'numpy'\n",
    " "
   ]
  },
  {
   "cell_type": "code",
   "execution_count": 23,
   "id": "f0d20c5f",
   "metadata": {},
   "outputs": [
    {
     "name": "stdout",
     "output_type": "stream",
     "text": [
      "true\n"
     ]
    }
   ],
   "source": [
    "print('true')"
   ]
  },
  {
   "cell_type": "code",
   "execution_count": 24,
   "id": "1954e699",
   "metadata": {},
   "outputs": [
    {
     "name": "stdout",
     "output_type": "stream",
     "text": [
      "false\n"
     ]
    }
   ],
   "source": [
    "print('false')"
   ]
  },
  {
   "cell_type": "code",
   "execution_count": 25,
   "id": "0806171a",
   "metadata": {},
   "outputs": [
    {
     "name": "stdout",
     "output_type": "stream",
     "text": [
      "true\n"
     ]
    }
   ],
   "source": [
    "print('true')"
   ]
  },
  {
   "cell_type": "code",
   "execution_count": 26,
   "id": "84850ac2",
   "metadata": {},
   "outputs": [
    {
     "name": "stdout",
     "output_type": "stream",
     "text": [
      "true\n"
     ]
    }
   ],
   "source": [
    "print('true')"
   ]
  },
  {
   "cell_type": "markdown",
   "id": "2d84f4ce",
   "metadata": {},
   "source": [
    "<div class=\"alert alert-block alert-success\"><b>Question #4:</b>\n",
    "<p>&nbsp;</p>    \n",
    "a. Define a string that contains the word <i><b>Problem</b></i> and define another string as the word <i><b>Solving</b></i>. Combine these two strings to make the phrase <i><b>Problem Solving</b></i>. Do this two different ways with regard to getting the space between the two words. Print a blank line when you are done with this part.\n",
    "<p>&nbsp;</p> \n",
    "b. Define a string that contains the number 4 and a string that contains the number 7. Combine these two strings with the + operator. Print a blank line when you are done with this part.\n",
    "<p>&nbsp;</p> \n",
    "c. Define an integer as the number 4 and an integer as the number 7. Combine these two integers with the + operator. Print a blank line when you are done with this part.\n",
    "<p>&nbsp;</p> \n",
    "d. Explain why the output from (b) was different than the output from (c). To do this, assign your string explanation to a variable named explanation_1 and print out that variable. Print a blank line when you are done with this part.\n",
    "<p>&nbsp;</p> \n",
    "e. Define a string that contains the number <b>3</b> and a string that contains the number <b>14</b>. Write code that uses these strings to produce the string output <b>3.14</b>. Print a blank line when you are done with this part.\n",
    "<p>&nbsp;</p> \n",
    "f. Multiply the string 5 by the string 4 using the multiplication operator *. Print a blank line when you are done with this part.\n",
    "<p>&nbsp;</p> \n",
    "g. Multiply the integer 5 by the integer 4 using the multiplication operator *. Print a blank line when you are done with this part.\n",
    "<p>&nbsp;</p> \n",
    "h. Explain why the output in (f) was different from the output in (g). To do this, assign your string explanation to a variable named explanation_2 and print out that variable. Print a blank line when you are done with this part.\n",
    "</div>"
   ]
  },
  {
   "cell_type": "code",
   "execution_count": 29,
   "id": "2ac8180b",
   "metadata": {},
   "outputs": [
    {
     "name": "stdout",
     "output_type": "stream",
     "text": [
      "Problem Solving\n",
      "Problem Solving \n",
      "\n"
     ]
    }
   ],
   "source": [
    "problem = 'Problem '\n",
    "solving = 'Solving'\n",
    "problem_solving = problem + solving\n",
    "print(problem_solving)\n",
    "\n",
    "problem = 'Problem'\n",
    "solving = ' Solving'\n",
    "problem_solving = problem + solving\n",
    "print(problem_solving, '\\n')"
   ]
  },
  {
   "cell_type": "code",
   "execution_count": 35,
   "id": "0370eca2",
   "metadata": {},
   "outputs": [
    {
     "name": "stdout",
     "output_type": "stream",
     "text": [
      "47 \n",
      "\n"
     ]
    }
   ],
   "source": [
    "four = '4'\n",
    "seven = '7'\n",
    "print(four + seven, '\\n')"
   ]
  },
  {
   "cell_type": "code",
   "execution_count": 36,
   "id": "721bed15",
   "metadata": {},
   "outputs": [
    {
     "name": "stdout",
     "output_type": "stream",
     "text": [
      "11 \n",
      "\n"
     ]
    }
   ],
   "source": [
    "four = 4\n",
    "seven = 7\n",
    "print(four + seven, '\\n')"
   ]
  },
  {
   "cell_type": "code",
   "execution_count": 43,
   "id": "496ade59",
   "metadata": {},
   "outputs": [
    {
     "name": "stdout",
     "output_type": "stream",
     "text": [
      "this is because the integers are added together in python using the '+' operator. conversely, strings are concatenated.\n"
     ]
    }
   ],
   "source": [
    "explanation_1 = \"this is because the integers are added together in python using the '+' operator. conversely, strings are concatenated.\"\n",
    "print(explanation_1)"
   ]
  },
  {
   "cell_type": "code",
   "execution_count": 39,
   "id": "f8801dcb",
   "metadata": {},
   "outputs": [
    {
     "name": "stdout",
     "output_type": "stream",
     "text": [
      "3.14\n"
     ]
    }
   ],
   "source": [
    "first = 3\n",
    "second = 14\n",
    "print(first, second, sep='.')"
   ]
  },
  {
   "cell_type": "code",
   "execution_count": 46,
   "id": "1db0706c",
   "metadata": {},
   "outputs": [
    {
     "ename": "TypeError",
     "evalue": "can't multiply sequence by non-int of type 'str'",
     "output_type": "error",
     "traceback": [
      "\u001b[1;31m---------------------------------------------------------------------------\u001b[0m",
      "\u001b[1;31mTypeError\u001b[0m                                 Traceback (most recent call last)",
      "Cell \u001b[1;32mIn[46], line 3\u001b[0m\n\u001b[0;32m      1\u001b[0m first \u001b[38;5;241m=\u001b[39m \u001b[38;5;124m'\u001b[39m\u001b[38;5;124m5\u001b[39m\u001b[38;5;124m'\u001b[39m\n\u001b[0;32m      2\u001b[0m second \u001b[38;5;241m=\u001b[39m \u001b[38;5;124m'\u001b[39m\u001b[38;5;124m4\u001b[39m\u001b[38;5;124m'\u001b[39m\n\u001b[1;32m----> 3\u001b[0m \u001b[38;5;28mprint\u001b[39m(first\u001b[38;5;241m*\u001b[39msecond, end\u001b[38;5;241m=\u001b[39m\u001b[38;5;124m'\u001b[39m\u001b[38;5;130;01m\\n\u001b[39;00m\u001b[38;5;124m'\u001b[39m)\n",
      "\u001b[1;31mTypeError\u001b[0m: can't multiply sequence by non-int of type 'str'"
     ]
    }
   ],
   "source": [
    "first = '5'\n",
    "second = '4'\n",
    "print(first*second, end='\\n')"
   ]
  },
  {
   "cell_type": "code",
   "execution_count": 47,
   "id": "6d3e0746",
   "metadata": {},
   "outputs": [
    {
     "name": "stdout",
     "output_type": "stream",
     "text": [
      "20\n"
     ]
    }
   ],
   "source": [
    "first = 5\n",
    "second = 4\n",
    "print(first*second, end='\\n')"
   ]
  },
  {
   "cell_type": "code",
   "execution_count": 48,
   "id": "20189f77",
   "metadata": {},
   "outputs": [
    {
     "name": "stdout",
     "output_type": "stream",
     "text": [
      "this is because you can't multiply two strings together, whereas you are able to multiply ints\n"
     ]
    }
   ],
   "source": [
    "explanation_2 = 'this is because you can\\'t multiply two strings together, whereas you are able to multiply ints'\n",
    "print(explanation_2)"
   ]
  },
  {
   "cell_type": "markdown",
   "id": "b88c74f4",
   "metadata": {},
   "source": [
    "<div class=\"alert alert-block alert-success\"><b>Question #5:</b>\n",
    "\n",
    "Complete the following index and slicing operations after assigning the string 'Concatenate' to the variable <b>word</b>.\n",
    "<p>&nbsp;</p> \n",
    "<center><i><b>Note: Write a print statement at the end of each part to output a blank line.</b></i></center>\n",
    "<p>&nbsp;</p> \n",
    "a. Pull out the letter <i>C</i> from word.\n",
    "<p>&nbsp;</p>    \n",
    "b. Pull out the first four letters <i>Conc</i> from word.\n",
    "<p>&nbsp;</p> \n",
    "c. Pull out the sixth through 8th letters <i>ten</i> from word.\n",
    "<p>&nbsp;</p> \n",
    "d. Pull out every other letter from word starting with C (i.e. produce <i>Cnaeae</i> as your output.)\n",
    "<p>&nbsp;</p> \n",
    "e. Pull out every third letter from word starting with o (i.e. produce <i>oane</i> as your output.)\n",
    "<p>&nbsp;</p> \n",
    "f. Use indexing and slicing to output word backwards to produce <i>etanetacnoC</i> \n",
    "</div>"
   ]
  },
  {
   "cell_type": "markdown",
   "id": "cc6329b1",
   "metadata": {},
   "source": [
    "## Answers for Question #5\n",
    "\n",
    "Note: Before doing Question #5 you may want to read the following handout:\n",
    "\n",
    "[Advanced String Slicing](https://drive.google.com/file/d/153mM7pEgLHzNdJtip_bxOottivtZGx20/view?usp=sharing)\n",
    "\n",
    "Source:  <b>Problem Solving with Python</b> by Peter D. Kazarinoff"
   ]
  },
  {
   "cell_type": "code",
   "execution_count": 49,
   "id": "7e385636",
   "metadata": {},
   "outputs": [
    {
     "name": "stdout",
     "output_type": "stream",
     "text": [
      "C\n"
     ]
    }
   ],
   "source": [
    "word = 'Concatenate'\n",
    "print(word[0])"
   ]
  },
  {
   "cell_type": "code",
   "execution_count": 50,
   "id": "66ec40ce",
   "metadata": {},
   "outputs": [
    {
     "name": "stdout",
     "output_type": "stream",
     "text": [
      "Conc\n"
     ]
    }
   ],
   "source": [
    "word = 'Concatenate'\n",
    "print(word[0:4])"
   ]
  },
  {
   "cell_type": "code",
   "execution_count": 52,
   "id": "23acac27",
   "metadata": {},
   "outputs": [
    {
     "name": "stdout",
     "output_type": "stream",
     "text": [
      "ten\n"
     ]
    }
   ],
   "source": [
    "word = 'Concatenate'\n",
    "print(word[5:8])"
   ]
  },
  {
   "cell_type": "code",
   "execution_count": 53,
   "id": "b3034877",
   "metadata": {},
   "outputs": [
    {
     "name": "stdout",
     "output_type": "stream",
     "text": [
      "Cnaeae\n"
     ]
    }
   ],
   "source": [
    "word = 'Concatenate'\n",
    "print(word[: : 2])"
   ]
  },
  {
   "cell_type": "code",
   "execution_count": 55,
   "id": "7a8f67f4",
   "metadata": {},
   "outputs": [
    {
     "name": "stdout",
     "output_type": "stream",
     "text": [
      "oane\n"
     ]
    }
   ],
   "source": [
    "word = 'Concatenate'\n",
    "print(word[1: : 3])"
   ]
  },
  {
   "cell_type": "code",
   "execution_count": 57,
   "id": "ef0b4d99",
   "metadata": {},
   "outputs": [
    {
     "name": "stdout",
     "output_type": "stream",
     "text": [
      "etanetacnoC\n"
     ]
    }
   ],
   "source": [
    "word = 'Concatenate'\n",
    "print(word[: : -1])"
   ]
  },
  {
   "cell_type": "markdown",
   "id": "4229c3d5",
   "metadata": {},
   "source": [
    "<div class=\"alert alert-block alert-success\"><b>Question #6:</b>\n",
    "<p>&nbsp;</p> \n",
    "Define a string v as <i><b>Lemonade</b></i>, define a string w as <i><b>it's</b></i>, define a string x as <i><b>really</b></i>, define a string y as <i><b>cold!</b></i>, and a string z as <i><b>,</b></i> (... i.e as a comma).\n",
    "<p>&nbsp;</p>     \n",
    "a. Combine the strings v, w, x, y, and z to produce the string <i><b>Lemonade, it's really cold!</b></b> \n",
    "<p>&nbsp;</p> \n",
    "<center><i><b>Note: Write a print statement at the end of part (a) to output a blank line.</b></i></center>\n",
    "<p>&nbsp;</p>     \n",
    "b. Print out the statement <i><b>\"Donald Trump said \"Lemonade, it's reallyreally cold!\"</b></i> using the variables v, w, x, y, and z. \n",
    "<p>&nbsp;</p> \n",
    "<center><i><b>(Note:'reallyreally' was intentionally written that way -- do not change it!)</b></i></center> \n",
    "</div>"
   ]
  },
  {
   "cell_type": "code",
   "execution_count": 63,
   "id": "1f89c069",
   "metadata": {},
   "outputs": [
    {
     "name": "stdout",
     "output_type": "stream",
     "text": [
      "Lemonade, it's really cold!\n"
     ]
    }
   ],
   "source": [
    "v = 'Lemonade'\n",
    "w = \"it's \"\n",
    "x = 'really '\n",
    "y = 'cold!'\n",
    "z = ', '\n",
    "print(v+z+w+x+y)"
   ]
  },
  {
   "cell_type": "code",
   "execution_count": 76,
   "id": "71b91083",
   "metadata": {},
   "outputs": [
    {
     "name": "stdout",
     "output_type": "stream",
     "text": [
      "Donald Trump said \"Lemonade, it's reallyreally cold!\"\n"
     ]
    }
   ],
   "source": [
    "v = 'Lemonade'\n",
    "w = \"it's \"\n",
    "x = 'really'\n",
    "y = 'cold!'\n",
    "z = ', '\n",
    "print(\"Donald Trump said \\\"\"+v+z+w+x+x,y+ \"\\\"\")"
   ]
  },
  {
   "cell_type": "markdown",
   "id": "39ed88c4",
   "metadata": {},
   "source": [
    "<div class=\"alert alert-block alert-success\"><b>Question #6:</b><br>\n",
    "    \n",
    "Use the string <b>functions and packages</b> and slicing to produce the following words:\n",
    "<p>&nbsp;</p>  \n",
    "a. pack\n",
    "<p>&nbsp;</p> \n",
    "b. fun\n",
    "<p>&nbsp;</p> \n",
    "c. age \n",
    "</div>"
   ]
  },
  {
   "cell_type": "code",
   "execution_count": 77,
   "id": "bc99b00e",
   "metadata": {},
   "outputs": [
    {
     "name": "stdout",
     "output_type": "stream",
     "text": [
      "pack\n"
     ]
    }
   ],
   "source": [
    "str = 'functions and packages'\n",
    "print(str[14:18])"
   ]
  },
  {
   "cell_type": "code",
   "execution_count": 78,
   "id": "54987069",
   "metadata": {},
   "outputs": [
    {
     "name": "stdout",
     "output_type": "stream",
     "text": [
      "fun\n"
     ]
    }
   ],
   "source": [
    "str = 'functions and packages'\n",
    "print(str[0:3])"
   ]
  },
  {
   "cell_type": "code",
   "execution_count": 80,
   "id": "78e8e3bf",
   "metadata": {},
   "outputs": [
    {
     "name": "stdout",
     "output_type": "stream",
     "text": [
      "ages\n"
     ]
    }
   ],
   "source": [
    "str = 'functions and packages'\n",
    "print(str[18:22])"
   ]
  },
  {
   "cell_type": "markdown",
   "id": "879f438f",
   "metadata": {},
   "source": [
    "<div class=\"alert alert-block alert-success\"><b>Question #8:</b>\n",
    "\n",
    "city = Elm Grove\n",
    "<p>&nbsp;</p>    \n",
    "a. Use the appropriate method on the string city to return the output Elm grove.\n",
    "<p>&nbsp;</p> \n",
    "b. Use the appropriate method on the string city to return the output elm grove.\n",
    "<p>&nbsp;</p> \n",
    "c. Use the appropriate method on the string city to return the output ELM GROVE.\n",
    "<p>&nbsp;</p> \n",
    "d. Use the appropriate method on the string city to return the number of time the character 'e' appears in the string city. \n",
    "</div>"
   ]
  },
  {
   "cell_type": "code",
   "execution_count": 84,
   "id": "07e79194",
   "metadata": {},
   "outputs": [
    {
     "name": "stdout",
     "output_type": "stream",
     "text": [
      "Elm grove\n"
     ]
    }
   ],
   "source": [
    "city = \"Elm Grove\"\n",
    "print(city[0:3], city[4].lower()+city[5:9])"
   ]
  },
  {
   "cell_type": "code",
   "execution_count": 85,
   "id": "7d9156b7",
   "metadata": {},
   "outputs": [
    {
     "name": "stdout",
     "output_type": "stream",
     "text": [
      "elm grove\n"
     ]
    }
   ],
   "source": [
    "city = \"Elm Grove\"\n",
    "print(city.lower())"
   ]
  },
  {
   "cell_type": "code",
   "execution_count": 86,
   "id": "c37a50bf",
   "metadata": {},
   "outputs": [
    {
     "name": "stdout",
     "output_type": "stream",
     "text": [
      "ELM GROVE\n"
     ]
    }
   ],
   "source": [
    "city = \"Elm Grove\"\n",
    "print(city.upper())"
   ]
  },
  {
   "cell_type": "code",
   "execution_count": 91,
   "id": "0c8fa78c",
   "metadata": {},
   "outputs": [
    {
     "name": "stdout",
     "output_type": "stream",
     "text": [
      "1\n"
     ]
    }
   ],
   "source": [
    "city = \"Elm Grove\"\n",
    "print(city.count('e'))"
   ]
  },
  {
   "cell_type": "markdown",
   "id": "bfb9804e",
   "metadata": {},
   "source": [
    "<div class=\"alert alert-block alert-success\"><b>Question #9:</b>\n",
    "<p>&nbsp;</p\n",
    "    <center><i><b>Note: Write a print statement at the end of each part to output a blank line.</b></i></center>\n",
    "<p>&nbsp;</p> \n",
    "course = \"&emsp;Python for Data Science&emsp;    \"\n",
    "<p>&nbsp;</p> \n",
    "a. print(course)\n",
    "<p>&nbsp;</p> \n",
    "b. Use the appropriate method on the string course to return a string with the leading and trailing whitespace removed.\n",
    "<p>&nbsp;</p> \n",
    "c. Use the appropriate method on the string course to return a string with the trailing whitespace removed.\n",
    "<p>&nbsp;</p> \n",
    "d. Use the appropriate method on the string course to return a string with the leading whitespace removed.\n",
    "<p>&nbsp;</p> \n",
    "e. Use the appropriate method on the string course to return the string <b>FunPythonforDataScienceFun</b>.\n",
    "<p>&nbsp;</p> \n",
    "f. Use the appropriate method on the string course to return the string <b>Fun&emsp;PythonforDataScienceFun</b>.\n",
    "<p>&nbsp;</p> \n",
    "g. Use the appropriate method on the string course to return the string <b>FunPythonforDataScience&emsp;Fun</b>.\n",
    "</div>"
   ]
  },
  {
   "cell_type": "code",
   "execution_count": 94,
   "id": "ffec5195",
   "metadata": {},
   "outputs": [
    {
     "name": "stdout",
     "output_type": "stream",
     "text": [
      "  Python for Data Science  \n"
     ]
    }
   ],
   "source": [
    "course = \"  Python for Data Science  \"\n",
    "print(course)"
   ]
  },
  {
   "cell_type": "code",
   "execution_count": 95,
   "id": "1603f4f2",
   "metadata": {},
   "outputs": [
    {
     "name": "stdout",
     "output_type": "stream",
     "text": [
      "Python for Data Science\n"
     ]
    }
   ],
   "source": [
    "course = \"  Python for Data Science  \"\n",
    "print(course.strip())"
   ]
  },
  {
   "cell_type": "code",
   "execution_count": 96,
   "id": "f2bfbb6c",
   "metadata": {},
   "outputs": [
    {
     "name": "stdout",
     "output_type": "stream",
     "text": [
      "  Python for Data Science\n"
     ]
    }
   ],
   "source": [
    "course = \"  Python for Data Science  \"\n",
    "print(course.rstrip())"
   ]
  },
  {
   "cell_type": "code",
   "execution_count": 97,
   "id": "66fa2371",
   "metadata": {},
   "outputs": [
    {
     "name": "stdout",
     "output_type": "stream",
     "text": [
      "Python for Data Science  \n"
     ]
    }
   ],
   "source": [
    "course = \"  Python for Data Science  \"\n",
    "print(course.lstrip())"
   ]
  },
  {
   "cell_type": "code",
   "execution_count": 111,
   "id": "1f647d9d",
   "metadata": {},
   "outputs": [
    {
     "name": "stdout",
     "output_type": "stream",
     "text": [
      "  Python for Data Science\n"
     ]
    }
   ],
   "source": [
    "course = \"  Python for Data Science  \"\n",
    "print(course.rstrip())"
   ]
  },
  {
   "cell_type": "code",
   "execution_count": 1,
   "id": "66ffcfa6",
   "metadata": {},
   "outputs": [
    {
     "name": "stdout",
     "output_type": "stream",
     "text": [
      "Fun  PythonforDataScienceFun  \n"
     ]
    }
   ],
   "source": [
    "course = \"  Python for Data Science  \"\n",
    "print(course.replace('  ', 'Fun').replace(' ', '').replace('Fun', 'Fun  '))"
   ]
  },
  {
   "cell_type": "code",
   "execution_count": 113,
   "id": "6b1d1386",
   "metadata": {},
   "outputs": [
    {
     "name": "stdout",
     "output_type": "stream",
     "text": [
      "FunPythonforDataScience  Fun\n"
     ]
    }
   ],
   "source": [
    "course = \"  Python for Data Science  \"\n",
    "print(course.replace('  ', 'Fun', 1).replace('  ', '  Fun').replace(' ', '', 3))"
   ]
  },
  {
   "cell_type": "markdown",
   "id": "f6740eb6",
   "metadata": {},
   "source": [
    "<div class=\"alert alert-block alert-success\"><b>Question #10:</b>\n",
    "<p>&nbsp;</p>    \n",
    "str = 'Python is hard!'\n",
    "<p>&nbsp;</p> \n",
    "Use the appropriate method on the string str to return a string that replaces the word <b>hard</b> with the word <b>easy</b>. \n",
    "</div>"
   ]
  },
  {
   "cell_type": "code",
   "execution_count": 114,
   "id": "bb928458",
   "metadata": {},
   "outputs": [
    {
     "name": "stdout",
     "output_type": "stream",
     "text": [
      "Python is easy!\n"
     ]
    }
   ],
   "source": [
    "str = 'Python is hard!'\n",
    "print(str.replace('hard', 'easy'))"
   ]
  },
  {
   "cell_type": "markdown",
   "id": "621d68d1",
   "metadata": {},
   "source": [
    "<div class=\"alert alert-block alert-danger\"><b>Note:</b> \n",
    " \n",
    "* Once you are satisfied with your results, submit your .ipynb notebook and html or PDF file to Google Classroom. \n",
    " \n",
    "* Your files should include all output, i.e., run each cell and save your file before submitting.\n",
    "\n",
    "</div>"
   ]
  },
  {
   "cell_type": "code",
   "execution_count": null,
   "id": "c7d25131",
   "metadata": {},
   "outputs": [],
   "source": []
  }
 ],
 "metadata": {
  "kernelspec": {
   "display_name": "Python 3 (ipykernel)",
   "language": "python",
   "name": "python3"
  },
  "language_info": {
   "codemirror_mode": {
    "name": "ipython",
    "version": 3
   },
   "file_extension": ".py",
   "mimetype": "text/x-python",
   "name": "python",
   "nbconvert_exporter": "python",
   "pygments_lexer": "ipython3",
   "version": "3.11.4"
  }
 },
 "nbformat": 4,
 "nbformat_minor": 5
}
