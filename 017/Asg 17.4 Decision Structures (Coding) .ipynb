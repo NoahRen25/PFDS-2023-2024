{
 "cells": [
  {
   "cell_type": "markdown",
   "id": "aef02828",
   "metadata": {},
   "source": [
    "# <center><b>PFDS</b></center>\n",
    "# <center><b>Asg 17.4</b></center>\n",
    "# <center><b>Decision Structures (Coding)</b></center>"
   ]
  },
  {
   "cell_type": "code",
   "execution_count": null,
   "id": "55172829",
   "metadata": {},
   "outputs": [],
   "source": [
    "# set up notebook to display multiple output in one cell\n",
    "\n",
    "from IPython.core.interactiveshell import InteractiveShell\n",
    "\n",
    "InteractiveShell.ast_node_interactivity = \"all\"\n",
    "\n",
    "print('The notebook is set up to display multiple output in one cell.')"
   ]
  },
  {
   "cell_type": "markdown",
   "id": "35c2c74e",
   "metadata": {},
   "source": [
    "<div class=\"alert alert-block alert-success\"><b>Question 1</b>:<br> \n",
    "\n",
    "Many companies pay time-and-a-half for any hours worked above 40 in a given week. Write a program to input the number of hours worked and the hourly rate and calculate the total wages for the week. Test your code on the following cases:<br>\n",
    "\n",
    "a) hours worked = 25; hourly rate = \\\\$24.00<br>\n",
    "b) hours worked = 45; hourly rate = \\\\$40.00\n",
    "  \n",
    "</div>"
   ]
  },
  {
   "cell_type": "code",
   "execution_count": 3,
   "id": "62675ec6",
   "metadata": {},
   "outputs": [
    {
     "name": "stdout",
     "output_type": "stream",
     "text": [
      "Please enter the amount of hours you worked this past week: 45\n",
      "Please enter the amount you get paid per hour: 24\n",
      "The total amount of wages you earned this past week was $1140.0\n"
     ]
    }
   ],
   "source": [
    "hours_worked = eval(input('Please enter the amount of hours you worked this past week: '))\n",
    "payment = eval(input('Please enter the amount you get paid per hour: '))\n",
    "overtime = payment * 1.5\n",
    "if(hours_worked <= 40):\n",
    "    total_wages = (hours_worked * payment)\n",
    "else:\n",
    "    (40 * payment)+ ((hours_worked - 40) * overtime)\n",
    "print(f'The total amount of wages you earned this past week was ${total_wages}')\n"
   ]
  },
  {
   "cell_type": "markdown",
   "id": "5dd64d04",
   "metadata": {},
   "source": [
    "<div class=\"alert alert-block alert-success\"><b>Question 2</b>:<br> \n",
    "\n",
    "A certain CS professor gives 100-point exams that are graded on the scale 90-100:A, 80-89:B, 70-79:C, 60-69:0, <60:F. Write a program that accepts an exam score as input and uses a decision structure to calculate the corresponding grade and then output that grade using a formatted print statement. Test your code on the following cases:<br>\n",
    "\n",
    "a) exam score = 92<br>\n",
    "b) exam score = 75                                                                                                               </div>"
   ]
  },
  {
   "cell_type": "code",
   "execution_count": 3,
   "id": "35a8594b",
   "metadata": {},
   "outputs": [
    {
     "name": "stdout",
     "output_type": "stream",
     "text": [
      "Please enter your exam score: 90\n",
      "Congratulations! You got an A\n"
     ]
    }
   ],
   "source": [
    "exam_score = eval(input('Please enter your exam score: '))\n",
    "if(exam_score >= 90):\n",
    "    print('Congratulations! You got an A')\n",
    "elif(exam_score >=80):\n",
    "    print('You achieved a scoer of a B!')\n",
    "elif(exam_score >=70):\n",
    "    print('You recieved a score of a C')\n",
    "elif(exam_score >=60):\n",
    "    print('You got a D')\n",
    "else:\n",
    "    print('You got a F')"
   ]
  },
  {
   "cell_type": "markdown",
   "id": "9e3c17a8",
   "metadata": {},
   "source": [
    "<div class=\"alert alert-block alert-success\"><b>Question 3</b>:<br> \n",
    "\n",
    "The body mass index (BMI) is calculated as a person's weight (in pounds) times 720, divided by the square of the person's height (in inches). A BMI in the range 19-25, inclusive, is considered healthy. Write a program that uses appropriate input statements and then calculates a person's BMI and prints a message telling whether they are above, within, or below the healthy range. Test your code on the following cases:<br>\n",
    "\n",
    "a) person's weight = 180 lbs; person's height = 74 inches<br>\n",
    "b) person's weight = 125 lbs; person's height = 62 inches\n",
    "</div>"
   ]
  },
  {
   "cell_type": "code",
   "execution_count": null,
   "id": "9b76fde7",
   "metadata": {},
   "outputs": [],
   "source": [
    "weight = eval(input('Please enter your weight (lb): '))\n",
    "height = eval(input('Please enter your height (in): '))\n",
    "\n",
    "bmi = (weight * 720) / (height**2)\n",
    "if(bmi <=19 and >= 25):\n",
    "    print(f'Your BMI is {bmi} and you aer within the healthy range!')\n",
    "else:\n",
    "    print(f'Your BMI is {bmi} and you aren\\'t within the healthy range!')"
   ]
  },
  {
   "cell_type": "markdown",
   "id": "ab152966",
   "metadata": {},
   "source": [
    "<div class=\"alert alert-block alert-success\"><b>Question 4</b>:<br> \n",
    "\n",
    "A person is eligible to be a US senator if they are at least 30 years old and have been a US citizen for at least 9 years. To be a US representative these numbers are 25 and 7, respectively. Write a program that accepts a person's age and years of citizenship as input and outputs their eligibility for the Senate and House. Test your code on the following cases:<br>\n",
    "\n",
    "a) age: 40 years old; # of years US citizen: 8 years<br>\n",
    "b) age: 50 years old; # of years US citizen: 6 years\n",
    "</div>"
   ]
  },
  {
   "cell_type": "code",
   "execution_count": null,
   "id": "301d0d67",
   "metadata": {},
   "outputs": [],
   "source": []
  },
  {
   "cell_type": "markdown",
   "id": "3045099a",
   "metadata": {},
   "source": [
    "<div class=\"alert alert-block alert-success\"><b>Question 5</b>:<br> \n",
    "\n",
    "A year is a leap year if it is divisible by 4, unless it is a century year that is not divisible by 400. (1800 and 1900 are not leap years while 1600 and 2000 are.) Write a program that accepts a given year as input and then calculates whether that year is a leap year. Test your code on the following cases:<br>\n",
    "\n",
    "a) year: 2028<br>\n",
    "b) year: 2200\n",
    "</div>"
   ]
  },
  {
   "cell_type": "code",
   "execution_count": null,
   "id": "b032019a",
   "metadata": {},
   "outputs": [],
   "source": [
    "# This is an example snippet!\n",
    "# To create your own, add a new snippet block to the\n",
    "# snippets.json file in your jupyter nbextensions directory:\n",
    "# /nbextensions/snippets/snippets.json\n",
    "import this"
   ]
  },
  {
   "cell_type": "code",
   "execution_count": null,
   "id": "ebabc5ac",
   "metadata": {},
   "outputs": [],
   "source": []
  },
  {
   "cell_type": "markdown",
   "id": "4b317e2b",
   "metadata": {},
   "source": [
    "<div class=\"alert alert-block alert-success\"><b>Question 6</b>:<br> \n",
    "\n",
    "A babysitter charges \\\\$7.50 an hour until 9:00 PM when the rate drops to \\\\$5.75 an hour (the children are in bed). Write a program that accepts a starting time and ending time in hours and minutes and calculates the total babysitting bill. You may assume that the starting and ending times are in a single 24-hour period. Partial hours should be appropriately prorated. Test your code on the following cases:<br>\n",
    "\n",
    "a) starting time: 10:30 AM; ending time: 9:30 PM<br>\n",
    "b) starting time: 2:15 PM; ending time: 11:45 PM\n",
    "    \n",
    "   \n",
    "\n",
    "\n",
    "\n",
    "</div>"
   ]
  },
  {
   "cell_type": "code",
   "execution_count": null,
   "id": "32ef43b3",
   "metadata": {},
   "outputs": [],
   "source": []
  },
  {
   "cell_type": "markdown",
   "id": "aaac6701",
   "metadata": {},
   "source": [
    "<div class=\"alert alert-block alert-success\"><b>Question 7</b>:<br> \n",
    "\n",
    "A formula for computing Easter in the years 1982-2048, inclusive, is as follows: let a = year%19, b = year%4, c = year%7, d = (19a + 24)%30, e = (2b + 4c + 6d + 5)%7. The date of Easter is March 22 + d + e (which  could be in April). Write a program that inputs a year, verifies that it is in the proper range, and then prints out the date of Easter that year. Test your code on the following cases:<br>\n",
    "\n",
    "a) year: 2024<br>\n",
    "b) year: 2030\n",
    "</div>"
   ]
  },
  {
   "cell_type": "code",
   "execution_count": null,
   "id": "e602b304",
   "metadata": {},
   "outputs": [],
   "source": []
  },
  {
   "cell_type": "code",
   "execution_count": null,
   "id": "706d1dd1",
   "metadata": {},
   "outputs": [],
   "source": []
  }
 ],
 "metadata": {
  "kernelspec": {
   "display_name": "Python 3 (ipykernel)",
   "language": "python",
   "name": "python3"
  },
  "language_info": {
   "codemirror_mode": {
    "name": "ipython",
    "version": 3
   },
   "file_extension": ".py",
   "mimetype": "text/x-python",
   "name": "python",
   "nbconvert_exporter": "python",
   "pygments_lexer": "ipython3",
   "version": "3.11.4"
  },
  "varInspector": {
   "cols": {
    "lenName": 16,
    "lenType": 16,
    "lenVar": 40
   },
   "kernels_config": {
    "python": {
     "delete_cmd_postfix": "",
     "delete_cmd_prefix": "del ",
     "library": "var_list.py",
     "varRefreshCmd": "print(var_dic_list())"
    },
    "r": {
     "delete_cmd_postfix": ") ",
     "delete_cmd_prefix": "rm(",
     "library": "var_list.r",
     "varRefreshCmd": "cat(var_dic_list()) "
    }
   },
   "types_to_exclude": [
    "module",
    "function",
    "builtin_function_or_method",
    "instance",
    "_Feature"
   ],
   "window_display": false
  }
 },
 "nbformat": 4,
 "nbformat_minor": 5
}
