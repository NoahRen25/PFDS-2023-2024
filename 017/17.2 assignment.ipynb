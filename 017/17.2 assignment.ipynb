{
 "cells": [
  {
   "cell_type": "markdown",
   "id": "4d65ca7a",
   "metadata": {},
   "source": [
    "# Question 1"
   ]
  },
  {
   "cell_type": "code",
   "execution_count": 5,
   "id": "c795ecff",
   "metadata": {},
   "outputs": [
    {
     "name": "stdout",
     "output_type": "stream",
     "text": [
      "Please enter your name: Great Person\n",
      "Please enter the department you work in: Health\n",
      "Please enter your salary: 57000\n",
      "Please enter your period of service: 6\n",
      "Please enter your performance rating:Good\n",
      "Thank you Great Person for your 6 years of service in the Health department. You will be recieving a 8% bonus\n"
     ]
    }
   ],
   "source": [
    "name = input(\"Please enter your name: \")\n",
    "department = input(\"Please enter the department you work in: \")\n",
    "salary = eval(input(\"Please enter your salary: \"))\n",
    "years_worked = eval(input(\"Please enter your period of service: \"))\n",
    "service = input(\"Please enter your performance rating:\" )\n",
    "if(years_worked > 10):\n",
    "    bonus = 10\n",
    "elif(years_worked >= 6):\n",
    "    bonus = 8\n",
    "else:\n",
    "    bonus = 4\n",
    "print(f'Thank you {name} for your {years_worked} years of service in the {department} department. You will be recieving a {bonus}% bonus')"
   ]
  },
  {
   "cell_type": "markdown",
   "id": "4e5c3191",
   "metadata": {},
   "source": [
    "# Question 2"
   ]
  },
  {
   "cell_type": "code",
   "execution_count": 1,
   "id": "882ebc1d",
   "metadata": {},
   "outputs": [
    {
     "name": "stdout",
     "output_type": "stream",
     "text": [
      "Please enter your name: hi\n",
      "Please enter the department you work in: health\n",
      "Please enter your salary: 57\n",
      "Please enter your period of service: 5\n",
      "Please enter your performance rating:good\n",
      "Thank you hi for your 5 years of service in the health department. Your performance rating was good. You will be recieving a 6% bonus.\n"
     ]
    }
   ],
   "source": [
    "name = input(\"Please enter your name: \")\n",
    "department = input(\"Please enter the department you work in: \")\n",
    "salary = eval(input(\"Please enter your salary: \"))\n",
    "years_worked = eval(input(\"Please enter your period of service: \"))\n",
    "service = input(\"Please enter your performance rating:\" )\n",
    "if(years_worked > 10):\n",
    "    bonus = 10\n",
    "elif(years_worked >= 6):\n",
    "    bonus = 8\n",
    "else:\n",
    "    bonus = 4\n",
    "if(service.capitalize() == 'Excellent'):\n",
    "    bonus += 5\n",
    "elif(service.capitalize() == 'Good'):\n",
    "    bonus += 2\n",
    "print(f'Thank you {name} for your {years_worked} years of service in the {department} department. Your performance rating was {service}. You will be recieving a {bonus}% bonus.')"
   ]
  },
  {
   "cell_type": "markdown",
   "id": "579eec6d",
   "metadata": {},
   "source": [
    "# Question 3"
   ]
  },
  {
   "cell_type": "code",
   "execution_count": 3,
   "id": "b4168e50",
   "metadata": {},
   "outputs": [
    {
     "name": "stdout",
     "output_type": "stream",
     "text": [
      "First side of triangle: 5\n",
      "Second side of triangle: 6\n",
      "First side of triangle: 7\n",
      "That's a scalene triangle!\n"
     ]
    }
   ],
   "source": [
    "a = eval(input('First side of triangle: '))\n",
    "b = eval(input('Second side of triangle: '))\n",
    "c = eval(input('First side of triangle: '))\n",
    "\n",
    "if(a > 0 and b > 0 and c > 0):\n",
    "    if(a + b < c or a + c < b or b + c < a):\n",
    "        print('That is not a valid triangle')\n",
    "    else:\n",
    "        if(a == b and a == c):\n",
    "            print(\"That's a equilateral triangle!\")\n",
    "        elif(a == b or b == c):\n",
    "            print(\"That's a isosceles triangle!\")\n",
    "        else:\n",
    "            print('That\\'s a scalene triangle!')\n",
    "else:\n",
    "    print('That is not a valid triangle')"
   ]
  },
  {
   "cell_type": "markdown",
   "id": "934d4251",
   "metadata": {},
   "source": [
    "# Question 4"
   ]
  },
  {
   "cell_type": "code",
   "execution_count": 4,
   "id": "88d9933c",
   "metadata": {},
   "outputs": [
    {
     "name": "stdout",
     "output_type": "stream",
     "text": [
      "Please enter your name: Nathanael Ren\n",
      "Please enter your credit score: 23\n",
      "Please enter your income: 27\n",
      "Please enter your Debt-to-income (DTI) ratio: 95\n",
      "Apologies Nathanael Ren, you don't qualify for the loan.\n"
     ]
    }
   ],
   "source": [
    "name = input('Please enter your name: ')\n",
    "credit_score = eval(input('Please enter your credit score: '))\n",
    "income = eval(input('Please enter your income: '))\n",
    "dti = eval(input('Please enter your Debt-to-income (DTI) ratio: '))\n",
    "\n",
    "if(credit_score >= 620 and income >= 45000 and dti <= 43):\n",
    "    print(f'Congratulations {name}! You qualify for the loan!')\n",
    "elif(credit_score >= 500 and income >=75000 and dti <=37):\n",
    "    print(f'Congratulations {name}! You qualify for the loan!')\n",
    "elif(credit_score >= 750 and income >=35000 and dti <=37):\n",
    "    print(f'Congratulations {name}! You qualify for the loan!')\n",
    "elif(credit_score >= 750 and income >=75000 and dti <=50):\n",
    "    print(f'Congratulations {name}! You qualify for the loan!')\n",
    "else:\n",
    "    print(f'Apologies {name}, you don\\'t qualify for the loan.')"
   ]
  },
  {
   "cell_type": "code",
   "execution_count": null,
   "id": "60ff725e",
   "metadata": {},
   "outputs": [],
   "source": []
  }
 ],
 "metadata": {
  "kernelspec": {
   "display_name": "Python 3 (ipykernel)",
   "language": "python",
   "name": "python3"
  },
  "language_info": {
   "codemirror_mode": {
    "name": "ipython",
    "version": 3
   },
   "file_extension": ".py",
   "mimetype": "text/x-python",
   "name": "python",
   "nbconvert_exporter": "python",
   "pygments_lexer": "ipython3",
   "version": "3.11.5"
  },
  "varInspector": {
   "cols": {
    "lenName": 16,
    "lenType": 16,
    "lenVar": 40
   },
   "kernels_config": {
    "python": {
     "delete_cmd_postfix": "",
     "delete_cmd_prefix": "del ",
     "library": "var_list.py",
     "varRefreshCmd": "print(var_dic_list())"
    },
    "r": {
     "delete_cmd_postfix": ") ",
     "delete_cmd_prefix": "rm(",
     "library": "var_list.r",
     "varRefreshCmd": "cat(var_dic_list()) "
    }
   },
   "types_to_exclude": [
    "module",
    "function",
    "builtin_function_or_method",
    "instance",
    "_Feature"
   ],
   "window_display": false
  }
 },
 "nbformat": 4,
 "nbformat_minor": 5
}
