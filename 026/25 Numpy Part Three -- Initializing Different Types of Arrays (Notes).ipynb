{
 "cells": [
  {
   "cell_type": "markdown",
   "id": "6096854a",
   "metadata": {
    "toc": true
   },
   "source": [
    "<h1>Table of Contents<span class=\"tocSkip\"></span></h1>\n",
    "<div class=\"toc\"><ul class=\"toc-item\"><li><span><a href=\"#Python-for-Data-Science\" data-toc-modified-id=\"Python-for-Data-Science-1\"><span class=\"toc-item-num\">1&nbsp;&nbsp;</span><center><b>Python for Data Science</b></center></a></span></li><li><span><a href=\"#Lesson-25\" data-toc-modified-id=\"Lesson-25-2\"><span class=\"toc-item-num\">2&nbsp;&nbsp;</span><center><b>Lesson 25</b></center></a></span></li><li><span><a href=\"#NumPy----Part-Three\" data-toc-modified-id=\"NumPy----Part-Three-3\"><span class=\"toc-item-num\">3&nbsp;&nbsp;</span><center><b>NumPy -- Part Three</b></center></a></span></li><li><span><a href=\"#Initializing-Different-Types-of-Arrays-(Notes)\" data-toc-modified-id=\"Initializing-Different-Types-of-Arrays-(Notes)-4\"><span class=\"toc-item-num\">4&nbsp;&nbsp;</span><center><b>Initializing Different Types of Arrays (Notes)</b></center></a></span><ul class=\"toc-item\"><li><span><a href=\"#Link:-NumPy-Documentation\" data-toc-modified-id=\"Link:-NumPy-Documentation-4.1\"><span class=\"toc-item-num\">4.1&nbsp;&nbsp;</span><center><a href=\"https://numpy.org/\" rel=\"nofollow\" target=\"_blank\"><strong>Link: NumPy Documentation</strong></a></center></a></span></li></ul></li><li><span><a href=\"#TABLE-OF-CONTENTS\" data-toc-modified-id=\"TABLE-OF-CONTENTS-5\"><span class=\"toc-item-num\">5&nbsp;&nbsp;</span><span style=\"color:green\">TABLE OF CONTENTS</span></a></span><ul class=\"toc-item\"><li><span><a href=\"#a.-np.zeros()\" data-toc-modified-id=\"a.-np.zeros()-5.1\"><span class=\"toc-item-num\">5.1&nbsp;&nbsp;</span><span style=\"color:green\"><b>a. np.zeros()</b></span></a></span></li><li><span><a href=\"#b.-np.ones()\" data-toc-modified-id=\"b.-np.ones()-5.2\"><span class=\"toc-item-num\">5.2&nbsp;&nbsp;</span><span style=\"color:green\"><b>b. np.ones()</b></span></a></span></li><li><span><a href=\"#c.-np.full()\" data-toc-modified-id=\"c.-np.full()-5.3\"><span class=\"toc-item-num\">5.3&nbsp;&nbsp;</span><span style=\"color:green\"><b>c. np.full()</b></span></a></span></li><li><span><a href=\"#d.-np.full_like()\" data-toc-modified-id=\"d.-np.full_like()-5.4\"><span class=\"toc-item-num\">5.4&nbsp;&nbsp;</span><span style=\"color:green\"><b>d. np.full_like()</b></span></a></span></li><li><span><a href=\"#e.-np.empty()\" data-toc-modified-id=\"e.-np.empty()-5.5\"><span class=\"toc-item-num\">5.5&nbsp;&nbsp;</span><span style=\"color:green\"><b>e. np.empty()</b></span></a></span></li><li><span><a href=\"#f.-np.random.rand()\" data-toc-modified-id=\"f.-np.random.rand()-5.6\"><span class=\"toc-item-num\">5.6&nbsp;&nbsp;</span><span style=\"color:green\"><b>f. np.random.rand()</b></span></a></span></li><li><span><a href=\"#g.-np.random.random_sample()\" data-toc-modified-id=\"g.-np.random.random_sample()-5.7\"><span class=\"toc-item-num\">5.7&nbsp;&nbsp;</span><span style=\"color:green\"><b>g. np.random.random_sample()</b></span></a></span></li><li><span><a href=\"#h.-np.random.randomint()\" data-toc-modified-id=\"h.-np.random.randomint()-5.8\"><span class=\"toc-item-num\">5.8&nbsp;&nbsp;</span><span style=\"color:green\"><b>h. np.random.randomint()</b></span></a></span></li><li><span><a href=\"#i.-The-Identity-Matrix\" data-toc-modified-id=\"i.-The-Identity-Matrix-5.9\"><span class=\"toc-item-num\">5.9&nbsp;&nbsp;</span><span style=\"color:green\"><b>i. The Identity Matrix</b></span></a></span></li><li><span><a href=\"#j.-Repeating-an-Array\" data-toc-modified-id=\"j.-Repeating-an-Array-5.10\"><span class=\"toc-item-num\">5.10&nbsp;&nbsp;</span><span style=\"color:green\"><b>j. Repeating an Array</b></span></a></span><ul class=\"toc-item\"><li><span><a href=\"#More-on-Repeating-an-Array\" data-toc-modified-id=\"More-on-Repeating-an-Array-5.10.1\"><span class=\"toc-item-num\">5.10.1&nbsp;&nbsp;</span>More on Repeating an Array</a></span></li><li><span><a href=\"#NumPy-Repeat()\" data-toc-modified-id=\"NumPy-Repeat()-5.10.2\"><span class=\"toc-item-num\">5.10.2&nbsp;&nbsp;</span>NumPy Repeat()</a></span></li></ul></li><li><span><a href=\"#k.-Combining-Concepts-to-Initialize-an-Array\" data-toc-modified-id=\"k.-Combining-Concepts-to-Initialize-an-Array-5.11\"><span class=\"toc-item-num\">5.11&nbsp;&nbsp;</span><span style=\"color:green\"><b>k. Combining Concepts to Initialize an Array</b></span></a></span></li></ul></li></ul></div>"
   ]
  },
  {
   "cell_type": "markdown",
   "id": "b1bc9baf",
   "metadata": {},
   "source": [
    "## <center><b>Python for Data Science</b></center>\n",
    "## <center><b>Lesson 25</b></center>\n",
    "## <center><b>NumPy -- Part Three</b></center>\n",
    "## <center><b>Initializing Different Types of Arrays (Notes)</b></center>"
   ]
  },
  {
   "cell_type": "markdown",
   "id": "057de68e",
   "metadata": {},
   "source": [
    "<hr style=\"border:1px solid gray\">"
   ]
  },
  {
   "attachments": {
    "image.png": {
     "image/png": "[encoded data removed]"
    }
   },
   "cell_type": "markdown",
   "id": "d869bb37",
   "metadata": {},
   "source": [
    "![image.png](attachment:image.png)\n",
    "\n",
    "### <center>[**Link: NumPy Documentation**](https://numpy.org/)</center>"
   ]
  },
  {
   "cell_type": "markdown",
   "id": "11046c9f",
   "metadata": {},
   "source": [
    "##  <span style=\"color:green\">TABLE OF CONTENTS</span>\n",
    "\n",
    "1. [**Initializing Different Types of Arrays**](#1)<br>  a. [**np.zeros()**](#1a)<br>\n",
    "b. [**np.ones()**](#1b)<br>\n",
    "c. [**np.full()**](#1c)<br>\n",
    "d. [**np.full_like()**](#1d)<br>\n",
    "e. [**np.empty()**](#1e)<br>\n",
    "f. [**np.random.rand()**](#1f)<br>\n",
    "g. [**np.random.random_sample()**](#1g)<br>\n",
    "h. [**np.random.randomint()**](#1h)<br>\n",
    "i. [**The Identity Matrix**](#1i)<br>\n",
    "j. [**Repeating an Array**](#1j)<br>\n",
    "k. [**Combining Concepts to Initialize an Array**](#1k)<br>\n",
    "&emsp;<br>\n",
    "2. [**Copying an Array ... Be Careful!**](#2)<br>"
   ]
  },
  {
   "cell_type": "code",
   "execution_count": 3,
   "id": "4b62756f",
   "metadata": {},
   "outputs": [
    {
     "name": "stdout",
     "output_type": "stream",
     "text": [
      "The notebook is set up to display multiple output in one cell.\n"
     ]
    }
   ],
   "source": [
    "# set up notebook to display multiple output in one cell\n",
    "\n",
    "from IPython.core.interactiveshell import InteractiveShell\n",
    "InteractiveShell.ast_node_interactivity = \"all\"\n",
    "\n",
    "print('The notebook is set up to display multiple output in one cell.')"
   ]
  },
  {
   "cell_type": "code",
   "execution_count": 2,
   "id": "999722a0",
   "metadata": {},
   "outputs": [],
   "source": [
    "# import NumPy\n",
    "\n",
    "import numpy as np"
   ]
  },
  {
   "cell_type": "markdown",
   "id": "2d619b3d",
   "metadata": {},
   "source": [
    "<hr style=\"border:1px solid gray\">"
   ]
  },
  {
   "cell_type": "markdown",
   "id": "e030f018",
   "metadata": {},
   "source": [
    "<a class=\"anchor\" id=\"1\"></a>\n",
    "<div class=\"alert alert-block alert-info\">\n",
    "<b><font size=\"4\">1. Initializing Different Types of Arrays</font></b>\n",
    "</div>"
   ]
  },
  {
   "cell_type": "markdown",
   "id": "4e85d9a6",
   "metadata": {},
   "source": [
    "<a class=\"anchor\" id=\"1a\"></a>\n",
    "### <span style=\"color:green\"><b>a. np.zeros()</b></span>"
   ]
  },
  {
   "cell_type": "markdown",
   "id": "e0fa389e",
   "metadata": {},
   "source": [
    "- <b>Syntax: numpy.zeros(shape, dtype=float)</b>\n",
    "\n",
    "\n",
    "- Returns a new array of given shape and type, filled with zeros.\n",
    "\n",
    "\n",
    "- [numpy.zeros](https://numpy.org/doc/stable/reference/generated/numpy.zeros.html)"
   ]
  },
  {
   "cell_type": "code",
   "execution_count": 9,
   "id": "dd6ec5a5",
   "metadata": {},
   "outputs": [
    {
     "data": {
      "text/plain": [
       "array([0., 0., 0., 0., 0.])"
      ]
     },
     "execution_count": 9,
     "metadata": {},
     "output_type": "execute_result"
    },
    {
     "data": {
      "text/plain": [
       "array([[0., 0., 0.],\n",
       "       [0., 0., 0.]])"
      ]
     },
     "execution_count": 9,
     "metadata": {},
     "output_type": "execute_result"
    },
    {
     "data": {
      "text/plain": [
       "array([[[0., 0.],\n",
       "        [0., 0.],\n",
       "        [0., 0.]],\n",
       "\n",
       "       [[0., 0.],\n",
       "        [0., 0.],\n",
       "        [0., 0.]]])"
      ]
     },
     "execution_count": 9,
     "metadata": {},
     "output_type": "execute_result"
    }
   ],
   "source": [
    "# All 0s matrix\n",
    "\n",
    "np.zeros(5)\n",
    "np.zeros((2, 3))\n",
    "np.zeros((2, 3, 2))"
   ]
  },
  {
   "cell_type": "markdown",
   "id": "bb0b59ed",
   "metadata": {},
   "source": [
    "<a class=\"anchor\" id=\"1b\"></a>\n",
    "### <span style=\"color:green\"><b>b. np.ones()</b></span>"
   ]
  },
  {
   "cell_type": "markdown",
   "id": "9fc1bb4c",
   "metadata": {},
   "source": [
    "- <b>Syntax: numpy.ones(shape, dtype=None)</b>\n",
    "\n",
    "\n",
    "- Returns a new array of given shape and type, filled with ones.\n",
    "\n",
    "\n",
    "- [numpy.ones](https://numpy.org/doc/stable/reference/generated/numpy.ones.html)"
   ]
  },
  {
   "cell_type": "code",
   "execution_count": 10,
   "id": "2da82bf0",
   "metadata": {},
   "outputs": [
    {
     "data": {
      "text/plain": [
       "array([1., 1., 1., 1.])"
      ]
     },
     "execution_count": 10,
     "metadata": {},
     "output_type": "execute_result"
    },
    {
     "data": {
      "text/plain": [
       "array([[1., 1.],\n",
       "       [1., 1.],\n",
       "       [1., 1.]])"
      ]
     },
     "execution_count": 10,
     "metadata": {},
     "output_type": "execute_result"
    },
    {
     "data": {
      "text/plain": [
       "array([[[1, 1],\n",
       "        [1, 1]],\n",
       "\n",
       "       [[1, 1],\n",
       "        [1, 1]],\n",
       "\n",
       "       [[1, 1],\n",
       "        [1, 1]],\n",
       "\n",
       "       [[1, 1],\n",
       "        [1, 1]]])"
      ]
     },
     "execution_count": 10,
     "metadata": {},
     "output_type": "execute_result"
    }
   ],
   "source": [
    "# All 1s matrix\n",
    "\n",
    "np.ones(4)\n",
    "np.ones((3, 2))\n",
    "np.ones((4,2,2), dtype='int')"
   ]
  },
  {
   "cell_type": "markdown",
   "id": "3573f5c4",
   "metadata": {},
   "source": [
    "<a class=\"anchor\" id=\"1c\"></a>\n",
    "### <span style=\"color:green\"><b>c. np.full()</b></span>"
   ]
  },
  {
   "cell_type": "markdown",
   "id": "d3580af5",
   "metadata": {},
   "source": [
    "- <b>Syntax: numpy.full(shape, fill_value, dtype=None)</b>\n",
    "\n",
    "\n",
    "- Returns a new array of given shape and type, filled with fill_value.\n",
    "\n",
    "\n",
    "- [numpy.full](https://numpy.org/doc/stable/reference/generated/numpy.full.html)"
   ]
  },
  {
   "cell_type": "code",
   "execution_count": 12,
   "id": "386d67b9",
   "metadata": {},
   "outputs": [
    {
     "data": {
      "text/plain": [
       "array([77, 77, 77, 77, 77])"
      ]
     },
     "execution_count": 12,
     "metadata": {},
     "output_type": "execute_result"
    },
    {
     "data": {
      "text/plain": [
       "array([[99., 99.],\n",
       "       [99., 99.]])"
      ]
     },
     "execution_count": 12,
     "metadata": {},
     "output_type": "execute_result"
    },
    {
     "data": {
      "text/plain": [
       "array([[[11, 11],\n",
       "        [11, 11]],\n",
       "\n",
       "       [[11, 11],\n",
       "        [11, 11]],\n",
       "\n",
       "       [[11, 11],\n",
       "        [11, 11]]])"
      ]
     },
     "execution_count": 12,
     "metadata": {},
     "output_type": "execute_result"
    }
   ],
   "source": [
    "# All any other number\n",
    "\n",
    "np.full(5, 77)\n",
    "np.full((2,2), 99, dtype = float)\n",
    "np.full((3, 2, 2), 11)"
   ]
  },
  {
   "cell_type": "markdown",
   "id": "0e188663",
   "metadata": {},
   "source": [
    "<a class=\"anchor\" id=\"1d\"></a>\n",
    "### <span style=\"color:green\"><b>d. np.full_like()</b></span>"
   ]
  },
  {
   "cell_type": "markdown",
   "id": "9474a4e0",
   "metadata": {},
   "source": [
    "- <b>Syntax: numpy.full_like(a, fill_value, dtype=None)</b>\n",
    "\n",
    "\n",
    "- Returns a full array with the same shape and type as a given array.\n",
    "\n",
    "\n",
    "- [numpy.full_like](https://numpy.org/doc/stable/reference/generated/numpy.full_like.html)"
   ]
  },
  {
   "cell_type": "code",
   "execution_count": 13,
   "id": "b0ac2dd3",
   "metadata": {},
   "outputs": [
    {
     "name": "stdout",
     "output_type": "stream",
     "text": [
      "[[ 1  2  3  4  5  6  7]\n",
      " [ 8  9 10 11 12 13 14]]\n"
     ]
    },
    {
     "data": {
      "text/plain": [
       "array([[4, 4, 4, 4, 4, 4, 4],\n",
       "       [4, 4, 4, 4, 4, 4, 4]])"
      ]
     },
     "execution_count": 13,
     "metadata": {},
     "output_type": "execute_result"
    },
    {
     "data": {
      "text/plain": [
       "array([[7, 7, 7, 7, 7, 7, 7],\n",
       "       [7, 7, 7, 7, 7, 7, 7]])"
      ]
     },
     "execution_count": 13,
     "metadata": {},
     "output_type": "execute_result"
    }
   ],
   "source": [
    "# Any other number (full_like) ... allows you to take a shape that you already have and use full\n",
    "\n",
    "a = np.array([[1,2,3,4,5,6,7],[8,9,10,11,12,13,14]])\n",
    "print(a)\n",
    "\n",
    "np.full_like(a, 4)\n",
    "\n",
    "np.full(a.shape, 7)"
   ]
  },
  {
   "cell_type": "markdown",
   "id": "8360eafa",
   "metadata": {},
   "source": [
    "<a class=\"anchor\" id=\"1e\"></a>\n",
    "### <span style=\"color:green\"><b>e. np.empty()</b></span>"
   ]
  },
  {
   "cell_type": "markdown",
   "id": "92629256",
   "metadata": {},
   "source": [
    "- <b>Syntax: numpy.empty(shape, dtype=float)\n",
    "    \n",
    "\n",
    "- Returns a new array of given shape and type, without initializing entries.\n",
    "    \n",
    "\n",
    "- [numpy.empty](https://numpy.org/doc/stable/reference/generated/numpy.empty.html)"
   ]
  },
  {
   "cell_type": "code",
   "execution_count": 5,
   "id": "e71f9846",
   "metadata": {},
   "outputs": [
    {
     "data": {
      "text/plain": [
       "array([2.12199579e-314, 0.00000000e+000, 6.67976753e-321, 3.07689390e-312,\n",
       "       0.00000000e+000])"
      ]
     },
     "execution_count": 5,
     "metadata": {},
     "output_type": "execute_result"
    },
    {
     "data": {
      "text/plain": [
       "array([3.47739925e-081, 9.72825688e-072, 4.27707495e-033, 9.35590425e-067,\n",
       "       4.27782146e-033, 2.47032823e-322])"
      ]
     },
     "execution_count": 5,
     "metadata": {},
     "output_type": "execute_result"
    },
    {
     "data": {
      "text/plain": [
       "array([[    0,     1,     0],\n",
       "       [    0,  1104,     0],\n",
       "       [  768, 32765,     0]])"
      ]
     },
     "execution_count": 5,
     "metadata": {},
     "output_type": "execute_result"
    },
    {
     "data": {
      "text/plain": [
       "array([[1.29627510e-311, 2.47032823e-322, 0.00000000e+000],\n",
       "       [0.00000000e+000, 0.00000000e+000, 1.61590357e+184],\n",
       "       [5.28085690e-091, 6.70370904e+170, 8.31638154e-072],\n",
       "       [7.26610465e-043, 3.99910963e+252, 1.46030983e-319]])"
      ]
     },
     "execution_count": 5,
     "metadata": {},
     "output_type": "execute_result"
    },
    {
     "data": {
      "text/plain": [
       "array([[[0.00000000e+000, 0.00000000e+000, 0.00000000e+000,\n",
       "         0.00000000e+000]],\n",
       "\n",
       "       [[0.00000000e+000, 7.84576246e-321, 6.23050898e-307,\n",
       "         8.91238232e-313]]])"
      ]
     },
     "execution_count": 5,
     "metadata": {},
     "output_type": "execute_result"
    },
    {
     "data": {
      "text/plain": [
       "array([[[0.00000000e+000, 0.00000000e+000]],\n",
       "\n",
       "       [[0.00000000e+000, 0.00000000e+000]],\n",
       "\n",
       "       [[0.00000000e+000, 7.84576246e-321]],\n",
       "\n",
       "       [[6.23050898e-307, 8.91238232e-313]]])"
      ]
     },
     "execution_count": 5,
     "metadata": {},
     "output_type": "execute_result"
    }
   ],
   "source": [
    "# Return a new array of given shape and type, without initializing entries ... i.e. returns arbitrary values\n",
    "\n",
    "np.empty(5)\n",
    "np.empty(6)\n",
    "\n",
    "np.empty((3,3), dtype = int)\n",
    "np.empty((4,3))\n",
    "\n",
    "np.empty((2, 1, 4))\n",
    "np.empty((4, 1, 2))"
   ]
  },
  {
   "cell_type": "markdown",
   "id": "af4c6352",
   "metadata": {},
   "source": [
    "<a class=\"anchor\" id=\"1f\"></a>\n",
    "### <span style=\"color:green\"><b>f. np.random.rand()</b></span>"
   ]
  },
  {
   "cell_type": "markdown",
   "id": "7b5658ec",
   "metadata": {},
   "source": [
    "- <b>Syntax: random.rand(d0, d1, ..., dn)</b><br>\n",
    "&emsp;<br>\n",
    "- Where d0, d1, ..., dn are the dimensions of the returned array; They must be non-negative. If no argument is given a single Python float is returned.<br>\n",
    "&emsp;<br>\n",
    "- Creates an array of the given shape and populates it with random samples from a uniform distribution over [0, 1) ... i.e., populates it with random decimal numbers from the interval [0, 1).\n",
    "\n",
    "\n",
    "- [numpy.random.rand](https://numpy.org/doc/stable/reference/random/generated/numpy.random.rand.html)"
   ]
  },
  {
   "cell_type": "code",
   "execution_count": 30,
   "id": "b4a45f56",
   "metadata": {},
   "outputs": [
    {
     "data": {
      "text/plain": [
       "array([[0.04147494, 0.20604204],\n",
       "       [0.69415939, 0.82213167],\n",
       "       [0.46269279, 0.74179434],\n",
       "       [0.05142191, 0.10080878]])"
      ]
     },
     "execution_count": 30,
     "metadata": {},
     "output_type": "execute_result"
    },
    {
     "name": "stdout",
     "output_type": "stream",
     "text": [
      "\n"
     ]
    },
    {
     "data": {
      "text/plain": [
       "array([[[0.23954809, 0.15860697, 0.81595002, 0.77262282],\n",
       "        [0.12346922, 0.41465944, 0.96498569, 0.17407601],\n",
       "        [0.00390172, 0.83441963, 0.47280887, 0.51185958]],\n",
       "\n",
       "       [[0.71235953, 0.47692106, 0.39350904, 0.77596579],\n",
       "        [0.58526355, 0.83143935, 0.47365462, 0.47861294],\n",
       "        [0.44757471, 0.54172043, 0.98196593, 0.21805034]]])"
      ]
     },
     "execution_count": 30,
     "metadata": {},
     "output_type": "execute_result"
    }
   ],
   "source": [
    "# Random decimal numbers from the interval [0, 1)\n",
    "np.random.rand(4,2)  \n",
    "\n",
    "print()\n",
    "\n",
    "np.random.rand(2, 3, 4)  \n",
    "\n",
    "# note -- run this code cell multiple times"
   ]
  },
  {
   "cell_type": "code",
   "execution_count": 7,
   "id": "3ed79dfb",
   "metadata": {},
   "outputs": [
    {
     "data": {
      "text/plain": [
       "array([[5.90298374, 2.41181251, 0.75606699],\n",
       "       [4.66306712, 5.95730737, 2.70783753]])"
      ]
     },
     "execution_count": 7,
     "metadata": {},
     "output_type": "execute_result"
    },
    {
     "data": {
      "text/plain": [
       "array([[6.17560011, 7.12491018, 5.94504049],\n",
       "       [7.18476657, 5.4910909 , 4.92859256]])"
      ]
     },
     "execution_count": 7,
     "metadata": {},
     "output_type": "execute_result"
    },
    {
     "data": {
      "text/plain": [
       "array([[ 2.79374135,  0.51414294,  0.84658087],\n",
       "       [ 3.36734198, -1.53353573, -1.65221459]])"
      ]
     },
     "execution_count": 7,
     "metadata": {},
     "output_type": "execute_result"
    }
   ],
   "source": [
    "# Create a two-by-three array of random numbers from [0 6)\n",
    "\n",
    "6 * np.random.rand(2,3)  \n",
    "\n",
    "# Create a two-by-three array of random numbers from [4, 9)\n",
    "\n",
    "5 * np.random.rand(2,3) + 4\n",
    "\n",
    "# Create a two-by-three array of random numbers from [-3, 4)\n",
    "\n",
    "7 * np.random.rand(2,3) - 3\n",
    "\n",
    "# note -- run this code cell multiple times"
   ]
  },
  {
   "cell_type": "markdown",
   "id": "bf5993e6",
   "metadata": {},
   "source": [
    "<a class=\"anchor\" id=\"1g\"></a>\n",
    "### <span style=\"color:green\"><b>g. np.random.random_sample()</b></span>"
   ]
  },
  {
   "cell_type": "markdown",
   "id": "dd780f82",
   "metadata": {},
   "source": [
    "- <b>Syntax: random.random_sample(size=None)</b>\n",
    "\n",
    "\n",
    "- Returns random floats in the half-open interval [0.0, 1.0).\n",
    "\n",
    "\n",
    "- [numpy.random.random_sample](https://numpy.org/doc/stable/reference/random/generated/numpy.random.random_sample.html)"
   ]
  },
  {
   "cell_type": "code",
   "execution_count": 39,
   "id": "b267ec45",
   "metadata": {},
   "outputs": [
    {
     "data": {
      "text/plain": [
       "array([[0.35935933, 0.5621782 , 0.45987493, 0.3603909 ],\n",
       "       [0.56618322, 0.8611496 , 0.59472146, 0.95945216],\n",
       "       [0.14915411, 0.20568769, 0.83283035, 0.06864932]])"
      ]
     },
     "execution_count": 39,
     "metadata": {},
     "output_type": "execute_result"
    }
   ],
   "source": [
    "# Create random decimal numbers from the interval [0, 1) \n",
    "\n",
    "np.random.random_sample((3, 4))"
   ]
  },
  {
   "cell_type": "code",
   "execution_count": 41,
   "id": "cfe31fb2",
   "metadata": {},
   "outputs": [
    {
     "name": "stdout",
     "output_type": "stream",
     "text": [
      "[[ 1  2  3  4  5]\n",
      " [ 6  7  8  9 10]]\n",
      "\n"
     ]
    },
    {
     "data": {
      "text/plain": [
       "array([[0.01642941, 0.78911735, 0.63960912, 0.92550794, 0.62679023],\n",
       "       [0.62152318, 0.07182115, 0.20349267, 0.94241201, 0.39453516]])"
      ]
     },
     "execution_count": 41,
     "metadata": {},
     "output_type": "execute_result"
    }
   ],
   "source": [
    "# Can also pass in a shape to create random decimal numbers from the interval [0, 1)\n",
    "\n",
    "a = np.array([[1,2,3,4,5],[6, 7, 8, 9, 10]])\n",
    "print(a)\n",
    "\n",
    "print() \n",
    "\n",
    "np.random.random_sample(a.shape)"
   ]
  },
  {
   "cell_type": "code",
   "execution_count": 8,
   "id": "186405a8",
   "metadata": {},
   "outputs": [
    {
     "data": {
      "text/plain": [
       "array([[1.57800719, 2.12101412, 1.62925517],\n",
       "       [4.40203741, 3.60011396, 1.88619178]])"
      ]
     },
     "execution_count": 8,
     "metadata": {},
     "output_type": "execute_result"
    },
    {
     "name": "stdout",
     "output_type": "stream",
     "text": [
      "\n"
     ]
    },
    {
     "data": {
      "text/plain": [
       "array([[8.82623786, 5.23311087, 7.13150043],\n",
       "       [5.57412568, 7.45336462, 5.51517323]])"
      ]
     },
     "execution_count": 8,
     "metadata": {},
     "output_type": "execute_result"
    },
    {
     "name": "stdout",
     "output_type": "stream",
     "text": [
      "\n"
     ]
    },
    {
     "data": {
      "text/plain": [
       "array([[-2.16934626,  3.40185671, -2.87297972],\n",
       "       [-0.27950344,  1.46029272, -2.57634852]])"
      ]
     },
     "execution_count": 8,
     "metadata": {},
     "output_type": "execute_result"
    }
   ],
   "source": [
    "# Create a two-by-three array of random numbers from [0 6)\n",
    "6 * np.random.random_sample((2, 3))\n",
    "\n",
    "print()\n",
    "\n",
    "# Create a two-by-three array of random numbers from [4, 9)\n",
    "5 * np.random.random_sample((2, 3)) + 4\n",
    "\n",
    "print()\n",
    "\n",
    "# Create a two-by-three array of random numbers from [-3, 4)\n",
    "7 * np.random.random_sample((2, 3)) - 3\n",
    "\n",
    "# note -- run this code cell multiple times"
   ]
  },
  {
   "cell_type": "code",
   "execution_count": 9,
   "id": "d0968b8a",
   "metadata": {},
   "outputs": [
    {
     "name": "stdout",
     "output_type": "stream",
     "text": [
      "[[ 1  2  3  4  5  6  7]\n",
      " [ 8  9 10 11 12 13 14]]\n"
     ]
    },
    {
     "data": {
      "text/plain": [
       "array([[6.12843924, 3.85422296, 7.78992869, 3.35153144, 4.29313218,\n",
       "        4.03144806, 5.09077814],\n",
       "       [9.23040121, 7.36764443, 5.92349728, 6.28992846, 6.0421531 ,\n",
       "        5.12360431, 7.32944342]])"
      ]
     },
     "execution_count": 9,
     "metadata": {},
     "output_type": "execute_result"
    }
   ],
   "source": [
    "# Can also pass in a shape to create random decimal numbers from the interval [3, 10)\n",
    "\n",
    "a = np.array([[1,2,3,4,5,6,7],[8,9,10,11,12,13,14]])\n",
    "print(a)\n",
    "\n",
    "7 * np.random.random_sample(a.shape) + 3\n",
    "\n",
    "# note -- run this code cell multiple times"
   ]
  },
  {
   "cell_type": "markdown",
   "id": "0716efcf",
   "metadata": {},
   "source": [
    "<a class=\"anchor\" id=\"1h\"></a>\n",
    "### <span style=\"color:green\"><b>h. np.random.randomint()</b></span>"
   ]
  },
  {
   "cell_type": "markdown",
   "id": "696fe705",
   "metadata": {},
   "source": [
    "- <b>Syntax: random.randint(low, high=None, size=None, dtype=int)</b>\n",
    "\n",
    "\n",
    "- Returns random integers from low (inclusive) to high (exclusive).\n",
    "\n",
    "- Return random integers from the “discrete uniform” distribution of the specified dtype in the “half-open” interval [low, high).\n",
    "\n",
    "- If high is None (the default), then results are from [0, low).\n",
    "\n",
    "\n",
    "- [numpy.random.randomint](https://numpy.org/doc/stable/reference/random/generated/numpy.random.randint.html)"
   ]
  },
  {
   "cell_type": "code",
   "execution_count": 13,
   "id": "0fc60faf",
   "metadata": {},
   "outputs": [
    {
     "data": {
      "text/plain": [
       "array([[72, 53, 24, 91],\n",
       "       [69, 15, 69, 36]])"
      ]
     },
     "execution_count": 13,
     "metadata": {},
     "output_type": "execute_result"
    },
    {
     "data": {
      "text/plain": [
       "array([[ 4,  4, -4],\n",
       "       [ 0, -4,  2],\n",
       "       [ 5,  3,  6]])"
      ]
     },
     "execution_count": 13,
     "metadata": {},
     "output_type": "execute_result"
    }
   ],
   "source": [
    "# random integers examples\n",
    "\n",
    "np.random.randint(7, 100, (2,4))\n",
    "\n",
    "np.random.randint(-4,8, size=(3,3))"
   ]
  },
  {
   "cell_type": "code",
   "execution_count": 20,
   "id": "fed5a650",
   "metadata": {},
   "outputs": [
    {
     "data": {
      "text/plain": [
       "array([[13,  9,  0, 21, 15],\n",
       "       [12, 21,  7, 21, 16],\n",
       "       [11,  3, 18, 19, 25]])"
      ]
     },
     "execution_count": 20,
     "metadata": {},
     "output_type": "execute_result"
    },
    {
     "data": {
      "text/plain": [
       "40"
      ]
     },
     "execution_count": 20,
     "metadata": {},
     "output_type": "execute_result"
    }
   ],
   "source": [
    "# random integers examples with None parameter values\n",
    "\n",
    "np.random.randint(27, None, (3,5))\n",
    "\n",
    "np.random.randint(20, 50, None)"
   ]
  },
  {
   "cell_type": "markdown",
   "id": "fbebe8a8",
   "metadata": {},
   "source": [
    "<a class=\"anchor\" id=\"1i\"></a>\n",
    "### <span style=\"color:green\"><b>i. The Identity Matrix</b></span>"
   ]
  },
  {
   "cell_type": "markdown",
   "id": "e932f43c",
   "metadata": {},
   "source": [
    "- <b>Syntax: numpy.identity(n)</b>\n",
    "\n",
    "\n",
    "- Returns an n x n array with its main diagonal set to one, and all other elements 0.\n",
    "\n",
    "\n",
    "- [numpy.identity](https://numpy.org/doc/stable/reference/generated/numpy.identity.html)"
   ]
  },
  {
   "cell_type": "code",
   "execution_count": 48,
   "id": "9423b41a",
   "metadata": {},
   "outputs": [
    {
     "data": {
      "text/plain": [
       "array([[1., 0., 0.],\n",
       "       [0., 1., 0.],\n",
       "       [0., 0., 1.]])"
      ]
     },
     "execution_count": 48,
     "metadata": {},
     "output_type": "execute_result"
    },
    {
     "data": {
      "text/plain": [
       "array([[1., 0., 0., 0., 0.],\n",
       "       [0., 1., 0., 0., 0.],\n",
       "       [0., 0., 1., 0., 0.],\n",
       "       [0., 0., 0., 1., 0.],\n",
       "       [0., 0., 0., 0., 1.]])"
      ]
     },
     "execution_count": 48,
     "metadata": {},
     "output_type": "execute_result"
    },
    {
     "data": {
      "text/plain": [
       "array([[1.]])"
      ]
     },
     "execution_count": 48,
     "metadata": {},
     "output_type": "execute_result"
    }
   ],
   "source": [
    "# identity matrix ... square matrix, 1's on main diagonal, 0's everywhere else\n",
    "\n",
    "np.identity(3)\n",
    "\n",
    "np.identity(5)\n",
    "\n",
    "np.identity(1)\n"
   ]
  },
  {
   "cell_type": "markdown",
   "id": "50d8e507",
   "metadata": {},
   "source": [
    "<a class=\"anchor\" id=\"1j\"></a>\n",
    "### <span style=\"color:green\"><b>j. Repeating an Array</b></span>"
   ]
  },
  {
   "cell_type": "markdown",
   "id": "a485ac1f",
   "metadata": {},
   "source": [
    "- <b>Syntax: numpy.repeat(a, repeats, axis=None)</b>\n",
    "\n",
    "\n",
    "- Use to repeat elements of an array ... returns output array which has the same shape as a, except along the given axis.\n",
    "\n",
    "\n",
    "- [numpy.repeat](https://numpy.org/doc/stable/reference/generated/numpy.repeat.html0)"
   ]
  },
  {
   "cell_type": "code",
   "execution_count": 25,
   "id": "ffc24e8e",
   "metadata": {},
   "outputs": [
    {
     "name": "stdout",
     "output_type": "stream",
     "text": [
      "[[ 2  7 10]\n",
      " [ 2  7 10]\n",
      " [ 2  7 10]\n",
      " [ 2  7 10]]\n",
      "\n",
      "[[ 2  2  2  2  2  7  7  7  7  7 10 10 10 10 10]]\n"
     ]
    }
   ],
   "source": [
    "# Repeat elements of an array\n",
    "\n",
    "arr = np.array([[2,7,10]])\n",
    "r0 = np.repeat(arr, 4, axis=0)\n",
    "print(r0)\n",
    "\n",
    "print()\n",
    "\n",
    "r1 = np.repeat(arr, 5, axis=1)\n",
    "print(r1)"
   ]
  },
  {
   "cell_type": "markdown",
   "id": "c3e3c7a2",
   "metadata": {},
   "source": [
    "<hr style=\"border:1px solid gray\">"
   ]
  },
  {
   "cell_type": "markdown",
   "id": "44f027cb",
   "metadata": {},
   "source": [
    "#### More on Repeating an Array"
   ]
  },
  {
   "cell_type": "markdown",
   "id": "79848280",
   "metadata": {},
   "source": [
    "#### NumPy Repeat()"
   ]
  },
  {
   "cell_type": "markdown",
   "id": "f453c919",
   "metadata": {},
   "source": [
    "<b> Syntax: numpy.repeat(a, repeats, axis=None)</b>\n",
    "    \n",
    "Repeats elements of an array."
   ]
  },
  {
   "attachments": {
    "n31.jpg": {
     "image/jpeg": "[encoded data removed]"
    }
   },
   "cell_type": "markdown",
   "id": "fe303432",
   "metadata": {},
   "source": [
    "<b>NUMPY REPEAT REPEATS THE ELEMENTS OF AN ARRAY</b>\n",
    "\n",
    "- The NumPy repeat function essentially repeats the numbers inside of an array. It repeats the individual elements of an array.\n",
    "\n",
    "<b>NUMPY REPEAT “REPEATS” ELEMENTS OF AN ARRAY</b>\n",
    "\n",
    "- Essentially, the NumPy repeat function repeats the elements of an array.\n",
    "\n",
    "![n31.jpg](attachment:n31.jpg)"
   ]
  },
  {
   "attachments": {
    "n32.jpg": {
     "image/jpeg": "[encoded data removed]"
    }
   },
   "cell_type": "markdown",
   "id": "e6b12197",
   "metadata": {},
   "source": [
    "- An illustration of how np.repeat 'flattens' out input arrays by producing 1-dimensional output arrays.\n",
    "\n",
    "![n32.jpg](attachment:n32.jpg)\n",
    "\n",
    "- By default, the output will be 1-dimensional.\n",
    "\n",
    "- It’s possible to change that behavior, but to do so, you need to understand the syntax of np.repeat."
   ]
  },
  {
   "attachments": {
    "n33.jpg": {
     "image/jpeg": "[encoded data removed]"
    }
   },
   "cell_type": "markdown",
   "id": "7dfa4887",
   "metadata": {},
   "source": [
    "![n33.jpg](attachment:n33.jpg)"
   ]
  },
  {
   "attachments": {
    "image-2.png": {
     "image/png": "[encoded data removed]"
    }
   },
   "cell_type": "markdown",
   "id": "b2dfb1e1",
   "metadata": {},
   "source": [
    "<b>THE PARAMETERS OF NP.REPEAT</b>\n",
    "\n",
    "The np.repeat function has 3 parameters:\n",
    "\n",
    "- a \n",
    "- repeats\n",
    "- axis\n",
    "\n",
    "\n",
    "<b>a</b> (REQUIRED)\n",
    "The a parameter enables you to specify the “array” that you will use as the input to np.repeat.\n",
    "\n",
    "Keep in mind that although the np.repeat() function is primarily designed to operate on NumPy arrays, it will also work on any array-like object. That includes Python lists and Python tuples. Technically, it will even operate on a string (although it will treat it like a Python list). The important thing to understand is that np.repeat is flexible concerning what inputs it will work on.\n",
    "\n",
    "Also keep in mind that the a parameter is required. This means that you must provide some sort of input to the function.\n",
    "\n",
    "<b>REPEATS</b> (REQUIRED)\n",
    "\n",
    "The repeats parameter enables you to specify how many times to repeat the items in the input array.\n",
    "\n",
    "The argument to this parameter will be an integer …\n",
    "\n",
    "… so if you want to repeat each item twice, you’ll type ‘2‘.\n",
    "\n",
    "… if you want to repeat each item three times, you’ll type ‘3‘.\n",
    "\n",
    "… etc.\n",
    "\n",
    "<b>AXIS</b>\n",
    "\n",
    "If we have a 2-dimensional NumPy array and we want to repeat the items downwards down the columns, we will set axis = 0.\n",
    "\n",
    "If we want to repeat the items horizontally across the rows, we will set axis = 1.\n",
    "\n",
    "![image-2.png](attachment:image-2.png)\n",
    "\n",
    "<b>THE OUTPUT OF NP.REPEAT</b>\n",
    "\n",
    "The output of NumPy repeat is a NumPy array.\n",
    "\n",
    "But keep in mind that the size and exact shape of the output will depend on how we use the np.repeat function."
   ]
  },
  {
   "cell_type": "code",
   "execution_count": 26,
   "id": "b2a2d367",
   "metadata": {},
   "outputs": [
    {
     "data": {
      "text/plain": [
       "array([7, 7, 7, 7])"
      ]
     },
     "execution_count": 26,
     "metadata": {},
     "output_type": "execute_result"
    },
    {
     "data": {
      "text/plain": [
       "array([7, 7, 7, 7])"
      ]
     },
     "execution_count": 26,
     "metadata": {},
     "output_type": "execute_result"
    }
   ],
   "source": [
    "# REPEAT A SINGLE NUMBER\n",
    "\n",
    "np.repeat(a = 7, repeats = 4)\n",
    "\n",
    "np.repeat(7, 4)"
   ]
  },
  {
   "cell_type": "code",
   "execution_count": 27,
   "id": "09daaaa7",
   "metadata": {},
   "outputs": [
    {
     "data": {
      "text/plain": [
       "array([6, 6, 7, 7])"
      ]
     },
     "execution_count": 27,
     "metadata": {},
     "output_type": "execute_result"
    }
   ],
   "source": [
    "# REPEAT A 1-D LIST OF NUMBERS MULTIPLE TIMES\n",
    "\n",
    "np.repeat(a = [6,7], repeats = 2)"
   ]
  },
  {
   "cell_type": "code",
   "execution_count": 28,
   "id": "05d3acb3",
   "metadata": {},
   "outputs": [
    {
     "name": "stdout",
     "output_type": "stream",
     "text": [
      "[[6 7]\n",
      " [8 9]]\n"
     ]
    },
    {
     "data": {
      "text/plain": [
       "array([6, 6, 7, 7, 8, 8, 9, 9])"
      ]
     },
     "execution_count": 28,
     "metadata": {},
     "output_type": "execute_result"
    }
   ],
   "source": [
    "# REPEAT THE VALUES OF A 2-D ARRAY\n",
    "\n",
    "np_array_2d = np.array([[6,7],[8,9]])\n",
    "print(np_array_2d)\n",
    "\n",
    "np.repeat(a = np_array_2d, repeats = 2)"
   ]
  },
  {
   "cell_type": "code",
   "execution_count": 65,
   "id": "1457d935",
   "metadata": {},
   "outputs": [
    {
     "name": "stdout",
     "output_type": "stream",
     "text": [
      "[[6 7]\n",
      " [8 9]]\n"
     ]
    },
    {
     "data": {
      "text/plain": [
       "array([[6, 7],\n",
       "       [6, 7],\n",
       "       [8, 9],\n",
       "       [8, 9]])"
      ]
     },
     "execution_count": 65,
     "metadata": {},
     "output_type": "execute_result"
    }
   ],
   "source": [
    "# REPEAT VALUES DOWN THE COLUMNS ... i.e., REPEAT VALUES DOWNWARD USING AXIS = 0\n",
    "\n",
    "np_array_2d = np.array([[6,7],[8,9]])\n",
    "print(np_array_2d)\n",
    "\n",
    "np.repeat(a = np_array_2d, repeats = 2, axis = 0)"
   ]
  },
  {
   "cell_type": "code",
   "execution_count": 29,
   "id": "252e77ae",
   "metadata": {},
   "outputs": [
    {
     "name": "stdout",
     "output_type": "stream",
     "text": [
      "[[6 7]\n",
      " [8 9]]\n"
     ]
    },
    {
     "data": {
      "text/plain": [
       "array([[6, 6, 7, 7],\n",
       "       [8, 8, 9, 9]])"
      ]
     },
     "execution_count": 29,
     "metadata": {},
     "output_type": "execute_result"
    }
   ],
   "source": [
    "# REPEAT ELEMENTS ACROSS THE ROWS ... i.e., REPEAT VALUES ACROSS USING AXIS = 1\n",
    "\n",
    "np_array_2d = np.array([[6,7],[8,9]])\n",
    "print(np_array_2d)\n",
    "\n",
    "np.repeat(a = np_array_2d, repeats = 2, axis = 1)"
   ]
  },
  {
   "cell_type": "code",
   "execution_count": 68,
   "id": "63692b80",
   "metadata": {},
   "outputs": [
    {
     "name": "stdout",
     "output_type": "stream",
     "text": [
      "[1 2 3 4]\n"
     ]
    },
    {
     "data": {
      "text/plain": [
       "(4,)"
      ]
     },
     "execution_count": 68,
     "metadata": {},
     "output_type": "execute_result"
    },
    {
     "name": "stdout",
     "output_type": "stream",
     "text": [
      "\n",
      " [[1 2 3 4]]\n"
     ]
    },
    {
     "data": {
      "text/plain": [
       "(1, 4)"
      ]
     },
     "execution_count": 68,
     "metadata": {},
     "output_type": "execute_result"
    },
    {
     "data": {
      "text/plain": [
       "array([[1, 2, 3, 4],\n",
       "       [1, 2, 3, 4],\n",
       "       [1, 2, 3, 4]])"
      ]
     },
     "execution_count": 68,
     "metadata": {},
     "output_type": "execute_result"
    }
   ],
   "source": [
    "# DUPLICATE A 1-DIMENSIONAL ARRAY\n",
    "\n",
    "np_array_1d = np.array([1,2,3,4])\n",
    "print(np_array_1d)\n",
    "np_array_1d.shape\n",
    "\n",
    "np_array_2d = np.expand_dims(np_array_1d, axis = 0)\n",
    "print(\"\\n\", np_array_2d)\n",
    "np_array_2d.shape\n",
    "\n",
    "np.repeat(a = np_array_2d, repeats = 3, axis = 0)"
   ]
  },
  {
   "cell_type": "markdown",
   "id": "95738c2f",
   "metadata": {},
   "source": [
    "<hr style=\"border:1px solid gray\">"
   ]
  },
  {
   "cell_type": "markdown",
   "id": "9006dc60",
   "metadata": {},
   "source": [
    "<a class=\"anchor\" id=\"1k\"></a>\n",
    "### <span style=\"color:green\"><b>k. Combining Concepts to Initialize an Array</b></span>"
   ]
  },
  {
   "cell_type": "code",
   "execution_count": 51,
   "id": "5a3d5f2a",
   "metadata": {},
   "outputs": [
    {
     "name": "stdout",
     "output_type": "stream",
     "text": [
      "[[1. 1. 1. 1. 1.]\n",
      " [1. 1. 1. 1. 1.]\n",
      " [1. 1. 1. 1. 1.]\n",
      " [1. 1. 1. 1. 1.]\n",
      " [1. 1. 1. 1. 1.]]\n",
      "\n",
      "[[0. 0. 0.]\n",
      " [0. 9. 0.]\n",
      " [0. 0. 0.]]\n",
      "\n",
      "[[1. 1. 1. 1. 1.]\n",
      " [1. 0. 0. 0. 1.]\n",
      " [1. 0. 9. 0. 1.]\n",
      " [1. 0. 0. 0. 1.]\n",
      " [1. 1. 1. 1. 1.]]\n"
     ]
    }
   ],
   "source": [
    "output = np.ones((5,5))\n",
    "print(output)\n",
    "\n",
    "print()\n",
    "\n",
    "z = np.zeros((3,3))\n",
    "z[1,1] = 9\n",
    "print(z)\n",
    "\n",
    "print()\n",
    "\n",
    "output[1:-1,1:-1] = z\n",
    "print(output)"
   ]
  },
  {
   "cell_type": "markdown",
   "id": "24d1d85c",
   "metadata": {},
   "source": [
    "<a class=\"anchor\" id=\"2\"></a>\n",
    "<div class=\"alert alert-block alert-info\">\n",
    "<b><font size=\"4\">2. Copying an Array ... Be Careful!</font></b>\n",
    "</div>"
   ]
  },
  {
   "cell_type": "code",
   "execution_count": 54,
   "id": "3962e433",
   "metadata": {},
   "outputs": [
    {
     "name": "stdout",
     "output_type": "stream",
     "text": [
      "[1 2 3]\n",
      "\n",
      "[1 2 3]\n",
      "\n",
      "[100   2   3]\n",
      "\n",
      "[100   2   3]\n"
     ]
    }
   ],
   "source": [
    "# create an array\n",
    "a = np.array([1,2,3])\n",
    "print(a)\n",
    "\n",
    "print()\n",
    "\n",
    "# make array b a direct copy of array a\n",
    "b = a\n",
    "print(b)\n",
    "\n",
    "print()\n",
    "\n",
    "# change the first element in b\n",
    "b[0] =100\n",
    "print(b)\n",
    "\n",
    "print()\n",
    "\n",
    "# here is the issue\n",
    "print(a)"
   ]
  },
  {
   "cell_type": "code",
   "execution_count": 55,
   "id": "06ee30ea",
   "metadata": {},
   "outputs": [
    {
     "name": "stdout",
     "output_type": "stream",
     "text": [
      "[1 2 3]\n",
      "\n",
      "[1 2 3]\n",
      "\n",
      "[100   2   3]\n",
      "\n",
      "[1 2 3]\n"
     ]
    }
   ],
   "source": [
    "# to avoid the issue use a.copy()\n",
    "\n",
    "a = np.array([1,2,3])\n",
    "print(a)\n",
    "\n",
    "print()\n",
    "\n",
    "# make array b a diect copy of array a\n",
    "b = a.copy()\n",
    "print(b)\n",
    "\n",
    "print()\n",
    "\n",
    "# change the first element in b\n",
    "b[0] =100\n",
    "print(b)\n",
    "\n",
    "print()\n",
    "\n",
    "print(a)"
   ]
  },
  {
   "cell_type": "code",
   "execution_count": null,
   "id": "7ef6b294",
   "metadata": {},
   "outputs": [],
   "source": []
  }
 ],
 "metadata": {
  "hide_input": false,
  "kernelspec": {
   "display_name": "Python 3 (ipykernel)",
   "language": "python",
   "name": "python3"
  },
  "language_info": {
   "codemirror_mode": {
    "name": "ipython",
    "version": 3
   },
   "file_extension": ".py",
   "mimetype": "text/x-python",
   "name": "python",
   "nbconvert_exporter": "python",
   "pygments_lexer": "ipython3",
   "version": "3.11.5"
  },
  "toc": {
   "base_numbering": 1,
   "nav_menu": {},
   "number_sections": true,
   "sideBar": true,
   "skip_h1_title": false,
   "title_cell": "Table of Contents",
   "title_sidebar": "Contents",
   "toc_cell": true,
   "toc_position": {},
   "toc_section_display": true,
   "toc_window_display": false
  },
  "varInspector": {
   "cols": {
    "lenName": 16,
    "lenType": 16,
    "lenVar": 40
   },
   "kernels_config": {
    "python": {
     "delete_cmd_postfix": "",
     "delete_cmd_prefix": "del ",
     "library": "var_list.py",
     "varRefreshCmd": "print(var_dic_list())"
    },
    "r": {
     "delete_cmd_postfix": ") ",
     "delete_cmd_prefix": "rm(",
     "library": "var_list.r",
     "varRefreshCmd": "cat(var_dic_list()) "
    }
   },
   "types_to_exclude": [
    "module",
    "function",
    "builtin_function_or_method",
    "instance",
    "_Feature"
   ],
   "window_display": false
  }
 },
 "nbformat": 4,
 "nbformat_minor": 5
}
