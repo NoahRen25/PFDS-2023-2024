{
 "cells": [
  {
   "cell_type": "markdown",
   "id": "f1e55f8a",
   "metadata": {
    "toc": true
   },
   "source": [
    "<h1>Table of Contents<span class=\"tocSkip\"></span></h1>\n",
    "<div class=\"toc\"><ul class=\"toc-item\"><li><span><a href=\"#Python-for-Data-Science\" data-toc-modified-id=\"Python-for-Data-Science-1\"><span class=\"toc-item-num\">1&nbsp;&nbsp;</span><center><b>Python for Data Science</b></center></a></span></li><li><span><a href=\"#Lesson-25\" data-toc-modified-id=\"Lesson-25-2\"><span class=\"toc-item-num\">2&nbsp;&nbsp;</span><center><b>Lesson 25</b></center></a></span></li><li><span><a href=\"#NumPy----Part-Four\" data-toc-modified-id=\"NumPy----Part-Four-3\"><span class=\"toc-item-num\">3&nbsp;&nbsp;</span><center><b>NumPy -- Part Four</b></center></a></span></li><li><span><a href=\"#Reorganizing-Arrays-(Notes)\" data-toc-modified-id=\"Reorganizing-Arrays-(Notes)-4\"><span class=\"toc-item-num\">4&nbsp;&nbsp;</span><center><b>Reorganizing Arrays (Notes)</b></center></a></span><ul class=\"toc-item\"><li><span><a href=\"#Link:-NumPy-Documentation\" data-toc-modified-id=\"Link:-NumPy-Documentation-4.1\"><span class=\"toc-item-num\">4.1&nbsp;&nbsp;</span><center><a href=\"https://numpy.org/\" rel=\"nofollow\" target=\"_blank\"><strong>Link: NumPy Documentation</strong></a></center></a></span></li></ul></li><li><span><a href=\"#TABLE-OF-CONTENTS\" data-toc-modified-id=\"TABLE-OF-CONTENTS-5\"><span class=\"toc-item-num\">5&nbsp;&nbsp;</span><span style=\"color:green\">TABLE OF CONTENTS</span></a></span><ul class=\"toc-item\"><li><span><a href=\"#a.-reshape()\" data-toc-modified-id=\"a.-reshape()-5.1\"><span class=\"toc-item-num\">5.1&nbsp;&nbsp;</span><span style=\"color:green\"><b>a. reshape()</b></span></a></span></li><li><span><a href=\"#HOW-TO-CREATE-A-2-DIMENSIONAL-ARRAY-WITH-NP.ARANGE()\" data-toc-modified-id=\"HOW-TO-CREATE-A-2-DIMENSIONAL-ARRAY-WITH-NP.ARANGE()-5.2\"><span class=\"toc-item-num\">5.2&nbsp;&nbsp;</span><code style=\"background:yellow;color:black\">HOW TO CREATE A 2-DIMENSIONAL ARRAY WITH NP.ARANGE()</code></a></span><ul class=\"toc-item\"><li><span><a href=\"#Creating-a-2-D-Array-By-Combining-np.arange()-with-np.reshape()\" data-toc-modified-id=\"Creating-a-2-D-Array-By-Combining-np.arange()-with-np.reshape()-5.2.1\"><span class=\"toc-item-num\">5.2.1&nbsp;&nbsp;</span>Creating a 2-D Array By Combining np.arange() with np.reshape()</a></span></li></ul></li><li><span><a href=\"#HOW-TO-CREATE-A-2-DIMENSIONAL-ARRAY-WITH-NP.LINSPACE()\" data-toc-modified-id=\"HOW-TO-CREATE-A-2-DIMENSIONAL-ARRAY-WITH-NP.LINSPACE()-5.3\"><span class=\"toc-item-num\">5.3&nbsp;&nbsp;</span><code style=\"background:yellow;color:black\">HOW TO CREATE A 2-DIMENSIONAL ARRAY WITH NP.LINSPACE()</code></a></span><ul class=\"toc-item\"><li><span><a href=\"#Creating-a-2-D-Array-By-Combining-np.linspace()-with-np.reshape()\" data-toc-modified-id=\"Creating-a-2-D-Array-By-Combining-np.linspace()-with-np.reshape()-5.3.1\"><span class=\"toc-item-num\">5.3.1&nbsp;&nbsp;</span>Creating a 2-D Array By Combining np.linspace() with np.reshape()</a></span></li></ul></li><li><span><a href=\"#b.-vstack()-...-vertical-stack\" data-toc-modified-id=\"b.-vstack()-...-vertical-stack-5.4\"><span class=\"toc-item-num\">5.4&nbsp;&nbsp;</span><span style=\"color:green\"><b>b. vstack() ... vertical stack</b></span></a></span></li><li><span><a href=\"#c.-hstack()-...-horizontal-stack\" data-toc-modified-id=\"c.-hstack()-...-horizontal-stack-5.5\"><span class=\"toc-item-num\">5.5&nbsp;&nbsp;</span><span style=\"color:green\"><b>c. hstack() ... horizontal stack</b></span></a></span></li></ul></li></ul></div>"
   ]
  },
  {
   "cell_type": "markdown",
   "id": "b1bc9baf",
   "metadata": {},
   "source": [
    "## <center><b>Python for Data Science</b></center>\n",
    "## <center><b>Lesson 25</b></center>\n",
    "## <center><b>NumPy -- Part Four</b></center>\n",
    "## <center><b>Reorganizing Arrays (Notes)</b></center>"
   ]
  },
  {
   "cell_type": "markdown",
   "id": "057de68e",
   "metadata": {},
   "source": [
    "<hr style=\"border:1px solid gray\">"
   ]
  },
  {
   "attachments": {
    "image.png": {
     "image/png": "[encoded data removed]"
    }
   },
   "cell_type": "markdown",
   "id": "d869bb37",
   "metadata": {},
   "source": [
    "![image.png](attachment:image.png)\n",
    "\n",
    "### <center>[**Link: NumPy Documentation**](https://numpy.org/)</center>"
   ]
  },
  {
   "cell_type": "markdown",
   "id": "11046c9f",
   "metadata": {},
   "source": [
    "##  <span style=\"color:green\">TABLE OF CONTENTS</span>\n",
    "\n",
    "1. [**Reorganizing Arrays**](#1)<br> \n",
    "a. [**reshape()**](#1a)<br>\n",
    "b. [**vstack() ... vertical stack**](#1b)<br>\n",
    "c. [**hstack() ... horizontal stack**](#1c)<br>"
   ]
  },
  {
   "cell_type": "code",
   "execution_count": 26,
   "id": "4b62756f",
   "metadata": {},
   "outputs": [
    {
     "name": "stdout",
     "output_type": "stream",
     "text": [
      "The notebook is set up to display multiple output in one cell.\n"
     ]
    }
   ],
   "source": [
    "# set up notebook to display multiple output in one cell\n",
    "\n",
    "from IPython.core.interactiveshell import InteractiveShell\n",
    "InteractiveShell.ast_node_interactivity = \"all\"\n",
    "\n",
    "print('The notebook is set up to display multiple output in one cell.')"
   ]
  },
  {
   "cell_type": "code",
   "execution_count": 2,
   "id": "999722a0",
   "metadata": {},
   "outputs": [],
   "source": [
    "# import NumPy\n",
    "\n",
    "import numpy as np"
   ]
  },
  {
   "cell_type": "markdown",
   "id": "2d619b3d",
   "metadata": {},
   "source": [
    "<hr style=\"border:1px solid gray\">"
   ]
  },
  {
   "cell_type": "markdown",
   "id": "e030f018",
   "metadata": {},
   "source": [
    "<a class=\"anchor\" id=\"1\"></a>\n",
    "<div class=\"alert alert-block alert-info\">\n",
    "<b><font size=\"4\">1. Reorganizing Arrays</font></b>\n",
    "</div>"
   ]
  },
  {
   "cell_type": "markdown",
   "id": "4e85d9a6",
   "metadata": {},
   "source": [
    "<a class=\"anchor\" id=\"1a\"></a>\n",
    "### <span style=\"color:green\"><b>a. reshape()</b></span>"
   ]
  },
  {
   "cell_type": "markdown",
   "id": "d0880397",
   "metadata": {},
   "source": [
    "- <b>Syntax: numpy.reshape(a, newshape)</b>\n",
    "\n",
    " \n",
    "- Gives a new shape to an array without changing its data.\n",
    "\n",
    "\n",
    "- [numpy.reshape](https://numpy.org/doc/stable/reference/generated/numpy.reshape.html)"
   ]
  },
  {
   "cell_type": "code",
   "execution_count": 3,
   "id": "a8c230d7",
   "metadata": {},
   "outputs": [
    {
     "name": "stdout",
     "output_type": "stream",
     "text": [
      "[[1 2 3 4]\n",
      " [5 6 7 8]]\n",
      "\n",
      "Shape Before: (2, 4)\n",
      "\n",
      "[[1 2]\n",
      " [3 4]\n",
      " [5 6]\n",
      " [7 8]]\n",
      "\n",
      "Shape After: (4, 2)\n"
     ]
    }
   ],
   "source": [
    "# reshaping an array\n",
    "\n",
    "before = np.array([[1,2,3,4],[5,6,7,8]])\n",
    "print(before)\n",
    "print()\n",
    "print(\"Shape Before:\", before.shape)\n",
    "\n",
    "print() \n",
    "\n",
    "after = before.reshape((4, 2))\n",
    "print(after)\n",
    "print()\n",
    "print(\"Shape After:\", after.shape)"
   ]
  },
  {
   "cell_type": "code",
   "execution_count": 4,
   "id": "b8540da2",
   "metadata": {},
   "outputs": [
    {
     "name": "stdout",
     "output_type": "stream",
     "text": [
      "[[1 2 3 4]\n",
      " [5 6 7 8]]\n",
      "\n"
     ]
    },
    {
     "ename": "ValueError",
     "evalue": "cannot reshape array of size 8 into shape (2,3)",
     "output_type": "error",
     "traceback": [
      "\u001b[1;31m---------------------------------------------------------------------------\u001b[0m",
      "\u001b[1;31mValueError\u001b[0m                                Traceback (most recent call last)",
      "\u001b[1;32m<ipython-input-4-c27197b044e4>\u001b[0m in \u001b[0;36m<module>\u001b[1;34m\u001b[0m\n\u001b[0;32m      6\u001b[0m \u001b[0mprint\u001b[0m\u001b[1;33m(\u001b[0m\u001b[1;33m)\u001b[0m\u001b[1;33m\u001b[0m\u001b[1;33m\u001b[0m\u001b[0m\n\u001b[0;32m      7\u001b[0m \u001b[1;33m\u001b[0m\u001b[0m\n\u001b[1;32m----> 8\u001b[1;33m \u001b[0mafter\u001b[0m \u001b[1;33m=\u001b[0m \u001b[0mbefore\u001b[0m\u001b[1;33m.\u001b[0m\u001b[0mreshape\u001b[0m\u001b[1;33m(\u001b[0m\u001b[1;33m(\u001b[0m\u001b[1;36m2\u001b[0m\u001b[1;33m,\u001b[0m\u001b[1;36m3\u001b[0m\u001b[1;33m)\u001b[0m\u001b[1;33m)\u001b[0m\u001b[1;33m\u001b[0m\u001b[1;33m\u001b[0m\u001b[0m\n\u001b[0m\u001b[0;32m      9\u001b[0m \u001b[0mprint\u001b[0m\u001b[1;33m(\u001b[0m\u001b[0mafter\u001b[0m\u001b[1;33m)\u001b[0m\u001b[1;33m\u001b[0m\u001b[1;33m\u001b[0m\u001b[0m\n",
      "\u001b[1;31mValueError\u001b[0m: cannot reshape array of size 8 into shape (2,3)"
     ]
    }
   ],
   "source": [
    "# reshaping an array ... error\n",
    "\n",
    "before = np.array([[1,2,3,4],[5,6,7,8]])\n",
    "print(before)\n",
    "\n",
    "print()\n",
    "\n",
    "after = before.reshape((2,3))\n",
    "print(after)"
   ]
  },
  {
   "cell_type": "markdown",
   "id": "b5044870",
   "metadata": {},
   "source": [
    "### <code style=\"background:yellow;color:black\">HOW TO CREATE A 2-DIMENSIONAL ARRAY WITH NP.ARANGE()</code>\n",
    "\n",
    "NumPy arange does not have a way to create 2-D arrays\n",
    "\n",
    "You would need to combine the following NumPy tools ...\n",
    "\n",
    "- np.arange\n",
    "- the NumPy reshape method"
   ]
  },
  {
   "cell_type": "markdown",
   "id": "ba2b6763",
   "metadata": {},
   "source": [
    "#### Creating a 2-D Array By Combining np.arange() with np.reshape()"
   ]
  },
  {
   "cell_type": "code",
   "execution_count": 5,
   "id": "49b42485",
   "metadata": {},
   "outputs": [
    {
     "data": {
      "text/plain": [
       "array([[10, 15, 20, 25],\n",
       "       [30, 35, 40, 45],\n",
       "       [50, 55, 60, 65]])"
      ]
     },
     "execution_count": 5,
     "metadata": {},
     "output_type": "execute_result"
    }
   ],
   "source": [
    "np.arange(start = 1, stop = 13)\n",
    "\n",
    "np.arange(start = 1, stop = 13).reshape([4, 3])\n",
    "\n",
    "np.arange(10, 66, 5)\n",
    "\n",
    "np.arange(10, 66, 5).reshape([3, 4])"
   ]
  },
  {
   "cell_type": "code",
   "execution_count": 10,
   "id": "12639818",
   "metadata": {},
   "outputs": [
    {
     "name": "stdout",
     "output_type": "stream",
     "text": [
      "[ 3  7 11 15 19 23 27 31 35 39]\n",
      "\n",
      "[[ 3  7 11 15 19]\n",
      " [23 27 31 35 39]]\n",
      "\n",
      "[[ 3  7]\n",
      " [11 15]\n",
      " [19 23]\n",
      " [27 31]\n",
      " [35 39]]\n"
     ]
    }
   ],
   "source": [
    "a = np.arange(3, 40, 4)\n",
    "print(a)\n",
    "\n",
    "print()\n",
    "\n",
    "b = np.arange(3, 40, 4).reshape([2, 5])\n",
    "print(b)\n",
    "\n",
    "print()\n",
    "\n",
    "c = np.arange(3, 40, 4).reshape([5, 2])\n",
    "print(c)"
   ]
  },
  {
   "cell_type": "markdown",
   "id": "9acdde1a",
   "metadata": {},
   "source": [
    "### <code style=\"background:yellow;color:black\">HOW TO CREATE A 2-DIMENSIONAL ARRAY WITH NP.LINSPACE()</code>\n",
    "\n",
    "NumPy linspace does not have a way to create 2-D arrays\n",
    "\n",
    "You would need to combine the following NumPy tools ...\n",
    "\n",
    "- np.linspace\n",
    "- the NumPy reshape method"
   ]
  },
  {
   "cell_type": "markdown",
   "id": "cff1ddbe",
   "metadata": {},
   "source": [
    "#### Creating a 2-D Array By Combining np.linspace() with np.reshape()"
   ]
  },
  {
   "cell_type": "code",
   "execution_count": 13,
   "id": "ca37d657",
   "metadata": {},
   "outputs": [
    {
     "name": "stdout",
     "output_type": "stream",
     "text": [
      "[10 20 30 40 50 60 70 80]\n",
      "\n",
      "[[10 20]\n",
      " [30 40]\n",
      " [50 60]\n",
      " [70 80]]\n",
      "\n",
      "[[10 20 30 40]\n",
      " [50 60 70 80]]\n"
     ]
    }
   ],
   "source": [
    "a = np.linspace(10, 80, 8, dtype = int)\n",
    "print(a)\n",
    "\n",
    "print()\n",
    "\n",
    "b = np.linspace(10, 80, 8, dtype = int).reshape([4, 2])\n",
    "print(b)\n",
    "\n",
    "print()\n",
    "\n",
    "c = np.linspace(10, 80, 8, dtype = int).reshape([2, 4])\n",
    "print(c)"
   ]
  },
  {
   "cell_type": "markdown",
   "id": "bb0b59ed",
   "metadata": {},
   "source": [
    "<a class=\"anchor\" id=\"1b\"></a>\n",
    "### <span style=\"color:green\"><b>b. vstack() ... vertical stack</b></span>"
   ]
  },
  {
   "cell_type": "markdown",
   "id": "d58fd578",
   "metadata": {},
   "source": [
    "- <b>Syntax: numpy.vstack(tup)</b>\n",
    "\n",
    "\n",
    "- Stacks arrays in sequence vertically (row wise).\n",
    "\n",
    "\n",
    "- [numpy.vstack](https://numpy.org/doc/stable/reference/generated/numpy.vstack.html)"
   ]
  },
  {
   "cell_type": "code",
   "execution_count": 16,
   "id": "44dcdad4",
   "metadata": {},
   "outputs": [
    {
     "name": "stdout",
     "output_type": "stream",
     "text": [
      "[1 2 3 4]\n",
      "\n",
      " [5 6 7 8]\n",
      "\n",
      " [[1 2 3 4]\n",
      " [5 6 7 8]]\n",
      "\n",
      " [[1 2 3 4]\n",
      " [5 6 7 8]\n",
      " [1 2 3 4]\n",
      " [5 6 7 8]]\n",
      "\n",
      " [[1 2 3 4]\n",
      " [5 6 7 8]\n",
      " [5 6 7 8]\n",
      " [5 6 7 8]\n",
      " [1 2 3 4]]\n"
     ]
    }
   ],
   "source": [
    "# Vertically stacking vectors\n",
    "\n",
    "v1 = np.array([1,2,3,4])\n",
    "v2 = np.array([5,6,7,8])\n",
    "\n",
    "print(v1)\n",
    "\n",
    "print(\"\\n\", v2)\n",
    "\n",
    "a = np.vstack([v1,v2])\n",
    "\n",
    "print(\"\\n\", a)\n",
    "\n",
    "b = np.vstack([v1,v2,v1,v2])\n",
    "\n",
    "print(\"\\n\", b)\n",
    "\n",
    "c = np.vstack([v1,v2,v2,v2, v1])\n",
    "\n",
    "print(\"\\n\", c)"
   ]
  },
  {
   "cell_type": "code",
   "execution_count": 18,
   "id": "79eccc1b",
   "metadata": {},
   "outputs": [
    {
     "name": "stdout",
     "output_type": "stream",
     "text": [
      "[[1 1 1 1]\n",
      " [2 2 2 2]]\n",
      "\n",
      "Shape of a1: (2, 4)\n",
      "\n",
      "[[3 3 3 3]\n",
      " [4 4 4 4]]\n",
      "\n",
      "Shape of a2: (2, 4)\n",
      "\n",
      "[[1 1 1 1]\n",
      " [2 2 2 2]\n",
      " [3 3 3 3]\n",
      " [4 4 4 4]]\n",
      "\n",
      "Shape of a3: (4, 4)\n",
      "\n",
      "[[1 1 1 1]\n",
      " [2 2 2 2]\n",
      " [3 3 3 3]\n",
      " [4 4 4 4]\n",
      " [1 1 1 1]\n",
      " [2 2 2 2]]\n",
      "\n",
      "Shape of a4: (6, 4)\n"
     ]
    }
   ],
   "source": [
    "# Vertically stacking 2-D arrays\n",
    "\n",
    "a1 = np.array([[1,1,1,1], [2,2,2,2]])\n",
    "\n",
    "a2 = np.array([[3,3,3,3], [4,4,4,4]])\n",
    "\n",
    "print(a1)\n",
    "print()\n",
    "print(\"Shape of a1:\", a1.shape)\n",
    "print()\n",
    "print(a2)\n",
    "print()\n",
    "print(\"Shape of a2:\", a2.shape)\n",
    "print()\n",
    "\n",
    "a3 = np.vstack([a1, a2])\n",
    "print(a3)\n",
    "print()\n",
    "\n",
    "print(\"Shape of a3:\", a3.shape)\n",
    "print()\n",
    "\n",
    "a4 = np.vstack([a1, a2, a1])\n",
    "print(a4)\n",
    "print()\n",
    "\n",
    "print(\"Shape of a4:\", a4.shape)"
   ]
  },
  {
   "cell_type": "markdown",
   "id": "3573f5c4",
   "metadata": {},
   "source": [
    "<a class=\"anchor\" id=\"1c\"></a>\n",
    "### <span style=\"color:green\"><b>c. hstack() ... horizontal stack</b></span>"
   ]
  },
  {
   "cell_type": "markdown",
   "id": "f30ac278",
   "metadata": {},
   "source": [
    "- <b>Syntax: numpy.hstack(tup)</b>\n",
    "\n",
    "\n",
    "- Stack arrays in sequence horizontally (column wise).\n",
    "\n",
    "\n",
    "- [numpy.hstack](https://numpy.org/doc/stable/reference/generated/numpy.hstack.html)"
   ]
  },
  {
   "cell_type": "code",
   "execution_count": 22,
   "id": "0d93594d",
   "metadata": {},
   "outputs": [
    {
     "name": "stdout",
     "output_type": "stream",
     "text": [
      "[[1. 1. 1. 1.]\n",
      " [1. 1. 1. 1.]]\n",
      "\n",
      "[[0. 0.]\n",
      " [0. 0.]]\n",
      "\n",
      "[[1. 1. 1. 1. 0. 0.]\n",
      " [1. 1. 1. 1. 0. 0.]]\n",
      "\n",
      "[[1. 1. 1. 1. 0. 0. 0. 0. 1. 1. 1. 1.]\n",
      " [1. 1. 1. 1. 0. 0. 0. 0. 1. 1. 1. 1.]]\n"
     ]
    }
   ],
   "source": [
    "# Horizontally stacking 2-D arrays\n",
    "\n",
    "h1 = np.ones((2,4))\n",
    "h2 = np.zeros((2,2))\n",
    "\n",
    "print(h1)\n",
    "print()\n",
    "print(h2)\n",
    "print()\n",
    "\n",
    "x = np.hstack((h1,h2))\n",
    "print(x)\n",
    "print()\n",
    "\n",
    "y = np.hstack([h1,h2,h2,h1])\n",
    "print(y)"
   ]
  },
  {
   "cell_type": "code",
   "execution_count": 25,
   "id": "1125ad9c",
   "metadata": {},
   "outputs": [
    {
     "name": "stdout",
     "output_type": "stream",
     "text": [
      "[[2]\n",
      " [2]\n",
      " [2]]\n",
      "\n",
      " Shape of x:  (3, 1)\n",
      "\n",
      "\n",
      " [[5 5 5 5]\n",
      " [5 5 5 5]\n",
      " [5 5 5 5]]\n",
      "\n",
      " Shape of y:  (3, 4)\n",
      "\n",
      "\n",
      " [[9 9 9 9 9]\n",
      " [9 9 9 9 9]\n",
      " [9 9 9 9 9]]\n",
      "\n",
      " Shape of z:  (3, 5)\n",
      "\n",
      "\n",
      " [[2 5 5 5 5]\n",
      " [2 5 5 5 5]\n",
      " [2 5 5 5 5]]\n",
      "\n",
      " Shape of h1:  (3, 5)\n",
      "\n",
      "\n",
      " [[9 9 9 9 9 2 5 5 5 5]\n",
      " [9 9 9 9 9 2 5 5 5 5]\n",
      " [9 9 9 9 9 2 5 5 5 5]]\n",
      "\n",
      " Shape of h2:  (3, 10)\n"
     ]
    }
   ],
   "source": [
    "# Horizontally stacking 2-D arrays\n",
    "\n",
    "x = np.array([[2], [2], [2]])\n",
    "print(x)\n",
    "print(\"\\n\", \"Shape of x: \", x.shape)\n",
    "print()\n",
    "\n",
    "y = np.full((3, 4), 5)\n",
    "print(\"\\n\", y)\n",
    "print(\"\\n\", \"Shape of y: \", y.shape)\n",
    "print()\n",
    "\n",
    "z = np.full((3, 5), 9)\n",
    "print(\"\\n\", z)\n",
    "print(\"\\n\", \"Shape of z: \", z.shape)\n",
    "print()\n",
    "\n",
    "\n",
    "h1 = np.hstack((x,y))\n",
    "print(\"\\n\", h1)\n",
    "print(\"\\n\", \"Shape of h1: \", h1.shape)\n",
    "print()\n",
    "\n",
    "h2 = np.hstack((z,x,y))\n",
    "print(\"\\n\", h2)\n",
    "print(\"\\n\", \"Shape of h2: \", h2.shape)"
   ]
  },
  {
   "cell_type": "code",
   "execution_count": null,
   "id": "84673a24",
   "metadata": {},
   "outputs": [],
   "source": []
  }
 ],
 "metadata": {
  "hide_input": false,
  "kernelspec": {
   "display_name": "Python 3 (ipykernel)",
   "language": "python",
   "name": "python3"
  },
  "language_info": {
   "codemirror_mode": {
    "name": "ipython",
    "version": 3
   },
   "file_extension": ".py",
   "mimetype": "text/x-python",
   "name": "python",
   "nbconvert_exporter": "python",
   "pygments_lexer": "ipython3",
   "version": "3.11.5"
  },
  "toc": {
   "base_numbering": 1,
   "nav_menu": {},
   "number_sections": true,
   "sideBar": true,
   "skip_h1_title": false,
   "title_cell": "Table of Contents",
   "title_sidebar": "Contents",
   "toc_cell": true,
   "toc_position": {},
   "toc_section_display": true,
   "toc_window_display": false
  },
  "varInspector": {
   "cols": {
    "lenName": 16,
    "lenType": 16,
    "lenVar": 40
   },
   "kernels_config": {
    "python": {
     "delete_cmd_postfix": "",
     "delete_cmd_prefix": "del ",
     "library": "var_list.py",
     "varRefreshCmd": "print(var_dic_list())"
    },
    "r": {
     "delete_cmd_postfix": ") ",
     "delete_cmd_prefix": "rm(",
     "library": "var_list.r",
     "varRefreshCmd": "cat(var_dic_list()) "
    }
   },
   "types_to_exclude": [
    "module",
    "function",
    "builtin_function_or_method",
    "instance",
    "_Feature"
   ],
   "window_display": false
  }
 },
 "nbformat": 4,
 "nbformat_minor": 5
}
