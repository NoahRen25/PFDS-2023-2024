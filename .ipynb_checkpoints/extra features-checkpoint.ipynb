{
 "cells": [
  {
   "cell_type": "markdown",
   "id": "00c6616b",
   "metadata": {},
   "source": [
    "# jupyter notebook themes (cosmetic but looks cool!!)"
   ]
  },
  {
   "cell_type": "markdown",
   "id": "c4df50a5",
   "metadata": {},
   "source": [
    "run pip install jupyterthemes \n",
    "in anaconda prompt\n",
    "note: it appears that you have to reload jupyter notebook for the theme to update, and it updates across the whole platform, not just this particular notebook"
   ]
  },
  {
   "cell_type": "code",
   "execution_count": 4,
   "id": "faef88da",
   "metadata": {},
   "outputs": [
    {
     "name": "stdout",
     "output_type": "stream",
     "text": [
      "Available Themes: \n",
      "   chesterish\n",
      "   grade3\n",
      "   gruvboxd\n",
      "   gruvboxl\n",
      "   monokai\n",
      "   oceans16\n",
      "   onedork\n",
      "   solarizedd\n",
      "   solarizedl\n"
     ]
    }
   ],
   "source": [
    "#list of themes\n",
    "!jt -l"
   ]
  },
  {
   "cell_type": "code",
   "execution_count": 1,
   "id": "02e1f8fb",
   "metadata": {},
   "outputs": [
    {
     "name": "stdout",
     "output_type": "stream",
     "text": [
      "hi\n"
     ]
    }
   ],
   "source": [
    "#set theme\n",
    "# !jt -t oceans16"
   ]
  },
  {
   "cell_type": "code",
   "execution_count": 1,
   "id": "823cef56",
   "metadata": {},
   "outputs": [
    {
     "name": "stdout",
     "output_type": "stream",
     "text": [
      "Reset css and font defaults in:\n",
      "C:\\Users\\nren2_6wfk1d7\\.jupyter\\custom &\n",
      "C:\\Users\\nren2_6wfk1d7\\AppData\\Roaming\\jupyter\\nbextensions\n"
     ]
    }
   ],
   "source": [
    "#reset theme\n",
    "!jt -r"
   ]
  },
  {
   "cell_type": "markdown",
   "id": "81848778",
   "metadata": {},
   "source": [
    "# nbextentions\n",
    "\n",
    "## hinterland"
   ]
  },
  {
   "cell_type": "markdown",
   "id": "595d5338",
   "metadata": {},
   "source": [
    "autofill feature, makes coding much more efficient\n",
    "just start typing and it lists out the methods (tab to enter, otherwise navigate with arrow keys)"
   ]
  },
  {
   "cell_type": "markdown",
   "id": "8ae06ec9",
   "metadata": {},
   "source": [
    "python.exe -m pip install --upgrade pip\n",
    "pip install jupyter_contrib_nbextensions && jupyter contrib nbextension install"
   ]
  },
  {
   "cell_type": "markdown",
   "id": "256a9f27",
   "metadata": {},
   "source": [
    "it autofills when you click enter, which isn't always a good thing, however, if you right arrow, you're able to get rid of hinterland to resolve this issue"
   ]
  },
  {
   "cell_type": "code",
   "execution_count": null,
   "id": "b49dd864",
   "metadata": {},
   "outputs": [],
   "source": [
    "test = 'hi'\n",
    "if(test== 'hi'):\n",
    "print(test)"
   ]
  },
  {
   "cell_type": "markdown",
   "id": "26b1e9de",
   "metadata": {},
   "source": [
    "# snippets"
   ]
  },
  {
   "cell_type": "markdown",
   "id": "e48b58f1",
   "metadata": {},
   "source": [
    "essentially allows you to insert code snippets that you might use a lot, such as a gorup of import statements"
   ]
  },
  {
   "cell_type": "code",
   "execution_count": null,
   "id": "0144eb0c",
   "metadata": {},
   "outputs": [],
   "source": []
  }
 ],
 "metadata": {
  "kernelspec": {
   "display_name": "Python 3 (ipykernel)",
   "language": "python",
   "name": "python3"
  },
  "language_info": {
   "codemirror_mode": {
    "name": "ipython",
    "version": 3
   },
   "file_extension": ".py",
   "mimetype": "text/x-python",
   "name": "python",
   "nbconvert_exporter": "python",
   "pygments_lexer": "ipython3",
   "version": "3.11.4"
  },
  "varInspector": {
   "cols": {
    "lenName": 16,
    "lenType": 16,
    "lenVar": 40
   },
   "kernels_config": {
    "python": {
     "delete_cmd_postfix": "",
     "delete_cmd_prefix": "del ",
     "library": "var_list.py",
     "varRefreshCmd": "print(var_dic_list())"
    },
    "r": {
     "delete_cmd_postfix": ") ",
     "delete_cmd_prefix": "rm(",
     "library": "var_list.r",
     "varRefreshCmd": "cat(var_dic_list()) "
    }
   },
   "types_to_exclude": [
    "module",
    "function",
    "builtin_function_or_method",
    "instance",
    "_Feature"
   ],
   "window_display": false
  }
 },
 "nbformat": 4,
 "nbformat_minor": 5
}
