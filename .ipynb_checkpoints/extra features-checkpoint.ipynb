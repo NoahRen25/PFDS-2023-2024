{
 "cells": [
  {
   "cell_type": "markdown",
   "id": "e591c2e3",
   "metadata": {
    "deletable": false,
    "editable": false,
    "hide_input": true,
    "run_control": {
     "frozen": true
    },
    "toc": true
   },
   "source": [
    "<h1>Table of Contents<span class=\"tocSkip\"></span></h1>\n",
    "<div class=\"toc\"><ul class=\"toc-item\"><li><span><a href=\"#Loom-videos\" data-toc-modified-id=\"Loom-videos-1\"><span class=\"toc-item-num\">1&nbsp;&nbsp;</span>Loom videos</a></span><ul class=\"toc-item\"><li><ul class=\"toc-item\"><li><ul class=\"toc-item\"><li><span><a href=\"#intro-split-cells-start\" data-toc-modified-id=\"intro-split-cells-start-1.0.0.1\"><span class=\"toc-item-num\">1.0.0.1&nbsp;&nbsp;</span>intro-split cells start</a></span></li><li><span><a href=\"#split-cells-cont.---rubberband\" data-toc-modified-id=\"split-cells-cont.---rubberband-1.0.0.2\"><span class=\"toc-item-num\">1.0.0.2&nbsp;&nbsp;</span>split cells cont. - rubberband</a></span></li><li><span><a href=\"#scratchpad-end\" data-toc-modified-id=\"scratchpad-end-1.0.0.3\"><span class=\"toc-item-num\">1.0.0.3&nbsp;&nbsp;</span>scratchpad-end</a></span></li><li><span><a href=\"#themes\" data-toc-modified-id=\"themes-1.0.0.4\"><span class=\"toc-item-num\">1.0.0.4&nbsp;&nbsp;</span>themes</a></span></li></ul></li></ul></li></ul></li><li><span><a href=\"#jupyter-notebook-themes-(cosmetic-but-looks-cool!!)\" data-toc-modified-id=\"jupyter-notebook-themes-(cosmetic-but-looks-cool!!)-2\"><span class=\"toc-item-num\">2&nbsp;&nbsp;</span>jupyter notebook themes (cosmetic but looks cool!!)</a></span></li><li><span><a href=\"#nbextentions\" data-toc-modified-id=\"nbextentions-3\"><span class=\"toc-item-num\">3&nbsp;&nbsp;</span>nbextentions</a></span><ul class=\"toc-item\"><li><span><a href=\"#hinterland\" data-toc-modified-id=\"hinterland-3.1\"><span class=\"toc-item-num\">3.1&nbsp;&nbsp;</span>hinterland</a></span></li></ul></li><li><span><a href=\"#snippets\" data-toc-modified-id=\"snippets-4\"><span class=\"toc-item-num\">4&nbsp;&nbsp;</span>snippets</a></span></li><li><span><a href=\"#prettify\" data-toc-modified-id=\"prettify-5\"><span class=\"toc-item-num\">5&nbsp;&nbsp;</span>prettify</a></span></li><li><span><a href=\"#Split-cells,-click-arrow-then-other-arrow,-useful-for-working-up-side-by-side\" data-toc-modified-id=\"Split-cells,-click-arrow-then-other-arrow,-useful-for-working-up-side-by-side-6\"><span class=\"toc-item-num\">6&nbsp;&nbsp;</span>Split cells, click arrow then other arrow, useful for working up side by side</a></span></li><li><span><a href=\"#Table-of-contents\" data-toc-modified-id=\"Table-of-contents-7\"><span class=\"toc-item-num\">7&nbsp;&nbsp;</span>Table of contents</a></span><ul class=\"toc-item\"><li><span><a href=\"#Table!!!\" data-toc-modified-id=\"Table!!!-7.1\"><span class=\"toc-item-num\">7.1&nbsp;&nbsp;</span>Table!!!</a></span></li></ul></li><li><span><a href=\"#Edit-notebook-metadata,-delete-what's-already-there-and-place-this-at-the-end-(make-sure-to-adjust-commas-as-necessary)\" data-toc-modified-id=\"Edit-notebook-metadata,-delete-what's-already-there-and-place-this-at-the-end-(make-sure-to-adjust-commas-as-necessary)-8\"><span class=\"toc-item-num\">8&nbsp;&nbsp;</span>Edit notebook metadata, delete what's already there and place this at the end (make sure to adjust commas as necessary)</a></span></li><li><span><a href=\"#autoscroll\" data-toc-modified-id=\"autoscroll-9\"><span class=\"toc-item-num\">9&nbsp;&nbsp;</span>autoscroll</a></span></li><li><span><a href=\"#Codefolding\" data-toc-modified-id=\"Codefolding-10\"><span class=\"toc-item-num\">10&nbsp;&nbsp;</span>Codefolding</a></span></li><li><span><a href=\"#Move-selected-cells\" data-toc-modified-id=\"Move-selected-cells-11\"><span class=\"toc-item-num\">11&nbsp;&nbsp;</span>Move selected cells</a></span></li><li><span><a href=\"#Line-numbers\" data-toc-modified-id=\"Line-numbers-12\"><span class=\"toc-item-num\">12&nbsp;&nbsp;</span>Line numbers</a></span></li><li><span><a href=\"#Spell-check\" data-toc-modified-id=\"Spell-check-13\"><span class=\"toc-item-num\">13&nbsp;&nbsp;</span>Spell-check</a></span></li><li><span><a href=\"#General-notes-to-help-focus\" data-toc-modified-id=\"General-notes-to-help-focus-14\"><span class=\"toc-item-num\">14&nbsp;&nbsp;</span>General notes to help focus</a></span></li><li><span><a href=\"#Freezing-cells\" data-toc-modified-id=\"Freezing-cells-15\"><span class=\"toc-item-num\">15&nbsp;&nbsp;</span>Freezing cells</a></span></li><li><span><a href=\"#Hide-Header\" data-toc-modified-id=\"Hide-Header-16\"><span class=\"toc-item-num\">16&nbsp;&nbsp;</span>Hide Header</a></span></li><li><span><a href=\"#Limit-output\" data-toc-modified-id=\"Limit-output-17\"><span class=\"toc-item-num\">17&nbsp;&nbsp;</span>Limit output</a></span></li><li><span><a href=\"#Rubberband\" data-toc-modified-id=\"Rubberband-18\"><span class=\"toc-item-num\">18&nbsp;&nbsp;</span>Rubberband</a></span></li><li><span><a href=\"#Scratchpad\" data-toc-modified-id=\"Scratchpad-19\"><span class=\"toc-item-num\">19&nbsp;&nbsp;</span>Scratchpad</a></span></li><li><span><a href=\"#Split-cell\" data-toc-modified-id=\"Split-cell-20\"><span class=\"toc-item-num\">20&nbsp;&nbsp;</span>Split-cell</a></span></li><li><span><a href=\"#Tree-filter\" data-toc-modified-id=\"Tree-filter-21\"><span class=\"toc-item-num\">21&nbsp;&nbsp;</span>Tree filter</a></span></li><li><span><a href=\"#Variable-Inspector\" data-toc-modified-id=\"Variable-Inspector-22\"><span class=\"toc-item-num\">22&nbsp;&nbsp;</span>Variable Inspector</a></span></li><li><span><a href=\"#Hide-all-input\" data-toc-modified-id=\"Hide-all-input-23\"><span class=\"toc-item-num\">23&nbsp;&nbsp;</span>Hide all input</a></span></li><li><span><a href=\"#Keyboard-shortcuts\" data-toc-modified-id=\"Keyboard-shortcuts-24\"><span class=\"toc-item-num\">24&nbsp;&nbsp;</span>Keyboard shortcuts</a></span></li></ul></div>"
   ]
  },
  {
   "cell_type": "markdown",
   "id": "730eb74e",
   "metadata": {},
   "source": [
    "# Loom videos\n",
    "\n",
    "####  intro-split cells start\n",
    "\n",
    "https://www.loom.com/share/5c7462cc7de4433ab1a9989ddaebff3b\n",
    "#### split cells cont. - rubberband\n",
    "https://www.loom.com/share/1ce3457b5db84ee9b0d1e0c4c07c7449\n",
    "#### scratchpad-end\n",
    "https://www.loom.com/share/257f680c5b2346ec84983a0213691e9f\n",
    "#### themes\n",
    "https://www.loom.com/share/25ce2540fe2d4e4bb9cb325ff9fa5925"
   ]
  },
  {
   "cell_type": "markdown",
   "id": "00c6616b",
   "metadata": {},
   "source": [
    "# jupyter notebook themes (cosmetic but looks cool!!)"
   ]
  },
  {
   "cell_type": "markdown",
   "id": "c4df50a5",
   "metadata": {},
   "source": [
    "run pip install jupyterthemes \n",
    "in anaconda prompt\n",
    "note: it appears that you have to reload jupyter notebook for the theme to update, and it updates across the whole platform, not just this particular notebook"
   ]
  },
  {
   "cell_type": "code",
   "execution_count": 2,
   "id": "faef88da",
   "metadata": {},
   "outputs": [
    {
     "name": "stdout",
     "output_type": "stream",
     "text": [
      "Available Themes: \n",
      "   chesterish\n",
      "   grade3\n",
      "   gruvboxd\n",
      "   gruvboxl\n",
      "   monokai\n",
      "   oceans16\n",
      "   onedork\n",
      "   solarizedd\n",
      "   solarizedl\n"
     ]
    }
   ],
   "source": [
    "#list of themes\n",
    "!jt -l"
   ]
  },
  {
   "cell_type": "code",
   "execution_count": 5,
   "id": "02e1f8fb",
   "metadata": {},
   "outputs": [],
   "source": [
    "#set theme\n",
    "# !jt -t oceans16"
   ]
  },
  {
   "cell_type": "code",
   "execution_count": 1,
   "id": "823cef56",
   "metadata": {},
   "outputs": [
    {
     "name": "stdout",
     "output_type": "stream",
     "text": [
      "Reset css and font defaults in:\n",
      "C:\\Users\\nren2_6wfk1d7\\.jupyter\\custom &\n",
      "C:\\Users\\nren2_6wfk1d7\\AppData\\Roaming\\jupyter\\nbextensions\n"
     ]
    }
   ],
   "source": [
    "#reset theme\n",
    "!jt -r"
   ]
  },
  {
   "cell_type": "markdown",
   "id": "81848778",
   "metadata": {},
   "source": [
    "# nbextentions\n",
    "\n",
    "## hinterland"
   ]
  },
  {
   "cell_type": "markdown",
   "id": "8ae06ec9",
   "metadata": {},
   "source": [
    "python.exe -m pip install --upgrade pip\n",
    "pip install jupyter_contrib_nbextensions && jupyter contrib nbextension install\n",
    "\n",
    "ok ngl i forgot what commands i ran exactly to debug (it was over the course of hours/days but it included these, also what i think the correct process is\n",
    "\n",
    "pip install jupyter_nbextensions_configurator\n",
    "\n",
    "pip install jupyter_contrib_nbextensions==0.5.1\n",
    "\n",
    "pip3 install notebook==6.5.4\n",
    "\n",
    " pip install jupyter_contrib_nbextensions==0.7.0"
   ]
  },
  {
   "cell_type": "markdown",
   "id": "595d5338",
   "metadata": {},
   "source": [
    "autofill feature, makes coding much more efficient\n",
    "just start typing and it lists out the methods (tab to enter, otherwise navigate with arrow keys)"
   ]
  },
  {
   "cell_type": "markdown",
   "id": "256a9f27",
   "metadata": {},
   "source": [
    "it autofills when you click enter, which isn't always a good thing, however, if you right arrow, you're able to get rid of hinterland to resolve this issue"
   ]
  },
  {
   "cell_type": "code",
   "execution_count": null,
   "id": "b49dd864",
   "metadata": {},
   "outputs": [],
   "source": [
    "test = 'hi'\n",
    "if (test == 'hi'):\n",
    "    print(test)"
   ]
  },
  {
   "cell_type": "markdown",
   "id": "26b1e9de",
   "metadata": {},
   "source": [
    "# snippets"
   ]
  },
  {
   "cell_type": "code",
   "execution_count": null,
   "id": "81a7dca2",
   "metadata": {},
   "outputs": [],
   "source": []
  },
  {
   "cell_type": "code",
   "execution_count": null,
   "id": "312cd7a8",
   "metadata": {},
   "outputs": [],
   "source": []
  },
  {
   "cell_type": "code",
   "execution_count": null,
   "id": "12a0df21",
   "metadata": {},
   "outputs": [],
   "source": []
  },
  {
   "cell_type": "markdown",
   "id": "e48b58f1",
   "metadata": {},
   "source": [
    "essentially allows you to insert code snippets that you might use a lot, such as a gorup of import statements\n",
    "this liteally took me 5 hours to find (cry)\n",
    "Go to C Drive, View, View Hidden Items, Program Data, jupyter, nbextensions, snippets, open json file"
   ]
  },
  {
   "cell_type": "code",
   "execution_count": null,
   "id": "8c25893d",
   "metadata": {},
   "outputs": [],
   "source": []
  },
  {
   "cell_type": "markdown",
   "id": "5aba7887",
   "metadata": {},
   "source": [
    "# prettify"
   ]
  },
  {
   "cell_type": "code",
   "execution_count": null,
   "id": "2883c7b9",
   "metadata": {},
   "outputs": [],
   "source": [
    "i=0\n",
    "i+=1\n",
    "if(i ==1):\n",
    "    print('this code will be pretty soon!')"
   ]
  },
  {
   "cell_type": "code",
   "execution_count": null,
   "id": "93ecdf00",
   "metadata": {},
   "outputs": [],
   "source": [
    "i = 0\n",
    "i += 1\n",
    "if (i == 1):\n",
    "    print('this code will be pretty soon!')"
   ]
  },
  {
   "cell_type": "markdown",
   "id": "b0ce9462",
   "metadata": {},
   "source": [
    "# Split cells, click arrow then other arrow, useful for working up side by side"
   ]
  },
  {
   "cell_type": "code",
   "execution_count": null,
   "id": "e8cda2ec",
   "metadata": {
    "cell_style": "split"
   },
   "outputs": [],
   "source": [
    "split these cells"
   ]
  },
  {
   "cell_type": "code",
   "execution_count": null,
   "id": "f0815f19",
   "metadata": {
    "cell_style": "split"
   },
   "outputs": [],
   "source": [
    "this cell too"
   ]
  },
  {
   "cell_type": "code",
   "execution_count": null,
   "id": "c9e95f76",
   "metadata": {
    "cell_style": "center"
   },
   "outputs": [],
   "source": [
    "also this!!"
   ]
  },
  {
   "cell_type": "markdown",
   "id": "7a469cff",
   "metadata": {},
   "source": [
    "# Table of contents\n"
   ]
  },
  {
   "cell_type": "markdown",
   "id": "14b060d7",
   "metadata": {},
   "source": [
    "## Table!!!"
   ]
  },
  {
   "cell_type": "markdown",
   "id": "e23ccb28",
   "metadata": {},
   "source": [
    "# Edit notebook metadata, delete what's already there and place this at the end (make sure to adjust commas as necessary)\n",
    "\n",
    " \"toc\": {\n",
    "    \"nav_menu\": {},\n",
    "    \"number_sections\": true,\n",
    "    \"sideBar\": true,\n",
    "    \"skip_h1_title\": false,\n",
    "    \"base_numbering\": 1,\n",
    "    \"title_cell\": \"Table of Contents\",\n",
    "    \"title_sidebar\": \"Contents\",\n",
    "    \"toc_cell\": true,\n",
    "    \"toc_position\": {\n",
    "      \"height\": \"382px\",\n",
    "      \"width\": \"256px\",\n",
    "      \"left\": \"10px\",\n",
    "      \"top\": \"10px\"\n",
    "    },\n",
    "    \"toc_section_display\": true,\n",
    "    \"toc_window_display\": true\n",
    "  }"
   ]
  },
  {
   "attachments": {
    "image.png": {
     "image/png": "[encoded data removed]"
    }
   },
   "cell_type": "markdown",
   "id": "6c33a520",
   "metadata": {},
   "source": [
    "# autoscroll\n",
    "you basically scroll with the page, instead of individually scrolling through output\n",
    "![image.png](attachment:image.png)\n"
   ]
  },
  {
   "attachments": {
    "image.png": {
     "image/png": "[encoded data removed]"
    }
   },
   "cell_type": "markdown",
   "id": "45ec6a3f",
   "metadata": {},
   "source": [
    "![image.png](attachment:image.png)"
   ]
  },
  {
   "cell_type": "markdown",
   "id": "de2728fc",
   "metadata": {},
   "source": [
    "# Codefolding\n",
    "allows you to \"fold\" or collapse code that's indented (e.g. something inside an if statement) if you know said code is working"
   ]
  },
  {
   "cell_type": "code",
   "execution_count": null,
   "id": "332015d0",
   "metadata": {
    "code_folding": []
   },
   "outputs": [],
   "source": [
    "if(this)\n",
    "    print('test')\n",
    "if(thiss)\n",
    "    print('test')\n"
   ]
  },
  {
   "cell_type": "markdown",
   "id": "438f966a",
   "metadata": {},
   "source": [
    "# Move selected cells\n",
    "use shift (up arrow key) or shift & down arrow key to select multiple cells, to move them all up/down (useful for moving a singular cell multiple spaces as well"
   ]
  },
  {
   "cell_type": "code",
   "execution_count": null,
   "id": "29e52519",
   "metadata": {},
   "outputs": [],
   "source": [
    "first!! (move this quickly!!)"
   ]
  },
  {
   "cell_type": "code",
   "execution_count": null,
   "id": "42c0f43f",
   "metadata": {},
   "outputs": [],
   "source": [
    "this cell should be second"
   ]
  },
  {
   "cell_type": "code",
   "execution_count": null,
   "id": "4c60f704",
   "metadata": {},
   "outputs": [],
   "source": [
    "third"
   ]
  },
  {
   "cell_type": "code",
   "execution_count": null,
   "id": "32941d03",
   "metadata": {},
   "outputs": [],
   "source": [
    "fourth"
   ]
  },
  {
   "cell_type": "code",
   "execution_count": null,
   "id": "e530b675",
   "metadata": {},
   "outputs": [],
   "source": [
    "fifth"
   ]
  },
  {
   "cell_type": "code",
   "execution_count": null,
   "id": "df5632aa",
   "metadata": {},
   "outputs": [],
   "source": [
    "sixth"
   ]
  },
  {
   "cell_type": "markdown",
   "id": "ccdd25b2",
   "metadata": {},
   "source": [
    "# Line numbers\n",
    "alt + n to toggle (or just shift + l with default)"
   ]
  },
  {
   "cell_type": "code",
   "execution_count": null,
   "id": "fe1a535a",
   "metadata": {},
   "outputs": [],
   "source": [
    "many lines\n",
    "many lines\n",
    "many linesn\n",
    "many lines\n",
    "many linesn\n",
    "many lines\n",
    "many lines\n",
    "many lines\n",
    "many lines\n"
   ]
  },
  {
   "cell_type": "markdown",
   "id": "a3397593",
   "metadata": {},
   "source": [
    "# Spell-check\n",
    "in markdown cells only, checks if you spelled something wrong"
   ]
  },
  {
   "cell_type": "markdown",
   "id": "0f124d18",
   "metadata": {},
   "source": [
    "# General notes to help focus\n",
    "in view tab, you can toggle toolbar & header"
   ]
  },
  {
   "cell_type": "markdown",
   "id": "cc925743",
   "metadata": {},
   "source": [
    "# Freezing cells\n",
    "allows you to make cells read-only (still can be run) or frozen (can't be run)\n",
    "shown by colors"
   ]
  },
  {
   "cell_type": "markdown",
   "id": "57411ff4",
   "metadata": {},
   "source": [
    "# Hide Header\n",
    "cntrl + h to hide whole header (for focus) cntrl + h toggles on as well"
   ]
  },
  {
   "cell_type": "markdown",
   "id": "f09a77f4",
   "metadata": {},
   "source": [
    "# Limit output\n",
    "limits output, aka it doesn't get annoying when like me, you keep making infinite loops (You can also tell how much you're going\n",
    "overboard and if its in the 6 digits, it's probably an infinite loop!\n",
    "Note: You MUST reload your page before the new number you put in takes effect (also stop and re-run the cell everytime there's an infinite loop!)\n",
    "\n",
    "from notebook.services.config import ConfigManager\n",
    "cm = ConfigManager().update('notebook', {'limit_output': 20})\n",
    "\n",
    "change the 20 number to whatever you want to limit"
   ]
  },
  {
   "cell_type": "code",
   "execution_count": 26,
   "id": "f4862ee0",
   "metadata": {},
   "outputs": [
    {
     "name": "stdout",
     "output_type": "stream",
     "text": [
      "hi\n",
      "hi\n",
      "hi\n",
      "hi\n",
      "hi\n",
      "hi\n",
      "hi\n",
      "hi\n",
      "hi\n",
      "hi\n",
      "hi\n",
      "hi\n",
      "hi\n",
      "hi\n",
      "hi\n",
      "hi\n",
      "hi\n",
      "hi\n",
      "hi\n",
      "hi\n",
      "hi\n",
      "hi\n",
      "hi\n",
      "hi\n",
      "hi\n",
      "hi\n",
      "hi\n",
      "hi\n",
      "hi\n",
      "hi\n",
      "hi\n",
      "hi\n",
      "hi\n",
      "h"
     ]
    },
    {
     "data": {
      "text/html": [
       "<b>limit_output extension: Maximum message size of 100 exceeded with 141081 characters</b>"
      ]
     },
     "metadata": {},
     "output_type": "display_data"
    },
    {
     "ename": "KeyboardInterrupt",
     "evalue": "",
     "output_type": "error",
     "traceback": [
      "\u001b[1;31m---------------------------------------------------------------------------\u001b[0m",
      "\u001b[1;31mKeyboardInterrupt\u001b[0m                         Traceback (most recent call last)",
      "Cell \u001b[1;32mIn[26], line 5\u001b[0m\n\u001b[0;32m      2\u001b[0m cm \u001b[38;5;241m=\u001b[39m ConfigManager()\u001b[38;5;241m.\u001b[39mupdate(\u001b[38;5;124m'\u001b[39m\u001b[38;5;124mnotebook\u001b[39m\u001b[38;5;124m'\u001b[39m, {\u001b[38;5;124m'\u001b[39m\u001b[38;5;124mlimit_output\u001b[39m\u001b[38;5;124m'\u001b[39m: \u001b[38;5;241m100\u001b[39m})\n\u001b[0;32m      4\u001b[0m \u001b[38;5;28;01mfor\u001b[39;00m i \u001b[38;5;129;01min\u001b[39;00m \u001b[38;5;28mrange\u001b[39m(\u001b[38;5;241m1000000000\u001b[39m):\n\u001b[1;32m----> 5\u001b[0m     \u001b[38;5;28mprint\u001b[39m(\u001b[38;5;124m'\u001b[39m\u001b[38;5;124mhi\u001b[39m\u001b[38;5;124m'\u001b[39m)\n",
      "File \u001b[1;32m~\\AppData\\Roaming\\Python\\Python311\\site-packages\\ipykernel\\iostream.py:653\u001b[0m, in \u001b[0;36mOutStream.write\u001b[1;34m(self, string)\u001b[0m\n\u001b[0;32m    651\u001b[0m is_child \u001b[38;5;241m=\u001b[39m \u001b[38;5;129;01mnot\u001b[39;00m \u001b[38;5;28mself\u001b[39m\u001b[38;5;241m.\u001b[39m_is_master_process()\n\u001b[0;32m    652\u001b[0m \u001b[38;5;66;03m# only touch the buffer in the IO thread to avoid races\u001b[39;00m\n\u001b[1;32m--> 653\u001b[0m \u001b[43m\u001b[49m\u001b[38;5;28;43;01mwith\u001b[39;49;00m\u001b[43m \u001b[49m\u001b[38;5;28;43mself\u001b[39;49m\u001b[38;5;241;43m.\u001b[39;49m\u001b[43m_buffer_lock\u001b[49m\u001b[43m:\u001b[49m\n\u001b[0;32m    654\u001b[0m \u001b[43m    \u001b[49m\u001b[38;5;28;43mself\u001b[39;49m\u001b[38;5;241;43m.\u001b[39;49m\u001b[43m_buffer\u001b[49m\u001b[38;5;241;43m.\u001b[39;49m\u001b[43mwrite\u001b[49m\u001b[43m(\u001b[49m\u001b[43mstring\u001b[49m\u001b[43m)\u001b[49m\n\u001b[0;32m    655\u001b[0m \u001b[38;5;28;01mif\u001b[39;00m is_child:\n\u001b[0;32m    656\u001b[0m     \u001b[38;5;66;03m# mp.Pool cannot be trusted to flush promptly (or ever),\u001b[39;00m\n\u001b[0;32m    657\u001b[0m     \u001b[38;5;66;03m# and this helps.\u001b[39;00m\n",
      "\u001b[1;31mKeyboardInterrupt\u001b[0m: "
     ]
    }
   ],
   "source": [
    "from notebook.services.config import ConfigManager\n",
    "cm = ConfigManager().update('notebook', {'limit_output': 100})\n",
    "\n",
    "for i in range(1000000000):\n",
    "    print('hi')"
   ]
  },
  {
   "cell_type": "markdown",
   "id": "130267c8",
   "metadata": {},
   "source": [
    "# Rubberband\n",
    "shift + hold left click and select multiple cells"
   ]
  },
  {
   "cell_type": "markdown",
   "id": "f8b4293f",
   "metadata": {
    "cell_style": "split"
   },
   "source": [
    "# Scratchpad\n",
    "literally seems SO helpful, you can run code without editing what's actually in jupyter notebook"
   ]
  },
  {
   "cell_type": "code",
   "execution_count": 11,
   "id": "2da5aa8b",
   "metadata": {
    "cell_style": "center",
    "hide_input": false
   },
   "outputs": [],
   "source": [
    "a = 55"
   ]
  },
  {
   "cell_type": "markdown",
   "id": "f9473df7",
   "metadata": {
    "cell_style": "center",
    "deletable": false,
    "editable": false,
    "run_control": {
     "frozen": true
    }
   },
   "source": [
    "# Split-cell\n",
    "you're able to have multiple cells on a singular line, for ease of editing (click arrow to the right of snippets)"
   ]
  },
  {
   "cell_type": "code",
   "execution_count": 20,
   "id": "c6336159",
   "metadata": {
    "cell_style": "split",
    "deletable": false,
    "editable": false,
    "hide_input": false,
    "run_control": {
     "frozen": true
    }
   },
   "outputs": [
    {
     "name": "stdout",
     "output_type": "stream",
     "text": [
      "a split cell!\n",
      "a spli"
     ]
    },
    {
     "data": {
      "text/html": [
       "<b>limit_output extension: Maximum message size of 20 exceeded with 28 characters</b>"
      ]
     },
     "metadata": {},
     "output_type": "display_data"
    }
   ],
   "source": [
    "print('a split cell!')\n",
    "print('a split cell!')"
   ]
  },
  {
   "cell_type": "code",
   "execution_count": 21,
   "id": "e95e5494",
   "metadata": {
    "cell_style": "split"
   },
   "outputs": [
    {
     "name": "stdout",
     "output_type": "stream",
     "text": [
      "a split cell!\n"
     ]
    }
   ],
   "source": [
    "print('a split cell!')"
   ]
  },
  {
   "cell_type": "code",
   "execution_count": null,
   "id": "280f7b89",
   "metadata": {
    "cell_style": "split"
   },
   "outputs": [],
   "source": [
    "print('a split cell!')"
   ]
  },
  {
   "cell_type": "markdown",
   "id": "ba216f8b",
   "metadata": {},
   "source": [
    "# Tree filter\n",
    "inside your jupyter notebook, you're able to search/filter by name of file"
   ]
  },
  {
   "cell_type": "markdown",
   "id": "8e83ef47",
   "metadata": {
    "hide_input": true
   },
   "source": [
    "# Variable Inspector\n",
    "you have to go into your kernel.json file and change debugger: false to debugger: true\n",
    "seems very helpful as it gives you very useful and easy to see information about the variables"
   ]
  },
  {
   "cell_type": "markdown",
   "id": "1cad0615",
   "metadata": {},
   "source": [
    "# Hide all input\n",
    "you're able to hide all of the code cells and just show output (eye symbol)\n"
   ]
  },
  {
   "cell_type": "markdown",
   "id": "4aaeff79",
   "metadata": {},
   "source": [
    "# Keyboard shortcuts\n",
    "allows for many different shortcuts (Help -> Keyboard shortcuts)"
   ]
  },
  {
   "cell_type": "code",
   "execution_count": null,
   "id": "5d2aea06",
   "metadata": {},
   "outputs": [],
   "source": []
  }
 ],
 "metadata": {
  "hide_input": false,
  "kernelspec": {
   "display_name": "Python 3 (ipykernel)",
   "language": "python",
   "name": "python3"
  },
  "language_info": {
   "codemirror_mode": {
    "name": "ipython",
    "version": 3
   },
   "file_extension": ".py",
   "mimetype": "text/x-python",
   "name": "python",
   "nbconvert_exporter": "python",
   "pygments_lexer": "ipython3",
   "version": "3.11.5"
  },
  "toc": {
   "base_numbering": 1,
   "nav_menu": {},
   "number_sections": true,
   "sideBar": true,
   "skip_h1_title": false,
   "title_cell": "Table of Contents",
   "title_sidebar": "Contents",
   "toc_cell": true,
   "toc_position": {
    "height": "calc(100% - 180px)",
    "left": "10px",
    "top": "150px",
    "width": "252.6px"
   },
   "toc_section_display": true,
   "toc_window_display": true
  },
  "varInspector": {
   "cols": {
    "lenName": 16,
    "lenType": 16,
    "lenVar": 40
   },
   "kernels_config": {
    "python": {
     "delete_cmd_postfix": "",
     "delete_cmd_prefix": "del ",
     "library": "var_list.py",
     "varRefreshCmd": "print(var_dic_list())"
    },
    "r": {
     "delete_cmd_postfix": ") ",
     "delete_cmd_prefix": "rm(",
     "library": "var_list.r",
     "varRefreshCmd": "cat(var_dic_list()) "
    }
   },
   "oldHeight": 109.65,
   "position": {
    "height": "197.65px",
    "left": "1147px",
    "right": "20px",
    "top": "129px",
    "width": "346.8px"
   },
   "types_to_exclude": [
    "module",
    "function",
    "builtin_function_or_method",
    "instance",
    "_Feature"
   ],
   "varInspector_section_display": "block",
   "window_display": false
  }
 },
 "nbformat": 4,
 "nbformat_minor": 5
}
