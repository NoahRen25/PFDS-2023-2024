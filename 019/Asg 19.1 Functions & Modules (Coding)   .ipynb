{
 "cells": [
  {
   "cell_type": "markdown",
   "id": "b3ef95c5",
   "metadata": {
    "toc": true
   },
   "source": [
    "<h1>Table of Contents<span class=\"tocSkip\"></span></h1>\n",
    "<div class=\"toc\"><ul class=\"toc-item\"><li><span><a href=\"#PFDS\" data-toc-modified-id=\"PFDS-1\"><span class=\"toc-item-num\">1&nbsp;&nbsp;</span><center><b>PFDS</b></center></a></span></li><li><span><a href=\"#Asg-19.1\" data-toc-modified-id=\"Asg-19.1-2\"><span class=\"toc-item-num\">2&nbsp;&nbsp;</span><center><b>Asg 19.1</b></center></a></span></li><li><span><a href=\"#Functions-and-Modules-(Coding)\" data-toc-modified-id=\"Functions-and-Modules-(Coding)-3\"><span class=\"toc-item-num\">3&nbsp;&nbsp;</span><center><b>Functions and Modules (Coding)</b></center></a></span></li></ul></div>"
   ]
  },
  {
   "cell_type": "markdown",
   "id": "9f0ff56f",
   "metadata": {},
   "source": [
    "# <center><b>PFDS</b></center>\n",
    "# <center><b>Asg 19.1</b></center>\n",
    "# <center><b>Functions and Modules (Coding)</b></center>\n",
    "<center><span style=\"color:red\">Note:  This assignment goes with 19 Functions and Modules -- Part Three (Notes)</span></center>"
   ]
  },
  {
   "cell_type": "code",
   "execution_count": 12,
   "id": "28565f21",
   "metadata": {
    "id": "28565f21",
    "outputId": "e53152ac-90d8-4a91-a070-b0534de28437"
   },
   "outputs": [
    {
     "name": "stdout",
     "output_type": "stream",
     "text": [
      "The notebook is set up to display multiple output in one cell.\n"
     ]
    }
   ],
   "source": [
    "# set up notebook to display multiple output in one cell\n",
    "\n",
    "from IPython.core.interactiveshell import InteractiveShell\n",
    "InteractiveShell.ast_node_interactivity = \"all\"\n",
    "\n",
    "print('The notebook is set up to display multiple output in one cell.')\n"
   ]
  },
  {
   "cell_type": "markdown",
   "id": "2f67a4d2",
   "metadata": {},
   "source": [
    "<div class=\"alert alert-block alert-success\"><b>Practice Problem #1:</b>\n",
    "\n",
    "Write a function for the surface area of cylinder. Have your function include a docstring, code to retrieve the docstring and at least two function calls.<br>\n",
    "    \n",
    "Note: SA = 2 * pi * r ** 2 + 2 * pi * r * h\n",
    "\n",
    "</div>"
   ]
  },
  {
   "cell_type": "code",
   "execution_count": 14,
   "id": "6b6ab986",
   "metadata": {},
   "outputs": [
    {
     "name": "stdout",
     "output_type": "stream",
     "text": [
      " finding surface area\n",
      "18.84955592153876\n"
     ]
    }
   ],
   "source": [
    "import math\n",
    "def surface_area(radius, height):\n",
    "    ''' finding surface area'''\n",
    "    surface = 2*(math.pi)*radius**2 + 2*(math.pi)*radius*height\n",
    "    return surface\n",
    "print(surface_area.__doc__)\n",
    "print(surface_area(1, 2))"
   ]
  },
  {
   "cell_type": "markdown",
   "id": "c1483f57",
   "metadata": {},
   "source": [
    "<div class=\"alert alert-block alert-success\"><b>Practice Problem #2:</b>\n",
    "\n",
    "Write a function for the surface area of cylinder. Have your function include a docstring, at least two function calls, and a return statement.<br>\n",
    "    \n",
    "Note: SA = 2 * pi * r ** 2 + 2 * pi * r * h\n",
    "\n",
    "</div>"
   ]
  },
  {
   "cell_type": "code",
   "execution_count": 15,
   "id": "e06f5969",
   "metadata": {},
   "outputs": [
    {
     "name": "stdout",
     "output_type": "stream",
     "text": [
      " finding surface area\n",
      "18.84955592153876\n"
     ]
    }
   ],
   "source": [
    "import math\n",
    "def surface_area(radius, height):\n",
    "    ''' finding surface area'''\n",
    "    surface = 2*(math.pi)*radius**2 + 2*(math.pi)*radius*height\n",
    "    return surface\n",
    "print(surface_area.__doc__)\n",
    "print(surface_area(1, 2))"
   ]
  },
  {
   "cell_type": "markdown",
   "id": "3184e0d6",
   "metadata": {},
   "source": [
    "<div class=\"alert alert-block alert-success\"><b>Practice Problem #3:</b>\n",
    "\n",
    "Write a fruitful function <mark>sumTo(n)</mark> that returns the sum of all natural numbers up to and including n. So sumTo(10) would be 1 + 2 + 3 + ... + 10 which would return the value 55. Use the equation (n * (n + 1)) / 2.</b><br>\n",
    "    \n",
    "</div>"
   ]
  },
  {
   "cell_type": "code",
   "execution_count": 17,
   "id": "c2a3c44f",
   "metadata": {},
   "outputs": [
    {
     "name": "stdout",
     "output_type": "stream",
     "text": [
      "55.0\n"
     ]
    }
   ],
   "source": [
    "def sumTo(n):\n",
    "    return (n * (n+1) / 2) \n",
    "print(sumTo(10))\n"
   ]
  },
  {
   "cell_type": "markdown",
   "id": "48a11dda",
   "metadata": {},
   "source": [
    "<div class=\"alert alert-block alert-success\"><b>Practice Problem #4:</b>\n",
    "\n",
    "Rewrite the cube function that uses a second parameter called power.\n",
    "</div>"
   ]
  },
  {
   "cell_type": "code",
   "execution_count": 18,
   "id": "d769197f",
   "metadata": {},
   "outputs": [
    {
     "name": "stdout",
     "output_type": "stream",
     "text": [
      "15625\n"
     ]
    }
   ],
   "source": [
    "def power(x, power):\n",
    "    return x**power\n",
    "print(power(5, 6))"
   ]
  },
  {
   "cell_type": "markdown",
   "id": "ae4768d8",
   "metadata": {},
   "source": [
    "<div class=\"alert alert-block alert-success\"><b>Practice Problem #5:</b>\n",
    "\n",
    "Write a fruitful function that adds the first n positive odd integers without using an <b>accumulator function</b>.<br>    \n",
    "\n",
    "</div>"
   ]
  },
  {
   "cell_type": "code",
   "execution_count": 21,
   "id": "8038f39c",
   "metadata": {},
   "outputs": [
    {
     "name": "stdout",
     "output_type": "stream",
     "text": [
      "the sum of the first 7 odd integers is: 49\n"
     ]
    }
   ],
   "source": [
    "def odd_int(n):\n",
    "    return n**2\n",
    "number = 7\n",
    "print(f'the sum of the first {number} odd integers is: {odd_int(number)}')"
   ]
  },
  {
   "cell_type": "markdown",
   "id": "1a4bf95a",
   "metadata": {},
   "source": [
    "<div class=\"alert alert-block alert-success\"><b>Practice Problem #6:</b>\n",
    "\n",
    "Write a fruitful function that adds the first n positive odd integers that uses an <b>accumulator function</b>.<br>    \n",
    "\n",
    "</div>"
   ]
  },
  {
   "cell_type": "code",
   "execution_count": 24,
   "id": "144754f2",
   "metadata": {},
   "outputs": [
    {
     "name": "stdout",
     "output_type": "stream",
     "text": [
      "the sum of the first 7 odd integers is: 49\n"
     ]
    }
   ],
   "source": [
    "def odd_int(n):\n",
    "    i=0\n",
    "    x = 1\n",
    "    sum = 0\n",
    "    while i in range(n):\n",
    "        sum += x\n",
    "        x +=2\n",
    "        i +=1\n",
    "    return sum\n",
    "number = 7\n",
    "print(f'the sum of the first {number} odd integers is: {odd_int(number)}')"
   ]
  },
  {
   "cell_type": "markdown",
   "id": "62ec9211",
   "metadata": {},
   "source": [
    "<div class=\"alert alert-block alert-success\"><b>Practice Problem #7:</b><br>\n",
    "    \n",
    "Write a function called <mark>mySqrt</mark> that will approximate the square root of a number, call it n, by using Newton’s algorithm. Newton’s approach is an iterative guessing algorithm where the initial guess is n/2 and each subsequent guess is computed using the formula: newguess = (1/2) * (oldguess + (n/oldguess)).\n",
    "<br>    \n",
    "\n",
    "</div>"
   ]
  },
  {
   "cell_type": "code",
   "execution_count": 31,
   "id": "737e6f28",
   "metadata": {},
   "outputs": [
    {
     "name": "stdout",
     "output_type": "stream",
     "text": [
      "the approximate square root of 10000 is: 100.0\n"
     ]
    }
   ],
   "source": [
    "def mySqrt(n):\n",
    "    old_guess = n/2\n",
    "    i = 0\n",
    "    while i in range(100000):\n",
    "        i +=1\n",
    "        newguess = (0.5) * (old_guess + (n/old_guess))\n",
    "        old_guess = newguess\n",
    "    return newguess\n",
    "number = 10000\n",
    "print(f'the approximate square root of {number} is: {mySqrt(number)}')"
   ]
  },
  {
   "cell_type": "markdown",
   "id": "4bedef00",
   "metadata": {},
   "source": [
    "<div class=\"alert alert-block alert-success\"><b>Practice Problem #8:</b>\n",
    "\n",
    "Rewrite the function <mark>sumTo(n)</mark> that returns the sum of all integer numbers up to and including n. This time use the <b>accumulator pattern</b>.\n",
    "    \n",
    "</div>"
   ]
  },
  {
   "cell_type": "code",
   "execution_count": 36,
   "id": "2862aca8",
   "metadata": {},
   "outputs": [
    {
     "name": "stdout",
     "output_type": "stream",
     "text": [
      "the sum of the first 7 integers is: 28\n"
     ]
    }
   ],
   "source": [
    "def sumTo(n):\n",
    "    i=0\n",
    "    sum = 0\n",
    "    while i in range(n):\n",
    "        i +=1\n",
    "        sum += i\n",
    "    return sum\n",
    "number = 7\n",
    "print(f'the sum of the first {number} integers is: {sumTo(number)}')"
   ]
  },
  {
   "cell_type": "code",
   "execution_count": null,
   "id": "148fda4e",
   "metadata": {},
   "outputs": [],
   "source": []
  },
  {
   "cell_type": "markdown",
   "id": "49c2b951",
   "metadata": {},
   "source": [
    "\n",
    "    "
   ]
  }
 ],
 "metadata": {
  "colab": {
   "name": "15 Functions & Modules Presentation 1 (JN) .ipynb",
   "provenance": []
  },
  "hide_input": false,
  "kernelspec": {
   "display_name": "Python 3 (ipykernel)",
   "language": "python",
   "name": "python3"
  },
  "language_info": {
   "codemirror_mode": {
    "name": "ipython",
    "version": 3
   },
   "file_extension": ".py",
   "mimetype": "text/x-python",
   "name": "python",
   "nbconvert_exporter": "python",
   "pygments_lexer": "ipython3",
   "version": "3.11.5"
  },
  "toc": {
   "base_numbering": 1,
   "nav_menu": {},
   "number_sections": true,
   "sideBar": true,
   "skip_h1_title": false,
   "title_cell": "Table of Contents",
   "title_sidebar": "Contents",
   "toc_cell": true,
   "toc_position": {},
   "toc_section_display": true,
   "toc_window_display": false
  },
  "varInspector": {
   "cols": {
    "lenName": 16,
    "lenType": 16,
    "lenVar": 40
   },
   "kernels_config": {
    "python": {
     "delete_cmd_postfix": "",
     "delete_cmd_prefix": "del ",
     "library": "var_list.py",
     "varRefreshCmd": "print(var_dic_list())"
    },
    "r": {
     "delete_cmd_postfix": ") ",
     "delete_cmd_prefix": "rm(",
     "library": "var_list.r",
     "varRefreshCmd": "cat(var_dic_list()) "
    }
   },
   "types_to_exclude": [
    "module",
    "function",
    "builtin_function_or_method",
    "instance",
    "_Feature"
   ],
   "window_display": false
  }
 },
 "nbformat": 4,
 "nbformat_minor": 5
}
