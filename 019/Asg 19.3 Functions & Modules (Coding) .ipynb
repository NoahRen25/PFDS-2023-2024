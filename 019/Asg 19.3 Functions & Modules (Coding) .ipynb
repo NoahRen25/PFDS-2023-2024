{
 "cells": [
  {
   "cell_type": "markdown",
   "id": "2838dbb2",
   "metadata": {
    "toc": true
   },
   "source": [
    "<h1>Table of Contents<span class=\"tocSkip\"></span></h1>\n",
    "<div class=\"toc\"><ul class=\"toc-item\"><li><span><a href=\"#PFDS\" data-toc-modified-id=\"PFDS-1\"><span class=\"toc-item-num\">1&nbsp;&nbsp;</span><center><b>PFDS</b></center></a></span></li><li><span><a href=\"#Asg-19.3\" data-toc-modified-id=\"Asg-19.3-2\"><span class=\"toc-item-num\">2&nbsp;&nbsp;</span><center><b>Asg 19.3</b></center></a></span></li><li><span><a href=\"#Functions-and-Modules\" data-toc-modified-id=\"Functions-and-Modules-3\"><span class=\"toc-item-num\">3&nbsp;&nbsp;</span><center><b>Functions and Modules</b></center></a></span></li></ul></div>"
   ]
  },
  {
   "cell_type": "markdown",
   "id": "99547354",
   "metadata": {},
   "source": [
    "# <center><b>PFDS</b></center>\n",
    "# <center><b>Asg 19.3</b></center>\n",
    "# <center><b>Functions and Modules</b></center>\n",
    "<center><span style=\"color:red\">Note:  This assignment goes with 19 Functions and Modules -- Part Four (Notes - MODULES) </span></center>"
   ]
  },
  {
   "cell_type": "code",
   "execution_count": 4,
   "id": "28565f21",
   "metadata": {
    "id": "28565f21",
    "outputId": "e53152ac-90d8-4a91-a070-b0534de28437"
   },
   "outputs": [
    {
     "name": "stdout",
     "output_type": "stream",
     "text": [
      "The notebook is set up to display multiple output in one cell.\n"
     ]
    }
   ],
   "source": [
    "# set up notebook to display multiple output in one cell\n",
    "\n",
    "from IPython.core.interactiveshell import InteractiveShell\n",
    "InteractiveShell.ast_node_interactivity = \"all\"\n",
    "\n",
    "print('The notebook is set up to display multiple output in one cell.')\n"
   ]
  },
  {
   "cell_type": "markdown",
   "id": "04e06963",
   "metadata": {},
   "source": [
    "<div class=\"alert alert-block alert-success\"><b>Practice Problem 1</b>: \n",
    "\n",
    "Use a for statement to print 10 random numbers.</div>"
   ]
  },
  {
   "cell_type": "code",
   "execution_count": 8,
   "id": "92277629",
   "metadata": {},
   "outputs": [
    {
     "name": "stdout",
     "output_type": "stream",
     "text": [
      "96072\n",
      "37590\n",
      "17142\n",
      "25800\n",
      "3475\n",
      "63464\n",
      "29459\n",
      "4885\n",
      "86807\n",
      "25731\n"
     ]
    }
   ],
   "source": [
    "import random\n",
    "def randoms(n=10):\n",
    "    for i in range(n):\n",
    "        print(random.randint(0, 100000))\n",
    "randoms()"
   ]
  },
  {
   "cell_type": "markdown",
   "id": "b3bdb0a8",
   "metadata": {},
   "source": [
    "<div class=\"alert alert-block alert-success\"><b>Practice Problem 2</b>: \n",
    "\n",
    "Use a <b>for statement</b> to print 10 random numbers between 25 and 40.\n",
    "</div>"
   ]
  },
  {
   "cell_type": "code",
   "execution_count": 10,
   "id": "376f6161",
   "metadata": {},
   "outputs": [
    {
     "name": "stdout",
     "output_type": "stream",
     "text": [
      "26\n",
      "27\n",
      "29\n",
      "39\n",
      "37\n",
      "32\n",
      "39\n",
      "29\n",
      "37\n",
      "38\n"
     ]
    }
   ],
   "source": [
    "import random\n",
    "def randoms(n=10):\n",
    "    for i in range(n):\n",
    "        print(random.randint(25, 40))\n",
    "randoms()"
   ]
  },
  {
   "cell_type": "markdown",
   "id": "7c3750a9",
   "metadata": {},
   "source": [
    "<div class=\"alert alert-block alert-success\"><b>Practice Problem 3</b>: \n",
    "\n",
    "The Pythagorean Theorem tells us that the length of the hypotenuse of a right triangle is related to the lengths of the other two sides. Write a function that calculates the length of the hypotenuse of a right triangle and then use that function to calculate the length of the hypotenuse in a right triangle that has legs with lengths of 16 and 63.\n",
    "</div>"
   ]
  },
  {
   "cell_type": "code",
   "execution_count": 11,
   "id": "1ce8edc6",
   "metadata": {},
   "outputs": [
    {
     "name": "stdout",
     "output_type": "stream",
     "text": [
      "65.0\n"
     ]
    }
   ],
   "source": [
    "import math\n",
    "def hypotenuse(x, y):\n",
    "    return math.sqrt(x**2 + y**2)\n",
    "print(hypotenuse(16, 63))"
   ]
  },
  {
   "cell_type": "markdown",
   "id": "25a3a93e",
   "metadata": {},
   "source": [
    "<div class=\"alert alert-block alert-success\"><b>Practice Problem 4</b>: \n",
    "\n",
    "Suppose we wish to calculate the greatest common divisor of two integers. We would import the math module and use the function contained in the math module that will calculate this for us.  Use this approach to find the greatest common divisor of 24, 678, and 1002.\n",
    "</div>"
   ]
  },
  {
   "cell_type": "code",
   "execution_count": 12,
   "id": "c9f73efc",
   "metadata": {},
   "outputs": [
    {
     "name": "stdout",
     "output_type": "stream",
     "text": [
      "6\n"
     ]
    }
   ],
   "source": [
    "import math\n",
    "print(math.gcd(24, 678, 1002))"
   ]
  },
  {
   "attachments": {
    "sphere-2.PNG": {
     "image/png": "[encoded data removed]"
    }
   },
   "cell_type": "markdown",
   "id": "ada9570a",
   "metadata": {},
   "source": [
    "<div class=\"alert alert-block alert-success\"><b>Practice Problem 5</b>: \n",
    "    \n",
    "Suppose, we want to calculate the volume of a sphere with radius 5, we could use the constant math.pi from the math module. Notice that because we imported the math module in one of the cells above, we do not need to import it again for this next calculation. However, the cell above this must be run first for our calculation below to work.  Round your answer to 3 decimal places.<br><p>&nbsp;</p>\n",
    "    \n",
    "![sphere-2.PNG](attachment:sphere-2.PNG)\n",
    "\n",
    "</div>"
   ]
  },
  {
   "cell_type": "code",
   "execution_count": 13,
   "id": "8b58f25f",
   "metadata": {},
   "outputs": [
    {
     "name": "stdout",
     "output_type": "stream",
     "text": [
      "523.599\n"
     ]
    }
   ],
   "source": [
    "def volume(r = 5):\n",
    "    return round((4/3*math.pi)*r**3, 3)\n",
    "print(volume())"
   ]
  },
  {
   "cell_type": "markdown",
   "id": "8c4e1901",
   "metadata": {},
   "source": [
    "<div class=\"alert alert-block alert-success\"><b>Practice Problem 6</b>: \n",
    "\n",
    "Use the <mark>statistics</mark> module to find the mean and median of the given values found in the given list.<br>\n",
    "\n",
    "scores = [87, 75, 93, 97, 84, 76, 99, 91, 65]\n",
    "</div>"
   ]
  },
  {
   "cell_type": "code",
   "execution_count": 16,
   "id": "412a6bdc",
   "metadata": {},
   "outputs": [
    {
     "name": "stdout",
     "output_type": "stream",
     "text": [
      "the mean rounded to 2 decimal places is: 85.22\n",
      "the median is: 87\n"
     ]
    }
   ],
   "source": [
    "import statistics\n",
    "scores = [87, 75, 93, 97, 84, 76, 99, 91, 65]\n",
    "print(f'the mean rounded to 2 decimal places is: {round(statistics.mean(scores), 2)}')\n",
    "print(f'the median is: {statistics.median(scores)}')"
   ]
  },
  {
   "cell_type": "markdown",
   "id": "3a12f889",
   "metadata": {},
   "source": [
    "<b>NOTE:</b>\n",
    "\n",
    "We can rename a module by providing an alias. For example, we could have imported the statistics module with the alias st. Then we can use any function defined in the statistics module by prefixing the function name with st. (instead of statistics.) \n",
    "\n",
    "- e.g., import statistics vs. import statistics as st\n",
    "- then, statistics.median() vs. st.median()\n"
   ]
  },
  {
   "cell_type": "markdown",
   "id": "d407306c",
   "metadata": {},
   "source": [
    "<div class=\"alert alert-block alert-success\"><b>Practice Problem 7</b>: \n",
    "\n",
    "Use the <mark>statistics</mark> module, but rename it using the <mark>alias</mark> <b>stats</b>, to find the mean and median of the given values found in the given list.<br>\n",
    "\n",
    "scores = [87, 75, 93, 97, 84, 76, 99, 91, 65]\n",
    "</div>"
   ]
  },
  {
   "cell_type": "code",
   "execution_count": 17,
   "id": "cca484b9",
   "metadata": {},
   "outputs": [
    {
     "name": "stdout",
     "output_type": "stream",
     "text": [
      "the mean rounded to 2 decimal places is: 85.22\n",
      "the median is: 87\n"
     ]
    }
   ],
   "source": [
    "import statistics as stats\n",
    "scores = [87, 75, 93, 97, 84, 76, 99, 91, 65]\n",
    "print(f'the mean rounded to 2 decimal places is: {round(stats.mean(scores), 2)}')\n",
    "print(f'the median is: {stats.median(scores)}')"
   ]
  },
  {
   "cell_type": "markdown",
   "id": "d148dd5b",
   "metadata": {},
   "source": [
    "***"
   ]
  },
  {
   "cell_type": "markdown",
   "id": "a20fe6de",
   "metadata": {},
   "source": [
    "<b>NOTE:</b>\n",
    "\n",
    "Occasionally you will see a slightly different approach used for importing a module. You may see something like this:\n",
    "\n",
    "<span style=\"color:red\">from [module] import *</span>\n",
    "\n",
    "This will import _everything_ defined in the module and give us direct access to constants, functions, etc. in the module without having to to prefix the module name like we did above. However, this is not a good practice in general since two modules might define two different methods with the same name.\n",
    "\n",
    "Here is the same example from above using this alternative import statement:"
   ]
  },
  {
   "cell_type": "markdown",
   "id": "8b04bfea",
   "metadata": {},
   "source": [
    "<b>EXAMPLES:</b>\n",
    "\n",
    "Using the <b>uniform</b> method to generate a random floating point number between two values -- 10 and 100."
   ]
  },
  {
   "cell_type": "code",
   "execution_count": 35,
   "id": "33540416",
   "metadata": {},
   "outputs": [
    {
     "data": {
      "text/plain": [
       "12.81265812171501"
      ]
     },
     "execution_count": 35,
     "metadata": {},
     "output_type": "execute_result"
    }
   ],
   "source": [
    "# regular import statement\n",
    "\n",
    "import random\n",
    "\n",
    "random.uniform(10, 100)"
   ]
  },
  {
   "cell_type": "code",
   "execution_count": 34,
   "id": "77f60979",
   "metadata": {},
   "outputs": [
    {
     "data": {
      "text/plain": [
       "52.33963883206349"
      ]
     },
     "execution_count": 34,
     "metadata": {},
     "output_type": "execute_result"
    }
   ],
   "source": [
    "# alternative import statement\n",
    "\n",
    "from random import *\n",
    "\n",
    "uniform(10, 100)\n"
   ]
  },
  {
   "cell_type": "code",
   "execution_count": null,
   "id": "146596d7",
   "metadata": {},
   "outputs": [],
   "source": []
  }
 ],
 "metadata": {
  "colab": {
   "name": "15 Functions & Modules Presentation 1 (JN) .ipynb",
   "provenance": []
  },
  "hide_input": false,
  "kernelspec": {
   "display_name": "Python 3 (ipykernel)",
   "language": "python",
   "name": "python3"
  },
  "language_info": {
   "codemirror_mode": {
    "name": "ipython",
    "version": 3
   },
   "file_extension": ".py",
   "mimetype": "text/x-python",
   "name": "python",
   "nbconvert_exporter": "python",
   "pygments_lexer": "ipython3",
   "version": "3.11.5"
  },
  "toc": {
   "base_numbering": 1,
   "nav_menu": {},
   "number_sections": true,
   "sideBar": true,
   "skip_h1_title": false,
   "title_cell": "Table of Contents",
   "title_sidebar": "Contents",
   "toc_cell": true,
   "toc_position": {},
   "toc_section_display": true,
   "toc_window_display": false
  },
  "varInspector": {
   "cols": {
    "lenName": 16,
    "lenType": 16,
    "lenVar": 40
   },
   "kernels_config": {
    "python": {
     "delete_cmd_postfix": "",
     "delete_cmd_prefix": "del ",
     "library": "var_list.py",
     "varRefreshCmd": "print(var_dic_list())"
    },
    "r": {
     "delete_cmd_postfix": ") ",
     "delete_cmd_prefix": "rm(",
     "library": "var_list.r",
     "varRefreshCmd": "cat(var_dic_list()) "
    }
   },
   "types_to_exclude": [
    "module",
    "function",
    "builtin_function_or_method",
    "instance",
    "_Feature"
   ],
   "window_display": false
  }
 },
 "nbformat": 4,
 "nbformat_minor": 5
}
