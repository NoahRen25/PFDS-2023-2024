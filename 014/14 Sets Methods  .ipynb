{
 "cells": [
  {
   "cell_type": "markdown",
   "id": "cfddc5c9",
   "metadata": {},
   "source": [
    "# <center><b>Python for Data Science</b></center>\n",
    "# <center><b>Lesson 14</b></center>\n",
    "# <center><b>Set Methods</b></center>"
   ]
  },
  {
   "cell_type": "markdown",
   "id": "7867de6b",
   "metadata": {},
   "source": [
    "<center><i>Adapted from:</i></center>\n",
    "<center>*****************</center>\n",
    "<center>Python Set Methods (w3schools)</center>\n"
   ]
  },
  {
   "cell_type": "markdown",
   "id": "abbd56b9",
   "metadata": {},
   "source": [
    "[Python Set Methods (w3schools)](https://www.w3schools.com/python/python_ref_set.asp#:~:text=Python%20Set%20Methods%20%20%20%20Method%20,difference%20%20...%20%2013%20more%20rows%20)"
   ]
  },
  {
   "cell_type": "markdown",
   "id": "33d83c42",
   "metadata": {},
   "source": [
    "##  <span style=\"color:green\">TABLE OF CONTENTS</span>\n",
    "\n",
    "1. [add()](#1)<br>\n",
    "2. [clear()](#2)<br>\n",
    "3. [copy()](#3)<br>\n",
    "4. [difference()](#4)<br>\n",
    "5. [difference_update()](#5)<br>\n",
    "6. [discard()](#6)<br>\n",
    "7. [intersection()](#7)<br>\n",
    "8. [intersection_update()](#8)<br>\n",
    "9. [isdisjoint()](#9)<br>\n",
    "10. [issubset()](#10)<br>\n",
    "11. [issuperset()](#11)<br>\n",
    "12. [pop()](#12)<br>\n",
    "13. [remove()](#13)<br>\n",
    "14. [symmetric_difference()](#14)<br>\n",
    "15. [symmetric_difference_update()](#15)<br>\n",
    "16. [union()](#16)\n",
    "17. [update()](#17)"
   ]
  },
  {
   "cell_type": "code",
   "execution_count": 14,
   "id": "35b5e03c",
   "metadata": {},
   "outputs": [
    {
     "name": "stdout",
     "output_type": "stream",
     "text": [
      "This notebook is now set up to display multiple output in one cell.\n"
     ]
    }
   ],
   "source": [
    "# set up notebook to display multiple output in one cell\n",
    "from IPython.core.interactiveshell import InteractiveShell\n",
    "InteractiveShell.ast_node_interactivity = \"all\"\n",
    "\n",
    "print(\"This notebook is now set up to display multiple output in one cell.\")"
   ]
  },
  {
   "cell_type": "markdown",
   "id": "e4df3422",
   "metadata": {},
   "source": [
    "<a class=\"anchor\" id=\"1\"></a>\n",
    "<div class=\"alert alert-block alert-info\">\n",
    "<b><font size=\"4\">1. add()</font></b></div>"
   ]
  },
  {
   "cell_type": "markdown",
   "id": "6b186834",
   "metadata": {},
   "source": [
    "- Adds an element to the set"
   ]
  },
  {
   "cell_type": "code",
   "execution_count": 3,
   "id": "8481e46f",
   "metadata": {},
   "outputs": [
    {
     "name": "stdout",
     "output_type": "stream",
     "text": [
      "{'north', 'east', 'south'}\n",
      "{'north', 'west', 'east', 'south'}\n"
     ]
    }
   ],
   "source": [
    "directions = {\"north\", \"south\", \"east\"}\n",
    "print(directions)\n",
    "\n",
    "directions.add(\"west\")\n",
    "print(directions)"
   ]
  },
  {
   "cell_type": "markdown",
   "id": "00d18ec5",
   "metadata": {},
   "source": [
    "<a class=\"anchor\" id=\"2\"></a>\n",
    "<div class=\"alert alert-block alert-info\">\n",
    "<b><font size=\"4\">2. clear()</font></b></div>"
   ]
  },
  {
   "cell_type": "markdown",
   "id": "e89fc83d",
   "metadata": {},
   "source": [
    "- \tRemoves all the elements from the set"
   ]
  },
  {
   "cell_type": "code",
   "execution_count": 4,
   "id": "f877610f",
   "metadata": {},
   "outputs": [
    {
     "name": "stdout",
     "output_type": "stream",
     "text": [
      "{'north', 'west', 'east', 'south'}\n",
      "set()\n"
     ]
    }
   ],
   "source": [
    "directions = {\"north\", \"south\", \"east\", \"west\"}\n",
    "print(directions)\n",
    "\n",
    "directions.clear()\n",
    "print(directions)"
   ]
  },
  {
   "cell_type": "markdown",
   "id": "ed79b1ca",
   "metadata": {},
   "source": [
    "<a class=\"anchor\" id=\"3\"></a>\n",
    "<div class=\"alert alert-block alert-info\">\n",
    "<b><font size=\"4\">3. copy()</font></b></div>"
   ]
  },
  {
   "cell_type": "markdown",
   "id": "55f3783a",
   "metadata": {},
   "source": [
    "- Returns a copy of the set"
   ]
  },
  {
   "cell_type": "code",
   "execution_count": null,
   "id": "7e90d378",
   "metadata": {},
   "outputs": [],
   "source": [
    "fruits = {\"apple\", \"banana\", \"cherry\"}\n",
    "\n",
    "x = fruits.copy()\n",
    "\n",
    "print(x)"
   ]
  },
  {
   "cell_type": "code",
   "execution_count": 5,
   "id": "68176e9f",
   "metadata": {},
   "outputs": [
    {
     "name": "stdout",
     "output_type": "stream",
     "text": [
      "{'north', 'west', 'east', 'south'}\n",
      "{'north', 'west', 'east', 'south'}\n"
     ]
    }
   ],
   "source": [
    "directions = {\"north\", \"south\", \"east\", \"west\"}\n",
    "print(directions)\n",
    "\n",
    "x = directions.copy()\n",
    "print(x)"
   ]
  },
  {
   "cell_type": "markdown",
   "id": "8d447b11",
   "metadata": {},
   "source": [
    "<a class=\"anchor\" id=\"4\"></a>\n",
    "<div class=\"alert alert-block alert-info\">\n",
    "<b><font size=\"4\">4. difference()</font></b></div>"
   ]
  },
  {
   "cell_type": "markdown",
   "id": "7944ea95",
   "metadata": {},
   "source": [
    "- Returns a set containing the difference between two or more sets"
   ]
  },
  {
   "cell_type": "code",
   "execution_count": 9,
   "id": "1ce8a731",
   "metadata": {},
   "outputs": [
    {
     "name": "stdout",
     "output_type": "stream",
     "text": [
      "{'soccer', 'golf'}\n",
      "{'football', 'basketball'}\n"
     ]
    }
   ],
   "source": [
    "a = {\"golf\", \"tennis\", \"soccer\", \"baseball\"}\n",
    "b = {\"football\", \"basketball\", \"tennis\", \"baseball\"}\n",
    "\n",
    "c = a.difference(b)\n",
    "print(c)\n",
    "\n",
    "d = b.difference(a)\n",
    "print(d)"
   ]
  },
  {
   "cell_type": "markdown",
   "id": "e0df4b16",
   "metadata": {},
   "source": [
    "<a class=\"anchor\" id=\"5\"></a>\n",
    "<div class=\"alert alert-block alert-info\">\n",
    "<b><font size=\"4\">5. difference_update()</font></b></div>"
   ]
  },
  {
   "cell_type": "markdown",
   "id": "a94c1f51",
   "metadata": {},
   "source": [
    "- Removes the items in this set that are also included in another, specified set"
   ]
  },
  {
   "cell_type": "code",
   "execution_count": 12,
   "id": "da157434",
   "metadata": {},
   "outputs": [
    {
     "name": "stdout",
     "output_type": "stream",
     "text": [
      "{'soccer', 'golf'}\n"
     ]
    }
   ],
   "source": [
    "a = {\"golf\", \"tennis\", \"soccer\", \"baseball\"}\n",
    "b = {\"football\", \"basketball\", \"tennis\", \"baseball\"}\n",
    "\n",
    "a.difference_update(b)\n",
    "print(a)"
   ]
  },
  {
   "cell_type": "markdown",
   "id": "c7822062",
   "metadata": {},
   "source": [
    "<a class=\"anchor\" id=\"6\"></a>\n",
    "<div class=\"alert alert-block alert-info\">\n",
    "<b><font size=\"4\">6. discard()</font></b></div>"
   ]
  },
  {
   "cell_type": "markdown",
   "id": "2fdce930",
   "metadata": {},
   "source": [
    "- Remove the specified item"
   ]
  },
  {
   "cell_type": "code",
   "execution_count": null,
   "id": "e5acefa3",
   "metadata": {},
   "outputs": [],
   "source": [
    "fruits = {\"apple\", \"banana\", \"cherry\"}\n",
    "\n",
    "fruits.discard(\"banana\")\n",
    "\n",
    "print(fruits)"
   ]
  },
  {
   "cell_type": "code",
   "execution_count": 15,
   "id": "91ef903d",
   "metadata": {},
   "outputs": [
    {
     "name": "stdout",
     "output_type": "stream",
     "text": [
      "{'north', 'west', 'east', 'south'}\n",
      "{'north', 'west', 'south'}\n"
     ]
    }
   ],
   "source": [
    "directions = {\"north\", \"south\", \"east\", \"west\"}\n",
    "print(directions)\n",
    "\n",
    "directions.discard(\"east\")\n",
    "print(directions)"
   ]
  },
  {
   "cell_type": "markdown",
   "id": "6e1116a3",
   "metadata": {},
   "source": [
    "<a class=\"anchor\" id=\"7\"></a>\n",
    "<div class=\"alert alert-block alert-info\">\n",
    "<b><font size=\"4\">7. intersection()</font></b></div>"
   ]
  },
  {
   "cell_type": "markdown",
   "id": "90193467",
   "metadata": {},
   "source": [
    "- Returns a set, that is the intersection of two or more sets"
   ]
  },
  {
   "cell_type": "code",
   "execution_count": 19,
   "id": "7e1524e8",
   "metadata": {},
   "outputs": [
    {
     "name": "stdout",
     "output_type": "stream",
     "text": [
      "{'Calculus', 'World History'}\n",
      "{'Calculus', 'Spanish', 'World History'}\n",
      "{'Calculus', 'World History'}\n"
     ]
    }
   ],
   "source": [
    "tom = {\"Calculus\", \"Chemistry\", \"Spanish\", \"World History\"}\n",
    "mary = {\"Calculus\", \"Biology\", \"French\", \"World History\"}\n",
    "ed = {\"Calculus\", \"Physics\", \"Spanish\", \"World History\"}\n",
    "\n",
    "x = tom.intersection(mary)\n",
    "print(x)\n",
    "\n",
    "y = tom.intersection(ed)\n",
    "print(y)\n",
    "\n",
    "z = tom.intersection(mary, ed)\n",
    "print(z)"
   ]
  },
  {
   "cell_type": "markdown",
   "id": "49c14242",
   "metadata": {},
   "source": [
    "<a class=\"anchor\" id=\"8\"></a>\n",
    "<div class=\"alert alert-block alert-info\">\n",
    "<b><font size=\"4\">8. intersection_update()</font></b></div>"
   ]
  },
  {
   "cell_type": "markdown",
   "id": "72417983",
   "metadata": {},
   "source": [
    "- Removes the items in this set that are not present in other, specified set(s)"
   ]
  },
  {
   "cell_type": "code",
   "execution_count": 20,
   "id": "75c0580d",
   "metadata": {},
   "outputs": [
    {
     "name": "stdout",
     "output_type": "stream",
     "text": [
      "{'pizza', 'ice cream', 'rap', 'red'}\n",
      "{'pizza'}\n"
     ]
    }
   ],
   "source": [
    "x = {\"red\", \"pizza\", \"rap\", \"ice cream\" }\n",
    "y = {\"blue\", \"pizza\", \"jazz\", \"cake\"}\n",
    "\n",
    "print(x)\n",
    "\n",
    "x.intersection_update(y)\n",
    "\n",
    "print(x)"
   ]
  },
  {
   "cell_type": "markdown",
   "id": "2402d4e6",
   "metadata": {},
   "source": [
    "<a class=\"anchor\" id=\"9\"></a>\n",
    "<div class=\"alert alert-block alert-info\">\n",
    "<b><font size=\"4\">9. isdisjoint()</font></b></div>"
   ]
  },
  {
   "cell_type": "markdown",
   "id": "38021732",
   "metadata": {},
   "source": [
    "- Returns whether two sets have a intersection or not"
   ]
  },
  {
   "cell_type": "code",
   "execution_count": 25,
   "id": "a178cab8",
   "metadata": {},
   "outputs": [
    {
     "name": "stdout",
     "output_type": "stream",
     "text": [
      "True\n",
      "False\n"
     ]
    }
   ],
   "source": [
    "x = {\"Brookfield\", \"Wauwatosa\", \"Elm Grove\"}\n",
    "y = {\"Milwaukee\", \"Waukesha\", \"New Berlin\"}\n",
    "z = {\"West Allis\", \"Wauwatosa\", \"Oak Creek\"}\n",
    "\n",
    "a = x.isdisjoint(y)\n",
    "print(a)\n",
    "\n",
    "b = x.isdisjoint(z)\n",
    "print(b)"
   ]
  },
  {
   "cell_type": "markdown",
   "id": "47a7143b",
   "metadata": {},
   "source": [
    "<a class=\"anchor\" id=\"10\"></a>\n",
    "<div class=\"alert alert-block alert-info\">\n",
    "<b><font size=\"4\">10. issubset()</font></b></div>"
   ]
  },
  {
   "cell_type": "markdown",
   "id": "1166b53a",
   "metadata": {},
   "source": [
    "- Returns whether another set contains this set or not"
   ]
  },
  {
   "cell_type": "code",
   "execution_count": 26,
   "id": "07f4a1f7",
   "metadata": {},
   "outputs": [
    {
     "name": "stdout",
     "output_type": "stream",
     "text": [
      "True\n",
      "False\n"
     ]
    }
   ],
   "source": [
    "a = {\"red\", \"yellow\", \"blue\"}\n",
    "b = {\"red\", \"yellow\", \"blue\", \"orange\", \"green\", \"purple\"}\n",
    "\n",
    "x = a.issubset(b)\n",
    "print(x)\n",
    "\n",
    "y = b.issubset(a)\n",
    "print(y)"
   ]
  },
  {
   "cell_type": "markdown",
   "id": "6f57c0b7",
   "metadata": {},
   "source": [
    "<a class=\"anchor\" id=\"11\"></a>\n",
    "<div class=\"alert alert-block alert-info\">\n",
    "<b><font size=\"4\">11. issuperset()</font></b></div>"
   ]
  },
  {
   "cell_type": "markdown",
   "id": "cf08a93e",
   "metadata": {},
   "source": [
    "- Returns whether this set contains another set or not"
   ]
  },
  {
   "cell_type": "code",
   "execution_count": 27,
   "id": "bd8693b4",
   "metadata": {},
   "outputs": [
    {
     "name": "stdout",
     "output_type": "stream",
     "text": [
      "False\n",
      "True\n"
     ]
    }
   ],
   "source": [
    "a = {\"red\", \"yellow\", \"blue\"}\n",
    "b = {\"red\", \"yellow\", \"blue\", \"orange\", \"green\", \"purple\"}\n",
    "\n",
    "x = a.issuperset(b)\n",
    "print(x)\n",
    "\n",
    "y = b.issuperset(a)\n",
    "print(y)"
   ]
  },
  {
   "cell_type": "markdown",
   "id": "84e55137",
   "metadata": {},
   "source": [
    "<a class=\"anchor\" id=\"12\"></a>\n",
    "<div class=\"alert alert-block alert-info\">\n",
    "<b><font size=\"4\">12. pop()</font></b></div>"
   ]
  },
  {
   "cell_type": "markdown",
   "id": "71104637",
   "metadata": {},
   "source": [
    "- Removes an element from the set"
   ]
  },
  {
   "cell_type": "code",
   "execution_count": 35,
   "id": "3a09e773",
   "metadata": {},
   "outputs": [
    {
     "name": "stdout",
     "output_type": "stream",
     "text": [
      "{'banana', 'cherry'}\n",
      "{'tennis', 'golf', 'football'}\n",
      "{'blue', 'red'}\n"
     ]
    }
   ],
   "source": [
    "fruits = {\"apple\", \"banana\", \"cherry\"}\n",
    "fruits.pop()\n",
    "print(fruits)\n",
    "\n",
    "sports = {\"golf\", \"tennis\", \"baseball\", \"football\"}\n",
    "sports.pop()\n",
    "print(sports)\n",
    "\n",
    "colors = {\"red\", \"white\", \"blue\"}\n",
    "colors.pop()\n",
    "print(colors)"
   ]
  },
  {
   "cell_type": "markdown",
   "id": "456070cb",
   "metadata": {},
   "source": [
    "<a class=\"anchor\" id=\"13\"></a>\n",
    "<div class=\"alert alert-block alert-info\">\n",
    "<b><font size=\"4\">13. remove()</font></b></div>"
   ]
  },
  {
   "cell_type": "markdown",
   "id": "3ba3a209",
   "metadata": {},
   "source": [
    "- Removes the specified element"
   ]
  },
  {
   "cell_type": "code",
   "execution_count": 38,
   "id": "332bf85c",
   "metadata": {},
   "outputs": [
    {
     "name": "stdout",
     "output_type": "stream",
     "text": [
      "{'baseball', 'tennis', 'golf', 'football'}\n",
      "{'tennis', 'golf', 'football'}\n"
     ]
    }
   ],
   "source": [
    "sports = {\"golf\", \"tennis\", \"baseball\", \"football\"}\n",
    "print(sports)\n",
    "\n",
    "sports.remove(\"baseball\")\n",
    "print(sports)\n"
   ]
  },
  {
   "cell_type": "markdown",
   "id": "d4164881",
   "metadata": {},
   "source": [
    "<a class=\"anchor\" id=\"14\"></a>\n",
    "<div class=\"alert alert-block alert-info\">\n",
    "<b><font size=\"4\">14. symmetric_difference()</font></b></div>"
   ]
  },
  {
   "cell_type": "markdown",
   "id": "e62dfe7e",
   "metadata": {},
   "source": [
    "- Returns a set with the symmetric differences of two sets"
   ]
  },
  {
   "cell_type": "code",
   "execution_count": 40,
   "id": "bb16e417",
   "metadata": {},
   "outputs": [
    {
     "name": "stdout",
     "output_type": "stream",
     "text": [
      "{'volleyball', 'football', 'baseball', 'basketball'}\n"
     ]
    }
   ],
   "source": [
    "a = {\"golf\", \"tennis\", \"baseball\", \"football\"}\n",
    "b = {\"golf\", \"volleyball\", \"tennis\", \"basketball\"}\n",
    "\n",
    "x = a.symmetric_difference(b)\n",
    "print(x) "
   ]
  },
  {
   "cell_type": "markdown",
   "id": "03c22ff6",
   "metadata": {},
   "source": [
    "<a class=\"anchor\" id=\"15\"></a>\n",
    "<div class=\"alert alert-block alert-info\">\n",
    "<b><font size=\"4\">15. symmetric_difference_update()</font></b></div>"
   ]
  },
  {
   "cell_type": "markdown",
   "id": "44eb6232",
   "metadata": {},
   "source": [
    "- inserts the symmetric differences from this set and another"
   ]
  },
  {
   "cell_type": "code",
   "execution_count": 42,
   "id": "11cd32a6",
   "metadata": {},
   "outputs": [
    {
     "name": "stdout",
     "output_type": "stream",
     "text": [
      "{'volleyball', 'football', 'baseball', 'basketball'}\n"
     ]
    }
   ],
   "source": [
    "a = {\"golf\", \"tennis\", \"baseball\", \"football\"}\n",
    "b = {\"golf\", \"volleyball\", \"tennis\", \"basketball\"}\n",
    "\n",
    "a.symmetric_difference_update(b)\n",
    "print(a) "
   ]
  },
  {
   "cell_type": "markdown",
   "id": "6e710f7c",
   "metadata": {},
   "source": [
    "<a class=\"anchor\" id=\"16\"></a>\n",
    "<div class=\"alert alert-block alert-info\">\n",
    "<b><font size=\"4\">16. union</font></b></div>"
   ]
  },
  {
   "cell_type": "markdown",
   "id": "34790d51",
   "metadata": {},
   "source": [
    "- Return a set containing the union of sets"
   ]
  },
  {
   "cell_type": "code",
   "execution_count": 43,
   "id": "bf50e2d8",
   "metadata": {},
   "outputs": [
    {
     "name": "stdout",
     "output_type": "stream",
     "text": [
      "{'golf', 'football', 'volleyball', 'baseball', 'tennis', 'basketball'}\n"
     ]
    }
   ],
   "source": [
    "a = {\"golf\", \"tennis\", \"baseball\", \"football\"}\n",
    "b = {\"golf\", \"volleyball\", \"tennis\", \"basketball\"}\n",
    "\n",
    "c = a.union(b)\n",
    "print(c)"
   ]
  },
  {
   "cell_type": "markdown",
   "id": "342eba69",
   "metadata": {},
   "source": [
    "<a class=\"anchor\" id=\"17\"></a>\n",
    "<div class=\"alert alert-block alert-info\">\n",
    "<b><font size=\"4\">17. update()</font></b></div>"
   ]
  },
  {
   "cell_type": "markdown",
   "id": "edd9785e",
   "metadata": {},
   "source": [
    "- Update the set with another set, or any other iterable"
   ]
  },
  {
   "cell_type": "code",
   "execution_count": 44,
   "id": "d3ad7fd4",
   "metadata": {},
   "outputs": [
    {
     "name": "stdout",
     "output_type": "stream",
     "text": [
      "{'orange', 'blue', 'red', 'green', 'purple', 'yellow'}\n"
     ]
    }
   ],
   "source": [
    "x = {\"red\", \"blue\", \"yellow\"}\n",
    "y = {\"green\", \"purple\", \"orange\"}\n",
    "\n",
    "x.update(y)\n",
    "print(x)"
   ]
  },
  {
   "cell_type": "code",
   "execution_count": null,
   "id": "c9cfa7d6",
   "metadata": {},
   "outputs": [],
   "source": []
  }
 ],
 "metadata": {
  "kernelspec": {
   "display_name": "Python 3 (ipykernel)",
   "language": "python",
   "name": "python3"
  },
  "language_info": {
   "codemirror_mode": {
    "name": "ipython",
    "version": 3
   },
   "file_extension": ".py",
   "mimetype": "text/x-python",
   "name": "python",
   "nbconvert_exporter": "python",
   "pygments_lexer": "ipython3",
   "version": "3.11.4"
  }
 },
 "nbformat": 4,
 "nbformat_minor": 5
}
