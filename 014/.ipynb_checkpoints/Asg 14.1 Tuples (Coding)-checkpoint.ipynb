{
 "cells": [
  {
   "cell_type": "markdown",
   "id": "48c3a9b0",
   "metadata": {},
   "source": [
    "# <center><b>PFDS</b></center>\n",
    "# <center><b>Asg 14.1</b></center>\n",
    "# <center><b>Tuples (Coding)</b></center>"
   ]
  },
  {
   "cell_type": "code",
   "execution_count": 1,
   "id": "9749c105",
   "metadata": {},
   "outputs": [
    {
     "name": "stdout",
     "output_type": "stream",
     "text": [
      "The notebook is now set up to display multiple output in one cell'\n"
     ]
    }
   ],
   "source": [
    "# set up notebook to display multiple output in one cell\n",
    "\n",
    "from IPython.core.interactiveshell import InteractiveShell\n",
    "InteractiveShell.ast_node_interactivity = \"all\"\n",
    "\n",
    "print(\"The notebook is now set up to display multiple output in one cell'\")"
   ]
  },
  {
   "cell_type": "code",
   "execution_count": null,
   "id": "62f3ff22",
   "metadata": {},
   "outputs": [],
   "source": [
    "# tuple example\n",
    "\n",
    "aaron = (\"Aaron\", \"Rodgers\", \"Quarterback\", \"Green Bay Packers\", 12, \"California\", \n",
    "         37, \"6 ft 2 in\", \"225 lbs\")\n",
    "\n",
    "print(aaron)\n",
    "print(type(aaron))\n",
    "print(len(aaron))"
   ]
  },
  {
   "cell_type": "markdown",
   "id": "2501bb12",
   "metadata": {},
   "source": [
    "<div class=\"alert alert-block alert-success\"><b>Problem 1</b>:\n",
    "    \n",
    "<b>Note:  This was Practice Problem \\#1 in the 14 Tuples -- Part Two (Notes).</b>\n",
    "\n",
    "1. Pick out a famous person and use that person's first name as the name of a variable. Create a tuple that you will assign to that variable that contains a number of pertinent pieces of information about that person (like I did in the Aaron Rodgers example above).\n",
    "2. Write code to print out the variable that you created in Step #1.\n",
    "3. Write code to print out the data type of the variable that you created in Step 1.\n",
    "4. Write code to print out the number of items that are in the tuple that you created above.\n",
    "</div>"
   ]
  },
  {
   "cell_type": "code",
   "execution_count": 6,
   "id": "817393b8",
   "metadata": {},
   "outputs": [],
   "source": [
    "Vahagn =(\"Vahagn\", \"Khachaturyan\", \"President of Armenia\", \"Let Nagorno-Karabakh fall to Azerbaijan\", \n",
    "        \"spearheading Armenia to the West & away from Russia\")"
   ]
  },
  {
   "cell_type": "code",
   "execution_count": 7,
   "id": "b3aff927",
   "metadata": {},
   "outputs": [
    {
     "name": "stdout",
     "output_type": "stream",
     "text": [
      "('Vahagn', 'Khachaturyan', 'President of Armenia', 'Let Nagorno-Karabakh fall to Azerbaijan', 'spearheading Armenia to the West & away from Russia')\n"
     ]
    }
   ],
   "source": [
    "print(Vahagn)"
   ]
  },
  {
   "cell_type": "code",
   "execution_count": 8,
   "id": "6d6825ed",
   "metadata": {},
   "outputs": [
    {
     "name": "stdout",
     "output_type": "stream",
     "text": [
      "<class 'tuple'>\n"
     ]
    }
   ],
   "source": [
    "print(type(Vahagn))"
   ]
  },
  {
   "cell_type": "code",
   "execution_count": 9,
   "id": "af13d680",
   "metadata": {},
   "outputs": [
    {
     "name": "stdout",
     "output_type": "stream",
     "text": [
      "5\n"
     ]
    }
   ],
   "source": [
    "print(len(Vahagn))"
   ]
  },
  {
   "cell_type": "markdown",
   "id": "bf2b92a2",
   "metadata": {},
   "source": [
    "<div class=\"alert alert-block alert-success\"><b>Problem 2</b>:\n",
    "    \n",
    "<b>Note:  This was Practice Problem \\#2 in the 14 Tuples -- Part Two (Notes).</b>\n",
    "<p>&nbsp;</p>    \n",
    "<b>Given</b>:\n",
    "\n",
    "Information about an employee ...\n",
    "<p>&nbsp;</p>\n",
    "Jane Smith, Female, 37, Married, Accountant, Deloitte, Marquette, Mequon, Wisconsin\n",
    "\n",
    "1. Create a tuple of values and assign that tuple to a variable named employee. Write code to print out employee, the data type that employee is, and the number of items in employee.  Feel free to use f-string formatting to enhance your output.\n",
    "2. Create a tuple of variables to represent the tuple of values from Part 1 and assign the variable employee to that tuple. Use f-string formatting to print out the following statement:\n",
    "    \n",
    "    <i>Jane Smith is a 37 year old accountant who graduated from Marquette University.</i>\n",
    "<p>&nbsp;</p>    \n",
    "3. Jane just had a birthday and she also moved to Wauwatosa and is now working for Ernst & Young.  Use the original tuple to create a new tuple with the same name that includes this updated information.  Print out the new tuple.\n",
    "4. Use f-string formatting to print out the following statement:\n",
    "    \n",
    "    <i>Jane Smith has moved to Wauwatosa and is now working for Ernst & Young.</i>\n",
    "</div>"
   ]
  },
  {
   "cell_type": "code",
   "execution_count": 51,
   "id": "087258b0",
   "metadata": {},
   "outputs": [
    {
     "name": "stdout",
     "output_type": "stream",
     "text": [
      "('Jane Smith', 'Female', 37, 'Married', 'Accoutant', 'Deloitte', 'Marquette', 'Mequon', 'Wisconsin') is of the data type <class 'tuple'> and the employees infromation has a length of 9\n"
     ]
    }
   ],
   "source": [
    "employee = (\"Jane Smith\", \"Female\", 37, \"Married\", \"Accoutant\", \"Deloitte\", \"Marquette\", \"Mequon\", \"Wisconsin\")\n",
    "print(f\"{employee} is of the data type {type(employee)} and the employees infromation has a length of {len(employee)}\")"
   ]
  },
  {
   "cell_type": "code",
   "execution_count": 52,
   "id": "7dbec0b6",
   "metadata": {},
   "outputs": [
    {
     "name": "stdout",
     "output_type": "stream",
     "text": [
      "Jane Smith is a 37 year old Accoutant who gratuated from Marquette University\n"
     ]
    }
   ],
   "source": [
    "(name, gender, age, status, job, company, college, city, state) = employee\n",
    "print(f\"{name} is a {age} year old {job} who gratuated from {college} University\")"
   ]
  },
  {
   "cell_type": "code",
   "execution_count": 53,
   "id": "d293be1a",
   "metadata": {},
   "outputs": [
    {
     "name": "stdout",
     "output_type": "stream",
     "text": [
      "('Jane Smith', 'Female', 38, 'Married', 'Accoutant', 'Ernst & Young', 'Marquette', 'Wauwatosa', 'Wisconsin')\n"
     ]
    }
   ],
   "source": [
    "employee = employee[0:2]+ (38,) +employee[3:5]+(\"Ernst & Young\",)+employee[6:7]+(\"Wauwatosa\",)+employee[8:]\n",
    "print(employee)\n",
    "(name, gender, age, status, job, company, college, city, state) = employee"
   ]
  },
  {
   "cell_type": "code",
   "execution_count": 54,
   "id": "39363ac4",
   "metadata": {},
   "outputs": [
    {
     "name": "stdout",
     "output_type": "stream",
     "text": [
      "Jane Smith has moved to Wauwatosa and is now working for Ernst & Young\n"
     ]
    }
   ],
   "source": [
    "print(f\"{name} has moved to {city} and is now working for {company}\")"
   ]
  },
  {
   "cell_type": "markdown",
   "id": "7b22d7d4",
   "metadata": {},
   "source": [
    "<div class=\"alert alert-block alert-success\"><b>Problem 3</b>:\n",
    "    \n",
    "<b>Note:  This was Practice Problem \\#3 in the 14 Tuples -- Part Two (Notes).</b><br>\n",
    "\n",
    "<p>&nbsp;</p>\n",
    "    \n",
    "NFC NORTH Standings week 7                 \n",
    "\n",
    "first = \"Chicago\"                        \n",
    "second = \"Green Bay\"                      \n",
    "third = \"Minnesota\"                      \n",
    "fourth = \"Detroit\"  \n",
    "    \n",
    "NFC NORTH Standings week 10<br >\n",
    "\n",
    "first = \"Green Bay\"<br>\n",
    "second = \"Minnesota\"<br>\n",
    "third = \"Chicago\"<br>\n",
    "fourth = \"Detroit\"<br>\n",
    "\n",
    "1. Create a tuple of values for place and a tuple of variables for team that represent the week 7 standings.  Assign the tuple for place to the tuple for team. Use f-string formatting to print out the week 7 standings.\n",
    "2. Perform a variable swap to represent the changes that appear in the week 10 standings. Use f-string formatting to print out the week 10 standings.\n",
    "    \n",
    "</div>"
   ]
  },
  {
   "cell_type": "code",
   "execution_count": 67,
   "id": "adc82b1e",
   "metadata": {},
   "outputs": [
    {
     "name": "stdout",
     "output_type": "stream",
     "text": [
      "1st: Chicago, 2nd: Green Bay, 3rd: Minnesota, 4th: Detroit\n"
     ]
    }
   ],
   "source": [
    "places = (\"Chicago\", \"Green Bay\", \"Minnesota\", \"Detroit\")\n",
    "(first, second, third, fourth) = places\n",
    "print(f\"1st: {first}, 2nd: {second}, 3rd: {third}, 4th: {fourth}\")"
   ]
  },
  {
   "cell_type": "code",
   "execution_count": 68,
   "id": "a0faf06c",
   "metadata": {},
   "outputs": [
    {
     "name": "stdout",
     "output_type": "stream",
     "text": [
      "1st: Green Bay, 2nd: Minnesota, 3rd: Chicago, 4th: Detroit\n"
     ]
    }
   ],
   "source": [
    "(first, second, third) = (second, third, first)\n",
    "print(f\"1st: {first}, 2nd: {second}, 3rd: {third}, 4th: {fourth}\")"
   ]
  },
  {
   "cell_type": "markdown",
   "id": "d16270f9",
   "metadata": {},
   "source": [
    "<div class=\"alert alert-block alert-success\"><b>Problem 4</b>:\n",
    " \n",
    "Write code to reverse the given tuple. \n",
    "\n",
    "- your_tuple = (\"cat\", 51. [9, \"dog\", \"car\", 4.3]. \"house\", 16.5)\n",
    "</div>"
   ]
  },
  {
   "cell_type": "code",
   "execution_count": 73,
   "id": "4e54936f",
   "metadata": {},
   "outputs": [
    {
     "name": "stdout",
     "output_type": "stream",
     "text": [
      "(16.5, 'house', [9, 'dog', 'car', 4.3], 51, 'cat')\n"
     ]
    }
   ],
   "source": [
    "your_tuple = (\"cat\", 51, [9, \"dog\", \"car\", 4.3], \"house\", 16.5)\n",
    "(first, second, third, fourth, fifth) = your_tuple\n",
    "your_tuple = (fifth, fourth, third, second, first)\n",
    "print(your_tuple)"
   ]
  },
  {
   "cell_type": "markdown",
   "id": "c9039e2d",
   "metadata": {},
   "source": [
    "<div class=\"alert alert-block alert-success\"><b>Problem 5</b>:\n",
    "    \n",
    "Write code to access and print out the value 55 from the following tuple.\n",
    "\n",
    "- tuple_mixed = (27, [19, \"soccer\"], 31.6, (\"baseball\", \"football\", \"golf\"), [\"hat\", 55, \"shoes\", 29])\n",
    "  \n",
    "</div>"
   ]
  },
  {
   "cell_type": "code",
   "execution_count": 75,
   "id": "b5f8c8e6",
   "metadata": {},
   "outputs": [
    {
     "name": "stdout",
     "output_type": "stream",
     "text": [
      "55\n"
     ]
    }
   ],
   "source": [
    "tuple_mixed = (27, [19, \"soccer\"], 31.6, (\"baseball\", \"football\", \"golf\"), [\"hat\", 55, \"shoes\", 29])\n",
    "(first, second, third, fourth, fifth) = tuple_mixed\n",
    "print(fifth[1])"
   ]
  },
  {
   "cell_type": "markdown",
   "id": "7b8ea94e",
   "metadata": {},
   "source": [
    "<div class=\"alert alert-block alert-success\"><b>Problem 6</b>:\n",
    "    \n",
    "Write code to create a tuple with the single item \"Halloween\". Name the tuple that you create <b>atuple</b>. Print out <b>atuple</b>.\n",
    "\n",
    "</div>"
   ]
  },
  {
   "cell_type": "code",
   "execution_count": null,
   "id": "2fba5a39",
   "metadata": {},
   "outputs": [],
   "source": []
  },
  {
   "cell_type": "markdown",
   "id": "e2ea75d0",
   "metadata": {},
   "source": [
    "<div class=\"alert alert-block alert-success\"><b>Problem 7</b>:\n",
    "    \n",
    "Write code to unpack the following tuple into 4 variables named a, b, c, and d.\n",
    "    \n",
    "- our_tuple = (\"North\", \"South\", \"East\", \"West\")\n",
    "\n",
    "</div>"
   ]
  },
  {
   "cell_type": "markdown",
   "id": "fc4a5c99",
   "metadata": {},
   "source": []
  },
  {
   "cell_type": "markdown",
   "id": "b9423ce3",
   "metadata": {},
   "source": [
    "<div class=\"alert alert-block alert-success\"><b>Problem 8</b>:\n",
    "    \n",
    "Write code to swap the following two tuples. Print out the results.\n",
    "    \n",
    "- tuple_1(17, \"Brookfield\")\n",
    "<p>&nbsp;</p> \n",
    "- tuple_2(\"Milwaukee\", 71)\n",
    "</div>"
   ]
  },
  {
   "cell_type": "code",
   "execution_count": null,
   "id": "424353a4",
   "metadata": {},
   "outputs": [],
   "source": []
  },
  {
   "cell_type": "markdown",
   "id": "c5d36afe",
   "metadata": {},
   "source": [
    "<div class=\"alert alert-block alert-success\"><b>Problem 9</b>:\n",
    "    \n",
    "Write code to copy elements \"Brookfield\" and \"Elm Grove from the <b>tuple_1</b> into a new tuple named <b>tuple_2</b>.\n",
    "\n",
    "- tuple_1 = (\"Atlanta\", \"Brookfield\", \"Chicago\", \"Elm Grove\", \"Los Angeles\", \"New York\")\n",
    "\n",
    "</div>"
   ]
  },
  {
   "cell_type": "code",
   "execution_count": null,
   "id": "6ffc214a",
   "metadata": {},
   "outputs": [],
   "source": []
  },
  {
   "cell_type": "markdown",
   "id": "bb18fe6f",
   "metadata": {},
   "source": [
    "<div class=\"alert alert-block alert-success\"><b>Problem 10</b>:\n",
    "    \n",
    "Write code to modify the first item (22) of a list that is inside of the given tuple to 222\n",
    "\n",
    "- my_tuple = (11, [22, 33], 44, 55)\n",
    "\n",
    "</div>"
   ]
  },
  {
   "cell_type": "code",
   "execution_count": null,
   "id": "4345f1c1",
   "metadata": {},
   "outputs": [],
   "source": []
  },
  {
   "cell_type": "markdown",
   "id": "b8afc6b0",
   "metadata": {},
   "source": [
    "<div class=\"alert alert-block alert-success\"><b>Problem 11</b>:\n",
    "    \n",
    "11. Write code to count the number of occurrences of the element 10 from the given tuple. Print out the result.\n",
    " <p>&nbsp;</p>    \n",
    "\n",
    "- tuple_int = (30, 10, 20, 10, 10, (10, 20, 30), 10, 20, 30, [10, 20, 30], \"10\")\n",
    "    \n",
    "</div>"
   ]
  },
  {
   "cell_type": "code",
   "execution_count": null,
   "id": "24c3d5de",
   "metadata": {},
   "outputs": [],
   "source": []
  },
  {
   "cell_type": "code",
   "execution_count": null,
   "id": "f0cb6938",
   "metadata": {},
   "outputs": [],
   "source": []
  },
  {
   "cell_type": "code",
   "execution_count": null,
   "id": "268170a4",
   "metadata": {},
   "outputs": [],
   "source": []
  }
 ],
 "metadata": {
  "kernelspec": {
   "display_name": "Python 3 (ipykernel)",
   "language": "python",
   "name": "python3"
  },
  "language_info": {
   "codemirror_mode": {
    "name": "ipython",
    "version": 3
   },
   "file_extension": ".py",
   "mimetype": "text/x-python",
   "name": "python",
   "nbconvert_exporter": "python",
   "pygments_lexer": "ipython3",
   "version": "3.11.4"
  }
 },
 "nbformat": 4,
 "nbformat_minor": 5
}
