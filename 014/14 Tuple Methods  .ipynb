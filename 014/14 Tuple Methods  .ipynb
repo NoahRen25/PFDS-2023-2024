{
 "cells": [
  {
   "cell_type": "markdown",
   "id": "cfddc5c9",
   "metadata": {},
   "source": [
    "# <center><b>Python for Data Science</b></center>\n",
    "# <center><b>Lesson 14</b></center>\n",
    "# <center><b>Tuple Methods</b></center>"
   ]
  },
  {
   "cell_type": "markdown",
   "id": "7867de6b",
   "metadata": {},
   "source": [
    "<center><i>Adapted from:</i></center>\n",
    "<center>*****************</center>\n",
    "<center>Python Tuple Methods (w3schools)</center>\n"
   ]
  },
  {
   "cell_type": "markdown",
   "id": "abbd56b9",
   "metadata": {},
   "source": [
    "[Python Tuple Methods (w3schools)](https://www.w3schools.com/python/python_tuples_methods.asp)"
   ]
  },
  {
   "cell_type": "markdown",
   "id": "33d83c42",
   "metadata": {},
   "source": [
    "##  <span style=\"color:green\">TABLE OF CONTENTS</span>\n",
    "\n",
    "1. [count()](#1)<br>\n",
    "2. [index()](#2)<br>"
   ]
  },
  {
   "cell_type": "code",
   "execution_count": 14,
   "id": "35b5e03c",
   "metadata": {},
   "outputs": [
    {
     "name": "stdout",
     "output_type": "stream",
     "text": [
      "This notebook is now set up to display multiple output in one cell.\n"
     ]
    }
   ],
   "source": [
    "# set up notebook to display multiple output in one cell\n",
    "from IPython.core.interactiveshell import InteractiveShell\n",
    "InteractiveShell.ast_node_interactivity = \"all\"\n",
    "\n",
    "print(\"This notebook is now set up to display multiple output in one cell.\")"
   ]
  },
  {
   "cell_type": "markdown",
   "id": "e4df3422",
   "metadata": {},
   "source": [
    "<a class=\"anchor\" id=\"1\"></a>\n",
    "<div class=\"alert alert-block alert-info\">\n",
    "<b><font size=\"4\">1. count()</font></b></div>"
   ]
  },
  {
   "cell_type": "markdown",
   "id": "a06c271b",
   "metadata": {},
   "source": [
    "- Returns the number of times a specified value occurs in a tuple"
   ]
  },
  {
   "cell_type": "code",
   "execution_count": 4,
   "id": "b544988b",
   "metadata": {},
   "outputs": [
    {
     "name": "stdout",
     "output_type": "stream",
     "text": [
      "10\n",
      "('A', 'A', 'B', 'A', 'C', 'B', 'A', 'A', 'A', 'A')\n",
      "\n",
      "7\n",
      "2\n",
      "1\n"
     ]
    }
   ],
   "source": [
    "grades_tuple = (\"A\", \"A\", \"B\", \"A\", \"C\", \"B\", \"A\", \"A\", \"A\", \"A\")\n",
    "print(len(grades_tuple))\n",
    "print(grades_tuple)\n",
    "print()\n",
    "\n",
    "\n",
    "x = grades_tuple.count(\"A\")\n",
    "y = grades_tuple.count(\"B\")\n",
    "z = grades_tuple.count(\"C\")\n",
    "print(x)\n",
    "print(y)\n",
    "print(z)"
   ]
  },
  {
   "cell_type": "markdown",
   "id": "6f73faa5",
   "metadata": {},
   "source": [
    "<a class=\"anchor\" id=\"2\"></a>\n",
    "<div class=\"alert alert-block alert-info\">\n",
    "<b><font size=\"4\">2. index()</font></b></div>"
   ]
  },
  {
   "cell_type": "markdown",
   "id": "11c6bebd",
   "metadata": {},
   "source": [
    "- Searches the tuple for a specified value and returns the first position of where it was found"
   ]
  },
  {
   "cell_type": "code",
   "execution_count": 5,
   "id": "cef47fa4",
   "metadata": {},
   "outputs": [
    {
     "name": "stdout",
     "output_type": "stream",
     "text": [
      "10\n",
      "('A', 'A', 'B', 'A', 'C', 'B', 'A', 'A', 'A', 'A')\n",
      "\n",
      "0\n",
      "2\n",
      "4\n"
     ]
    }
   ],
   "source": [
    "grades_tuple = (\"A\", \"A\", \"B\", \"A\", \"C\", \"B\", \"A\", \"A\", \"A\", \"A\")\n",
    "print(len(grades_tuple))\n",
    "print(grades_tuple)\n",
    "print()\n",
    "\n",
    "\n",
    "x = grades_tuple.index(\"A\")\n",
    "y = grades_tuple.index(\"B\")\n",
    "z = grades_tuple.index(\"C\")\n",
    "print(x)\n",
    "print(y)\n",
    "print(z)"
   ]
  },
  {
   "cell_type": "code",
   "execution_count": null,
   "id": "4e0f580e",
   "metadata": {},
   "outputs": [],
   "source": []
  }
 ],
 "metadata": {
  "kernelspec": {
   "display_name": "Python 3 (ipykernel)",
   "language": "python",
   "name": "python3"
  },
  "language_info": {
   "codemirror_mode": {
    "name": "ipython",
    "version": 3
   },
   "file_extension": ".py",
   "mimetype": "text/x-python",
   "name": "python",
   "nbconvert_exporter": "python",
   "pygments_lexer": "ipython3",
   "version": "3.9.12"
  }
 },
 "nbformat": 4,
 "nbformat_minor": 5
}
