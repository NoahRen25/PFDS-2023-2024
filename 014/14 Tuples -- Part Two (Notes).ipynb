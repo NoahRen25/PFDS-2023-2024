{
 "cells": [
  {
   "cell_type": "markdown",
   "id": "7c0849d6",
   "metadata": {},
   "source": [
    "# <center><b>Python for Data Science</b></center>\n",
    "# <center><b>Lesson 14</b></center>\n",
    "# <center><b>Tuples -- Part Two (Notes)</b></center>"
   ]
  },
  {
   "cell_type": "markdown",
   "id": "5674bc25",
   "metadata": {},
   "source": [
    "<center><i>Adapted from:</i></center>\n",
    "<center>*****************</center>\n",
    "\n",
    "<center>How to Think Like a Computer Scientist: Interactive Edition</center>"
   ]
  },
  {
   "cell_type": "markdown",
   "id": "3c1dc7d8",
   "metadata": {},
   "source": [
    "<b>Resources:<br></b>\n",
    "\n",
    "- [How to Think Like a Computer Scientist: Interactive Edition](https://runestone.academy/ns/books/published/thinkcspy/index.html)\n",
    "***\n",
    "- [Python Tuples -- Stanford Computer Science](https://cs.stanford.edu/people/nick/py/python-tuple.html)\n",
    "\n",
    "- [Python Tuples (pynative)](https://pynative.com/python-tuples/)\n",
    "\n",
    "- [Python Tuples (w3schools](https://www.w3schools.com/python/python_tuples.asp)\n"
   ]
  },
  {
   "cell_type": "markdown",
   "id": "7da35f27",
   "metadata": {},
   "source": [
    "##  <span style=\"color:green\">TABLE OF CONTENTS</span>\n",
    "\n",
    "1. [Tuples and Mutability](#1)<br>\n",
    "a. [Accessing Elements of a Tuple ](#1a)<br>\n",
    "b. [Tuple Slices](#1b)<br>\n",
    "c. [Tuples Are Immutable](#1c)<br>\n",
    "2. [Tuple Assignment](#2)<br>\n",
    "a. [Swapping values of variables by using tuple assignment](#2a)<br>\n",
    "3. [Tuples as Return Values](#3)<br>"
   ]
  },
  {
   "cell_type": "code",
   "execution_count": 2,
   "id": "3a92882b",
   "metadata": {},
   "outputs": [
    {
     "name": "stdout",
     "output_type": "stream",
     "text": [
      "This notebook is now set up to display multiple output in one cell.\n"
     ]
    }
   ],
   "source": [
    "# set up notebook to display multiple output in one cell\n",
    "from IPython.core.interactiveshell import InteractiveShell\n",
    "InteractiveShell.ast_node_interactivity = \"all\"\n",
    "\n",
    "print(\"This notebook is now set up to display multiple output in one cell.\")"
   ]
  },
  {
   "cell_type": "markdown",
   "id": "0f5b510a",
   "metadata": {},
   "source": [
    "<div class=\"alert alert-block alert-warning\"><b>For this interactive presentation, you will read through this notebook then complete the Practice Problems that are found in the green cells below. </b></div>"
   ]
  },
  {
   "cell_type": "markdown",
   "id": "08aae1e2",
   "metadata": {},
   "source": [
    "<a class=\"anchor\" id=\"1\"></a>\n",
    "<a class=\"anchor\" id=\"T1\"></a>\n",
    "<div class=\"alert alert-block alert-info\">\n",
    "<b><font size=\"4\">1. Tuples and Mutability</font></b></div>"
   ]
  },
  {
   "cell_type": "markdown",
   "id": "ef155144",
   "metadata": {},
   "source": [
    "- So far you have seen two types of sequential collections: strings, which are made up of characters; and lists, which are made up of elements of any type. \n",
    "- One of the differences we noted is that the elements of a list can be modified, but the characters in a string cannot. In other words, strings are immutable and lists are mutable.\n",
    "- A tuple, like a list, is a sequence of items of any type. Unlike lists, however, tuples are immutable. \n",
    "- Syntactically, a tuple is a comma-separated sequence of values. \n",
    "- Although it is not necessary, it is conventional to enclose tuples in parentheses:"
   ]
  },
  {
   "cell_type": "code",
   "execution_count": 1,
   "id": "5aecfa1f",
   "metadata": {},
   "outputs": [
    {
     "name": "stdout",
     "output_type": "stream",
     "text": [
      "('Aaron', 'Rodgers', 'Quarterback', 'Green Bay Packers', 12, 'California', 37, '6 ft 2 in', '225 lbs')\n",
      "<class 'tuple'>\n",
      "9\n"
     ]
    }
   ],
   "source": [
    "# tuple example\n",
    "\n",
    "aaron = (\"Aaron\", \"Rodgers\", \"Quarterback\", \"Green Bay Packers\", 12, \"California\", \n",
    "         37, \"6 ft 2 in\", \"225 lbs\")\n",
    "\n",
    "print(aaron)\n",
    "print(type(aaron))\n",
    "print(len(aaron))"
   ]
  },
  {
   "cell_type": "markdown",
   "id": "2501bb12",
   "metadata": {},
   "source": [
    "<div class=\"alert alert-block alert-success\"><b>Practice Problem 1</b>:\n",
    "\n",
    "1. Pick out a famous person and use that person's first name as the name of a variable. Create a tuple that you will assign to that variable that contains a number of pertinent pieces of information about that person (like I did in the Aaron Rodgers example above).\n",
    "2. Write code to print out the variable that you created in Step #1.\n",
    "3. Write code to print out the data type of the variable that you created in Step 1.\n",
    "4. Write code to print out the number of items that are in the tuple that you created above.\n",
    "</div>"
   ]
  },
  {
   "cell_type": "code",
   "execution_count": null,
   "id": "817393b8",
   "metadata": {},
   "outputs": [],
   "source": []
  },
  {
   "cell_type": "markdown",
   "id": "6647de73",
   "metadata": {},
   "source": [
    "<a class=\"anchor\" id=\"1a\"></a>\n",
    "### a. Accessing Elements of a Tuple "
   ]
  },
  {
   "cell_type": "code",
   "execution_count": 29,
   "id": "e4489626",
   "metadata": {},
   "outputs": [
    {
     "data": {
      "text/plain": [
       "'Aaron'"
      ]
     },
     "execution_count": 29,
     "metadata": {},
     "output_type": "execute_result"
    },
    {
     "data": {
      "text/plain": [
       "'California'"
      ]
     },
     "execution_count": 29,
     "metadata": {},
     "output_type": "execute_result"
    },
    {
     "data": {
      "text/plain": [
       "'225 lbs'"
      ]
     },
     "execution_count": 29,
     "metadata": {},
     "output_type": "execute_result"
    },
    {
     "data": {
      "text/plain": [
       "37"
      ]
     },
     "execution_count": 29,
     "metadata": {},
     "output_type": "execute_result"
    }
   ],
   "source": [
    "aaron[0]\n",
    "aaron[5]\n",
    "aaron[8]\n",
    "aaron[-3]"
   ]
  },
  {
   "cell_type": "markdown",
   "id": "1ae7dbe2",
   "metadata": {},
   "source": [
    "<a class=\"anchor\" id=\"1b\"></a>\n",
    "### b. Tuple Slices"
   ]
  },
  {
   "cell_type": "code",
   "execution_count": 34,
   "id": "84ab463a",
   "metadata": {},
   "outputs": [
    {
     "name": "stdout",
     "output_type": "stream",
     "text": [
      "(12, 'California', 37)\n",
      "(37, '6 ft 2 in', '225 lbs')\n",
      "('Aaron', 'Rodgers', 'Quarterback', 'Green Bay Packers', 12)\n",
      "('Quarterback', 'Green Bay Packers', 12, 'California')\n"
     ]
    }
   ],
   "source": [
    "print(aaron[4:7])\n",
    "print(aaron[6:])\n",
    "print(aaron[:5])\n",
    "print(aaron[-7:-3])"
   ]
  },
  {
   "cell_type": "markdown",
   "id": "b7163bb5",
   "metadata": {},
   "source": [
    "- Tuples are useful for representing what other languages often call **records** — some related information that belongs together, like your student record. \n",
    "- There is no description of what each of these fields means, but we can guess. \n",
    "- A tuple lets us “chunk” together related information and use it as a single thing.\n",
    "- Tuples support the same sequence operations as strings and lists. \n",
    "- For example, when we study loops in an upcoming unit, we will find out that the index operator selects an element from a sequence and a tuple can be the sequence in a for-loop.\n",
    "- As with strings, if we try to use item assignment to modify one of the elements of the tuple, we get an error."
   ]
  },
  {
   "cell_type": "markdown",
   "id": "2caede81",
   "metadata": {},
   "source": [
    "<a class=\"anchor\" id=\"1c\"></a>\n",
    "### c. Tuples Are Immutable"
   ]
  },
  {
   "cell_type": "code",
   "execution_count": 12,
   "id": "de84ef1d",
   "metadata": {},
   "outputs": [
    {
     "name": "stdout",
     "output_type": "stream",
     "text": [
      "['Aaron', 'Rodgers', 'Quarterback', 'Green Bay Packers', 12, 'California', 37, '6 ft 2 in', '225 lbs']\n",
      "<class 'list'>\n",
      "2204049563776\n",
      "\n",
      "['Aaron', 'Rodgers', 'Quarterback', 'Denver Broncos', 12, 'California', 37, '6 ft 2 in', '225 lbs']\n",
      "<class 'list'>\n",
      "2204049563776\n"
     ]
    }
   ],
   "source": [
    "# Review -- Modifying a list \n",
    "\n",
    "aaron_list = [\"Aaron\", \"Rodgers\", \"Quarterback\", \"Green Bay Packers\", 12, \"California\", \n",
    "              37, \"6 ft 2 in\", \"225 lbs\"]\n",
    "print(aaron_list)\n",
    "print(type(aaron_list))\n",
    "print(id(aaron_list))\n",
    "\n",
    "print()\n",
    "\n",
    "aaron_list[3] = \"Denver Broncos\"\n",
    "print(aaron_list)\n",
    "print(type(aaron_list))\n",
    "print(id(aaron_list))"
   ]
  },
  {
   "cell_type": "code",
   "execution_count": 13,
   "id": "f066c072",
   "metadata": {},
   "outputs": [
    {
     "name": "stdout",
     "output_type": "stream",
     "text": [
      "('Aaron', 'Rodgers', 'Quarterback', 'Green Bay Packers', 12, 'California', 37, '6 ft 2 in', '225 lbs')\n",
      "<class 'tuple'>\n",
      "2204049307120\n",
      "\n"
     ]
    },
    {
     "ename": "TypeError",
     "evalue": "'tuple' object does not support item assignment",
     "output_type": "error",
     "traceback": [
      "\u001b[1;31m---------------------------------------------------------------------------\u001b[0m",
      "\u001b[1;31mTypeError\u001b[0m                                 Traceback (most recent call last)",
      "\u001b[1;32m<ipython-input-13-5f02c6cab7ff>\u001b[0m in \u001b[0;36m<module>\u001b[1;34m\u001b[0m\n\u001b[0;32m      8\u001b[0m \u001b[0mprint\u001b[0m\u001b[1;33m(\u001b[0m\u001b[1;33m)\u001b[0m\u001b[1;33m\u001b[0m\u001b[1;33m\u001b[0m\u001b[0m\n\u001b[0;32m      9\u001b[0m \u001b[1;33m\u001b[0m\u001b[0m\n\u001b[1;32m---> 10\u001b[1;33m \u001b[0maaron_tuple\u001b[0m\u001b[1;33m[\u001b[0m\u001b[1;36m3\u001b[0m\u001b[1;33m]\u001b[0m \u001b[1;33m=\u001b[0m \u001b[1;34m\"Denver Broncos\"\u001b[0m\u001b[1;33m\u001b[0m\u001b[1;33m\u001b[0m\u001b[0m\n\u001b[0m\u001b[0;32m     11\u001b[0m \u001b[0mprint\u001b[0m\u001b[1;33m(\u001b[0m\u001b[0maaron_tuple\u001b[0m\u001b[1;33m)\u001b[0m\u001b[1;33m\u001b[0m\u001b[1;33m\u001b[0m\u001b[0m\n",
      "\u001b[1;31mTypeError\u001b[0m: 'tuple' object does not support item assignment"
     ]
    }
   ],
   "source": [
    "# Attempt to modify a tuple ... leads to an error message\n",
    "\n",
    "aaron_tuple = (\"Aaron\", \"Rodgers\", \"Quarterback\", \"Green Bay Packers\", 12, \"California\", \n",
    "               37, \"6 ft 2 in\", \"225 lbs\")\n",
    "print(aaron_tuple)\n",
    "print(type(aaron_tuple))\n",
    "print(id(aaron_tuple))\n",
    "\n",
    "print()\n",
    "\n",
    "aaron_tuple[3] = \"Denver Broncos\"\n",
    "print(aaron_tuple)"
   ]
  },
  {
   "cell_type": "markdown",
   "id": "763fbab8",
   "metadata": {},
   "source": [
    "- Of course, even if we can’t modify the elements of a tuple, we can make a variable reference a new tuple holding different information. \n",
    "- To construct the new tuple, it is convenient that we can slice parts of the old tuple and join up the bits to make the new tuple. \n",
    "- So assume aaron has a new team, and we want to change his tuple to represent that new information. We can easily slice off the parts we want and concatenate them with the new tuple."
   ]
  },
  {
   "cell_type": "code",
   "execution_count": 14,
   "id": "8c74b876",
   "metadata": {},
   "outputs": [
    {
     "name": "stdout",
     "output_type": "stream",
     "text": [
      "('Aaron', 'Rodgers', 'Quarterback', 'Green Bay Packers', 12, 'California', 37, '6 ft 2 in', '225 lbs')\n",
      "<class 'tuple'>\n",
      "2204049803072\n",
      "\n",
      "('Aaron', 'Rodgers', 'Quarterback', 'Denver Broncos', 4, 'California', 37, '6 ft 2 in', '225 lbs')\n",
      "<class 'tuple'>\n",
      "2204038226096\n"
     ]
    }
   ],
   "source": [
    "# Constructing a new tuple that contains some of the information from another tuple\n",
    "\n",
    "aaron = (\"Aaron\", \"Rodgers\", \"Quarterback\", \"Green Bay Packers\", 12, \"California\", \n",
    "         37, \"6 ft 2 in\", \"225 lbs\")\n",
    "print(aaron)\n",
    "print(type(aaron))\n",
    "print(id(aaron))\n",
    "print()\n",
    "\n",
    "aaron = aaron[:3] + (\"Denver Broncos\", 4) + aaron[5:]\n",
    "print(aaron)\n",
    "print(type(aaron))\n",
    "print(id(aaron))"
   ]
  },
  {
   "cell_type": "markdown",
   "id": "5c2402a3",
   "metadata": {},
   "source": [
    "### Visualize the code execution for the example above.\n",
    "\n",
    "[Python Tutor -- Visualize Code Execution](https://pythontutor.com/visualize.html#mode=edit)"
   ]
  },
  {
   "cell_type": "markdown",
   "id": "11ebce5e",
   "metadata": {},
   "source": [
    "- To create a tuple with a single element (admittedly, you’re probably not very likely to do that too often), we must include the final comma, because without the final comma, Python will treat the variable as a different data type."
   ]
  },
  {
   "cell_type": "code",
   "execution_count": 15,
   "id": "31bcb6d6",
   "metadata": {},
   "outputs": [
    {
     "name": "stdout",
     "output_type": "stream",
     "text": [
      "(10,) <class 'tuple'>\n",
      "\n",
      "10 <class 'int'>\n",
      "\n",
      "('cat',) <class 'tuple'>\n",
      "\n",
      "cat <class 'str'>\n",
      "\n",
      "(3.14,) <class 'tuple'>\n",
      "\n",
      "3.14 <class 'float'>\n"
     ]
    }
   ],
   "source": [
    "# Single-item tuples ... must include the final comma\n",
    "\n",
    "tuple = (10,)\n",
    "print(tuple, type(tuple))\n",
    "print()\n",
    "\n",
    "not_tuple = (10)\n",
    "print(not_tuple, type(not_tuple))\n",
    "print()\n",
    "\n",
    "tuple = (\"cat\",)\n",
    "print(tuple, type(tuple))\n",
    "print()\n",
    "\n",
    "not_tuple = (\"cat\")\n",
    "print(not_tuple, type(not_tuple))\n",
    "print()\n",
    "\n",
    "tuple = (3.14,)\n",
    "print(tuple, type(tuple))\n",
    "print()\n",
    "\n",
    "not_tuple = (3.14)\n",
    "print(not_tuple, type(not_tuple))"
   ]
  },
  {
   "cell_type": "markdown",
   "id": "4b46c187",
   "metadata": {},
   "source": [
    "<a class=\"anchor\" id=\"2\"></a>\n",
    "<a class=\"anchor\" id=\"T1\"></a>\n",
    "<div class=\"alert alert-block alert-info\">\n",
    "<b><font size=\"4\">2. Tuple Assignment</font></b></div>"
   ]
  },
  {
   "cell_type": "markdown",
   "id": "d4b6951c",
   "metadata": {},
   "source": [
    "- Python has a very powerful tuple assignment feature that allows a tuple of variables on the left of an assignment to be assigned values from a tuple on the right of the assignment."
   ]
  },
  {
   "cell_type": "code",
   "execution_count": 16,
   "id": "f62af397",
   "metadata": {},
   "outputs": [
    {
     "name": "stdout",
     "output_type": "stream",
     "text": [
      "Aaron\n",
      "Rodgers\n",
      "Quarterback\n",
      "Green Bay Packers\n",
      "12\n",
      "California\n",
      "37\n",
      "6 ft 2 in\n",
      "225 lbs\n",
      "\n",
      "Aaron Rodgers is the Quarterback for the Green Bay Packers.\n"
     ]
    }
   ],
   "source": [
    "# Assigning a tuple of values (right side of assignment) \n",
    "# to a tuple of variables (left side of assignment)\n",
    "\n",
    "aaron = (\"Aaron\", \"Rodgers\", \"Quarterback\", \"Green Bay Packers\", 12, \"California\", \n",
    "         37, \"6 ft 2 in\", \"225 lbs\")\n",
    "\n",
    "(first_name, last_name, position, team, number, college, age, height, weight) = aaron\n",
    "\n",
    "print(first_name)\n",
    "print(last_name)\n",
    "print(position)\n",
    "print(team)\n",
    "print(number)\n",
    "print(college)\n",
    "print(age)\n",
    "print(height)\n",
    "print(weight)\n",
    "\n",
    "print()\n",
    "\n",
    "# You can apply this to f-strings\n",
    "print(f'{first_name} {last_name} is the {position} for the {team}.')"
   ]
  },
  {
   "cell_type": "markdown",
   "id": "73ec9f6e",
   "metadata": {},
   "source": [
    "- In the example above, the tuple assignment does the equivalent of nine individual assignment statements, and it did this all on one easy line. \n",
    "- One requirement is that the number of variables on the left must match the number of elements in the tuple on the right."
   ]
  },
  {
   "cell_type": "markdown",
   "id": "bf2b92a2",
   "metadata": {},
   "source": [
    "<div class=\"alert alert-block alert-success\"><b>Practice Problem 2</b>:\n",
    "\n",
    "<b>Given</b>:\n",
    "<p>&nbsp;</p>\n",
    "Information about an employee ...\n",
    "\n",
    "Jane Smith, Female, 37, Married, Accountant, Deloitte, Marquette, Mequon, Wisconsin\n",
    "\n",
    "1. Create a tuple of values and assign that tuple to a variable named employee. Write code to print out employee, the data type that employee is, and the number of items in employee.  Feel free to use f-string formatting to enhance your output.\n",
    "2. Create a tuple of variables to represent the tuple of values from Part 1 and assign the variable employee to that tuple. Use f-string formatting to print out the following statement:\n",
    "    \n",
    "    <i>Jane Smith is a 37 year old accountant who graduated from Marquette University.</i>\n",
    "<p>&nbsp;</p>    \n",
    "3. Jane just had a birthday and she also moved to Wauwatosa and is now working for Ernst & Young.  Use the original tuple to create a new tuple with the same name that includes this updated information.  Print out the new tuple.\n",
    "4. Use f-string formatting to print out the following statement:\n",
    "    \n",
    "    <i>Jane Smith has moved to Wauwatosa and is now working for Ernst & Young.</i>\n",
    "</div>"
   ]
  },
  {
   "cell_type": "code",
   "execution_count": null,
   "id": "087258b0",
   "metadata": {},
   "outputs": [],
   "source": []
  },
  {
   "cell_type": "markdown",
   "id": "4edd401f",
   "metadata": {},
   "source": [
    "<a class=\"anchor\" id=\"2a\"></a>\n",
    "### a. Swapping values of variables by using tuple assignment"
   ]
  },
  {
   "cell_type": "markdown",
   "id": "ace1238a",
   "metadata": {},
   "source": [
    "- Once in a while, it is useful to swap the values of two (or more) variables. \n",
    "- With conventional assignment statements, we have to use a temporary variable to swap the values of two (or more) variables.\n",
    "\n",
    "<b>Observe the following in the examples below:</b>\n",
    "\n",
    "- The left side is a tuple of variables; the right side is a tuple of values. \n",
    "- Each value is assigned to its respective variable. \n",
    "- <i>All the expressions on the right side are evaluated before any of the assignments. This feature makes tuple assignment quite versatile.</i>\n",
    "\n",
    "Naturally, the number of variables on the left and the number of values on the right have to be the same."
   ]
  },
  {
   "cell_type": "code",
   "execution_count": 17,
   "id": "52d0d70f",
   "metadata": {},
   "outputs": [
    {
     "name": "stdout",
     "output_type": "stream",
     "text": [
      "Wisconsin is the one seed and Ohio State is the two seed.\n",
      "Wisconsin is the two seed and Ohio State is the one seed.\n"
     ]
    }
   ],
   "source": [
    "# Swapping values of 2 variables using conventional assignment ... need to use a temporary variable\n",
    "\n",
    "wisconsin = \"one seed\"\n",
    "ohio_state = \"two seed\"\n",
    "print(f'Wisconsin is the {wisconsin} and Ohio State is the {ohio_state}.')\n",
    "\n",
    "temporary_variable = wisconsin\n",
    "wisconsin = ohio_state\n",
    "ohio_state = temporary_variable\n",
    "print(f'Wisconsin is the {wisconsin} and Ohio State is the {ohio_state}.')"
   ]
  },
  {
   "cell_type": "code",
   "execution_count": 21,
   "id": "7fed3a69",
   "metadata": {},
   "outputs": [
    {
     "name": "stdout",
     "output_type": "stream",
     "text": [
      "Wisconsin is the one seed and Ohio State is the two seed.\n",
      "Wisconsin is the two seed and Ohio State is the one seed.\n"
     ]
    }
   ],
   "source": [
    "# Swapping values of 2 variables using tuple assignment\n",
    "\n",
    "wisconsin = \"one seed\"\n",
    "ohio_state = \"two seed\"\n",
    "print(f'Wisconsin is the {wisconsin} and Ohio State is the {ohio_state}.')\n",
    "\n",
    "(wisconsin, ohio_state) = (ohio_state, wisconsin)\n",
    "print(f'Wisconsin is the {wisconsin} and Ohio State is the {ohio_state}.')"
   ]
  },
  {
   "cell_type": "code",
   "execution_count": 22,
   "id": "3b9e11ab",
   "metadata": {},
   "outputs": [
    {
     "name": "stdout",
     "output_type": "stream",
     "text": [
      "i g p\n",
      "p i g\n"
     ]
    }
   ],
   "source": [
    "# Swapping values of 3 variables using conventional assignment ... need to use a temporary variable\n",
    "\n",
    "a = 'i'\n",
    "b = 'g'\n",
    "c = 'p'\n",
    "print(a, b, c)\n",
    "\n",
    "temp_var = a\n",
    "a = c\n",
    "c = b\n",
    "b = temp_var\n",
    "print(a, b, c)"
   ]
  },
  {
   "cell_type": "code",
   "execution_count": 23,
   "id": "7c7990a5",
   "metadata": {},
   "outputs": [
    {
     "name": "stdout",
     "output_type": "stream",
     "text": [
      "i g p\n",
      "p i g\n"
     ]
    }
   ],
   "source": [
    "# Swapping values of 2 variables using tuple assignment\n",
    "\n",
    "a = 'i'\n",
    "b = 'g'\n",
    "c = 'p'\n",
    "print(a, b, c)\n",
    "\n",
    "(a, b, c) = (c, a, b)\n",
    "print(a, b, c)"
   ]
  },
  {
   "cell_type": "code",
   "execution_count": 24,
   "id": "3aec30ce",
   "metadata": {},
   "outputs": [
    {
     "name": "stdout",
     "output_type": "stream",
     "text": [
      "10 20 30 40\n"
     ]
    },
    {
     "ename": "ValueError",
     "evalue": "not enough values to unpack (expected 4, got 3)",
     "output_type": "error",
     "traceback": [
      "\u001b[1;31m---------------------------------------------------------------------------\u001b[0m",
      "\u001b[1;31mValueError\u001b[0m                                Traceback (most recent call last)",
      "\u001b[1;32m<ipython-input-24-c2ab512c5bef>\u001b[0m in \u001b[0;36m<module>\u001b[1;34m\u001b[0m\n\u001b[0;32m      2\u001b[0m \u001b[0mprint\u001b[0m\u001b[1;33m(\u001b[0m\u001b[0mw\u001b[0m\u001b[1;33m,\u001b[0m \u001b[0mx\u001b[0m\u001b[1;33m,\u001b[0m \u001b[0my\u001b[0m\u001b[1;33m,\u001b[0m \u001b[0mz\u001b[0m\u001b[1;33m)\u001b[0m\u001b[1;33m\u001b[0m\u001b[1;33m\u001b[0m\u001b[0m\n\u001b[0;32m      3\u001b[0m \u001b[1;33m\u001b[0m\u001b[0m\n\u001b[1;32m----> 4\u001b[1;33m \u001b[1;33m(\u001b[0m\u001b[0mw\u001b[0m\u001b[1;33m,\u001b[0m \u001b[0mx\u001b[0m\u001b[1;33m,\u001b[0m \u001b[0my\u001b[0m\u001b[1;33m,\u001b[0m \u001b[0mz\u001b[0m\u001b[1;33m)\u001b[0m \u001b[1;33m=\u001b[0m \u001b[1;33m(\u001b[0m\u001b[0mz\u001b[0m\u001b[1;33m,\u001b[0m \u001b[0my\u001b[0m\u001b[1;33m,\u001b[0m \u001b[0mx\u001b[0m\u001b[1;33m)\u001b[0m\u001b[1;33m\u001b[0m\u001b[1;33m\u001b[0m\u001b[0m\n\u001b[0m\u001b[0;32m      5\u001b[0m \u001b[0mprint\u001b[0m\u001b[1;33m(\u001b[0m\u001b[0mw\u001b[0m\u001b[1;33m,\u001b[0m \u001b[0mx\u001b[0m\u001b[1;33m,\u001b[0m \u001b[0my\u001b[0m\u001b[1;33m,\u001b[0m \u001b[0mz\u001b[0m\u001b[1;33m)\u001b[0m\u001b[1;33m\u001b[0m\u001b[1;33m\u001b[0m\u001b[0m\n\u001b[0;32m      6\u001b[0m \u001b[1;33m\u001b[0m\u001b[0m\n",
      "\u001b[1;31mValueError\u001b[0m: not enough values to unpack (expected 4, got 3)"
     ]
    }
   ],
   "source": [
    "# Improper swap ... number of variables on the left and \n",
    "# the number of values on the right are not equal\n",
    "\n",
    "(w, x, y, z) = (10, 20, 30, 40)\n",
    "print(w, x, y, z)\n",
    "\n",
    "(w, x, y, z) = (z, y, x)\n",
    "print(w, x, y, z)"
   ]
  },
  {
   "cell_type": "markdown",
   "id": "7b22d7d4",
   "metadata": {},
   "source": [
    "<div class=\"alert alert-block alert-success\"><b>Practice Problem 3</b>:\n",
    "\n",
    "NFC NORTH Standings week 7                 \n",
    "\n",
    "first = \"Chicago\"                        \n",
    "second = \"Green Bay\"                      \n",
    "third = \"Minnesota\"                      \n",
    "fourth = \"Detroit\"  \n",
    "    \n",
    "NFC NORTH Standings week 10<br >\n",
    "\n",
    "first = \"Green Bay\"<br>\n",
    "second = \"Minnesota\"<br>\n",
    "third = \"Chicago\"<br>\n",
    "fourth = \"Detroit\"<br>\n",
    "\n",
    "1. Create a tuple of values for place and a tuple of variables for team that represent the week 7 standings.  Assign the tuple for place to the tuple for team. Use f-string formatting to print out the week 7 standings.\n",
    "2. Perform a variable swap to represent the changes that appear in the week 10 standings. Use f-string formatting to print out the week 10 standings.\n",
    "    \n",
    "</div>"
   ]
  },
  {
   "cell_type": "code",
   "execution_count": null,
   "id": "adc82b1e",
   "metadata": {},
   "outputs": [],
   "source": []
  },
  {
   "cell_type": "markdown",
   "id": "2875de8c",
   "metadata": {},
   "source": [
    "<a class=\"anchor\" id=\"3\"></a>\n",
    "<a class=\"anchor\" id=\"T1\"></a>\n",
    "<div class=\"alert alert-block alert-info\">\n",
    "<b><font size=\"4\">3. Tuples as Return Values</font></b></div>"
   ]
  },
  {
   "cell_type": "markdown",
   "id": "37496ec6",
   "metadata": {},
   "source": [
    "### This is just a quick look ahead to functions, which we will cover in Unit 19.  \n",
    "\n",
    "- Functions can return tuples as return values. \n",
    "- This is very useful — we often want to know some pitcher’s highest and lowest ERA, or we want to find the mean and the standard deviation, or we want to know the year, the month, and the day, or if we’re doing some ecological modeling we may want to know the number of rabbits and the number of wolves on an island at a given time. \n",
    "- In each case, a function (which can only return a single value), can create a single tuple holding multiple elements."
   ]
  },
  {
   "cell_type": "code",
   "execution_count": 18,
   "id": "274ccc14",
   "metadata": {},
   "outputs": [
    {
     "name": "stdout",
     "output_type": "stream",
     "text": [
      "(31.4159, 78.53975)\n"
     ]
    }
   ],
   "source": [
    "def circleInfo(r):\n",
    "    \"\"\" Return (circumference, area) of a circle of radius r \"\"\"\n",
    "    c = 2 * 3.14159 * r\n",
    "    a = 3.14159 * r * r\n",
    "    return (c, a)\n",
    "\n",
    "print(circleInfo(5))"
   ]
  },
  {
   "cell_type": "code",
   "execution_count": null,
   "id": "0402136c",
   "metadata": {},
   "outputs": [],
   "source": []
  }
 ],
 "metadata": {
  "kernelspec": {
   "display_name": "Python 3 (ipykernel)",
   "language": "python",
   "name": "python3"
  },
  "language_info": {
   "codemirror_mode": {
    "name": "ipython",
    "version": 3
   },
   "file_extension": ".py",
   "mimetype": "text/x-python",
   "name": "python",
   "nbconvert_exporter": "python",
   "pygments_lexer": "ipython3",
   "version": "3.11.4"
  }
 },
 "nbformat": 4,
 "nbformat_minor": 5
}
