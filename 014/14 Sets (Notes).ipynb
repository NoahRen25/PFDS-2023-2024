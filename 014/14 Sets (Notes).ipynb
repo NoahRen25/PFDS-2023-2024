{
 "cells": [
  {
   "cell_type": "markdown",
   "id": "48c3a9b0",
   "metadata": {},
   "source": [
    "# <center><b>Python for Data Science</b></center>\n",
    "# <center><b>Lesson 14</b></center>\n",
    "# <center><b>Sets (Notes)</b></center>"
   ]
  },
  {
   "cell_type": "markdown",
   "id": "5674bc25",
   "metadata": {},
   "source": [
    "<center><i>Adapted from:</i></center>\n",
    "<center>*****************</center>\n",
    "\n",
    "<center><i>datacamp: Python Sets and Set Theory</i></center>"
   ]
  },
  {
   "cell_type": "markdown",
   "id": "3c1dc7d8",
   "metadata": {},
   "source": [
    "<b>Resources:<br></b>\n",
    "\n",
    "- [Python Sets and Set Theory (datacamp)](https://www.datacamp.com/tutorial/sets-in-python#init)\n",
    "***\n",
    "- [Python Sets (w3schools)](https://www.w3schools.com/python/python_sets.asp)\n",
    "- [Sets in Python (Real Python)](https://realpython.com/python-sets/)\n",
    "- [Python Sets (programiz)](https://www.programiz.com/python-programming/set)\n",
    "- [Python Sets Tutorial (Edureka)](https://www.programiz.com/python-programming/set)\n",
    "- [Python Tutorial: Sets - Set Methods and Operations to Solve Common Problems (Corey Schafer)](https://www.youtube.com/watch?v=r3R3h5ly_8g)\n"
   ]
  },
  {
   "cell_type": "markdown",
   "id": "7da35f27",
   "metadata": {},
   "source": [
    "##  <span style=\"color:green\">TABLE OF CONTENTS</span>\n",
    "\n",
    "1. [Sets vs. Lists and Tuples](#1)<br>\n",
    "2. [Advantages of Python Sets](#2)<br>\n",
    "3. [Initializing a Set](#3)<br>\n",
    "a. [Sets containing values](#3a)<br>\n",
    "4. [Add and Remove Values from Sets](#4)<br>\n",
    "a. [Add values to a set](#4a)<br>\n",
    "b. [Remove values from a set](#4b)<br>\n",
    "c. [Remove all values from a set](#4c)<br>\n",
    "5. [Iterate Through a Set](#5)<br>\n",
    "6. [Transform a Set into Ordered Values](#6)<br>\n",
    "7. [Removing Duplicates from a List](#7)<br>\n",
    "8. [Set Operation Methods](#8)<br>\n",
    "a. [Union](#8a)<br>\n",
    "b. [Intersection](#8b)<br>\n",
    "c. [Difference](#8c)<br>\n",
    "d. [Symmetric Difference](#8d)<br>\n",
    "9. [Set Comprehension](#9)<br>\n",
    "10. [Membership Tests](#10)<br>\n",
    "11. [Subsets](#11)<br>\n",
    "12. [Frozensets](#12)"
   ]
  },
  {
   "cell_type": "code",
   "execution_count": 75,
   "id": "3a92882b",
   "metadata": {},
   "outputs": [
    {
     "name": "stdout",
     "output_type": "stream",
     "text": [
      "This notebook is now set up to display multiple output in one cell.\n"
     ]
    }
   ],
   "source": [
    "# set up notebook to display multiple output in one cell\n",
    "from IPython.core.interactiveshell import InteractiveShell\n",
    "InteractiveShell.ast_node_interactivity = \"all\"\n",
    "\n",
    "print(\"This notebook is now set up to display multiple output in one cell.\")"
   ]
  },
  {
   "cell_type": "markdown",
   "id": "08aae1e2",
   "metadata": {},
   "source": [
    "<a class=\"anchor\" id=\"1\"></a>\n",
    "<a class=\"anchor\" id=\"T1\"></a>\n",
    "<div class=\"alert alert-block alert-info\">\n",
    "<b><font size=\"4\">1. Sets vs. Lists and Tuples</font></b></div>"
   ]
  },
  {
   "cell_type": "markdown",
   "id": "30315f10",
   "metadata": {},
   "source": [
    "- Lists and tuples are standard Python data types that store values in a sequence. \n",
    "- Sets are another standard Python data type that also store values. \n",
    "- The major difference is that sets, unlike lists or tuples, cannot have multiple occurrences of the same element and sets store unordered values."
   ]
  },
  {
   "cell_type": "markdown",
   "id": "efa0a06b",
   "metadata": {},
   "source": [
    "<a class=\"anchor\" id=\"2\"></a>\n",
    "<a class=\"anchor\" id=\"T1\"></a>\n",
    "<div class=\"alert alert-block alert-info\">\n",
    "<b><font size=\"4\">2. Advantages of Python Sets</font></b></div>"
   ]
  },
  {
   "cell_type": "markdown",
   "id": "5e544f0c",
   "metadata": {},
   "source": [
    "- Because sets cannot have multiple occurrences of the same element, it makes sets highly useful to efficiently remove duplicate values from a list or tuple and to perform common math operations like unions and intersections."
   ]
  },
  {
   "cell_type": "markdown",
   "id": "b472c5ea",
   "metadata": {},
   "source": [
    "<a class=\"anchor\" id=\"3\"></a>\n",
    "<a class=\"anchor\" id=\"T1\"></a>\n",
    "<div class=\"alert alert-block alert-info\">\n",
    "<b><font size=\"4\">3. Initializing a Set</font></b></div>"
   ]
  },
  {
   "cell_type": "markdown",
   "id": "77d8b2a5",
   "metadata": {},
   "source": [
    "- Sets are a mutable collection of distinct (unique) immutable values that are unordered. \n",
    "- You can initialize an empty set by using <code style=\"background:lightgray;color:black\">set()</code>."
   ]
  },
  {
   "cell_type": "code",
   "execution_count": 6,
   "id": "14ede340",
   "metadata": {},
   "outputs": [
    {
     "data": {
      "text/plain": [
       "set"
      ]
     },
     "execution_count": 6,
     "metadata": {},
     "output_type": "execute_result"
    }
   ],
   "source": [
    "empty_set = set()\n",
    "type(empty_set)"
   ]
  },
  {
   "cell_type": "markdown",
   "id": "1b22f4ae",
   "metadata": {},
   "source": [
    "To intialize a set with values, you can pass in a list or tuple to <code style=\"background:lightgray;color:black\">set()</code>."
   ]
  },
  {
   "cell_type": "code",
   "execution_count": 14,
   "id": "7325f156",
   "metadata": {},
   "outputs": [
    {
     "name": "stdout",
     "output_type": "stream",
     "text": [
      "{'R', 'SQL', 'Go', 'Git', 'Python', 'Tableau'}\n",
      "<class 'set'> \n",
      "\n",
      "{'SQL', 'Git', 'Scala', 'Python', 'Hadoop', 'Java'}\n",
      "<class 'set'>\n"
     ]
    }
   ],
   "source": [
    "data_scientist = set(['Python', 'R', 'SQL', 'Git', 'Tableau', 'Go'])\n",
    "data_engineer = set(('Python', 'Java', 'Scala', 'Git', 'SQL', 'Hadoop'))\n",
    "\n",
    "print(data_scientist)\n",
    "print(type(data_scientist), \"\\n\")\n",
    "\n",
    "print(data_engineer)\n",
    "print(type(data_engineer))"
   ]
  },
  {
   "cell_type": "markdown",
   "id": "dc6e9950",
   "metadata": {},
   "source": [
    "- If you look at the output of data_scientist and data_engineer variables above, notice that the values in the set are not in the order added in. \n",
    "- This is because sets are unordered."
   ]
  },
  {
   "cell_type": "markdown",
   "id": "faf11633",
   "metadata": {},
   "source": [
    "<a class=\"anchor\" id=\"3a\"></a>\n",
    "<a class=\"anchor\" id=\"T1\"></a>\n",
    "<div class=\"alert alert-block alert-info\">\n",
    "<b><font size=\"4\">a. Sets containing values</font></b></div>"
   ]
  },
  {
   "cell_type": "markdown",
   "id": "a129bc6d",
   "metadata": {},
   "source": [
    "- Sets containing values can also be initialized by using curly braces."
   ]
  },
  {
   "cell_type": "code",
   "execution_count": 15,
   "id": "ffee906b",
   "metadata": {},
   "outputs": [
    {
     "name": "stdout",
     "output_type": "stream",
     "text": [
      "{'Matplotlib', 'Sci_Kit Learn', 'Plotly', 'NumPy', 'SciPy', 'Pandas', 'Seaborn'}\n",
      "<class 'set'> \n",
      "\n",
      "{'PyCharm', 'Jupyter Notebook', 'Visual Studio Code', 'Spyder'}\n",
      "<class 'set'>\n"
     ]
    }
   ],
   "source": [
    "libraries = {'Pandas', 'Matplotlib', 'Seaborn', 'NumPy', 'SciPy', 'Sci_Kit Learn', 'Plotly'}\n",
    "ides= {'Jupyter Notebook', 'PyCharm', 'Visual Studio Code', 'Spyder'}\n",
    "\n",
    "print(libraries)\n",
    "print(type(libraries), \"\\n\")\n",
    "\n",
    "print(ides)\n",
    "print(type(ides))"
   ]
  },
  {
   "cell_type": "markdown",
   "id": "9df87cdd",
   "metadata": {},
   "source": [
    "- Keep in mind that curly braces can only be used to initialize a set containing values. \n",
    "- The image below shows that using curly braces without values is one of the ways to initialize a dictionary and not a set."
   ]
  },
  {
   "attachments": {
    "sets1.jpg": {
     "image/jpeg": "[encoded data removed]"
    }
   },
   "cell_type": "markdown",
   "id": "b7ffc1c8",
   "metadata": {},
   "source": [
    "![sets1.jpg](attachment:sets1.jpg)"
   ]
  },
  {
   "cell_type": "markdown",
   "id": "28d7d569",
   "metadata": {},
   "source": [
    "<a class=\"anchor\" id=\"4\"></a>\n",
    "<a class=\"anchor\" id=\"T1\"></a>\n",
    "<div class=\"alert alert-block alert-info\">\n",
    "<b><font size=\"4\">4. Add and Remove Values from Sets</font></b></div>"
   ]
  },
  {
   "cell_type": "markdown",
   "id": "a4f7b3d1",
   "metadata": {},
   "source": [
    "- To add or remove values from a set, you first have to initialize a set."
   ]
  },
  {
   "cell_type": "code",
   "execution_count": 91,
   "id": "df36c18b",
   "metadata": {},
   "outputs": [],
   "source": [
    "# Initialize set with values\n",
    "\n",
    "states = {'Wisconsin', 'Minnesota', 'Iowa', 'Illinois', 'Indiana'}"
   ]
  },
  {
   "cell_type": "markdown",
   "id": "a3191f77",
   "metadata": {},
   "source": [
    "<a class=\"anchor\" id=\"4a\"></a>\n",
    "<a class=\"anchor\" id=\"T1\"></a>\n",
    "<div class=\"alert alert-block alert-info\">\n",
    "<b><font size=\"4\">a. Add values to a set</font></b></div>"
   ]
  },
  {
   "cell_type": "markdown",
   "id": "0f51f7f5",
   "metadata": {},
   "source": [
    "- You can use the method <code style=\"background:lightgray;color:black\">add</code> to add a value to a set."
   ]
  },
  {
   "cell_type": "code",
   "execution_count": 24,
   "id": "d15df655",
   "metadata": {},
   "outputs": [
    {
     "name": "stdout",
     "output_type": "stream",
     "text": [
      "{'Indiana', 'Iowa', 'Illinois', 'Minnesota', 'Wisconsin', 'Ohio'}\n"
     ]
    }
   ],
   "source": [
    "states.add('Ohio')\n",
    "print(states)"
   ]
  },
  {
   "cell_type": "markdown",
   "id": "3f603965",
   "metadata": {},
   "source": [
    "- In is important to note that you can only add a value that is immutable (like a string or a tuple) to a set. \n",
    "- For example, you would get a TypeError if you try to add a list to a set."
   ]
  },
  {
   "cell_type": "code",
   "execution_count": 27,
   "id": "cac49c61",
   "metadata": {},
   "outputs": [
    {
     "ename": "TypeError",
     "evalue": "unhashable type: 'list'",
     "output_type": "error",
     "traceback": [
      "\u001b[1;31m---------------------------------------------------------------------------\u001b[0m",
      "\u001b[1;31mTypeError\u001b[0m                                 Traceback (most recent call last)",
      "\u001b[1;32m<ipython-input-27-18219b91cf92>\u001b[0m in \u001b[0;36m<module>\u001b[1;34m\u001b[0m\n\u001b[0;32m      1\u001b[0m \u001b[1;31m# Try to add a list to a set ... will get an error\u001b[0m\u001b[1;33m\u001b[0m\u001b[1;33m\u001b[0m\u001b[1;33m\u001b[0m\u001b[0m\n\u001b[0;32m      2\u001b[0m \u001b[1;33m\u001b[0m\u001b[0m\n\u001b[1;32m----> 3\u001b[1;33m \u001b[0mstates\u001b[0m\u001b[1;33m.\u001b[0m\u001b[0madd\u001b[0m\u001b[1;33m(\u001b[0m\u001b[1;33m[\u001b[0m\u001b[1;34m'Alaska'\u001b[0m\u001b[1;33m,\u001b[0m \u001b[1;34m'Hawaii'\u001b[0m\u001b[1;33m]\u001b[0m\u001b[1;33m)\u001b[0m\u001b[1;33m\u001b[0m\u001b[1;33m\u001b[0m\u001b[0m\n\u001b[0m\u001b[0;32m      4\u001b[0m \u001b[0mprint\u001b[0m\u001b[1;33m(\u001b[0m\u001b[0mstates\u001b[0m\u001b[1;33m)\u001b[0m\u001b[1;33m\u001b[0m\u001b[1;33m\u001b[0m\u001b[0m\n",
      "\u001b[1;31mTypeError\u001b[0m: unhashable type: 'list'"
     ]
    }
   ],
   "source": [
    "# Try to add a list to a set ... will get an error\n",
    "\n",
    "states.add(['Alaska', 'Hawaii'])\n",
    "print(states)"
   ]
  },
  {
   "cell_type": "code",
   "execution_count": 28,
   "id": "578c66fd",
   "metadata": {},
   "outputs": [
    {
     "name": "stdout",
     "output_type": "stream",
     "text": [
      "{'Indiana', ('Alaska', 'Hawaii'), 'Iowa', 'Illinois', 'Minnesota', 'Wisconsin', 'Ohio'}\n"
     ]
    }
   ],
   "source": [
    "# Adding a tuple to a set\n",
    "\n",
    "states.add(('Alaska', 'Hawaii'))\n",
    "print(states)"
   ]
  },
  {
   "cell_type": "markdown",
   "id": "9aa4578e",
   "metadata": {},
   "source": [
    "<a class=\"anchor\" id=\"4b\"></a>\n",
    "<a class=\"anchor\" id=\"T1\"></a>\n",
    "<div class=\"alert alert-block alert-info\">\n",
    "<b><font size=\"4\">b. Remove values from a set</font></b></div>"
   ]
  },
  {
   "cell_type": "markdown",
   "id": "e843c56f",
   "metadata": {},
   "source": [
    "- <b>Option 1:</b> You can use the C method to remove a value from a set."
   ]
  },
  {
   "cell_type": "code",
   "execution_count": 29,
   "id": "7185027e",
   "metadata": {},
   "outputs": [
    {
     "name": "stdout",
     "output_type": "stream",
     "text": [
      "{'purple', 'green', 'orange', 'blue', 'red', 'yellow', 'north'}\n"
     ]
    }
   ],
   "source": [
    "# Initialize a set\n",
    "\n",
    "colors_set = {\"red\", \"blue\", \"yellow\", \"green\", \"north\", \"orange\", \"purple\"}\n",
    "print(colors_set)"
   ]
  },
  {
   "cell_type": "code",
   "execution_count": 30,
   "id": "cd9cc47d",
   "metadata": {},
   "outputs": [
    {
     "name": "stdout",
     "output_type": "stream",
     "text": [
      "{'purple', 'green', 'orange', 'blue', 'red', 'yellow'}\n"
     ]
    }
   ],
   "source": [
    "colors_set.remove('north')\n",
    "print(colors_set)"
   ]
  },
  {
   "cell_type": "markdown",
   "id": "50c93306",
   "metadata": {},
   "source": [
    "- The drawback of this method is that if you try to remove a value that is not in your set, you will get a KeyError."
   ]
  },
  {
   "cell_type": "code",
   "execution_count": 31,
   "id": "2515b8e7",
   "metadata": {},
   "outputs": [
    {
     "ename": "KeyError",
     "evalue": "'pink'",
     "output_type": "error",
     "traceback": [
      "\u001b[1;31m---------------------------------------------------------------------------\u001b[0m",
      "\u001b[1;31mKeyError\u001b[0m                                  Traceback (most recent call last)",
      "\u001b[1;32m<ipython-input-31-40083c803d16>\u001b[0m in \u001b[0;36m<module>\u001b[1;34m\u001b[0m\n\u001b[1;32m----> 1\u001b[1;33m \u001b[0mcolors_set\u001b[0m\u001b[1;33m.\u001b[0m\u001b[0mremove\u001b[0m\u001b[1;33m(\u001b[0m\u001b[1;34m'pink'\u001b[0m\u001b[1;33m)\u001b[0m\u001b[1;33m\u001b[0m\u001b[1;33m\u001b[0m\u001b[0m\n\u001b[0m\u001b[0;32m      2\u001b[0m \u001b[0mprint\u001b[0m\u001b[1;33m(\u001b[0m\u001b[0mcolors_set\u001b[0m\u001b[1;33m)\u001b[0m\u001b[1;33m\u001b[0m\u001b[1;33m\u001b[0m\u001b[0m\n",
      "\u001b[1;31mKeyError\u001b[0m: 'pink'"
     ]
    }
   ],
   "source": [
    "colors_set.remove('pink')\n",
    "print(colors_set)"
   ]
  },
  {
   "cell_type": "markdown",
   "id": "ca9561ff",
   "metadata": {},
   "source": [
    "- <b>Option 2:</b> You can use the <code style=\"background:lightgray;color:black\">discard</code> method to remove a value from a set."
   ]
  },
  {
   "cell_type": "code",
   "execution_count": 32,
   "id": "8dbf6d74",
   "metadata": {},
   "outputs": [
    {
     "name": "stdout",
     "output_type": "stream",
     "text": [
      "{'spaghetti', 'bratwurst', 'pizza', 'lasagna'}\n"
     ]
    }
   ],
   "source": [
    "# Initialize a set\n",
    "\n",
    "foods_set = {'pizza', 'spaghetti', 'lasagna', 'bratwurst'}\n",
    "print(foods_set)"
   ]
  },
  {
   "cell_type": "code",
   "execution_count": 33,
   "id": "509f288c",
   "metadata": {},
   "outputs": [
    {
     "name": "stdout",
     "output_type": "stream",
     "text": [
      "{'spaghetti', 'pizza', 'lasagna'}\n"
     ]
    }
   ],
   "source": [
    "foods_set.discard('bratwurst')\n",
    "print(foods_set)"
   ]
  },
  {
   "cell_type": "markdown",
   "id": "1ae000b0",
   "metadata": {},
   "source": [
    "- The benefit of this approach over the <code style=\"background:lightgray;color:black\">remove</code> method is if you try to remove a value that is not part of the set, you will not get a KeyError. "
   ]
  },
  {
   "cell_type": "code",
   "execution_count": 34,
   "id": "67c54227",
   "metadata": {},
   "outputs": [
    {
     "name": "stdout",
     "output_type": "stream",
     "text": [
      "{'spaghetti', 'pizza', 'lasagna'}\n"
     ]
    }
   ],
   "source": [
    "foods_set.discard('ice cream')\n",
    "print(foods_set)"
   ]
  },
  {
   "cell_type": "markdown",
   "id": "35b440b7",
   "metadata": {},
   "source": [
    "- <b>Option 3:</b> You can also use the <code style=\"background:lightgray;color:black\">pop</code> method to remove and return an arbitrary value from a set."
   ]
  },
  {
   "cell_type": "code",
   "execution_count": 39,
   "id": "f7c7ca11",
   "metadata": {},
   "outputs": [
    {
     "name": "stdout",
     "output_type": "stream",
     "text": [
      "{'Venus', 'Jupiter', 'Earth', 'Pluto', 'Mars', 'Saturn'}\n"
     ]
    }
   ],
   "source": [
    "# Inialize a set\n",
    "\n",
    "planets_set = {'Mars', 'Earth', 'Pluto', 'Jupiter', 'Venus', 'Saturn'}\n",
    "print(planets_set)"
   ]
  },
  {
   "cell_type": "code",
   "execution_count": 40,
   "id": "4bb72390",
   "metadata": {},
   "outputs": [
    {
     "name": "stdout",
     "output_type": "stream",
     "text": [
      "{'Jupiter', 'Earth', 'Pluto', 'Mars', 'Saturn'}\n"
     ]
    }
   ],
   "source": [
    "planets_set.pop()\n",
    "print(planets_set)"
   ]
  },
  {
   "cell_type": "markdown",
   "id": "b4bd23de",
   "metadata": {},
   "source": [
    "- It is important to note that the method raises a KeyError if the set is empty."
   ]
  },
  {
   "cell_type": "code",
   "execution_count": 42,
   "id": "44dd99cd",
   "metadata": {},
   "outputs": [
    {
     "name": "stdout",
     "output_type": "stream",
     "text": [
      "set()\n",
      "<class 'type'> set()\n"
     ]
    }
   ],
   "source": [
    "empty_set = set()\n",
    "print(empty_set)\n",
    "print(type, empty_set)"
   ]
  },
  {
   "cell_type": "code",
   "execution_count": 43,
   "id": "72a54844",
   "metadata": {},
   "outputs": [
    {
     "ename": "KeyError",
     "evalue": "'pop from an empty set'",
     "output_type": "error",
     "traceback": [
      "\u001b[1;31m---------------------------------------------------------------------------\u001b[0m",
      "\u001b[1;31mKeyError\u001b[0m                                  Traceback (most recent call last)",
      "\u001b[1;32m<ipython-input-43-7c0f37efe476>\u001b[0m in \u001b[0;36m<module>\u001b[1;34m\u001b[0m\n\u001b[1;32m----> 1\u001b[1;33m \u001b[0mempty_set\u001b[0m\u001b[1;33m.\u001b[0m\u001b[0mpop\u001b[0m\u001b[1;33m(\u001b[0m\u001b[1;33m)\u001b[0m\u001b[1;33m\u001b[0m\u001b[1;33m\u001b[0m\u001b[0m\n\u001b[0m\u001b[0;32m      2\u001b[0m \u001b[0mprint\u001b[0m\u001b[1;33m(\u001b[0m\u001b[0mempty_set\u001b[0m\u001b[1;33m)\u001b[0m\u001b[1;33m\u001b[0m\u001b[1;33m\u001b[0m\u001b[0m\n",
      "\u001b[1;31mKeyError\u001b[0m: 'pop from an empty set'"
     ]
    }
   ],
   "source": [
    "empty_set.pop()\n",
    "print(empty_set)"
   ]
  },
  {
   "cell_type": "markdown",
   "id": "ef31c54c",
   "metadata": {},
   "source": [
    "<a class=\"anchor\" id=\"4c\"></a>\n",
    "<a class=\"anchor\" id=\"T1\"></a>\n",
    "<div class=\"alert alert-block alert-info\">\n",
    "<b><font size=\"4\">c. Remove all values from a set </font></b></div>"
   ]
  },
  {
   "cell_type": "markdown",
   "id": "7768a2ce",
   "metadata": {},
   "source": [
    "- You can use the <code style=\"background:lightgray;color:black\">clear</code> method to remove all values from a set."
   ]
  },
  {
   "cell_type": "code",
   "execution_count": 45,
   "id": "a28f5591",
   "metadata": {},
   "outputs": [
    {
     "name": "stdout",
     "output_type": "stream",
     "text": [
      "{'Venus', 'Jupiter', 'Earth', 'Pluto', 'Mars', 'Saturn'}\n"
     ]
    }
   ],
   "source": [
    "# Inialize a set\n",
    "\n",
    "planets_set = {'Mars', 'Earth', 'Pluto', 'Jupiter', 'Venus', 'Saturn'}\n",
    "print(planets_set)"
   ]
  },
  {
   "cell_type": "code",
   "execution_count": 46,
   "id": "7997b4c8",
   "metadata": {},
   "outputs": [
    {
     "name": "stdout",
     "output_type": "stream",
     "text": [
      "set()\n"
     ]
    }
   ],
   "source": [
    "planets_set.clear()\n",
    "print(planets_set)"
   ]
  },
  {
   "cell_type": "markdown",
   "id": "f97d75ab",
   "metadata": {},
   "source": [
    "<a class=\"anchor\" id=\"5\"></a>\n",
    "<a class=\"anchor\" id=\"T1\"></a>\n",
    "<div class=\"alert alert-block alert-info\">\n",
    "<b><font size=\"4\">5. Iterate Through a Set </font></b></div>"
   ]
  },
  {
   "cell_type": "markdown",
   "id": "247c370a",
   "metadata": {},
   "source": [
    "- Like many standard python data types, it is possible to iterate through a set.\n",
    "- Note: We will be covering iteration later in the course."
   ]
  },
  {
   "cell_type": "code",
   "execution_count": 48,
   "id": "8c8eb523",
   "metadata": {},
   "outputs": [
    {
     "name": "stdout",
     "output_type": "stream",
     "text": [
      "Matplotlib\n",
      "Sci_Kit Learn\n",
      "Plotly\n",
      "NumPy\n",
      "SciPy\n",
      "Pandas\n",
      "Seaborn\n"
     ]
    }
   ],
   "source": [
    "# Initialize a set\n",
    "\n",
    "python_libraries = {'Pandas', 'Matplotlib', 'Seaborn', 'NumPy', 'SciPy', 'Sci_Kit Learn', 'Plotly'}\n",
    "\n",
    "for library in python_libraries:\n",
    "    print(library)"
   ]
  },
  {
   "cell_type": "markdown",
   "id": "6273cf5c",
   "metadata": {},
   "source": [
    "- If you look at the output of printing each of the values in python_libraries, notice that the values printed in the set are not in the order they were added in. This is because sets are unordered."
   ]
  },
  {
   "cell_type": "markdown",
   "id": "36b6e5c2",
   "metadata": {},
   "source": [
    "<a class=\"anchor\" id=\"6\"></a>\n",
    "<a class=\"anchor\" id=\"T1\"></a>\n",
    "<div class=\"alert alert-block alert-info\">\n",
    "<b><font size=\"4\">6.Transform a Set into Ordered Values </font></b></div>"
   ]
  },
  {
   "cell_type": "markdown",
   "id": "7ff6559e",
   "metadata": {},
   "source": [
    "- This tutorial has emphasized that sets are unordered. \n",
    "- If you find that you need to get the values from your set in an ordered form, you can use the <code style=\"background:lightgray;color:black\">sorted</code> function which outputs a list that is ordered."
   ]
  },
  {
   "cell_type": "code",
   "execution_count": 57,
   "id": "c6332c0c",
   "metadata": {},
   "outputs": [
    {
     "name": "stdout",
     "output_type": "stream",
     "text": [
      "{'Matplotlib', 'Sci_Kit Learn', 'Plotly', 'NumPy', 'SciPy', 'Pandas', 'Seaborn'} \n",
      "\n",
      "['Matplotlib', 'NumPy', 'Pandas', 'Plotly', 'SciPy', 'Sci_Kit Learn', 'Seaborn']\n"
     ]
    },
    {
     "data": {
      "text/plain": [
       "list"
      ]
     },
     "execution_count": 57,
     "metadata": {},
     "output_type": "execute_result"
    }
   ],
   "source": [
    "python_libraries = {'Pandas', 'Matplotlib', 'Seaborn', 'NumPy', 'SciPy', 'Sci_Kit Learn', 'Plotly'}\n",
    "print(python_libraries, \"\\n\")\n",
    "\n",
    "sorted(python_libraries)\n",
    "print(sorted(python_libraries))\n",
    "type(sorted(python_libraries))"
   ]
  },
  {
   "cell_type": "markdown",
   "id": "4a67a52f",
   "metadata": {},
   "source": [
    "<a class=\"anchor\" id=\"7\"></a>\n",
    "<a class=\"anchor\" id=\"T1\"></a>\n",
    "<div class=\"alert alert-block alert-info\">\n",
    "<b><font size=\"4\">7. Removing Duplicates from a List</font></b></div>"
   ]
  },
  {
   "cell_type": "markdown",
   "id": "880ea0bf",
   "metadata": {},
   "source": [
    "- Part of the content in this section is covereded in the tutorial [18 Most Common Python List Questions](https://www.datacamp.com/tutorial/18-most-common-python-list-questions-learn-python#question15). \n",
    "- It is important to emphasize that sets are the <b>fastest</b> way to remove duplicates from a list. "
   ]
  },
  {
   "cell_type": "code",
   "execution_count": 62,
   "id": "b198063a",
   "metadata": {},
   "outputs": [
    {
     "name": "stdout",
     "output_type": "stream",
     "text": [
      "['red', 'white', 'red', 'blue', 'red', 'blue', 'red', 'white'] \n",
      "\n",
      "{'white', 'blue', 'red'} \n",
      "\n",
      "['white', 'blue', 'red']\n"
     ]
    }
   ],
   "source": [
    "list_with_duplicates = ['red', 'white', 'red', 'blue', 'red', 'blue', 'red', 'white']\n",
    "print(list_with_duplicates, \"\\n\")\n",
    "\n",
    "print(set(list_with_duplicates), \"\\n\")\n",
    "\n",
    "list_without_duplicates = list(set(list_with_duplicates))\n",
    "print(list_without_duplicates)"
   ]
  },
  {
   "cell_type": "markdown",
   "id": "b7fdea91",
   "metadata": {},
   "source": [
    "<a class=\"anchor\" id=\"8\"></a>\n",
    "<a class=\"anchor\" id=\"T1\"></a>\n",
    "<div class=\"alert alert-block alert-info\">\n",
    "<b><font size=\"4\">8. Set Operation Methods</font></b></div>"
   ]
  },
  {
   "cell_type": "markdown",
   "id": "92d7501e",
   "metadata": {},
   "source": [
    "- A common use of sets in Python is computing standard math operations such as <b>union</b>, <b>intersection</b>, <b>difference</b>, and <b>symmetric difference</b>. \n",
    "- The image below shows a couple standard math operations on two sets A and B. \n",
    "- The red part of each Venn diagram is the resulting set of a given set operation."
   ]
  },
  {
   "attachments": {
    "sets2.jpg": {
     "image/jpeg": "[encoded data removed]"
    }
   },
   "cell_type": "markdown",
   "id": "5c730839",
   "metadata": {},
   "source": [
    "![sets2.jpg](attachment:sets2.jpg)"
   ]
  },
  {
   "cell_type": "markdown",
   "id": "8aeb11a4",
   "metadata": {},
   "source": [
    "- Python sets have methods that allow you to perform these mathematical operations as well as operators that give you equivalent results."
   ]
  },
  {
   "cell_type": "code",
   "execution_count": 67,
   "id": "3fd8463c",
   "metadata": {},
   "outputs": [
    {
     "name": "stdout",
     "output_type": "stream",
     "text": [
      "Data Science Skills: {'R', 'SQL', 'Git', 'Python', 'Tableau', 'SAS'}\n",
      "Data Engineering Skills: {'SQL', 'Git', 'Scala', 'Python', 'Hadoop', 'Java'}\n"
     ]
    }
   ],
   "source": [
    "# Initialize two sets that will used to illustrate the set operations\n",
    "\n",
    "data_scientist = set(['Python', 'R', 'SQL', 'Git', 'Tableau', 'SAS'])\n",
    "data_engineer = set(('Python', 'Java', 'Scala', 'Git', 'SQL', 'Hadoop'))\n",
    "\n",
    "print(\"Data Science Skills:\", data_scientist)\n",
    "print(\"Data Engineering Skills:\", data_engineer)"
   ]
  },
  {
   "cell_type": "markdown",
   "id": "e6f4532c",
   "metadata": {},
   "source": [
    "<a class=\"anchor\" id=\"8a\"></a>\n",
    "<a class=\"anchor\" id=\"T1\"></a>\n",
    "<div class=\"alert alert-block alert-info\">\n",
    "<b><font size=\"4\">a. Union </font></b></div>"
   ]
  },
  {
   "cell_type": "markdown",
   "id": "12758a24",
   "metadata": {},
   "source": [
    "- A <b>union</b>, \"denoted data_scientist ∪ data_engineer\", is the set of all values that are values of data_scientist, or data_engineer, or both. \n",
    "- You can use the <code style=\"background:lightgray;color:black\">union</code> method to find out all the unique values in two sets."
   ]
  },
  {
   "cell_type": "code",
   "execution_count": 68,
   "id": "cb36996e",
   "metadata": {},
   "outputs": [
    {
     "data": {
      "text/plain": [
       "{'Git', 'Hadoop', 'Java', 'Python', 'R', 'SAS', 'SQL', 'Scala', 'Tableau'}"
      ]
     },
     "execution_count": 68,
     "metadata": {},
     "output_type": "execute_result"
    }
   ],
   "source": [
    "# set built-in function union\n",
    "data_scientist.union(data_engineer)"
   ]
  },
  {
   "cell_type": "code",
   "execution_count": 70,
   "id": "c2886800",
   "metadata": {},
   "outputs": [
    {
     "data": {
      "text/plain": [
       "{'Git', 'Hadoop', 'Java', 'Python', 'R', 'SAS', 'SQL', 'Scala', 'Tableau'}"
      ]
     },
     "execution_count": 70,
     "metadata": {},
     "output_type": "execute_result"
    }
   ],
   "source": [
    "# Equivalent result using the Bitwise or operator\n",
    "\n",
    "data_scientist | data_engineer"
   ]
  },
  {
   "attachments": {
    "sets%283%29.jpg": {
     "image/jpeg": "[encoded data removed]"
    }
   },
   "cell_type": "markdown",
   "id": "a8225481",
   "metadata": {},
   "source": [
    "![sets%283%29.jpg](attachment:sets%283%29.jpg)"
   ]
  },
  {
   "cell_type": "markdown",
   "id": "88435476",
   "metadata": {},
   "source": [
    "<a class=\"anchor\" id=\"8b\"></a>\n",
    "<a class=\"anchor\" id=\"T1\"></a>\n",
    "<div class=\"alert alert-block alert-info\">\n",
    "<b><font size=\"4\">b. Intersection </font></b></div>"
   ]
  },
  {
   "cell_type": "markdown",
   "id": "a3fc3890",
   "metadata": {},
   "source": [
    "- An <b>intersection</b> of two sets data_scientist and data_engineer, denoted data_scientist ∩ data_engineer, is the set of all values that are values of both data_scientist and data_engineer."
   ]
  },
  {
   "cell_type": "code",
   "execution_count": 71,
   "id": "ae893b9c",
   "metadata": {},
   "outputs": [
    {
     "data": {
      "text/plain": [
       "{'Git', 'Python', 'SQL'}"
      ]
     },
     "execution_count": 71,
     "metadata": {},
     "output_type": "execute_result"
    }
   ],
   "source": [
    "# set built-in function intersection\n",
    "data_scientist.intersection(data_engineer)"
   ]
  },
  {
   "cell_type": "code",
   "execution_count": 72,
   "id": "f0936918",
   "metadata": {},
   "outputs": [
    {
     "data": {
      "text/plain": [
       "{'Git', 'Python', 'SQL'}"
      ]
     },
     "execution_count": 72,
     "metadata": {},
     "output_type": "execute_result"
    }
   ],
   "source": [
    "# Equivalent result using the Bitwise and operator\n",
    "\n",
    "data_scientist & data_engineer"
   ]
  },
  {
   "attachments": {
    "sets4.jpg": {
     "image/jpeg": "[encoded data removed]"
    }
   },
   "cell_type": "markdown",
   "id": "e7588c5c",
   "metadata": {},
   "source": [
    "![sets4.jpg](attachment:sets4.jpg)"
   ]
  },
  {
   "cell_type": "markdown",
   "id": "1db80409",
   "metadata": {},
   "source": [
    "- You may find that you come across a case where you want to make sure that two sets have no value in common. \n",
    "- In order words, you want two sets that have an intersection that is empty. \n",
    "- These two sets are called <b>disjoint sets</b>. \n",
    "- You can test for disjoint sets by using the <code style=\"background:lightgray;color:black\">isdisjoint</code> method."
   ]
  },
  {
   "cell_type": "code",
   "execution_count": 77,
   "id": "73411390",
   "metadata": {},
   "outputs": [
    {
     "name": "stdout",
     "output_type": "stream",
     "text": [
      "{'R', 'SQL', 'Git', 'Python', 'Tableau', 'SAS'}\n",
      "{'SQL', 'Git', 'Scala', 'Python', 'Hadoop', 'Java'}\n",
      "{'Illustrator', 'InDesign', 'Photoshop'}\n"
     ]
    }
   ],
   "source": [
    "# Initialize an additional set\n",
    "\n",
    "data_scientist = set(['Python', 'R', 'SQL', 'Git', 'Tableau', 'SAS'])\n",
    "data_engineer = set(('Python', 'Java', 'Scala', 'Git', 'SQL', 'Hadoop'))\n",
    "graphic_designer = {'Illustrator', 'InDesign', 'Photoshop'}\n",
    "\n",
    "print(data_scientist)\n",
    "print(data_engineer)\n",
    "print(graphic_designer)"
   ]
  },
  {
   "cell_type": "code",
   "execution_count": 79,
   "id": "225ff7cb",
   "metadata": {},
   "outputs": [
    {
     "data": {
      "text/plain": [
       "False"
      ]
     },
     "execution_count": 79,
     "metadata": {},
     "output_type": "execute_result"
    },
    {
     "data": {
      "text/plain": [
       "True"
      ]
     },
     "execution_count": 79,
     "metadata": {},
     "output_type": "execute_result"
    },
    {
     "data": {
      "text/plain": [
       "set()"
      ]
     },
     "execution_count": 79,
     "metadata": {},
     "output_type": "execute_result"
    }
   ],
   "source": [
    "data_scientist.isdisjoint(data_engineer)\n",
    "data_scientist.isdisjoint(graphic_designer)\n",
    "data_scientist.intersection(graphic_designer)"
   ]
  },
  {
   "attachments": {
    "sets6.jpg": {
     "image/jpeg": "[encoded data removed]"
    }
   },
   "cell_type": "markdown",
   "id": "72c9c5b7",
   "metadata": {},
   "source": [
    "![sets6.jpg](attachment:sets6.jpg)"
   ]
  },
  {
   "cell_type": "markdown",
   "id": "55615775",
   "metadata": {},
   "source": [
    "<a class=\"anchor\" id=\"8c\"></a>\n",
    "<a class=\"anchor\" id=\"T1\"></a>\n",
    "<div class=\"alert alert-block alert-info\">\n",
    "<b><font size=\"4\">c. Difference </font></b></div>"
   ]
  },
  {
   "cell_type": "markdown",
   "id": "206143a2",
   "metadata": {},
   "source": [
    "- A <b>difference</b> of two sets data_scientist and data_engineer is the set of all values of data_scientist that are not values of data_engineer."
   ]
  },
  {
   "cell_type": "code",
   "execution_count": 84,
   "id": "441830b7",
   "metadata": {},
   "outputs": [
    {
     "data": {
      "text/plain": [
       "{'R', 'SAS', 'Tableau'}"
      ]
     },
     "execution_count": 84,
     "metadata": {},
     "output_type": "execute_result"
    },
    {
     "data": {
      "text/plain": [
       "{'R', 'SAS', 'Tableau'}"
      ]
     },
     "execution_count": 84,
     "metadata": {},
     "output_type": "execute_result"
    }
   ],
   "source": [
    "# Difference Operation\n",
    "data_scientist.difference(data_engineer)\n",
    "\n",
    "# Equivalent Result\n",
    "data_scientist - data_engineer"
   ]
  },
  {
   "attachments": {
    "sets8.jpg": {
     "image/jpeg": "[encoded data removed]"
    }
   },
   "cell_type": "markdown",
   "id": "9e295586",
   "metadata": {},
   "source": [
    "![sets8.jpg](attachment:sets8.jpg)"
   ]
  },
  {
   "cell_type": "markdown",
   "id": "cc935358",
   "metadata": {},
   "source": [
    "<a class=\"anchor\" id=\"8d\"></a>\n",
    "<a class=\"anchor\" id=\"T1\"></a>\n",
    "<div class=\"alert alert-block alert-info\">\n",
    "<b><font size=\"4\">d. Symmetric_Difference</font></b></div>"
   ]
  },
  {
   "cell_type": "markdown",
   "id": "fba25e73",
   "metadata": {},
   "source": [
    "- A <b>symmetric difference</b> of two sets data_scientist and data_engineer is the set of all values that are values of exactly one of two sets, but not both."
   ]
  },
  {
   "cell_type": "code",
   "execution_count": 85,
   "id": "b2225df4",
   "metadata": {},
   "outputs": [
    {
     "data": {
      "text/plain": [
       "{'Hadoop', 'Java', 'R', 'SAS', 'Scala', 'Tableau'}"
      ]
     },
     "execution_count": 85,
     "metadata": {},
     "output_type": "execute_result"
    }
   ],
   "source": [
    "data_scientist.symmetric_difference(data_engineer)"
   ]
  },
  {
   "attachments": {
    "sets7.jpg": {
     "image/jpeg": "[encoded data removed]"
    }
   },
   "cell_type": "markdown",
   "id": "adc835d6",
   "metadata": {},
   "source": [
    "![sets7.jpg](attachment:sets7.jpg)"
   ]
  },
  {
   "cell_type": "markdown",
   "id": "549edc4a",
   "metadata": {},
   "source": [
    "<a class=\"anchor\" id=\"9\"></a>\n",
    "<a class=\"anchor\" id=\"T1\"></a>\n",
    "<div class=\"alert alert-block alert-info\">\n",
    "<b><font size=\"4\">9. Set Comprehension</font></b></div>"
   ]
  },
  {
   "cell_type": "markdown",
   "id": "77244609",
   "metadata": {},
   "source": [
    "- Later in the course we will learn about list comprehensions and dictionary comprehensions. \n",
    "- There is also set comprehensions, which are very similar tolist comprehensions and dictionary comprehensions. \n",
    "- <b>Comprehensions</b> in Python provide us with a short and concise way to construct new sequences (such as list, set, dictionary etc.) using sequences which have been already defined.\n",
    "- Set comprehensions in Python can be constructed as follows:"
   ]
  },
  {
   "cell_type": "code",
   "execution_count": 88,
   "id": "de786286",
   "metadata": {},
   "outputs": [
    {
     "data": {
      "text/plain": [
       "{'PYTHON', 'R', 'SQL', 'Tableau'}"
      ]
     },
     "execution_count": 88,
     "metadata": {},
     "output_type": "execute_result"
    }
   ],
   "source": [
    "{skill for skill in ['SQL', 'SQL', 'PYTHON', 'PYTHON', 'R', 'PYTHON', 'Tableau']}"
   ]
  },
  {
   "cell_type": "markdown",
   "id": "f021b745",
   "metadata": {},
   "source": [
    "- The output above is a set of 4 values because sets cannot have multiple occurences of the same element. \n",
    "- The idea behind using set comprehensions is to let you write and reason in code the same way you would do mathematics by hand."
   ]
  },
  {
   "cell_type": "code",
   "execution_count": 89,
   "id": "050cbdc8",
   "metadata": {},
   "outputs": [
    {
     "data": {
      "text/plain": [
       "{'SQL'}"
      ]
     },
     "execution_count": 89,
     "metadata": {},
     "output_type": "execute_result"
    }
   ],
   "source": [
    "{skill for skill in ['GIT', 'PYTHON', 'SQL'] if skill not in {'GIT', 'PYTHON', 'JAVA'}}"
   ]
  },
  {
   "cell_type": "markdown",
   "id": "7e115a65",
   "metadata": {},
   "source": [
    "- The code above is similar to a set difference you learned above. It just looks a bit different."
   ]
  },
  {
   "cell_type": "markdown",
   "id": "813ded34",
   "metadata": {},
   "source": [
    "<a class=\"anchor\" id=\"10\"></a>\n",
    "<a class=\"anchor\" id=\"T1\"></a>\n",
    "<div class=\"alert alert-block alert-info\">\n",
    "<b><font size=\"4\">10. Membership Tests</font></b></div>"
   ]
  },
  {
   "cell_type": "markdown",
   "id": "410ab0b5",
   "metadata": {},
   "source": [
    "- Membership tests check whether a specific element is contained in a sequence, such as strings, lists, tuples, or sets. \n",
    "- One of the main advantages of using sets in Python is that they are highly optimized for membership tests. \n",
    "- For example, sets do membership tests a lot more efficiently than lists. "
   ]
  },
  {
   "cell_type": "code",
   "execution_count": 93,
   "id": "8fdacc33",
   "metadata": {},
   "outputs": [
    {
     "data": {
      "text/plain": [
       "True"
      ]
     },
     "execution_count": 93,
     "metadata": {},
     "output_type": "execute_result"
    },
    {
     "data": {
      "text/plain": [
       "False"
      ]
     },
     "execution_count": 93,
     "metadata": {},
     "output_type": "execute_result"
    }
   ],
   "source": [
    "# Initialize a list\n",
    "states_list = ['Wisconsin', 'Minnesota', 'Iowa', 'Illinois', 'Indiana']\n",
    "\n",
    "# Membership test with a list\n",
    "'Iowa' in states_list\n",
    "'Ohio' in states_list"
   ]
  },
  {
   "cell_type": "code",
   "execution_count": 95,
   "id": "db744989",
   "metadata": {},
   "outputs": [
    {
     "data": {
      "text/plain": [
       "True"
      ]
     },
     "execution_count": 95,
     "metadata": {},
     "output_type": "execute_result"
    },
    {
     "data": {
      "text/plain": [
       "False"
      ]
     },
     "execution_count": 95,
     "metadata": {},
     "output_type": "execute_result"
    }
   ],
   "source": [
    "# Initialize a set\n",
    "states_set1 = {'Wisconsin', 'Minnesota', 'Iowa', 'Illinois', 'Indiana'}\n",
    "\n",
    "# Membership test with a set\n",
    "'Iowa' in states_set\n",
    "'Ohio' in states_set"
   ]
  },
  {
   "cell_type": "markdown",
   "id": "b06fe457",
   "metadata": {},
   "source": [
    "<a class=\"anchor\" id=\"11\"></a>\n",
    "<a class=\"anchor\" id=\"T1\"></a>\n",
    "<div class=\"alert alert-block alert-info\">\n",
    "<b><font size=\"4\">11. Subsets</font></b></div>"
   ]
  },
  {
   "cell_type": "markdown",
   "id": "8a59185b",
   "metadata": {},
   "source": [
    "- A practical application of understanding membership is subsets. "
   ]
  },
  {
   "cell_type": "code",
   "execution_count": 98,
   "id": "6f100b6e",
   "metadata": {},
   "outputs": [
    {
     "data": {
      "text/plain": [
       "True"
      ]
     },
     "execution_count": 98,
     "metadata": {},
     "output_type": "execute_result"
    },
    {
     "data": {
      "text/plain": [
       "False"
      ]
     },
     "execution_count": 98,
     "metadata": {},
     "output_type": "execute_result"
    }
   ],
   "source": [
    "possible_skills = {'Python', 'R', 'SQL', 'Git', 'Tableau', 'SAS'}\n",
    "my_skills = {'Python', 'R'}\n",
    "other_skills = {'Hadoop', 'PySpark'}\n",
    "\n",
    "my_skills.issubset(possible_skills)\n",
    "other_skills.issubset(possible_skills)"
   ]
  },
  {
   "attachments": {
    "sets10.jpg": {
     "image/jpeg": "[encoded data removed]"
    }
   },
   "cell_type": "markdown",
   "id": "f16e8966",
   "metadata": {},
   "source": [
    "![sets10.jpg](attachment:sets10.jpg)"
   ]
  },
  {
   "cell_type": "markdown",
   "id": "3cdd2bc6",
   "metadata": {},
   "source": [
    "<a class=\"anchor\" id=\"12\"></a>\n",
    "<a class=\"anchor\" id=\"T1\"></a>\n",
    "<div class=\"alert alert-block alert-info\">\n",
    "<b><font size=\"4\">12. Frozensets</font></b></div>"
   ]
  },
  {
   "cell_type": "code",
   "execution_count": null,
   "id": "89d94074",
   "metadata": {},
   "outputs": [],
   "source": [
    "- You have have encountered nested lists and tuples."
   ]
  },
  {
   "cell_type": "code",
   "execution_count": 100,
   "id": "a43e37bc",
   "metadata": {},
   "outputs": [
    {
     "name": "stdout",
     "output_type": "stream",
     "text": [
      "[['the', 12], ['to', 11], ['of', 9], ['and', 7], ['that', 6]]\n",
      "(('the', 12), ('to', 11), ('of', 9), ('and', 7), ('that', 6))\n"
     ]
    }
   ],
   "source": [
    "# Nested Lists and Tuples\n",
    "\n",
    "nested_lists = [['the', 12], ['to', 11], ['of', 9], ['and', 7], ['that', 6]]\n",
    "nested_tuples = (('the', 12), ('to', 11), ('of', 9), ('and', 7), ('that', 6))\n",
    "\n",
    "print(nested_lists)\n",
    "print(nested_tuples)"
   ]
  },
  {
   "cell_type": "markdown",
   "id": "5866345b",
   "metadata": {},
   "source": [
    "- The problem with nested sets is that you cannot normally have nested sets as sets cannot contain mutable values including sets."
   ]
  },
  {
   "cell_type": "code",
   "execution_count": 101,
   "id": "3bd26c8a",
   "metadata": {},
   "outputs": [
    {
     "ename": "TypeError",
     "evalue": "unhashable type: 'set'",
     "output_type": "error",
     "traceback": [
      "\u001b[1;31m---------------------------------------------------------------------------\u001b[0m",
      "\u001b[1;31mTypeError\u001b[0m                                 Traceback (most recent call last)",
      "\u001b[1;32m<ipython-input-101-4620374b15e6>\u001b[0m in \u001b[0;36m<module>\u001b[1;34m\u001b[0m\n\u001b[1;32m----> 1\u001b[1;33m \u001b[0mnested_set\u001b[0m \u001b[1;33m=\u001b[0m \u001b[1;33m{\u001b[0m\u001b[1;34m'Ohio'\u001b[0m\u001b[1;33m,\u001b[0m \u001b[1;34m'Iowa'\u001b[0m\u001b[1;33m,\u001b[0m \u001b[1;33m{\u001b[0m\u001b[1;34m'Illinois'\u001b[0m\u001b[1;33m,\u001b[0m \u001b[1;34m'Minnesota'\u001b[0m\u001b[1;33m}\u001b[0m\u001b[1;33m,\u001b[0m \u001b[1;34m'Wisconsin'\u001b[0m\u001b[1;33m}\u001b[0m\u001b[1;33m\u001b[0m\u001b[1;33m\u001b[0m\u001b[0m\n\u001b[0m",
      "\u001b[1;31mTypeError\u001b[0m: unhashable type: 'set'"
     ]
    }
   ],
   "source": [
    "nested_set = {'Ohio', 'Iowa', {'Illinois', 'Minnesota'}, 'Wisconsin'}"
   ]
  },
  {
   "cell_type": "markdown",
   "id": "552144ee",
   "metadata": {},
   "source": [
    "- This is one situation where you may wish to use a <b>frozenset</b>. \n",
    "- A frozenset is very similar to a set except that a frozenset is immutable. \n",
    "- Frozenset is a new class that has the characteristics of a set, but its elements cannot be changed once assigned. \n",
    "- While tuples are immutable lists, frozensets are immutable sets.\n",
    "- You make a frozenset by using <code style=\"background:lightgray;color:black\">frozenset()</code>."
   ]
  },
  {
   "cell_type": "code",
   "execution_count": 111,
   "id": "8b5b3ab7",
   "metadata": {},
   "outputs": [
    {
     "name": "stdout",
     "output_type": "stream",
     "text": [
      "frozenset({'white', 'blue', 'red'})\n",
      "<class 'frozenset'>\n"
     ]
    }
   ],
   "source": [
    "# Initialize a frozenset\n",
    "\n",
    "frozen_set1 = frozenset(['red', 'white', 'blue'])\n",
    "print(frozen_set1)\n",
    "print(type(frozen_set1))"
   ]
  },
  {
   "cell_type": "markdown",
   "id": "089a8913",
   "metadata": {},
   "source": [
    "- You can make a nested set if you utilize a frozenset similar to the code below."
   ]
  },
  {
   "cell_type": "code",
   "execution_count": 117,
   "id": "cde895dc",
   "metadata": {},
   "outputs": [
    {
     "name": "stdout",
     "output_type": "stream",
     "text": [
      "{frozenset({'purple', 'orange', 'green'}), frozenset({'white', 'blue', 'red'})}\n",
      "<class 'set'>\n"
     ]
    }
   ],
   "source": [
    "nested_set = set([frozenset(['red', 'white', 'blue']), frozenset(['orange', 'green', 'purple'])])\n",
    "print(nested_set)\n",
    "print(type(nested_set))"
   ]
  },
  {
   "cell_type": "code",
   "execution_count": null,
   "id": "8aef1b28",
   "metadata": {},
   "outputs": [],
   "source": []
  }
 ],
 "metadata": {
  "kernelspec": {
   "display_name": "Python 3 (ipykernel)",
   "language": "python",
   "name": "python3"
  },
  "language_info": {
   "codemirror_mode": {
    "name": "ipython",
    "version": 3
   },
   "file_extension": ".py",
   "mimetype": "text/x-python",
   "name": "python",
   "nbconvert_exporter": "python",
   "pygments_lexer": "ipython3",
   "version": "3.11.4"
  }
 },
 "nbformat": 4,
 "nbformat_minor": 5
}
