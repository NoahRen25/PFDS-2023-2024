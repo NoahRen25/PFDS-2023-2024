{
 "cells": [
  {
   "cell_type": "markdown",
   "id": "d96a1eb7",
   "metadata": {},
   "source": [
    "# <center><b>PFDS</b></center>\n",
    "# <center><b>Asg 18.1</b></center>\n",
    "# <center><b>Loops & List Comprehensions (Coding)</b></center>"
   ]
  },
  {
   "cell_type": "code",
   "execution_count": null,
   "id": "28565f21",
   "metadata": {
    "id": "28565f21"
   },
   "outputs": [],
   "source": [
    "# set up notebook to display multiple output in one cell\n",
    "\n",
    "from IPython.core.interactiveshell import InteractiveShell\n",
    "\n",
    "InteractiveShell.ast_node_interactivity = \"all\"\n",
    "\n",
    "print('The notebook is set up to display multiple output in one cell.')"
   ]
  },
  {
   "cell_type": "markdown",
   "id": "4dee6245",
   "metadata": {
    "id": "4dee6245"
   },
   "source": [
    "<div class=\"alert alert-block alert-success\"><b>Practice Problem #1:</b>\n",
    "\n",
    "<b>Teams in the NFC North Division:</b><br>\n",
    "Bears<br>\n",
    "Lions<br>\n",
    "Packers<br>\n",
    "Vikings<br>\n",
    "<p>&nbsp;</p>\n",
    "<b>Desired Output:</b><br>\n",
    "The Bears are in the NFC North Division.<br>\n",
    "The Lions are in the NFC North Division.<br>\n",
    "The Packers are in the NFC North Division.<br>\n",
    "The Vikings are in the NFC North Division.<br>\n",
    "<p>&nbsp;</p>\n",
    "a. Write code that doesn't use iteration to print out the desired output.<br>\n",
    "b. Create a list called nfc_north that contains the 4 teams that are in the NFC North Division.  Then iterate over that list to produce the desired output.\n",
    "\n",
    "</div>"
   ]
  },
  {
   "cell_type": "code",
   "execution_count": 3,
   "id": "734e0ff7",
   "metadata": {
    "id": "734e0ff7"
   },
   "outputs": [
    {
     "name": "stdout",
     "output_type": "stream",
     "text": [
      "The Bears are in the NFC North Division. \n",
      "The Lions are in the NFC North Division. \n",
      "The Packers are in the NFC North Division. \n",
      "The Vikings are in the NFC North Division. \n",
      "The Bears are in the NFC north division\n",
      "The Lions are in the NFC north division\n",
      "The Packers are in the NFC north division\n",
      "The Vikings are in the NFC north division\n"
     ]
    }
   ],
   "source": [
    "print('The Bears are in the NFC North Division. ')\n",
    "print('The Lions are in the NFC North Division. ')\n",
    "print('The Packers are in the NFC North Division. ')\n",
    "print('The Vikings are in the NFC North Division. ')\n",
    "\n",
    "nfc_north = ['Bears', 'Lions', 'Packers', 'Vikings']\n",
    "for i in nfc_north:\n",
    "    print(f\"The {i} are in the NFC north division\")"
   ]
  },
  {
   "cell_type": "markdown",
   "id": "a18d6316",
   "metadata": {
    "id": "a18d6316"
   },
   "source": [
    "<div class=\"alert alert-block alert-success\"><b>Practice Problem #2:</b>\n",
    "\n",
    "Write code that incorporates the range() function in a for loop to print out the first 5 terms of the following arithmetic sequence:<br>\n",
    "<p>&nbsp;</p>    \n",
    "7, 12, 17, 22, 27\n",
    "</div>"
   ]
  },
  {
   "cell_type": "code",
   "execution_count": 6,
   "id": "cb0f1b04",
   "metadata": {
    "id": "cb0f1b04"
   },
   "outputs": [
    {
     "name": "stdout",
     "output_type": "stream",
     "text": [
      "7\n",
      "12\n",
      "17\n",
      "22\n",
      "27\n"
     ]
    }
   ],
   "source": [
    "for i in range(5):\n",
    "    print(5 * (i + 1) + 2)"
   ]
  },
  {
   "cell_type": "markdown",
   "id": "fea76665",
   "metadata": {
    "id": "fea76665"
   },
   "source": [
    "<div class=\"alert alert-block alert-success\"><b>Practice Problem #3:</b>\n",
    "\n",
    "Write code that incorporates the range() function and produces the specified output.<br>\n",
    "<p>&nbsp;</p>    \n",
    "a. [0, 1, 2, 3, 4, 5, 6]<br>\n",
    "b. [8, 9, 10, 11, 12]<br>\n",
    "c. [5, 9, 13, 17, 21, 25]<br>\n",
    "d. [5, 4, 3, 2]<br>\n",
    "e. [31, 24, 17, 10, 3]\n",
    "</div>"
   ]
  },
  {
   "cell_type": "code",
   "execution_count": 21,
   "id": "a69ffd96",
   "metadata": {
    "id": "a69ffd96"
   },
   "outputs": [
    {
     "name": "stdout",
     "output_type": "stream",
     "text": [
      "0, 1, 2, 3, 4, 5, 6, \n",
      "\n",
      "8, 9, 10, 11, 12, \n",
      "\n",
      "5, 9, 13, 17, 21, 25, \n",
      "\n",
      "5, 4, 3, 2, \n",
      "\n",
      "31, 24, 17, 10, 3, "
     ]
    }
   ],
   "source": [
    "for i in range(7):\n",
    "    print(i, end=', ')\n",
    "print('\\n')\n",
    "for i in range(5):\n",
    "    print(i + 8, end=', ')\n",
    "print('\\n')\n",
    "for i in range(6):\n",
    "    print(4 * i + 5, end=', ')\n",
    "print('\\n')\n",
    "for i in reversed(range(4)):\n",
    "    print(i + 2, end=', ')\n",
    "print('\\n')\n",
    "for i in reversed(range(5)):\n",
    "    print(7 * (i + 1) - 4, end=', ')"
   ]
  },
  {
   "cell_type": "markdown",
   "id": "a51a8ff2",
   "metadata": {
    "id": "a51a8ff2"
   },
   "source": [
    "<div class=\"alert alert-block alert-success\"><b>Practice Problem #4:</b>\n",
    "\n",
    "a. Use a for loop to add the first 7 perfect squares.<br>\n",
    "<p>&nbsp;</p>\n",
    "b. Use a while statement to add the first 7 perfect squares.\n",
    "</div>"
   ]
  },
  {
   "cell_type": "code",
   "execution_count": 25,
   "id": "6f824b10",
   "metadata": {
    "id": "6f824b10"
   },
   "outputs": [
    {
     "name": "stdout",
     "output_type": "stream",
     "text": [
      "140\n",
      "140\n"
     ]
    }
   ],
   "source": [
    "sum = 0\n",
    "for i in range(7):\n",
    "    sum += (i + 1)**2\n",
    "print(sum)\n",
    "\n",
    "sum = 0\n",
    "i = 1\n",
    "while (i <= 7):\n",
    "    sum += i**2\n",
    "    i += 1\n",
    "print(sum)"
   ]
  },
  {
   "cell_type": "markdown",
   "id": "f6b41d53",
   "metadata": {
    "id": "f6b41d53"
   },
   "source": [
    "<div class=\"alert alert-block alert-success\"><b>Practice Problem #5:</b>\n",
    "\n",
    "Use a for loop to iterate over each character in the string \"Matt Amodio just won 38 straight games of Jeopardy.\"\n",
    "\n",
    "</div>"
   ]
  },
  {
   "cell_type": "code",
   "execution_count": 28,
   "id": "e833daba",
   "metadata": {
    "id": "e833daba"
   },
   "outputs": [
    {
     "name": "stdout",
     "output_type": "stream",
     "text": [
      "Matt Amodio just won 38 straight games of Jeopardy."
     ]
    }
   ],
   "source": [
    "string = 'Matt Amodio just won 38 straight games of Jeopardy.'\n",
    "for i in range(len(string)):\n",
    "    print(string[i], end='')"
   ]
  },
  {
   "cell_type": "markdown",
   "id": "957b164d",
   "metadata": {
    "id": "957b164d"
   },
   "source": [
    "<div class=\"alert alert-block alert-success\"><b>Practice Problem #6:</b>\n",
    "\n",
    "a. Use the len of the given string as the range() function parameter value to iterate over each character in the string \"Halloween\".\n",
    "    <p>&nbsp;</p>\n",
    "b.  Use the len of the given string as part of a range() function parameter value to iterate in reverse over each character in the string \"Halloween\".\n",
    "</div>"
   ]
  },
  {
   "cell_type": "code",
   "execution_count": 31,
   "id": "72c57c9b",
   "metadata": {
    "id": "72c57c9b"
   },
   "outputs": [
    {
     "name": "stdout",
     "output_type": "stream",
     "text": [
      "Halloween\n",
      "\n",
      "neewollaH"
     ]
    }
   ],
   "source": [
    "string = 'Halloween'\n",
    "for i in range(len(string)):\n",
    "    print(string[i], end='')\n",
    "print('\\n')\n",
    "string = 'Halloween'\n",
    "for i in reversed(range(len(string))):\n",
    "    print(string[i], end='')"
   ]
  },
  {
   "cell_type": "markdown",
   "id": "b73ddbdb",
   "metadata": {
    "id": "b73ddbdb"
   },
   "source": [
    "<div class=\"alert alert-block alert-success\"><b>Practice Problem #7:</b>\n",
    "\n",
    "Use a while loop to generate index values to iterate over each character in the string \"Jack O'Lantern\".\n",
    "\n",
    "</div>"
   ]
  },
  {
   "cell_type": "code",
   "execution_count": 33,
   "id": "08be0198",
   "metadata": {
    "id": "08be0198"
   },
   "outputs": [
    {
     "name": "stdout",
     "output_type": "stream",
     "text": [
      "Jack O'Lantern."
     ]
    }
   ],
   "source": [
    "string = 'Jack O\\'Lantern.'\n",
    "i = 0\n",
    "while (i < len(string)):\n",
    "    print(string[i], end='')\n",
    "    i += 1"
   ]
  },
  {
   "cell_type": "markdown",
   "id": "36ecc8ad",
   "metadata": {
    "id": "36ecc8ad"
   },
   "source": [
    "<div class=\"alert alert-block alert-success\"><b>Practice Problem #8:</b>\n",
    "\n",
    "Use list traversal to print out the following list one item at a time.<br>\n",
    "<p>&nbsp;</p>\n",
    "candy_bars = [\"Milky Way\", \"Snickers\", \"3 Muskateers\"]\n",
    "\n",
    "</div>"
   ]
  },
  {
   "cell_type": "code",
   "execution_count": 34,
   "id": "9d8932d0",
   "metadata": {
    "id": "9d8932d0"
   },
   "outputs": [
    {
     "name": "stdout",
     "output_type": "stream",
     "text": [
      "Milky Way\n",
      "Snickers\n",
      "3 Muskateers\n"
     ]
    }
   ],
   "source": [
    "candy_bars = [\"Milky Way\", \"Snickers\", \"3 Muskateers\"]\n",
    "for i in candy_bars:\n",
    "    print(i)"
   ]
  },
  {
   "cell_type": "markdown",
   "id": "4cd99865",
   "metadata": {
    "id": "4cd99865"
   },
   "source": [
    "<div class=\"alert alert-block alert-success\"><b>Practice Problem #9:</b>\n",
    "\n",
    "Use list comprehension to print out the sequence 2, 9, 16, 23, 30, 37 as a list.<br>\n",
    "<p>&nbsp;</p>\n",
    "\n",
    "</div>"
   ]
  },
  {
   "cell_type": "code",
   "execution_count": 36,
   "id": "fe64145d",
   "metadata": {
    "id": "fe64145d"
   },
   "outputs": [
    {
     "name": "stdout",
     "output_type": "stream",
     "text": [
      "[2, 9, 16, 23, 30, 37]\n"
     ]
    }
   ],
   "source": [
    "orig_list = [1, 2, 3, 4, 5, 6]\n",
    "new_list = [i*7 - 5 for i in orig_list]\n",
    "print(new_list)"
   ]
  },
  {
   "cell_type": "code",
   "execution_count": null,
   "id": "48796f8d",
   "metadata": {},
   "outputs": [],
   "source": []
  }
 ],
 "metadata": {
  "colab": {
   "name": "14 Loops and List Comprehensions Asg 2 (JN).ipynb",
   "provenance": []
  },
  "kernelspec": {
   "display_name": "Python 3 (ipykernel)",
   "language": "python",
   "name": "python3"
  },
  "language_info": {
   "codemirror_mode": {
    "name": "ipython",
    "version": 3
   },
   "file_extension": ".py",
   "mimetype": "text/x-python",
   "name": "python",
   "nbconvert_exporter": "python",
   "pygments_lexer": "ipython3",
   "version": "3.11.5"
  },
  "varInspector": {
   "cols": {
    "lenName": 16,
    "lenType": 16,
    "lenVar": 40
   },
   "kernels_config": {
    "python": {
     "delete_cmd_postfix": "",
     "delete_cmd_prefix": "del ",
     "library": "var_list.py",
     "varRefreshCmd": "print(var_dic_list())"
    },
    "r": {
     "delete_cmd_postfix": ") ",
     "delete_cmd_prefix": "rm(",
     "library": "var_list.r",
     "varRefreshCmd": "cat(var_dic_list()) "
    }
   },
   "types_to_exclude": [
    "module",
    "function",
    "builtin_function_or_method",
    "instance",
    "_Feature"
   ],
   "window_display": false
  }
 },
 "nbformat": 4,
 "nbformat_minor": 5
}
