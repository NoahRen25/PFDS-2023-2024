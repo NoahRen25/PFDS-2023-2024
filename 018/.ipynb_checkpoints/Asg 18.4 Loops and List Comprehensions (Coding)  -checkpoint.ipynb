{
 "cells": [
  {
   "cell_type": "markdown",
   "id": "1bb718d5",
   "metadata": {
    "toc": true
   },
   "source": [
    "<h1>Table of Contents<span class=\"tocSkip\"></span></h1>\n",
    "<div class=\"toc\"><ul class=\"toc-item\"><li><span><a href=\"#PFDS\" data-toc-modified-id=\"PFDS-1\"><span class=\"toc-item-num\">1&nbsp;&nbsp;</span><center><b>PFDS</b></center></a></span></li><li><span><a href=\"#Asg-18.4\" data-toc-modified-id=\"Asg-18.4-2\"><span class=\"toc-item-num\">2&nbsp;&nbsp;</span><center><b>Asg 18.4</b></center></a></span></li><li><span><a href=\"#Loops-&amp;-List-Comprehensions-(Coding)\" data-toc-modified-id=\"Loops-&amp;-List-Comprehensions-(Coding)-3\"><span class=\"toc-item-num\">3&nbsp;&nbsp;</span><center><b>Loops &amp; List Comprehensions (Coding)</b></center></a></span></li></ul></div>"
   ]
  },
  {
   "cell_type": "markdown",
   "id": "8f5c3718",
   "metadata": {},
   "source": [
    "# <center><b>PFDS</b></center>\n",
    "# <center><b>Asg 18.4</b></center>\n",
    "# <center><b>Loops & List Comprehensions (Coding)</b></center>"
   ]
  },
  {
   "cell_type": "code",
   "execution_count": 1,
   "id": "28565f21",
   "metadata": {},
   "outputs": [
    {
     "name": "stdout",
     "output_type": "stream",
     "text": [
      "The notebook is set up to display multiple output in one cell.\n"
     ]
    }
   ],
   "source": [
    "# set up notebook to display multiple output in one cell\n",
    "\n",
    "from IPython.core.interactiveshell import InteractiveShell\n",
    "InteractiveShell.ast_node_interactivity = \"all\"\n",
    "\n",
    "print('The notebook is set up to display multiple output in one cell.')"
   ]
  },
  {
   "attachments": {
    "list%20comprehension.PNG": {
     "image/png": "[encoded data removed]"
    }
   },
   "cell_type": "markdown",
   "id": "77bf918c",
   "metadata": {},
   "source": [
    "<div class=\"alert alert-block alert-info\">\n",
    "<b><font size=\"4\">LIST COMPREHENSIONS</font></b>\n",
    "\n",
    "- In Python, an easy way to create a list from a sequence of values based on some selection criteriai is to use a <b>list comprehension</b>. \n",
    "- List comprehensions are concise ways to create lists. The general syntax is: \n",
    "\n",
    "![list%20comprehension.PNG](attachment:list%20comprehension.PNG)<br> \n",
    "    \n",
    "... where the if clause is optional.\n",
    "\n",
    "- The <b>expression</b> describes each element of the list that is being built. \n",
    "- The <b>for clause</b> iterates through each item in a sequence. \n",
    "- The items are filtered by the <b>if clause</b> if there is one. \n",
    "- In the example above, the for statement lets item take on all the values in the list startlist. Each item is then cubed before it is added to the list that is being built. The result is a list of cubes of the values in endlist.\n",
    "</div>"
   ]
  },
  {
   "attachments": {
    "list%20comp%201.PNG": {
     "image/png": "[encoded data removed]"
    }
   },
   "cell_type": "markdown",
   "id": "7c15e9ef",
   "metadata": {},
   "source": [
    "<div class=\"alert alert-block alert-success\"><b>Problem #1:</b>\n",
    "\n",
    "Write code that uses a <mark>list comprehension</mark> that takes the given list <font color=red>input_list</font> and creates a new list that consists of the cube values of only the odd numbers in <font color=red>input_list</font>.<br>\n",
    "<p>&nbsp;</p>     \n",
    "input_list = [5, 9, 12, 16, 19, 23, 26, 29]\n",
    "<p>&nbsp;</p>   \n",
    "<u>Desired Output</u><br>\n",
    "\n",
    "![list%20comp%201.PNG](attachment:list%20comp%201.PNG)\n",
    "</div>"
   ]
  },
  {
   "cell_type": "code",
   "execution_count": 5,
   "id": "7c1cdc72",
   "metadata": {},
   "outputs": [
    {
     "name": "stdout",
     "output_type": "stream",
     "text": [
      "[125, 729, 6859, 12167, 24389]\n"
     ]
    }
   ],
   "source": [
    "input_list = [5,9,12,16,19,23,26,29]\n",
    "new_list = [i**3 for i in input_list if i % 2 ==1]\n",
    "print(new_list)"
   ]
  },
  {
   "attachments": {
    "list%20comp%202.PNG": {
     "image/png": "[encoded data removed]"
    }
   },
   "cell_type": "markdown",
   "id": "f86b664e",
   "metadata": {},
   "source": [
    "<div class=\"alert alert-block alert-success\"><b>Problem #2:</b>\n",
    "\n",
    "Write code that uses a <mark>list comprehension</mark> to create a new list which consists of the square values of all numbers between 11 and 133 that are multiples of 7.</font>.<br>\n",
    "\n",
    "<p>&nbsp;</p>   \n",
    "<u>Desired Output</u><br>\n",
    "\n",
    "![list%20comp%202.PNG](attachment:list%20comp%202.PNG)\n",
    "\n",
    "</div>"
   ]
  },
  {
   "cell_type": "code",
   "execution_count": 7,
   "id": "ef4488b3",
   "metadata": {},
   "outputs": [
    {
     "name": "stdout",
     "output_type": "stream",
     "text": [
      "[196, 441, 784, 1225, 1764, 2401, 3136, 3969, 4900, 5929, 7056, 8281, 9604, 11025, 12544, 14161, 15876, 17689]\n"
     ]
    }
   ],
   "source": [
    "new_list = [i**2 for i in range(11, 137) if i % 7 ==0]\n",
    "print(new_list)"
   ]
  },
  {
   "attachments": {
    "lc%203.PNG": {
     "image/png": "[encoded data removed]"
    }
   },
   "cell_type": "markdown",
   "id": "6f24fc55",
   "metadata": {},
   "source": [
    "<div class=\"alert alert-block alert-success\"><b>Problem #3:</b>\n",
    "\n",
    "Write code that uses a <mark>list comprehension</mark> to iterate through the string <font color=red>'School District of Elmbrook'</font> and returns a new list that consists only of the vowels in the string <font color=red>'School District of Elmbrook'</font>.<br>\n",
    "    \n",
    "<p>&nbsp;</p>   \n",
    "<u>Desired Output</u><br>\n",
    "\n",
    "![lc%203.PNG](attachment:lc%203.PNG)\n",
    "\n",
    "</div>"
   ]
  },
  {
   "cell_type": "code",
   "execution_count": 9,
   "id": "aeb921dc",
   "metadata": {},
   "outputs": [
    {
     "name": "stdout",
     "output_type": "stream",
     "text": [
      "['o', 'o', 'i', 'i', 'o', 'E', 'o', 'o']\n"
     ]
    }
   ],
   "source": [
    "string = 'School District of Elmbrook'\n",
    "vowels = ['a', 'e', 'i', 'o', 'u', 'A', 'E', 'I', 'O', 'U']\n",
    "new_string = [vowel for vowel in string if vowel in vowels]\n",
    "print(new_string)"
   ]
  },
  {
   "attachments": {
    "lc%204.PNG": {
     "image/png": "[encoded data removed]"
    }
   },
   "cell_type": "markdown",
   "id": "eab0656b",
   "metadata": {},
   "source": [
    "<div class=\"alert alert-block alert-success\"><b>Problem #4:</b><br>\n",
    "\n",
    "Write code that uses a <mark>list comprehension</mark> to create a new list that cosists of all positive integers less than 310 that have 3 and 7 as factors\n",
    "    \n",
    "<p>&nbsp;</p>   \n",
    "<u>Desired Outsput</u><br>    \n",
    "    \n",
    "![lc%204.PNG](attachment:lc%204.PNG)\n",
    "</div>"
   ]
  },
  {
   "cell_type": "code",
   "execution_count": 10,
   "id": "040bdba9",
   "metadata": {},
   "outputs": [
    {
     "name": "stdout",
     "output_type": "stream",
     "text": [
      "[0, 21, 42, 63, 84, 105, 126, 147, 168, 189, 210, 231, 252, 273, 294]\n"
     ]
    }
   ],
   "source": [
    "new_list = [i for i in range (0, 311) if i%3 ==0 and i % 7 ==0]\n",
    "print(new_list)"
   ]
  },
  {
   "cell_type": "markdown",
   "id": "90ce4b91",
   "metadata": {},
   "source": [
    "<div class=\"alert alert-block alert-info\">\n",
    "<b><font size=\"4\">DICTIONARY COMPREHENSIONS</font></b>\n",
    "\n",
    "Read the article found below:<br>\n",
    "    <p>&nbsp;</p>\n",
    "    \n",
    "[10 Examples to Master Python Dictionary Comprehensions](https://towardsdatascience.com/10-examples-to-master-python-dictionary-comprehensions-7aaa536f5960)\n",
    "</div>"
   ]
  }
 ],
 "metadata": {
  "hide_input": false,
  "kernelspec": {
   "display_name": "Python 3 (ipykernel)",
   "language": "python",
   "name": "python3"
  },
  "language_info": {
   "codemirror_mode": {
    "name": "ipython",
    "version": 3
   },
   "file_extension": ".py",
   "mimetype": "text/x-python",
   "name": "python",
   "nbconvert_exporter": "python",
   "pygments_lexer": "ipython3",
   "version": "3.11.5"
  },
  "toc": {
   "base_numbering": 1,
   "nav_menu": {},
   "number_sections": true,
   "sideBar": true,
   "skip_h1_title": false,
   "title_cell": "Table of Contents",
   "title_sidebar": "Contents",
   "toc_cell": true,
   "toc_position": {},
   "toc_section_display": true,
   "toc_window_display": false
  },
  "varInspector": {
   "cols": {
    "lenName": 16,
    "lenType": 16,
    "lenVar": 40
   },
   "kernels_config": {
    "python": {
     "delete_cmd_postfix": "",
     "delete_cmd_prefix": "del ",
     "library": "var_list.py",
     "varRefreshCmd": "print(var_dic_list())"
    },
    "r": {
     "delete_cmd_postfix": ") ",
     "delete_cmd_prefix": "rm(",
     "library": "var_list.r",
     "varRefreshCmd": "cat(var_dic_list()) "
    }
   },
   "types_to_exclude": [
    "module",
    "function",
    "builtin_function_or_method",
    "instance",
    "_Feature"
   ],
   "window_display": false
  }
 },
 "nbformat": 4,
 "nbformat_minor": 5
}
