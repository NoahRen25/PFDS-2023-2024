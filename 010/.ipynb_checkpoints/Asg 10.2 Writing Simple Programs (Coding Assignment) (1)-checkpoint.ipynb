{
 "cells": [
  {
   "cell_type": "markdown",
   "id": "065d5844",
   "metadata": {},
   "source": [
    "# <center><b>PFDS</b></center> \n",
    "# <center><b>Asg 10.2</b></center> \n",
    "# <center><b>Writing Simple Programs (Coding Assignment)</b></center>"
   ]
  },
  {
   "cell_type": "code",
   "execution_count": null,
   "id": "76c94bdd",
   "metadata": {},
   "outputs": [],
   "source": [
    "# set up notebook to display multiple output in one cell\n",
    "from IPython.core.interactiveshell import InteractiveShell\n",
    "InteractiveShell.ast_node_interactivity = \"all\"\n",
    "\n",
    "print(\"\\n\", \"This notebook is set up to display multiple output in one cell.\")"
   ]
  },
  {
   "cell_type": "markdown",
   "id": "52b8b3fb",
   "metadata": {},
   "source": [
    "<div class=\"alert alert-block alert-success\"><b>Question #1:</b>\n",
    " \n",
    "<b>Given:</b> In the code cell below you have been given a program that converts temperature from Celsius to Fahrenheit.\n",
    "<p>&nbsp;</p>    \n",
    "<b>Task #1:</b> Write a similar program that converts temperature from Fahrenheit to Celsius.\n",
    "<p>&nbsp;</p>     \n",
    "<b>Task #2:</b> Modify the original temperature conversion program by using a loop so that it executes 5 times before quitting. Each time through the loop, the program should get another temperature from the user and print the converted value. \n",
    "<p>&nbsp;</p>     \n",
    "<b>Task #3:</b> Modify the original temperature conversion program so that it computes and prints a table of Celsius temperatures and the Fahrenheit equivalents every 10 degrees from 0°C to 100°C. \n",
    "</div>"
   ]
  },
  {
   "cell_type": "code",
   "execution_count": null,
   "id": "6139c6c7",
   "metadata": {},
   "outputs": [],
   "source": [
    "# Temperature conversion ... Celsius to Fahrenheit\n",
    "\n",
    "celsius = eval(input(\"What is the Celsius temperature? \"))\n",
    "fahrenheit = 9 / 5 * celsius + 32\n",
    "print(\"The temperature is\", fahrenheit, \"degrees Fahrenheit.\")"
   ]
  },
  {
   "cell_type": "code",
   "execution_count": null,
   "id": "1c3ea9dd",
   "metadata": {},
   "outputs": [],
   "source": [
    "fahrenheit = float(input(\"What is the Farenheit temperature? \"))\n",
    "celsius = 5/9 * (fahrenheit - 32)\n",
    "print(\"The temperature is\", celsius, \"degrees Celsius.\")"
   ]
  },
  {
   "cell_type": "code",
   "execution_count": 2,
   "id": "8078708f",
   "metadata": {},
   "outputs": [
    {
     "ename": "KeyboardInterrupt",
     "evalue": "Interrupted by user",
     "output_type": "error",
     "traceback": [
      "\u001b[1;31m---------------------------------------------------------------------------\u001b[0m",
      "\u001b[1;31mKeyboardInterrupt\u001b[0m                         Traceback (most recent call last)",
      "Cell \u001b[1;32mIn[2], line 2\u001b[0m\n\u001b[0;32m      1\u001b[0m \u001b[38;5;28;01mfor\u001b[39;00m i \u001b[38;5;129;01min\u001b[39;00m \u001b[38;5;28mrange\u001b[39m(\u001b[38;5;241m5\u001b[39m):\n\u001b[1;32m----> 2\u001b[0m     fahrenheit \u001b[38;5;241m=\u001b[39m \u001b[38;5;28mfloat\u001b[39m(\u001b[38;5;28minput\u001b[39m(\u001b[38;5;124m\"\u001b[39m\u001b[38;5;124mWhat is the Farenheit temperature? \u001b[39m\u001b[38;5;124m\"\u001b[39m))\n\u001b[0;32m      3\u001b[0m     celsius \u001b[38;5;241m=\u001b[39m \u001b[38;5;241m5\u001b[39m\u001b[38;5;241m/\u001b[39m\u001b[38;5;241m9\u001b[39m \u001b[38;5;241m*\u001b[39m (fahrenheit \u001b[38;5;241m-\u001b[39m \u001b[38;5;241m32\u001b[39m)\n\u001b[0;32m      4\u001b[0m     \u001b[38;5;28mprint\u001b[39m(\u001b[38;5;124m\"\u001b[39m\u001b[38;5;124mThe temperature is\u001b[39m\u001b[38;5;124m\"\u001b[39m, celsius, \u001b[38;5;124m\"\u001b[39m\u001b[38;5;124mdegrees Celsius.\u001b[39m\u001b[38;5;124m\"\u001b[39m)\n",
      "File \u001b[1;32m~\\anaconda3\\Lib\\site-packages\\ipykernel\\kernelbase.py:1202\u001b[0m, in \u001b[0;36mKernel.raw_input\u001b[1;34m(self, prompt)\u001b[0m\n\u001b[0;32m   1200\u001b[0m     msg \u001b[38;5;241m=\u001b[39m \u001b[38;5;124m\"\u001b[39m\u001b[38;5;124mraw_input was called, but this frontend does not support input requests.\u001b[39m\u001b[38;5;124m\"\u001b[39m\n\u001b[0;32m   1201\u001b[0m     \u001b[38;5;28;01mraise\u001b[39;00m StdinNotImplementedError(msg)\n\u001b[1;32m-> 1202\u001b[0m \u001b[38;5;28;01mreturn\u001b[39;00m \u001b[38;5;28mself\u001b[39m\u001b[38;5;241m.\u001b[39m_input_request(\n\u001b[0;32m   1203\u001b[0m     \u001b[38;5;28mstr\u001b[39m(prompt),\n\u001b[0;32m   1204\u001b[0m     \u001b[38;5;28mself\u001b[39m\u001b[38;5;241m.\u001b[39m_parent_ident[\u001b[38;5;124m\"\u001b[39m\u001b[38;5;124mshell\u001b[39m\u001b[38;5;124m\"\u001b[39m],\n\u001b[0;32m   1205\u001b[0m     \u001b[38;5;28mself\u001b[39m\u001b[38;5;241m.\u001b[39mget_parent(\u001b[38;5;124m\"\u001b[39m\u001b[38;5;124mshell\u001b[39m\u001b[38;5;124m\"\u001b[39m),\n\u001b[0;32m   1206\u001b[0m     password\u001b[38;5;241m=\u001b[39m\u001b[38;5;28;01mFalse\u001b[39;00m,\n\u001b[0;32m   1207\u001b[0m )\n",
      "File \u001b[1;32m~\\anaconda3\\Lib\\site-packages\\ipykernel\\kernelbase.py:1245\u001b[0m, in \u001b[0;36mKernel._input_request\u001b[1;34m(self, prompt, ident, parent, password)\u001b[0m\n\u001b[0;32m   1242\u001b[0m \u001b[38;5;28;01mexcept\u001b[39;00m \u001b[38;5;167;01mKeyboardInterrupt\u001b[39;00m:\n\u001b[0;32m   1243\u001b[0m     \u001b[38;5;66;03m# re-raise KeyboardInterrupt, to truncate traceback\u001b[39;00m\n\u001b[0;32m   1244\u001b[0m     msg \u001b[38;5;241m=\u001b[39m \u001b[38;5;124m\"\u001b[39m\u001b[38;5;124mInterrupted by user\u001b[39m\u001b[38;5;124m\"\u001b[39m\n\u001b[1;32m-> 1245\u001b[0m     \u001b[38;5;28;01mraise\u001b[39;00m \u001b[38;5;167;01mKeyboardInterrupt\u001b[39;00m(msg) \u001b[38;5;28;01mfrom\u001b[39;00m \u001b[38;5;28;01mNone\u001b[39;00m\n\u001b[0;32m   1246\u001b[0m \u001b[38;5;28;01mexcept\u001b[39;00m \u001b[38;5;167;01mException\u001b[39;00m:\n\u001b[0;32m   1247\u001b[0m     \u001b[38;5;28mself\u001b[39m\u001b[38;5;241m.\u001b[39mlog\u001b[38;5;241m.\u001b[39mwarning(\u001b[38;5;124m\"\u001b[39m\u001b[38;5;124mInvalid Message:\u001b[39m\u001b[38;5;124m\"\u001b[39m, exc_info\u001b[38;5;241m=\u001b[39m\u001b[38;5;28;01mTrue\u001b[39;00m)\n",
      "\u001b[1;31mKeyboardInterrupt\u001b[0m: Interrupted by user"
     ]
    }
   ],
   "source": [
    "for i in range(5):\n",
    "    fahrenheit = float(input(\"What is the Farenheit temperature? \"))\n",
    "    celsius = 5/9 * (fahrenheit - 32)\n",
    "    print(\"The temperature is\", celsius, \"degrees Celsius.\")"
   ]
  },
  {
   "cell_type": "code",
   "execution_count": 12,
   "id": "2506a66c",
   "metadata": {},
   "outputs": [
    {
     "name": "stdout",
     "output_type": "stream",
     "text": [
      "Celsius\tFahrenheit\n",
      "0 \t 32.0\n",
      "10 \t 50.0\n",
      "20 \t 68.0\n",
      "30 \t 86.0\n",
      "40 \t 104.0\n",
      "50 \t 122.0\n",
      "60 \t 140.0\n",
      "70 \t 158.0\n",
      "80 \t 176.0\n",
      "90 \t 194.0\n",
      "100 \t 212.0\n"
     ]
    }
   ],
   "source": [
    "print(\"Celsius\\tFahrenheit\")\n",
    "for i in range(0, 101, 10):\n",
    "    celsius = i\n",
    "    fahrenheit = 9 / 5 * celsius + 32\n",
    "    print(celsius, '\\t', fahrenheit)"
   ]
  },
  {
   "cell_type": "markdown",
   "id": "a4603106",
   "metadata": {},
   "source": [
    "<div class=\"alert alert-block alert-success\"><b>Question #2:</b>\n",
    " \n",
    "<b>Given:</b> In the code cell below you have been given a program that computes the average of two exam scores.\n",
    "<p>&nbsp;</p>    \n",
    "<b>Task:</b> Modify the average program to find the average of four exam scores.\n",
    "</div>"
   ]
  },
  {
   "cell_type": "code",
   "execution_count": null,
   "id": "44a5e465",
   "metadata": {},
   "outputs": [],
   "source": [
    "# Calculating the average of two exam scores\n",
    "\n",
    "print (\"This program computes the average of two exam scores. \")\n",
    "score1, score2 = eval (input (\"Enter two scores separated by a comma: \") )\n",
    "average = (score1 + score2) / 2\n",
    "print (\"The average of the scores is: \", average) "
   ]
  },
  {
   "cell_type": "code",
   "execution_count": null,
   "id": "b8faf4a3",
   "metadata": {},
   "outputs": [],
   "source": [
    "# Calculating the average of four exam scores\n",
    "\n",
    "print (\"This program computes the average of four exam scores. \")\n",
    "score1, score2, score3, score4 = float (input (\"Enter four scores separated by a comma: \") )\n",
    "average = (score1 + score2 + score3 + score4) / 4\n",
    "print (\"The average of the scores is: \", average) "
   ]
  },
  {
   "cell_type": "markdown",
   "id": "7837d95a",
   "metadata": {},
   "source": [
    "<div class=\"alert alert-block alert-success\"><b>Question #2:</b>\n",
    " \n",
    "<b>Given:</b> In the code cell below you have been given a program that calculates the future value of a 10-year investment..\n",
    "<p>&nbsp;</p>    \n",
    "<b>Task #1:</b> Modify the original future value program so that the number of years for the investment is also a user input. Make sure to change the final message to reflect the correct number of years.\n",
    "<p>&nbsp;</p>    \n",
    "<b>Task #2:</b> Suppose you have an investment plan where you invest a certain fixed amount every year. Modify the original future value program to compute the total accumulation of your investment. The inputs to the program will be the amount to invest each year, the interest rate, and the number of years for the investment. \n",
    "</div>"
   ]
  },
  {
   "cell_type": "code",
   "execution_count": null,
   "id": "6fc5340b",
   "metadata": {},
   "outputs": [],
   "source": [
    "print (\"This program calculates the future value\")\n",
    "print (\"of a 10-year investment.\")\n",
    "\n",
    "# Input the amount of the principal \n",
    "principal = eval (input (\"Enter the initial principal: \"))\n",
    "\n",
    "# Input the annual percentage rate \n",
    "apr = eval (input (\"Enter the annual interest rate: \")) \n",
    "\n",
    "# Repeat 10 times: \n",
    "for i in range(10):\n",
    "    principal = principal * (1 + apr)\n",
    "\n",
    "# Output the value of the principal \n",
    "print (\"The value in 10 years is: \", round(principal, 2))"
   ]
  },
  {
   "cell_type": "code",
   "execution_count": 14,
   "id": "3c30f64c",
   "metadata": {},
   "outputs": [
    {
     "name": "stdout",
     "output_type": "stream",
     "text": [
      "This program calculates the future value\n",
      "of a x-year investment.\n",
      "Enter the initial principal: 100\n",
      "Enter the annual interest rate: 0.1\n",
      "Enter the amount of years you're investing your money for: 2\n",
      "The value in 2 years is:  121.0\n"
     ]
    }
   ],
   "source": [
    "print (\"This program calculates the future value\")\n",
    "print (\"of a x-year investment.\")\n",
    "\n",
    "# Input the amount of the principal \n",
    "principal = eval (input (\"Enter the initial principal: \"))\n",
    "\n",
    "# Input the annual percentage rate \n",
    "apr = eval (input (\"Enter the annual interest rate: \")) \n",
    "\n",
    "#Input the years of investment\n",
    "years = eval(input(\"Enter the amount of years you're investing your money for: \"))\n",
    "\n",
    "# Repeat x times: \n",
    "for i in range(years):\n",
    "    principal = principal * (1 + apr)\n",
    "\n",
    "# Output the value of the principal \n",
    "print (f\"The value in {years} years is: \", round(principal, 2))"
   ]
  },
  {
   "cell_type": "code",
   "execution_count": 19,
   "id": "a25938e8",
   "metadata": {},
   "outputs": [
    {
     "name": "stdout",
     "output_type": "stream",
     "text": [
      "This program calculates the future value\n",
      "of a x-year investment, where you invest more each year.\n",
      "Enter the yearly amount you will invest: 200\n",
      "Enter the annual interest rate: 0.01\n",
      "Enter the amount of years you're investing your money for: 3\n",
      "The value in 3 years is:  606.02\n"
     ]
    }
   ],
   "source": [
    "print (\"This program calculates the future value\")\n",
    "print (\"of a x-year investment, where you invest more each year.\")\n",
    "\n",
    "# Input the amount invest each year\n",
    "amt = eval (input (\"Enter the yearly amount you will invest: \"))\n",
    "\n",
    "# Input the annual percentage rate \n",
    "apr = eval (input (\"Enter the annual interest rate: \")) \n",
    "\n",
    "#Input the years of investment\n",
    "years = eval(input(\"Enter the amount of years you're investing your money for: \"))\n",
    "amt_total = 0\n",
    "# Repeat x times: \n",
    "for i in range(years):\n",
    "    amt_total *= (1 + apr)\n",
    "    amt_total += amt\n",
    "\n",
    "# Output the value of the principal \n",
    "print (f\"The value in {years} years is: \", round(amt_total, 2))"
   ]
  },
  {
   "cell_type": "code",
   "execution_count": null,
   "id": "9a650739",
   "metadata": {},
   "outputs": [],
   "source": []
  },
  {
   "cell_type": "code",
   "execution_count": null,
   "id": "d576ae99",
   "metadata": {},
   "outputs": [],
   "source": []
  }
 ],
 "metadata": {
  "kernelspec": {
   "display_name": "Python 3 (ipykernel)",
   "language": "python",
   "name": "python3"
  },
  "language_info": {
   "codemirror_mode": {
    "name": "ipython",
    "version": 3
   },
   "file_extension": ".py",
   "mimetype": "text/x-python",
   "name": "python",
   "nbconvert_exporter": "python",
   "pygments_lexer": "ipython3",
   "version": "3.11.4"
  }
 },
 "nbformat": 4,
 "nbformat_minor": 5
}
