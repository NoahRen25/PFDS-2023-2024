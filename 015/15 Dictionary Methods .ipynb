{
 "cells": [
  {
   "cell_type": "markdown",
   "id": "cfddc5c9",
   "metadata": {},
   "source": [
    "# <center><b>Python for Data Science</b></center>\n",
    "# <center><b>Lesson 15</b></center>\n",
    "# <center><b>Dictionary Methods</b></center>"
   ]
  },
  {
   "cell_type": "markdown",
   "id": "7867de6b",
   "metadata": {},
   "source": [
    "<center><i>Adapted from:</i></center>\n",
    "<center>*****************</center>\n",
    "<center>Python Set Methods (w3schools)</center>"
   ]
  },
  {
   "cell_type": "markdown",
   "id": "abbd56b9",
   "metadata": {},
   "source": [
    "[Python Dictionary Methods (w3schools)](https://www.w3schools.com/python/python_ref_dictionary.asp)"
   ]
  },
  {
   "cell_type": "markdown",
   "id": "33d83c42",
   "metadata": {},
   "source": [
    "##  <span style=\"color:green\">TABLE OF CONTENTS</span>\n",
    "\n",
    "1. [clear()](#1)<br>\n",
    "2. [copy()](#2)<br>\n",
    "3. [fromkeys()](#3)<br>\n",
    "4. [get()](#4)<br>\n",
    "5. [items()](#5)<br>\n",
    "6. [keys()](#6)<br>\n",
    "7. [pop()](#7)<br>\n",
    "8. [popitem()](#8)<br>\n",
    "9. [setdefault()](#9)<br>\n",
    "10. [update()](#10)<br>\n",
    "11. [values()](#11)"
   ]
  },
  {
   "cell_type": "code",
   "execution_count": 14,
   "id": "35b5e03c",
   "metadata": {},
   "outputs": [
    {
     "name": "stdout",
     "output_type": "stream",
     "text": [
      "This notebook is now set up to display multiple output in one cell.\n"
     ]
    }
   ],
   "source": [
    "# set up notebook to display multiple output in one cell\n",
    "from IPython.core.interactiveshell import InteractiveShell\n",
    "InteractiveShell.ast_node_interactivity = \"all\"\n",
    "\n",
    "print(\"This notebook is now set up to display multiple output in one cell.\")"
   ]
  },
  {
   "cell_type": "markdown",
   "id": "e4df3422",
   "metadata": {},
   "source": [
    "<a class=\"anchor\" id=\"1\"></a>\n",
    "<div class=\"alert alert-block alert-info\">\n",
    "<b><font size=\"4\">1. clear()</font></b></div>"
   ]
  },
  {
   "cell_type": "markdown",
   "id": "ee667411",
   "metadata": {},
   "source": [
    "- Removes all the elements from the dictionary"
   ]
  },
  {
   "cell_type": "code",
   "execution_count": 2,
   "id": "0bfd97fa",
   "metadata": {},
   "outputs": [
    {
     "name": "stdout",
     "output_type": "stream",
     "text": [
      "{'Wisconsin': 'Madison', 'Illinois': 'Springfield', 'Texas': 'Austin', 'Ohio': 'Columbus'} \n",
      "\n",
      "{}\n"
     ]
    }
   ],
   "source": [
    "capitals = {\"Wisconsin\": \"Madison\", \"Illinois\":\"Springfield\", \"Texas\":\"Austin\", \"Ohio\": \"Columbus\"}\n",
    "print(capitals, \"\\n\")\n",
    "\n",
    "capitals.clear()\n",
    "print(capitals)"
   ]
  },
  {
   "cell_type": "markdown",
   "id": "7cbd4fa9",
   "metadata": {},
   "source": [
    "<a class=\"anchor\" id=\"2\"></a>\n",
    "<div class=\"alert alert-block alert-info\">\n",
    "<b><font size=\"4\">2. copy()</font></b></div>"
   ]
  },
  {
   "cell_type": "markdown",
   "id": "961e7603",
   "metadata": {},
   "source": [
    "- Returns a copy of the dictionary"
   ]
  },
  {
   "cell_type": "code",
   "execution_count": 6,
   "id": "5f6d4f4a",
   "metadata": {},
   "outputs": [
    {
     "name": "stdout",
     "output_type": "stream",
     "text": [
      "capitals dictionary is {'Wisconsin': 'Madison', 'Illinois': 'Springfield', 'Texas': 'Austin', 'Ohio': 'Columbus'} \n",
      "\n",
      "x dictionary is {'Wisconsin': 'Madison', 'Illinois': 'Springfield', 'Texas': 'Austin', 'Ohio': 'Columbus'}\n"
     ]
    }
   ],
   "source": [
    "capitals = {\"Wisconsin\": \"Madison\", \"Illinois\":\"Springfield\", \"Texas\":\"Austin\", \"Ohio\": \"Columbus\"}\n",
    "print(\"capitals dictionary is\", capitals, \"\\n\")\n",
    "\n",
    "x = capitals.copy()\n",
    "print(\"x dictionary is\", x)"
   ]
  },
  {
   "cell_type": "markdown",
   "id": "4bf46d4b",
   "metadata": {},
   "source": [
    "<a class=\"anchor\" id=\"3\"></a>\n",
    "<div class=\"alert alert-block alert-info\">\n",
    "<b><font size=\"4\">3. fromkeys()</font></b></div>"
   ]
  },
  {
   "cell_type": "markdown",
   "id": "790f24e0",
   "metadata": {},
   "source": [
    "- Returns a dictionary with the specified keys and value"
   ]
  },
  {
   "cell_type": "code",
   "execution_count": 10,
   "id": "ae3532cd",
   "metadata": {},
   "outputs": [
    {
     "name": "stdout",
     "output_type": "stream",
     "text": [
      "{'First_Key': 100, 'Second_Key': 100, 'Third_Key': 100, 'Fourth_Key': 100}\n"
     ]
    }
   ],
   "source": [
    "a = ('First_Key', \"Second_Key\", \"Third_Key\", \"Fourth_Key\")\n",
    "b = (100)\n",
    "\n",
    "new_dict = dict.fromkeys(a, b)\n",
    "\n",
    "print(new_dict)"
   ]
  },
  {
   "cell_type": "markdown",
   "id": "827707e5",
   "metadata": {},
   "source": [
    "<a class=\"anchor\" id=\"4\"></a>\n",
    "<div class=\"alert alert-block alert-info\">\n",
    "<b><font size=\"4\">4. get()</font></b></div>"
   ]
  },
  {
   "cell_type": "markdown",
   "id": "003200d6",
   "metadata": {},
   "source": [
    "- Returns the value of the specified key"
   ]
  },
  {
   "cell_type": "code",
   "execution_count": 25,
   "id": "6584b0e7",
   "metadata": {},
   "outputs": [
    {
     "name": "stdout",
     "output_type": "stream",
     "text": [
      "{'Wisconsin': 'Madison', 'Illinois': 'Springfield', 'Texas': 'Austin', 'Ohio': 'Columbus'} \n",
      "\n",
      "Austin\n"
     ]
    }
   ],
   "source": [
    "capitals = {\"Wisconsin\": \"Madison\", \"Illinois\":\"Springfield\", \"Texas\":\"Austin\", \"Ohio\": \"Columbus\"}\n",
    "print(capitals, \"\\n\")\n",
    "\n",
    "x = capitals.get('Texas')\n",
    "print(x)"
   ]
  },
  {
   "cell_type": "markdown",
   "id": "aff2a927",
   "metadata": {},
   "source": [
    "<a class=\"anchor\" id=\"5\"></a>\n",
    "<div class=\"alert alert-block alert-info\">\n",
    "<b><font size=\"4\">5. items()</font></b></div>"
   ]
  },
  {
   "cell_type": "markdown",
   "id": "f726874b",
   "metadata": {},
   "source": [
    "- Returns a list containing a tuple for each key value pair"
   ]
  },
  {
   "cell_type": "code",
   "execution_count": 24,
   "id": "0f0716d4",
   "metadata": {},
   "outputs": [
    {
     "name": "stdout",
     "output_type": "stream",
     "text": [
      "{'Wisconsin': 'Madison', 'Illinois': 'Springfield', 'Texas': 'Austin', 'Ohio': 'Columbus'} \n",
      "\n",
      "dict_items([('Wisconsin', 'Madison'), ('Illinois', 'Springfield'), ('Texas', 'Austin'), ('Ohio', 'Columbus')])\n"
     ]
    }
   ],
   "source": [
    "capitals = {\"Wisconsin\": \"Madison\", \"Illinois\":\"Springfield\", \"Texas\":\"Austin\", \"Ohio\": \"Columbus\"}\n",
    "print(capitals, \"\\n\")\n",
    "\n",
    "x = capitals.items()\n",
    "print(x)"
   ]
  },
  {
   "cell_type": "markdown",
   "id": "6b8a4ca2",
   "metadata": {},
   "source": [
    "<a class=\"anchor\" id=\"6\"></a>\n",
    "<div class=\"alert alert-block alert-info\">\n",
    "<b><font size=\"4\">6. keys()</font></b></div>"
   ]
  },
  {
   "cell_type": "markdown",
   "id": "41ad92ee",
   "metadata": {},
   "source": [
    "- Returns a list containing the dictionary's keys"
   ]
  },
  {
   "cell_type": "code",
   "execution_count": null,
   "id": "75b4614b",
   "metadata": {},
   "outputs": [],
   "source": [
    "car = {\n",
    "  \"brand\": \"Ford\",\n",
    "  \"model\": \"Mustang\",\n",
    "  \"year\": 1964\n",
    "}\n",
    "\n",
    "x = car.keys()\n",
    "\n",
    "print(x)"
   ]
  },
  {
   "cell_type": "code",
   "execution_count": 23,
   "id": "d5bea57d",
   "metadata": {},
   "outputs": [
    {
     "name": "stdout",
     "output_type": "stream",
     "text": [
      "{'Wisconsin': 'Madison', 'Illinois': 'Springfield', 'Texas': 'Austin', 'Ohio': 'Columbus'} \n",
      "\n",
      "dict_keys(['Wisconsin', 'Illinois', 'Texas', 'Ohio'])\n"
     ]
    }
   ],
   "source": [
    "capitals = {\"Wisconsin\": \"Madison\", \"Illinois\":\"Springfield\", \"Texas\":\"Austin\", \"Ohio\": \"Columbus\"}\n",
    "print(capitals, \"\\n\")\n",
    "\n",
    "x = capitals.keys()\n",
    "print(x)"
   ]
  },
  {
   "cell_type": "markdown",
   "id": "3b6aed61",
   "metadata": {},
   "source": [
    "<a class=\"anchor\" id=\"7\"></a>\n",
    "<div class=\"alert alert-block alert-info\">\n",
    "<b><font size=\"4\">7. pop()</font></b></div>"
   ]
  },
  {
   "cell_type": "markdown",
   "id": "c0f0e884",
   "metadata": {},
   "source": [
    "- Removes the element with the specified key"
   ]
  },
  {
   "cell_type": "code",
   "execution_count": 22,
   "id": "f9aa5f0f",
   "metadata": {},
   "outputs": [
    {
     "name": "stdout",
     "output_type": "stream",
     "text": [
      "{'Wisconsin': 'Madison', 'Illinois': 'Springfield', 'Texas': 'Austin', 'Ohio': 'Columbus'} \n",
      "\n",
      "{'Wisconsin': 'Madison', 'Texas': 'Austin', 'Ohio': 'Columbus'}\n"
     ]
    }
   ],
   "source": [
    "capitals = {\"Wisconsin\": \"Madison\", \"Illinois\":\"Springfield\", \"Texas\":\"Austin\", \"Ohio\": \"Columbus\"}\n",
    "print(capitals, \"\\n\")\n",
    "\n",
    "capitals.pop(\"Illinois\")\n",
    "print(capitals)"
   ]
  },
  {
   "cell_type": "markdown",
   "id": "8115c97a",
   "metadata": {},
   "source": [
    "<a class=\"anchor\" id=\"8\"></a>\n",
    "<div class=\"alert alert-block alert-info\">\n",
    "<b><font size=\"4\">8. popitem()</font></b></div>"
   ]
  },
  {
   "cell_type": "markdown",
   "id": "2d3cc177",
   "metadata": {},
   "source": [
    "- Removes the last inserted key-value pair"
   ]
  },
  {
   "cell_type": "code",
   "execution_count": 21,
   "id": "b7a253eb",
   "metadata": {},
   "outputs": [
    {
     "name": "stdout",
     "output_type": "stream",
     "text": [
      "{'Wisconsin': 'Madison', 'Illinois': 'Springfield', 'Texas': 'Austin', 'Ohio': 'Columbus'} \n",
      "\n",
      "{'Wisconsin': 'Madison', 'Illinois': 'Springfield', 'Texas': 'Austin'}\n"
     ]
    }
   ],
   "source": [
    "capitals = {\"Wisconsin\": \"Madison\", \"Illinois\":\"Springfield\", \"Texas\":\"Austin\", \"Ohio\": \"Columbus\"}\n",
    "print(capitals, \"\\n\")\n",
    "\n",
    "capitals.popitem()\n",
    "print(capitals)"
   ]
  },
  {
   "cell_type": "markdown",
   "id": "0b6d689e",
   "metadata": {},
   "source": [
    "<a class=\"anchor\" id=\"9\"></a>\n",
    "<div class=\"alert alert-block alert-info\">\n",
    "<b><font size=\"4\">9. setdefault()</font></b></div>"
   ]
  },
  {
   "cell_type": "markdown",
   "id": "9ebfeac0",
   "metadata": {},
   "source": [
    "- Returns the value of the specified key. If the key does not exist: insert the key, with the specified value"
   ]
  },
  {
   "cell_type": "code",
   "execution_count": 29,
   "id": "f86e43fa",
   "metadata": {},
   "outputs": [
    {
     "name": "stdout",
     "output_type": "stream",
     "text": [
      "{'Wisconsin': 'Madison', 'Illinois': 'Springfield', 'Texas': 'Austin', 'Ohio': 'Columbus'} \n",
      "\n",
      "Columbus \n",
      "\n",
      "Lansing \n",
      "\n",
      "{'Wisconsin': 'Madison', 'Illinois': 'Springfield', 'Texas': 'Austin', 'Ohio': 'Columbus', 'Michigan': 'Lansing'}\n"
     ]
    }
   ],
   "source": [
    "capitals = {\"Wisconsin\": \"Madison\", \"Illinois\":\"Springfield\", \"Texas\":\"Austin\", \"Ohio\": \"Columbus\"}\n",
    "print(capitals, \"\\n\")\n",
    "\n",
    "x = capitals.setdefault(\"Ohio\", \"Lansing\")\n",
    "print(x, \"\\n\")\n",
    "\n",
    "y = capitals.setdefault(\"Michigan\", \"Lansing\")\n",
    "print(y, \"\\n\")\n",
    "\n",
    "print(capitals)"
   ]
  },
  {
   "cell_type": "markdown",
   "id": "4c609dc8",
   "metadata": {},
   "source": [
    "<a class=\"anchor\" id=\"10\"></a>\n",
    "<div class=\"alert alert-block alert-info\">\n",
    "<b><font size=\"4\">10. update()</font></b></div>"
   ]
  },
  {
   "cell_type": "markdown",
   "id": "58feead4",
   "metadata": {},
   "source": [
    "- Updates the dictionary with the specified key-value pairs"
   ]
  },
  {
   "cell_type": "code",
   "execution_count": 31,
   "id": "6b01eafe",
   "metadata": {},
   "outputs": [
    {
     "name": "stdout",
     "output_type": "stream",
     "text": [
      "{'Wisconsin': 'Madison', 'Illinois': 'Springfield', 'Texas': 'Austin', 'Ohio': 'Columbus'} \n",
      "\n",
      "{'Wisconsin': 'Madison', 'Illinois': 'Springfield', 'Texas': 'Austin', 'Ohio': 'Columbus', 'Iowa': 'Des Moines'}\n"
     ]
    }
   ],
   "source": [
    "capitals = {\"Wisconsin\": \"Madison\", \"Illinois\":\"Springfield\", \"Texas\":\"Austin\", \"Ohio\": \"Columbus\"}\n",
    "print(capitals, \"\\n\")\n",
    "\n",
    "capitals.update({\"Iowa\": \"Des Moines\"})\n",
    "print(capitals)"
   ]
  },
  {
   "cell_type": "markdown",
   "id": "6411fde5",
   "metadata": {},
   "source": [
    "<a class=\"anchor\" id=\"11\"></a>\n",
    "<div class=\"alert alert-block alert-info\">\n",
    "<b><font size=\"4\">11. values()</font></b></div>"
   ]
  },
  {
   "cell_type": "markdown",
   "id": "9876273b",
   "metadata": {},
   "source": [
    "- Returns a list of all the values in the dictionary"
   ]
  },
  {
   "cell_type": "code",
   "execution_count": 32,
   "id": "77876431",
   "metadata": {},
   "outputs": [
    {
     "name": "stdout",
     "output_type": "stream",
     "text": [
      "{'Wisconsin': 'Madison', 'Illinois': 'Springfield', 'Texas': 'Austin', 'Ohio': 'Columbus'} \n",
      "\n",
      "dict_values(['Madison', 'Springfield', 'Austin', 'Columbus'])\n"
     ]
    }
   ],
   "source": [
    "capitals = {\"Wisconsin\": \"Madison\", \"Illinois\":\"Springfield\", \"Texas\":\"Austin\", \"Ohio\": \"Columbus\"}\n",
    "print(capitals, \"\\n\")\n",
    "\n",
    "x = capitals.values()\n",
    "print(x)"
   ]
  },
  {
   "cell_type": "code",
   "execution_count": null,
   "id": "4f1d82c8",
   "metadata": {},
   "outputs": [],
   "source": []
  }
 ],
 "metadata": {
  "kernelspec": {
   "display_name": "Python 3 (ipykernel)",
   "language": "python",
   "name": "python3"
  },
  "language_info": {
   "codemirror_mode": {
    "name": "ipython",
    "version": 3
   },
   "file_extension": ".py",
   "mimetype": "text/x-python",
   "name": "python",
   "nbconvert_exporter": "python",
   "pygments_lexer": "ipython3",
   "version": "3.9.12"
  }
 },
 "nbformat": 4,
 "nbformat_minor": 5
}
