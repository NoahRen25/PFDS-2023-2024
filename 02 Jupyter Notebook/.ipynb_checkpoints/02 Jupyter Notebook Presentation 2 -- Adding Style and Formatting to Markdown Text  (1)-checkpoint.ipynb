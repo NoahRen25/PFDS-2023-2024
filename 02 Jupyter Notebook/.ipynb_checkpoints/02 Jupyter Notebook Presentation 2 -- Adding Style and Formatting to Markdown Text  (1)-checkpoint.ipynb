{
 "cells": [
  {
   "cell_type": "markdown",
   "id": "a9e1a1ef",
   "metadata": {},
   "source": [
    "# <center><b>02 JUPYTER NOTEBOOK PRESENTATION 2</b></center> \n",
    "# <center><b>ADDING STYLE AND FORMATTING TO MARKDOWN TEXT</b></center> "
   ]
  },
  {
   "attachments": {
    "image.png": {
     "image/png": "[encoded data removed]"
    }
   },
   "cell_type": "markdown",
   "id": "2c8e9492",
   "metadata": {},
   "source": [
    "![image.png](attachment:image.png)"
   ]
  },
  {
   "cell_type": "markdown",
   "id": "0006e7fd",
   "metadata": {},
   "source": [
    "# Table of Contents\n",
    "\n",
    "1.  [A Markdown Guide for Jupyter Notebook](#1)<br>\n",
    "2.  [Headings](#2)<br>\n",
    "3.  [Bold Text](#3)<br>\n",
    "4.  [Italics](#4)<br>\n",
    "5.  [Bold & Italics](#5)<br>\n",
    "6.  [Strikethrough](#6)<br>\n",
    "7.  [Backslash Escape](#7)<br>\n",
    "8.  [Horizontal Lines](#8)<br>\n",
    "9.  [Adding Images to a Markdown Cell](#9)<br>\n",
    "10. [Adding Hyperlinks to a Markdown Cell](#10)<br>\n",
    "11. [Using Color](#11)<br>\n",
    "a.  [COLORED NOTE BOXES](#11a)<br>\n",
    "b.  [TEXT COLORS](#11b)<br>\n",
    "c.  [HIGHLIGHTING COLORS](#11c)<br>\n",
    "12. [Font Families](#12)<br>\n",
    "13. [Font Sizes](#13)<br>\n",
    "14. [Centering Text](#14)<br>\n",
    "15. [Line Break](#15)<br>\n",
    "16. [Blockquotes](#16)<br>\n",
    "17. [Nested Blockquotes](#17)<br>\n",
    "18. [Ordered List](#18)<br>\n",
    "19. [Unordered List](#19)<br>\n",
    "20. [Outline List](#20)<br>\n",
    "21. [Reference Style Formatting for Images](#21)<br>\n",
    "22. [Reference Style Links](#22)<br>\n",
    "23. [Anchor Links](#23)<br>\n",
    "24. [Task Lists](#24)<br>\n",
    "25. [Tables](#25)<br>\n",
    "26. [YouTube Videos (Embedding an Image That Links to a YouTube)](#26)<br>\n",
    "27. [Definition Lists](#27)<br>\n",
    "28. [Navigation Menus](#28)<br>\n",
    "29. [LaTeX Math](#29)<br>\n",
    "30. [Geometric Shapes](#30)<br>\n",
    "31. [Table of Contents](#31)<br>\n",
    "32. [Adding Spaces; Indenting; and Skipping Lines/Creating Blank Lines](#32)"
   ]
  },
  {
   "cell_type": "markdown",
   "id": "1ae9eb26",
   "metadata": {},
   "source": [
    "<a class=\"anchor\" id=\"1\"></a>\n",
    "# 1. A Markdown Guide for Jupyter Notebook"
   ]
  },
  {
   "cell_type": "markdown",
   "id": "88bc4517",
   "metadata": {},
   "source": [
    "### Key Idea \n",
    "\n",
    "Markdown writing skills are essential to portray your work in the Jupyter notebook to offer the reader a sufficient explanation of both the code and the concept."
   ]
  },
  {
   "cell_type": "markdown",
   "id": "a86e3936",
   "metadata": {},
   "source": [
    "### But first -- what is Markdown?\n",
    "\n",
    "Markdown is a lightweight Markup language with a plain text syntax. John Gruber developed the Markdown language in 2004 in a collaborative effort with Aaron Swartz, intending to enable people to “write with easy-to-read and easy-to-write plain text format and potentially convert it to structurally correct XHTML (or HTML).” Markdown is designed to be as easy-to-read and easy-to-write as possible. Readability, however, is emphasized above all else.\n",
    " \n",
    "Nevertheless, Markdown is not a substitute for, or even close to, HTML. Its syntax is minimal, correlating only to a tiny proportion of HTML tags. Markdown’s idea is to make reading, writing, and editing prose easy without the intention to create a syntax that’s just for quickly adding HTML tags. HTML is a format for publishing, while Markdown is a format for reading. Therefore, the formatting syntax of Markdown tackles just issues that can be expressed in plain text. You simply use HTML for any Markup that is not covered by the Markdown syntax. You don’t need to preface it or delimit it to indicate that you are switching from Markdown to HTML — you just use the tags.\n",
    "\n",
    "Among the data enthusiasts, Jupyter notebook is in trend. It is simple to use and helps you to create and share documents that include code, visualizations, and narration. Recall that a Jupyter Notebook is a series of cells that can store text or code. Cells shape a notebook’s core. Markdown Cells allows you to write and render Markdown syntax. Here’s where you can explain and document the processes. On the other hand, code cells allow you to write and run program code like Python.\n",
    "\n",
    "[**The Ultimate Markdown Guide for Jupyter Notebook**](https://medium.com/analytics-vidhya/the-ultimate-markdown-guide-for-jupyter-notebook-d5e5abf728fd)"
   ]
  },
  {
   "cell_type": "markdown",
   "id": "43872bc5",
   "metadata": {},
   "source": [
    "### Markup language\n",
    "\n",
    "In computer text processing, a markup language is a system for annotating a document in a way that is visually distinguishable from the content. It is used only to format the text, so that when the document is processed for display, the markup language does not appear.\n",
    "\n",
    "[**Markup language (Wikipedia)**](https://en.wikipedia.org/wiki/Markup_language)\n"
   ]
  },
  {
   "cell_type": "markdown",
   "id": "08933cda",
   "metadata": {},
   "source": [
    "<a class=\"anchor\" id=\"2\"></a>\n",
    "# 2. Headings"
   ]
  },
  {
   "cell_type": "raw",
   "id": "aef79e2e",
   "metadata": {},
   "source": [
    "Markdown Syntax for HEADINGS\n",
    "****************************\n",
    "\n",
    "# Header 1\n",
    "## Header 2\n",
    "### Header 3\n",
    "#### Header 4\n",
    "##### Header 5\n",
    "###### Header 6\n",
    "\n",
    "See the rendered output in the cell below."
   ]
  },
  {
   "cell_type": "markdown",
   "id": "eb01e022",
   "metadata": {},
   "source": [
    "# Header 1\n",
    "## Header 2\n",
    "### Header 3\n",
    "#### Header 4\n",
    "##### Header 5\n",
    "###### Header 6"
   ]
  },
  {
   "cell_type": "markdown",
   "id": "3e9227f9",
   "metadata": {},
   "source": [
    "<div class=\"alert alert-block alert-success\"><b>Example:</b>  Add cells below to practice the different heading sizes.\n",
    "\n",
    " </div>"
   ]
  },
  {
   "cell_type": "code",
   "execution_count": null,
   "id": "fb25247c",
   "metadata": {},
   "outputs": [],
   "source": []
  },
  {
   "cell_type": "code",
   "execution_count": null,
   "id": "7dcaff0b",
   "metadata": {},
   "outputs": [],
   "source": []
  },
  {
   "cell_type": "code",
   "execution_count": null,
   "id": "da4ca4df",
   "metadata": {},
   "outputs": [],
   "source": []
  },
  {
   "cell_type": "code",
   "execution_count": null,
   "id": "0572d0ea",
   "metadata": {},
   "outputs": [],
   "source": []
  },
  {
   "cell_type": "code",
   "execution_count": null,
   "id": "40a604d0",
   "metadata": {},
   "outputs": [],
   "source": []
  },
  {
   "cell_type": "code",
   "execution_count": null,
   "id": "5bb13ae5",
   "metadata": {},
   "outputs": [],
   "source": []
  },
  {
   "cell_type": "markdown",
   "id": "d67c2a8c",
   "metadata": {},
   "source": [
    "<a class=\"anchor\" id=\"3\"></a>\n",
    "# 3. Bold Text"
   ]
  },
  {
   "cell_type": "raw",
   "id": "704516a6",
   "metadata": {},
   "source": [
    "Markdown Syntax for BOLD\n",
    "************************\n",
    "\n",
    "**This is bold text.**  \n",
    "\n",
    "__This is bold text.__\n",
    "\n",
    "<b>This is bold text.</b>"
   ]
  },
  {
   "cell_type": "markdown",
   "id": "67f47904",
   "metadata": {},
   "source": [
    "<div class=\"alert alert-block alert-success\"><b>Example:</b>  In the cell below, use the proper Markdown syntax to write the given phrase in bold letters. (Use the Markdown syntax that the given phrase suggests.)\n",
    "\n",
    "<p>&ensp;</p> You get bold text when you put the text between 2 pairs of asterisks.\n",
    "\n",
    " </div>"
   ]
  },
  {
   "cell_type": "code",
   "execution_count": null,
   "id": "47825746",
   "metadata": {},
   "outputs": [],
   "source": []
  },
  {
   "cell_type": "markdown",
   "id": "14c97db0",
   "metadata": {},
   "source": [
    "<div class=\"alert alert-block alert-success\"><b>Example:</b>  In the cell below, use the proper Markdown syntax to write the given phrase in bold letters. (Use the Markdown syntax that the given phrase suggests.)\n",
    "\n",
    "<p>&ensp;</p> You get bold text when you put the text between 2 pairs of underscores.\n",
    "\n",
    "</div>"
   ]
  },
  {
   "cell_type": "code",
   "execution_count": null,
   "id": "794f48a5",
   "metadata": {},
   "outputs": [],
   "source": []
  },
  {
   "cell_type": "markdown",
   "id": "d293ae18",
   "metadata": {},
   "source": [
    "<div class=\"alert alert-block alert-success\"><b>Example:</b>  In the cell below, use the proper Markdown syntax to write the given phrase in bold letters. (Use the Markdown syntax that the given phrase suggests.)\n",
    "\n",
    "<p>&ensp;</p> You get bold text when you put the text between the appropriate HTML tags.\n",
    "\n",
    "</div>"
   ]
  },
  {
   "cell_type": "code",
   "execution_count": null,
   "id": "4db7b587",
   "metadata": {},
   "outputs": [],
   "source": []
  },
  {
   "cell_type": "markdown",
   "id": "1fa9636e",
   "metadata": {},
   "source": [
    "<a class=\"anchor\" id=\"4\"></a>\n",
    "# 4. Italics"
   ]
  },
  {
   "cell_type": "raw",
   "id": "50105580",
   "metadata": {},
   "source": [
    "Markdown Syntax for ITALICS\n",
    "***************************\n",
    "\n",
    "*This is italicized text.*  \n",
    "\n",
    "_This is italicized text._\n",
    "\n",
    "<i>This is italicized text.</i>"
   ]
  },
  {
   "cell_type": "markdown",
   "id": "3bf4538d",
   "metadata": {},
   "source": [
    "<div class=\"alert alert-block alert-success\"><b>Example:</b>  In the cell below, use the proper Markdown syntax to write the given phrase in italics. (Use the Markdown syntax that the given phrase suggests.)\n",
    "\n",
    "<p>&ensp;</p> You get italicized text when you put the text between a pair of asterisks.\n",
    "\n",
    " </div>"
   ]
  },
  {
   "cell_type": "code",
   "execution_count": null,
   "id": "d72ec290",
   "metadata": {},
   "outputs": [],
   "source": []
  },
  {
   "cell_type": "markdown",
   "id": "2de2fb06",
   "metadata": {},
   "source": [
    "<div class=\"alert alert-block alert-success\"><b>Example:</b>  In the cell below, use the proper Markdown syntax to write the given phrase in italics. (Use the Markdown syntax that the given phrase suggests.)\n",
    "\n",
    "<p>&ensp;</p> You get italicized text when you put the text between a pair of underscores.\n",
    "\n",
    " </div>"
   ]
  },
  {
   "cell_type": "code",
   "execution_count": null,
   "id": "576b1f75",
   "metadata": {},
   "outputs": [],
   "source": []
  },
  {
   "cell_type": "markdown",
   "id": "61329e08",
   "metadata": {},
   "source": [
    "<div class=\"alert alert-block alert-success\"><b>Example:</b>  In the cell below, use the proper Markdown syntax to write the given phrase in italics. (Use the Markdown syntax that the given phrase suggests.)\n",
    "\n",
    "<p>&ensp;</p> You get italicized text  when you put the text between the appropriate HTML tags.\n",
    "\n",
    " </div>"
   ]
  },
  {
   "cell_type": "code",
   "execution_count": null,
   "id": "1a924600",
   "metadata": {},
   "outputs": [],
   "source": []
  },
  {
   "cell_type": "markdown",
   "id": "67cbb57b",
   "metadata": {},
   "source": [
    "<a class=\"anchor\" id=\"5\"></a>\n",
    "# 5. Bold & Italics"
   ]
  },
  {
   "cell_type": "raw",
   "id": "ede93d36",
   "metadata": {},
   "source": [
    "Markdown Syntax for BOLD & ITALICS\n",
    "**********************************\n",
    "\n",
    "***This is bold and italicized text.***  \n",
    "\n",
    "___This is bold and italicized text.___\n",
    "\n",
    "<b><i>This is bold and italicized text.</b></i>\n"
   ]
  },
  {
   "cell_type": "markdown",
   "id": "e669433e",
   "metadata": {},
   "source": [
    "<div class=\"alert alert-block alert-success\"><b>Example:</b>  In the cell below, use the proper Markdown syntax to write the given phrase in bold italics. (Use the Markdown syntax that the given phrase suggests.)\n",
    "\n",
    "<p>&ensp;</p> You get bold and  italicized text when you put the text between 2 pairs of 3 asterisks.\n",
    "\n",
    " </div>"
   ]
  },
  {
   "cell_type": "code",
   "execution_count": null,
   "id": "a0724f9f",
   "metadata": {},
   "outputs": [],
   "source": []
  },
  {
   "cell_type": "markdown",
   "id": "f883595f",
   "metadata": {},
   "source": [
    "<div class=\"alert alert-block alert-success\"><b>Example:</b>  In the cell below, use the proper Markdown syntax to write the given phrase in bold italics. (Use the Markdown syntax that the given phrase suggests.)\n",
    "\n",
    "<p>&ensp;</p> You get bold and italicized text when you put the text between 2 pairs of 3 underscores.\n",
    "\n",
    " </div>"
   ]
  },
  {
   "cell_type": "code",
   "execution_count": null,
   "id": "48e0370d",
   "metadata": {},
   "outputs": [],
   "source": []
  },
  {
   "cell_type": "markdown",
   "id": "d2ed47c5",
   "metadata": {},
   "source": [
    "<div class=\"alert alert-block alert-success\"><b>Example:</b>  In the cell below, use the proper Markdown syntax to write the given phrase in bold italics. (Use the Markdown syntax that the given phrase suggests.)\n",
    "\n",
    "<p>&ensp;</p> You get bold and italicized text when you put the text between the appropriate HTML tags.\n",
    "\n",
    " </div>"
   ]
  },
  {
   "cell_type": "code",
   "execution_count": null,
   "id": "43f3aaf2",
   "metadata": {},
   "outputs": [],
   "source": []
  },
  {
   "cell_type": "markdown",
   "id": "5b69a7b7",
   "metadata": {},
   "source": [
    "<a class=\"anchor\" id=\"6\"></a>\n",
    "# 6. Strikethrough"
   ]
  },
  {
   "cell_type": "raw",
   "id": "3429c5da",
   "metadata": {},
   "source": [
    "Markdown Syntax for STRIKETHROUGH\n",
    "**********************************\n",
    "\n",
    "~Strikethrough~ \n"
   ]
  },
  {
   "cell_type": "markdown",
   "id": "faec1587",
   "metadata": {},
   "source": [
    "<div class=\"alert alert-block alert-success\"><b>Example:</b>  In the cell below, use the proper Markdown syntax to strikethrough the sentence that has the spelling mistake in it.\n",
    "<p>&ensp;</p> I love Python.  I mean, I really love Piethon.  All of a sudden, something doesn't feel quite right.\n",
    "\n",
    " </div>"
   ]
  },
  {
   "cell_type": "markdown",
   "id": "6c6d8d4d",
   "metadata": {},
   "source": []
  },
  {
   "cell_type": "markdown",
   "id": "27a2fb95",
   "metadata": {},
   "source": [
    "<a class=\"anchor\" id=\"7\"></a>\n",
    "# 7. Backslash Escape"
   ]
  },
  {
   "cell_type": "raw",
   "id": "78a8cc7e",
   "metadata": {},
   "source": [
    "The Backslash Escape  ( \\ ) characterprevents Markdown from interpreting a character as an instruction, rather than as the character itself.\n",
    "\n",
    "\\# Not a header"
   ]
  },
  {
   "cell_type": "markdown",
   "id": "b2922731",
   "metadata": {},
   "source": [
    "<div class=\"alert alert-block alert-success\"><b>Example:</b>  In the cell below, enter the following ... \n",
    "<p>&ensp;</p> # This is a header.\n",
    "\n",
    " </div>"
   ]
  },
  {
   "cell_type": "code",
   "execution_count": null,
   "id": "89256642",
   "metadata": {},
   "outputs": [],
   "source": []
  },
  {
   "cell_type": "markdown",
   "id": "0fdb1767",
   "metadata": {},
   "source": [
    "<div class=\"alert alert-block alert-success\"><b>Example:</b>  In the cell below, enter the following ... \n",
    "<p>&ensp;</p> # This is NOT a header.\n",
    "\n",
    " </div>"
   ]
  },
  {
   "cell_type": "code",
   "execution_count": null,
   "id": "af7c2fb0",
   "metadata": {},
   "outputs": [],
   "source": []
  },
  {
   "cell_type": "markdown",
   "id": "9ab70fcb",
   "metadata": {},
   "source": [
    "<a class=\"anchor\" id=\"8\"></a>\n",
    "# 8. Horizontal Lines"
   ]
  },
  {
   "cell_type": "raw",
   "id": "090aef0d",
   "metadata": {},
   "source": [
    "Markdown Syntax for HORIZONTAL LINES\n",
    "************************************\n",
    "\n",
    "---     3 dashes\n",
    "\n",
    "___     3 underscores\n",
    "\n",
    "***     3 asterisks\n",
    "\n",
    "Use the following HTML command:  <hr style=\"border:1px solid gray\">\n"
   ]
  },
  {
   "cell_type": "markdown",
   "id": "a2a40b0f",
   "metadata": {},
   "source": [
    "<div class=\"alert alert-block alert-success\"><b>Example:</b>  In the cell below, use dashes to create a horizontal line. \n",
    "<p>&ensp;</p> </div>"
   ]
  },
  {
   "cell_type": "code",
   "execution_count": null,
   "id": "944a3bba",
   "metadata": {},
   "outputs": [],
   "source": []
  },
  {
   "cell_type": "markdown",
   "id": "54d1bcd9",
   "metadata": {},
   "source": [
    "<div class=\"alert alert-block alert-success\"><b>Example:</b>  In the cell below, use underscores to create a horizontal line. \n",
    "<p>&ensp;</p> </div>"
   ]
  },
  {
   "cell_type": "code",
   "execution_count": null,
   "id": "a94a8bd9",
   "metadata": {},
   "outputs": [],
   "source": []
  },
  {
   "cell_type": "markdown",
   "id": "0637dd2f",
   "metadata": {},
   "source": [
    "<div class=\"alert alert-block alert-success\"><b>Example:</b>  In the cell below, use asterisks to create a horizontal line. \n",
    "<p>&ensp;</p> </div>"
   ]
  },
  {
   "cell_type": "code",
   "execution_count": null,
   "id": "8043bca4",
   "metadata": {},
   "outputs": [],
   "source": []
  },
  {
   "cell_type": "markdown",
   "id": "f5c5d63e",
   "metadata": {},
   "source": [
    "<div class=\"alert alert-block alert-success\"><b>Example:</b>  In the cell below, use the appropriate HTML command to create a horizontal line. \n",
    "<p>&ensp;</p> </div>"
   ]
  },
  {
   "cell_type": "code",
   "execution_count": null,
   "id": "9ea85e5e",
   "metadata": {},
   "outputs": [],
   "source": []
  },
  {
   "cell_type": "markdown",
   "id": "a00ab032",
   "metadata": {},
   "source": [
    "<a class=\"anchor\" id=\"9\"></a>\n",
    "# 9. Adding Images to a Markdown Cell"
   ]
  },
  {
   "cell_type": "raw",
   "id": "d5151557",
   "metadata": {},
   "source": [
    "Markdown Syntax for ADDING IMAGES TO A MARKDOWN CELL\n",
    "****************************************************\n",
    "\n",
    "![](https://www.python.org/static/community_logos/python-logo-master-v3-TM.png)\n",
    "\n",
    "![Python Logo](https://www.python.org/static/community_logos/python-logo-master-v3-TM.png)\n",
    "\n",
    "[Python Logo](https://www.python.org/static/community_logos/python-logo-master-v3-TM.png)\n",
    "\n",
    "\n",
    "Let's try it in Markdown!!!\n"
   ]
  },
  {
   "cell_type": "code",
   "execution_count": null,
   "id": "b2ef999c",
   "metadata": {},
   "outputs": [],
   "source": []
  },
  {
   "cell_type": "code",
   "execution_count": null,
   "id": "309e3120",
   "metadata": {},
   "outputs": [],
   "source": []
  },
  {
   "cell_type": "code",
   "execution_count": null,
   "id": "71872040",
   "metadata": {},
   "outputs": [],
   "source": []
  },
  {
   "cell_type": "markdown",
   "id": "1e033fbb",
   "metadata": {},
   "source": [
    "https://jupyter-notebook.readthedocs.io/en/stable/"
   ]
  },
  {
   "cell_type": "markdown",
   "id": "03484b08",
   "metadata": {},
   "source": [
    "[**Jupyter Notebook Documentation**](https://jupyter-notebook.readthedocs.io/en/stable/)"
   ]
  },
  {
   "cell_type": "markdown",
   "id": "9a116833",
   "metadata": {},
   "source": [
    "<div class=\"alert alert-block alert-success\"><b>Example:</b>  In the cell below, add a Smiley Face image.\n",
    "<p>&ensp;</p> </div>"
   ]
  },
  {
   "cell_type": "code",
   "execution_count": null,
   "id": "15622f8a",
   "metadata": {},
   "outputs": [],
   "source": []
  },
  {
   "cell_type": "raw",
   "id": "0a8ea9f9",
   "metadata": {},
   "source": [
    "Another way to ADD IMAGES TO A MARKDOWN CELL\n",
    "********************************************\n",
    "\n",
    "Create a Markdown cell and use Insert Image option found in the Edit tab.\n"
   ]
  },
  {
   "attachments": {
    "JN%20Edit%20Options.jpg": {
     "image/jpeg": "[encoded data removed]"
    }
   },
   "cell_type": "markdown",
   "id": "a12c9ad2",
   "metadata": {},
   "source": [
    "![JN%20Edit%20Options.jpg](attachment:JN%20Edit%20Options.jpg)"
   ]
  },
  {
   "cell_type": "markdown",
   "id": "08b10a8d",
   "metadata": {},
   "source": [
    "<div class=\"alert alert-block alert-success\"><b>Example:</b>  In the cell below, add an image of a Green Bay Packers logo.\n",
    "<p>&ensp;</p> </div>"
   ]
  },
  {
   "cell_type": "code",
   "execution_count": null,
   "id": "7b1d9f44",
   "metadata": {},
   "outputs": [],
   "source": []
  },
  {
   "cell_type": "markdown",
   "id": "d93c8d91",
   "metadata": {},
   "source": [
    "<a class=\"anchor\" id=\"10\"></a>\n",
    "# 10. Adding Hyperlinks to a Markdown Cell"
   ]
  },
  {
   "cell_type": "raw",
   "id": "4a871cb1",
   "metadata": {},
   "source": [
    "Markdown Syntax for ADDING A HYPERLINK TO A MARKDOWN CELL\n",
    "*********************************************************\n",
    "\n",
    "https://jupyter-notebook.readthedocs.io/en/stable/\n",
    "\n",
    "[Jupyter Notebook Documentation](https://jupyter-notebook.readthedocs.io/en/stable/)\n",
    "\n",
    "Let's try it in Markdown!!"
   ]
  },
  {
   "cell_type": "code",
   "execution_count": null,
   "id": "82c9a46e",
   "metadata": {},
   "outputs": [],
   "source": []
  },
  {
   "cell_type": "code",
   "execution_count": null,
   "id": "f4fa8dc2",
   "metadata": {},
   "outputs": [],
   "source": []
  },
  {
   "cell_type": "raw",
   "id": "b50b4ad9",
   "metadata": {},
   "source": [
    "Something else that you can do -- you can name the hyperlinks in your document.\n",
    "\n",
    "Let's compare the following commands by running them in the cells below:\n",
    "\n",
    "1.  https://backgroundchecks.org/top-school-districts-in-wisconsin.html   \n",
    "\n",
    "    ... this is an AUTOMATIC link\n",
    "\n",
    "2.  [Top School Districts in Wisconsin](https://backgroundchecks.org/top-school-districts-in-wisconsin.html) \n",
    "\n",
    "    ... this is a STANDARD link\n",
    "    \n",
    "Let's try it in Markdown!!"
   ]
  },
  {
   "cell_type": "code",
   "execution_count": null,
   "id": "e8ee80b8",
   "metadata": {},
   "outputs": [],
   "source": []
  },
  {
   "cell_type": "code",
   "execution_count": null,
   "id": "af702a89",
   "metadata": {},
   "outputs": [],
   "source": []
  },
  {
   "cell_type": "markdown",
   "id": "3df1bd43",
   "metadata": {},
   "source": [
    "<div class=\"alert alert-block alert-success\"><b>Example:</b>  In the cell below, insert a STANDARD hyperlink to a second topic that you find intersting.  Note: Use good judgement!\n",
    "<p>&ensp;</p> </div>"
   ]
  },
  {
   "cell_type": "code",
   "execution_count": null,
   "id": "485b448b",
   "metadata": {},
   "outputs": [],
   "source": []
  },
  {
   "cell_type": "raw",
   "id": "0c284af9",
   "metadata": {},
   "source": [
    "Let's take a look at something else that's cool (STANDARD LINKS WITH MOUSE-OVER TITLES) \n",
    "\n",
    "... run the following command in the cell below and see what happens.\n",
    "\n",
    "[Link](https://backgroundchecks.org/top-school-districts-in-wisconsin.html \"Top School Districts in Wisconsin\") "
   ]
  },
  {
   "cell_type": "code",
   "execution_count": null,
   "id": "cfab39e7",
   "metadata": {},
   "outputs": [],
   "source": []
  },
  {
   "cell_type": "markdown",
   "id": "e376037c",
   "metadata": {},
   "source": [
    "<a class=\"anchor\" id=\"11\"></a>\n",
    "# 11. Using Color"
   ]
  },
  {
   "cell_type": "markdown",
   "id": "07ee88af",
   "metadata": {},
   "source": [
    "Check out the following link!!!\n",
    "\n",
    "[**Color in Jupyter Notebook**](https://drive.google.com/file/d/1g8Az1sqBLKcNUwOC4g0AZLWvYeODys7f/view?usp=drive_link)"
   ]
  },
  {
   "cell_type": "markdown",
   "id": "0f7e7b14",
   "metadata": {},
   "source": [
    "<a class=\"anchor\" id=\"11a\"></a>\n",
    "###  a. COLORED NOTE BOXES"
   ]
  },
  {
   "cell_type": "markdown",
   "id": "9b49c935",
   "metadata": {},
   "source": [
    "### To get Blue background ...\n",
    "\n",
    "<div class=\"alert alert-block alert-info\">\n",
    "<b>Tip:</b> Use blue boxes (alert-info) for tips and notes.</div>"
   ]
  },
  {
   "cell_type": "markdown",
   "id": "1d718574",
   "metadata": {},
   "source": [
    "### To get Yellow background ...\n",
    "\n",
    "<div class=\"alert alert-block alert-warning\">\n",
    "    \n",
    "<b>Example:</b> Use yellow boxes for examples that are not inside code cells, or use for mathematical formulas if needed. Typically also used to display warning messages.\n",
    "</div>"
   ]
  },
  {
   "cell_type": "markdown",
   "id": "d1338683",
   "metadata": {},
   "source": [
    "### To get Green background ...\n",
    "\n",
    "<div class=\"alert alert-block alert-success\">\n",
    "    \n",
    "<b>Success:</b> This alert box indicates a successful or positive action.\n",
    "    \n",
    "</div>"
   ]
  },
  {
   "cell_type": "markdown",
   "id": "02bfa72e",
   "metadata": {},
   "source": [
    "### To get Red background ...\n",
    "\n",
    "<div class=\"alert alert-block alert-danger\">\n",
    "    \n",
    "<b>Danger:</b> This alert box indicates a dangerous or potentially negative action.\n",
    "    \n",
    "</div>"
   ]
  },
  {
   "cell_type": "markdown",
   "id": "c7f42283",
   "metadata": {},
   "source": [
    "### Example ... Using all background colors"
   ]
  },
  {
   "cell_type": "markdown",
   "id": "65894e66",
   "metadata": {},
   "source": [
    "<div class=\"alert alert-block alert-info\">\n",
    "<b>Tip:</b> Use blue boxes (alert-info) for tips and notes.</div>\n",
    "    \n",
    "<div class=\"alert alert-block alert-warning\">\n",
    "<b>Example:</b> Use yellow boxes for examples that are not inside code cells, or use for mathematical formulas if needed. Typically also used to display warning messages.\n",
    "</div>\n",
    "\n",
    "<div class=\"alert alert-block alert-success\">\n",
    "<b>Success:</b> This alert box indicates a successful or positive action.\n",
    "</div>\n",
    "\n",
    "<div class=\"alert alert-block alert-danger\">\n",
    "<b>Danger:</b> This alert box indicates a dangerous or potentially negative action.\n",
    "</div>\n"
   ]
  },
  {
   "cell_type": "markdown",
   "id": "81b300a8",
   "metadata": {},
   "source": [
    "<a class=\"anchor\" id=\"11b\"></a>\n",
    "### b. TEXT COLORS"
   ]
  },
  {
   "cell_type": "markdown",
   "id": "cc229bc6",
   "metadata": {},
   "source": [
    "#### To use text color BLUE \n",
    "<span style=\"color:blue\">The color that I am using is BLUE!</span>"
   ]
  },
  {
   "cell_type": "markdown",
   "id": "5e075c80",
   "metadata": {},
   "source": [
    "#### To use text color YELLOW\n",
    "\n",
    "<span style=\"color:yellow\">The color that I am using is YELLOW!</span>"
   ]
  },
  {
   "cell_type": "markdown",
   "id": "4581572d",
   "metadata": {},
   "source": [
    "#### To use text color GREEN \n",
    "\n",
    "<span style=\"color:green\">The color that I am using is GREEN!</span>"
   ]
  },
  {
   "cell_type": "markdown",
   "id": "658a08e5",
   "metadata": {},
   "source": [
    "#### To use text color ORANGE\n",
    "\n",
    "<span style=\"color:orange\">The color that I am using is ORANGE!</span>"
   ]
  },
  {
   "cell_type": "markdown",
   "id": "2e7a4b49",
   "metadata": {},
   "source": [
    "#### To use text color PURPLE\n",
    "\n",
    "<span style=\"color:purple\">The color that I am using is PURPLE!</span>"
   ]
  },
  {
   "cell_type": "markdown",
   "id": "350e1fa0",
   "metadata": {},
   "source": [
    "### Try some other colors!!! "
   ]
  },
  {
   "cell_type": "markdown",
   "id": "8b48703b",
   "metadata": {},
   "source": [
    "#### To use text color PINK\n",
    "\n",
    "<span style=\"color:pink\">The color that I am using is PINK!</span>"
   ]
  },
  {
   "cell_type": "markdown",
   "id": "bd0dab08",
   "metadata": {},
   "source": [
    "### To use text color CHARTREUSE\n",
    "\n",
    "<span style=\"color:chartreuse\">The color that I am using is CHARTREUSE!</span>"
   ]
  },
  {
   "cell_type": "markdown",
   "id": "ce0f3c1a",
   "metadata": {},
   "source": [
    "For a list of all the supported color names, checkout [HTML Color Names](https://www.w3schools.com/colors/colors_names.asp)."
   ]
  },
  {
   "cell_type": "markdown",
   "id": "f8000839",
   "metadata": {},
   "source": [
    "### You can also use the hex value to get the color!!"
   ]
  },
  {
   "cell_type": "markdown",
   "id": "de2e9c77",
   "metadata": {},
   "source": [
    "### To use text color DEEP SKY BLUE\n",
    "\n",
    "<span style=\"color:#00BFFF\">The color that I am using is DEEP SKY BLUE!</span>"
   ]
  },
  {
   "cell_type": "markdown",
   "id": "caac03c1",
   "metadata": {},
   "source": [
    "### To use text color MEDIUM VIOLET RED\n",
    "\n",
    "<span style=\"color:#C71585\">The color that I am using is MEDIUM VIOLET RED!</span>"
   ]
  },
  {
   "cell_type": "markdown",
   "id": "33e9959f",
   "metadata": {},
   "source": [
    "<a class=\"anchor\" id=\"11c\"></a>\n",
    "### c. HIGHLIGHTING COLORS"
   ]
  },
  {
   "cell_type": "markdown",
   "id": "6f87708f",
   "metadata": {},
   "source": [
    "#### To highlight black text with a yellow highlighter\n",
    "\n",
    "<code style=\"background:yellow;color:black\">Useful for highlighting to grab the attention of the reader towards certain points.</code>"
   ]
  },
  {
   "cell_type": "markdown",
   "id": "20b5630e",
   "metadata": {},
   "source": [
    "#### To highlight white text with a blue highlighter\n",
    "\n",
    "<code style=\"background:blue;color:white\">Useful for highlighting to grab the attention of the reader towards certain points.</code>"
   ]
  },
  {
   "cell_type": "markdown",
   "id": "742157da",
   "metadata": {},
   "source": [
    "#### To highlight white text with a black highlighter\n",
    "\n",
    "<code style=\"background:black;color:white\">Useful for highlighting to grab the attention of the reader towards certain points.</code>"
   ]
  },
  {
   "cell_type": "markdown",
   "id": "a73d3534",
   "metadata": {},
   "source": [
    "#### To highlight green text with a pink highlighter\n",
    "\n",
    "<code style=\"background:pink;color:green\">Useful for highlighting to grab the attention of the reader towards certain points.</code>"
   ]
  },
  {
   "cell_type": "markdown",
   "id": "b597b324",
   "metadata": {},
   "source": [
    "<a class=\"anchor\" id=\"12\"></a>\n",
    "# 12. Font Families"
   ]
  },
  {
   "cell_type": "raw",
   "id": "2b5bb0c5",
   "metadata": {},
   "source": [
    "Markdown syntax for Font Families\n",
    "*********************************\n",
    "\n",
    "<span style='font-family:font_family name'> message  </span>\n",
    "\n",
    "Examples:\n",
    "\n",
    "▪ <span style='font-family:Georgia'> This is Georgia font.</span>\n",
    "\n",
    "▪ <span style='font-family:Helvetica'> This is  Helvetica font.</span>\n",
    "\n",
    "▪ <span style='font-family:\"Times New Roman\"'> <span styel=''>This is \"Times New Roman\" font.</span>\n",
    " \n",
    "▪ <span style='font-family:serif'> This is serif font.</span>\n",
    "\n",
    "▪ <span style='font-family:sans-serif'> This is sans-serif font.</span>\n",
    "\n",
    "Let's try it in Markdown!!"
   ]
  },
  {
   "cell_type": "markdown",
   "id": "a0fa6596",
   "metadata": {},
   "source": [
    "<div class=\"alert alert-block alert-success\"><b>Example:</b>  In the cells below, run the examples from the cell above.\n",
    "<p>&ensp;</p> </div>\n"
   ]
  },
  {
   "cell_type": "code",
   "execution_count": null,
   "id": "7be1e270",
   "metadata": {},
   "outputs": [],
   "source": []
  },
  {
   "cell_type": "markdown",
   "id": "18b911cb",
   "metadata": {},
   "source": [
    "<a class=\"anchor\" id=\"13\"></a>\n",
    "# 13. Font Sizes"
   ]
  },
  {
   "cell_type": "raw",
   "id": "0fb7e019",
   "metadata": {},
   "source": [
    "Markdown Syntax for FONT SIZE\n",
    "*****************************\n",
    "\n",
    "Samples\n",
    "\n",
    "<font size=\"4\">YOUR TEXT</font>    ... size 4 font\n",
    "\n",
    "<font size=\"6\">YOUR TEXT</font>    ... size 6 font\n",
    "\n",
    "\n",
    "Examples:\n",
    "\n",
    "<font size=\"4\">This font is size 4.</font> \n",
    "\n",
    "<font size=\"6\">This font is size 6.</font> "
   ]
  },
  {
   "cell_type": "markdown",
   "id": "c0a1f92e",
   "metadata": {},
   "source": [
    "<div class=\"alert alert-block alert-success\"><b>Example:</b>  In the cells below, run the examples from the cell above.\n",
    "<p>&ensp;</p> </div>"
   ]
  },
  {
   "cell_type": "code",
   "execution_count": null,
   "id": "71294c95",
   "metadata": {},
   "outputs": [],
   "source": []
  },
  {
   "cell_type": "code",
   "execution_count": null,
   "id": "5e4da0c1",
   "metadata": {},
   "outputs": [],
   "source": []
  },
  {
   "cell_type": "markdown",
   "id": "4286a087",
   "metadata": {},
   "source": [
    "<a class=\"anchor\" id=\"14\"></a>\n",
    "# 14. Centering Text"
   ]
  },
  {
   "cell_type": "raw",
   "id": "ec6a02d1",
   "metadata": {},
   "source": [
    "Centering text\n",
    "**************\n",
    "\n",
    "▪ <center>YOUR TEXT</center> ... centered\n",
    "\n",
    "▪ <center><b>YOUR TEXT</b></center>  ... centered and bold"
   ]
  },
  {
   "cell_type": "markdown",
   "id": "09a5f900",
   "metadata": {},
   "source": [
    "<div class=\"alert alert-block alert-success\"><b>Example:</b>  In the cells below, center the following statements:\n",
    "\n",
    "a. Data science is really fun!!<br>\n",
    "b. <b>Data science is really fun!!</b> &nbsp; Note: In addition to centering this text, also make it bold.\n",
    "\n",
    "<p>&ensp;</p> </div>"
   ]
  },
  {
   "cell_type": "code",
   "execution_count": null,
   "id": "035bf25e",
   "metadata": {},
   "outputs": [],
   "source": []
  },
  {
   "cell_type": "code",
   "execution_count": null,
   "id": "e9c0873b",
   "metadata": {},
   "outputs": [],
   "source": []
  },
  {
   "cell_type": "markdown",
   "id": "98326a80",
   "metadata": {},
   "source": [
    "<a class=\"anchor\" id=\"15\"></a>\n",
    "# 15. Line Break"
   ]
  },
  {
   "cell_type": "markdown",
   "id": "b8434296",
   "metadata": {},
   "source": [
    "LINE BREAK\n",
    "**********\n",
    "\n",
    "A line break is the termination of the previous line and the beginning of a new line.\n"
   ]
  },
  {
   "cell_type": "raw",
   "id": "80440a40",
   "metadata": {},
   "source": [
    "Markdown Syntax LINE BREAK\n",
    "**************************\n",
    "\n",
    "1. To force a line return, place two or more empty spaces at the end of a line and press the Enter key.\n",
    "\n",
    "2. Just add <br> where you would like to make the new line."
   ]
  },
  {
   "cell_type": "markdown",
   "id": "1bf1577e",
   "metadata": {},
   "source": [
    "<div class=\"alert alert-block alert-success\"><b>Example:</b>  In the cells below practice line breaks.\n",
    "\n",
    " </div>"
   ]
  },
  {
   "cell_type": "code",
   "execution_count": null,
   "id": "59886b35",
   "metadata": {},
   "outputs": [],
   "source": []
  },
  {
   "cell_type": "code",
   "execution_count": null,
   "id": "3c8fad6c",
   "metadata": {},
   "outputs": [],
   "source": []
  },
  {
   "cell_type": "markdown",
   "id": "f6da4c9e",
   "metadata": {},
   "source": [
    "<a class=\"anchor\" id=\"16\"></a>\n",
    "# 16. Blockquotes"
   ]
  },
  {
   "cell_type": "markdown",
   "id": "ed84cc4a",
   "metadata": {},
   "source": [
    "BLOCKQUOTES\n",
    "***********\n",
    "\n",
    "Blockquotes can hold the large chunk of text and are generally indented.\n",
    "\n",
    "The blockquote element is used to indicate the quotation of a large section of text from another source.\n"
   ]
  },
  {
   "cell_type": "raw",
   "id": "5941f159",
   "metadata": {},
   "source": [
    "Markdown Syntax for BLOCKQUOTES\n",
    "*******************************\n",
    "\n",
    "> This is a blockquote"
   ]
  },
  {
   "cell_type": "markdown",
   "id": "e00fbfd4",
   "metadata": {},
   "source": [
    "<div class=\"alert alert-block alert-success\"><b>Example:</b>  In the cells below, use the proper Markdown syntax to write the given phrase as a block quote.\n",
    "\n",
    "- This is an example of a block quote.\n",
    "<p>&nbsp;</p>\n",
    "    \n",
    "- Python is a high-level, general-purpose programming language. Its design philosophy emphasizes code readability with the use of significant indentation. Python is dynamically typed and garbage-collected. It supports multiple programming paradigms, including structured (particularly procedural), object-oriented and functional programming. It is often described as a \"batteries included\" language due to its comprehensive standard library. Guido van Rossum began working on Python in the late 1980s as a successor to the ABC programming language and first released it in 1991 as Python 0.9.0. Python 2.0 was released in 2000. Python 3.0, released in 2008, was a major revision not completely backward-compatible with earlier versions. Python 2.7.18, released in 2020, was the last release of Python 2. Python consistently ranks as one of the most popular programming languages\n",
    "\n",
    " </div>"
   ]
  },
  {
   "cell_type": "code",
   "execution_count": null,
   "id": "70a2a937",
   "metadata": {},
   "outputs": [],
   "source": []
  },
  {
   "cell_type": "code",
   "execution_count": null,
   "id": "d41eceb8",
   "metadata": {},
   "outputs": [],
   "source": []
  },
  {
   "cell_type": "markdown",
   "id": "ec31026e",
   "metadata": {},
   "source": [
    "<div class=\"alert alert-block alert-success\"><b>Example:</b>  In the cell below, use the proper Markdown syntax to write the given quote as a block quote.\n",
    "\n",
    "<p>&ensp;</p> \n",
    "    \n",
    "\n",
    "“In my younger and more vulnerable years my father gave me some advice that I've been turning over in my mind ever since.\n",
    "\"Whenever you feel like criticizing any one,\" he told me, \"just remember that all the people in this world haven't had the advantages that you've had.”\n",
    "\n",
    "― F. Scott Fitzgerald, The Great Gatsby"
   ]
  },
  {
   "cell_type": "code",
   "execution_count": null,
   "id": "96bbd45e",
   "metadata": {},
   "outputs": [],
   "source": []
  },
  {
   "cell_type": "markdown",
   "id": "f15672e9",
   "metadata": {},
   "source": [
    "<a class=\"anchor\" id=\"17\"></a>\n",
    "# 17. Nested Blockquotes"
   ]
  },
  {
   "cell_type": "raw",
   "id": "6703ec54",
   "metadata": {},
   "source": [
    "Markdown Syntax for NESTED BLOCK QUOTING\n",
    "****************************************\n",
    "\n",
    "> some text\n",
    ">> and then some more text\n",
    ">>> and then some more"
   ]
  },
  {
   "cell_type": "markdown",
   "id": "18de35e8",
   "metadata": {},
   "source": [
    "<div class=\"alert alert-block alert-success\"><b>Example:</b>  In the cell below, use the proper Markdown syntax to write the given text as a nested blockquote. Note: In your nested blockquote, only include the text after the dashes in each line of the given text.\n",
    "\n",
    "<p>&ensp;</p> \n",
    "    \n",
    "First blockquote is -- We are learning Python.\n",
    "\n",
    "Second blockquote (indented) -- To learn Python, we need to know how to use Jupyter Notebook.\n",
    "    \n",
    "Third blockquote (further indented) -- That is why we are practicing Jupyter Notebook techniques today!\n",
    "   "
   ]
  },
  {
   "cell_type": "code",
   "execution_count": null,
   "id": "2684624c",
   "metadata": {},
   "outputs": [],
   "source": []
  },
  {
   "cell_type": "markdown",
   "id": "157589c4",
   "metadata": {},
   "source": [
    "<a class=\"anchor\" id=\"18\"></a>\n",
    "# 18. Ordered List"
   ]
  },
  {
   "cell_type": "raw",
   "id": "f19c21f1",
   "metadata": {},
   "source": [
    "The Ordered List is a numbered list."
   ]
  },
  {
   "cell_type": "raw",
   "id": "713fc783",
   "metadata": {},
   "source": [
    "Markdown Syntax\n",
    "***************\n",
    "\n",
    "1. Cheese\n",
    "2. Carrot\n",
    "3. Coconut\n",
    "\n",
    "Note: Numbering is irrelevant\n",
    "\n",
    "Let's try it in Markdown!!"
   ]
  },
  {
   "cell_type": "code",
   "execution_count": null,
   "id": "41207e62",
   "metadata": {},
   "outputs": [],
   "source": []
  },
  {
   "cell_type": "markdown",
   "id": "47d8c570",
   "metadata": {},
   "source": [
    "<div class=\"alert alert-block alert-success\"><b>Example:</b>  In the cell below, create an ordered list for the terms NORTH, SOUTH, EAST, WEST.\n",
    "\n",
    " </div>"
   ]
  },
  {
   "cell_type": "code",
   "execution_count": null,
   "id": "d86ef50c",
   "metadata": {},
   "outputs": [],
   "source": []
  },
  {
   "cell_type": "markdown",
   "id": "52656b24",
   "metadata": {},
   "source": [
    "<a class=\"anchor\" id=\"19\"></a>\n",
    "# 19. Unordered List"
   ]
  },
  {
   "cell_type": "raw",
   "id": "2fc390cf",
   "metadata": {},
   "source": [
    "UNORDERED LIST\n",
    "\n",
    "The Unordered list is a bullet list.\n"
   ]
  },
  {
   "cell_type": "raw",
   "id": "14ef9a0d",
   "metadata": {},
   "source": [
    "Markdown Syntax for an UNORDERED LIST\n",
    "*************************************\n",
    "\n",
    "- Cheese\n",
    "- Carrot\n",
    "- Coconut"
   ]
  },
  {
   "cell_type": "markdown",
   "id": "dc798689",
   "metadata": {},
   "source": [
    "<div class=\"alert alert-block alert-success\"><b>Example:</b>  \n",
    "\n",
    "In the first cell below, enter the following code just as it is and see what output you receive:\n",
    "<p>&nbsp;</p> \n",
    "Data Science<br>\n",
    "Machine Learning<br>\n",
    "Artificial Intelligence<br>\n",
    "<p>&nbsp;</p> \n",
    "In the second cell below, use Markdown syntax to created an unordered list (i.e. a bullet list) for the same three terms.\n",
    "\n",
    " </div>"
   ]
  },
  {
   "cell_type": "code",
   "execution_count": null,
   "id": "c3c56a73",
   "metadata": {},
   "outputs": [],
   "source": []
  },
  {
   "cell_type": "code",
   "execution_count": null,
   "id": "415473b1",
   "metadata": {},
   "outputs": [],
   "source": []
  },
  {
   "cell_type": "markdown",
   "id": "3c3cc11c",
   "metadata": {},
   "source": [
    "<a class=\"anchor\" id=\"20\"></a>\n",
    "# 20. Outline List"
   ]
  },
  {
   "cell_type": "raw",
   "id": "42e0d467",
   "metadata": {},
   "source": [
    "Markdown Syntax for an OUTLINE/LIST\n",
    "***********************************\n",
    "\n",
    "1. Main list <br>\n",
    "a. Sub-list <br>\n",
    "b. sub list \n",
    "2. Main list\n",
    "* Next text item\n",
    "\n",
    "Let's try it in Markdown!!"
   ]
  },
  {
   "cell_type": "markdown",
   "id": "ea22f398",
   "metadata": {},
   "source": [
    "<div class=\"alert alert-block alert-success\"><b>Example:</b>  \n",
    "\n",
    "In the cell below, run the Markdown syntax for an OUTLINE/LIST from the cell above.\n",
    "\n",
    " </div>"
   ]
  },
  {
   "cell_type": "code",
   "execution_count": null,
   "id": "549c6631",
   "metadata": {},
   "outputs": [],
   "source": []
  },
  {
   "cell_type": "markdown",
   "id": "5985d121",
   "metadata": {},
   "source": [
    "<a class=\"anchor\" id=\"21\"></a>\n",
    "# 21. Reference Style Formatting for Images"
   ]
  },
  {
   "cell_type": "raw",
   "id": "48759d9a",
   "metadata": {},
   "source": [
    "You can also use the reference-style format for the images that you insert into Jupyter Notebook:\n",
    "    \n",
    "Markdown Syntax for REFERENCE STYLE FORMATTING FOR IMAGES\n",
    "*********************************************************\n",
    "\n",
    "![](some-id)"
   ]
  },
  {
   "cell_type": "markdown",
   "id": "3222b794",
   "metadata": {},
   "source": [
    "<div class=\"alert alert-block alert-success\"><b>Example:</b>  \n",
    "\n",
    "In the cells below, run the following examples which demonstrate Markdown syntax for REFERENCE STYLE FORMATTING FOR IMAGES.\n",
    "<p>&ensp;</p> \n",
    "Example 1:\n",
    "![Here is an image for Anaconda!!](https://blog.desdelinux.net/wp-content/uploads/2017/09/Anaconda-Navigator-Comunidad.png)\n",
    "<p>&ensp;</p>  \n",
    "Example 2:\n",
    "[Here is an image for Anaconda!!](https://blog.desdelinux.net/wp-content/uploads/2017/09/Anaconda-Navigator-Comunidad.png)\n",
    "<p>&ensp;</p>\n",
    "Example 3:\n",
    "![Python Logo](https://www.python.org/static/community_logos/python-logo-master-v3-TM.png)\n",
    "<p>&ensp;</p>\n",
    "Example 4:\n",
    "[Python Logo](https://www.python.org/static/community_logos/python-logo-master-v3-TM.png)\n",
    "</div>"
   ]
  },
  {
   "cell_type": "code",
   "execution_count": null,
   "id": "bcfa3d10",
   "metadata": {},
   "outputs": [],
   "source": []
  },
  {
   "cell_type": "code",
   "execution_count": null,
   "id": "c199c317",
   "metadata": {},
   "outputs": [],
   "source": []
  },
  {
   "cell_type": "code",
   "execution_count": null,
   "id": "15ffc9cf",
   "metadata": {},
   "outputs": [],
   "source": []
  },
  {
   "cell_type": "code",
   "execution_count": null,
   "id": "4d59cddc",
   "metadata": {},
   "outputs": [],
   "source": []
  },
  {
   "cell_type": "markdown",
   "id": "c3e0fb60",
   "metadata": {},
   "source": [
    "<a class=\"anchor\" id=\"22\"></a>\n",
    "# 22. Reference Style Links"
   ]
  },
  {
   "cell_type": "raw",
   "id": "97bae985",
   "metadata": {},
   "source": [
    "Markdown Syntax for REFERENCE-STYLE LINKS\n",
    "*****************************************\n",
    "\n",
    "This is [a reference](id)\n",
    "\n",
    "[Wikipedia](https://en.wikipedia.org)\n"
   ]
  },
  {
   "cell_type": "markdown",
   "id": "bb460e18",
   "metadata": {},
   "source": [
    "<div class=\"alert alert-block alert-success\"><b>Example:</b>  \n",
    "\n",
    "In the cells below, run the following examples which demonstrate Markdown syntax for REFERENCE-STYLE LINKS.\n",
    "<p>&ensp;</p> \n",
    "Example 1:\n",
    "[Wikipedia](https://en.wikipedia.org)\n",
    "<p>&ensp;</p>  \n",
    "Example 2:\n",
    "[Pandas](https://en.wikipedia.org)\n",
    "\n",
    " </div>"
   ]
  },
  {
   "cell_type": "code",
   "execution_count": null,
   "id": "fb28409c",
   "metadata": {},
   "outputs": [],
   "source": []
  },
  {
   "cell_type": "code",
   "execution_count": null,
   "id": "a26f239f",
   "metadata": {},
   "outputs": [],
   "source": []
  },
  {
   "cell_type": "markdown",
   "id": "72ca876a",
   "metadata": {
    "slideshow": {
     "slide_type": "slide"
    }
   },
   "source": [
    "<a class=\"anchor\" id=\"23\"></a>\n",
    "# 23. Anchor Links"
   ]
  },
  {
   "cell_type": "raw",
   "id": "6c5f217d",
   "metadata": {},
   "source": [
    "ANCHOR LINKS\n",
    "************\n",
    "An anchor link is a link on a page that brings you to a specific place on that page. In a Jupyter Notebook, it can be used to link to any section of the notebook for easy navigation.\n",
    "\n",
    "Note: The ID used for the linking should be unique to avoid misdirection.\n",
    "\n",
    "Technique 1\n",
    "------------\n",
    "\n",
    "● Create a new cell above the section you want to link to and add the following line of code:  <a id=\"id\"></a>\n",
    "\n",
    "● To create an anchor link that links to the above section, simply add the following line of code:\n",
    "\n",
    "  [Section title](#id)\n",
    "  \n",
    "Note:  Anchor links are useful when making a Table of Contents or when you want a link that jumps to a different part of the document."
   ]
  },
  {
   "attachments": {
    "anchorr%20link.jpg": {
     "image/jpeg": "[encoded data removed]"
    }
   },
   "cell_type": "markdown",
   "id": "125b8f65",
   "metadata": {},
   "source": [
    "<div class=\"alert alert-block alert-success\"><b>Example:</b>  To see an example of an ANCHOR LINK using Techique 1, do the following:\n",
    "<p>&ensp;</p> \n",
    "In the cell below, run the following code:\n",
    "<p>&ensp;</p>     \n",
    "● [BLOCKQUOTES](#5)\n",
    "<p>&ensp;</p>     \n",
    "In the cell above the BLOCKQUOTES cell, run the following code:\n",
    "<p>&ensp;</p>    \n",
    "\n",
    "![anchorr%20link.jpg](attachment:anchorr%20link.jpg)\n",
    "      \n",
    " </div>"
   ]
  },
  {
   "cell_type": "code",
   "execution_count": null,
   "id": "df5f5078",
   "metadata": {},
   "outputs": [],
   "source": []
  },
  {
   "cell_type": "code",
   "execution_count": null,
   "id": "a8dd8772",
   "metadata": {},
   "outputs": [],
   "source": []
  },
  {
   "cell_type": "markdown",
   "id": "bdc35d76",
   "metadata": {},
   "source": [
    "#### <center>Note: To learn how to use anchor links, refer to the Table of Contents above!!</center>"
   ]
  },
  {
   "cell_type": "markdown",
   "id": "e010ffe3",
   "metadata": {},
   "source": [
    "<a class=\"anchor\" id=\"24\"></a>\n",
    "# 24. Task Lists"
   ]
  },
  {
   "cell_type": "markdown",
   "id": "870ed624",
   "metadata": {},
   "source": [
    "Markdown Syntax for TASK LISTS\n",
    "******************************\n",
    "\n",
    "- [x] Task 1\n",
    "- [ ] Task 2\n",
    "- [ ] Task 3"
   ]
  },
  {
   "cell_type": "markdown",
   "id": "6e80a120",
   "metadata": {},
   "source": [
    "- [x] Task 1\n",
    "- [ ] Task 2\n",
    "- [ ] Task 3"
   ]
  },
  {
   "cell_type": "markdown",
   "id": "a7e88c99",
   "metadata": {},
   "source": [
    "<div class=\"alert alert-block alert-success\"><b>Example:</b> In the cell below, run the appropriate code to create a TASK LIST for the following tasks:\n",
    "     \n",
    "Do the laundry (done); Make dinner (not done);  Go grocery shopping (done); Do homework (not done)\n",
    "      \n",
    " </div>"
   ]
  },
  {
   "cell_type": "code",
   "execution_count": null,
   "id": "5f0acf19",
   "metadata": {},
   "outputs": [],
   "source": []
  },
  {
   "cell_type": "markdown",
   "id": "63c5722c",
   "metadata": {},
   "source": [
    "<a class=\"anchor\" id=\"25\"></a>\n",
    "# 25.Tables"
   ]
  },
  {
   "cell_type": "raw",
   "id": "bd7ea127",
   "metadata": {},
   "source": [
    "MAKING A TABLE IN MARKDOWN\n",
    "\n",
    "A table can be constructed using | (pipe symbol) and — (dash) to mark columns and rows.\n",
    "Markdown Syntax\n",
    "\n",
    "|Header|Header|Header|\n",
    "|------|------|------|\n",
    "|A     |B     |C     |\n",
    "|X     |Y     |Z     |\n",
    "\n",
    "Note: It is not important to add spaces after each text, roughly aligning with the columns will do just fine. \n",
    "\n",
    "Also, the number of dashes is irrelevant and is just cosmetical.\n",
    "\n",
    "The text in each header and cell of a table will by default justify to the right.\n",
    "\n",
    "For manually changing the justification, you can use:\n",
    "\n",
    "Note: Colons can be used to align columns.\n",
    "\n",
    "Use:  :--- Left align\n",
    "Use:  ---: Right align\n",
    "Use:  :---: Center align"
   ]
  },
  {
   "cell_type": "markdown",
   "id": "701bc527",
   "metadata": {},
   "source": [
    "<div class=\"alert alert-block alert-success\"><b>Example:</b> Run and study the code given in the RawNBConvert cell below to see and understand how to make a table in a Markdown cell.\n",
    "         \n",
    " </div>"
   ]
  },
  {
   "cell_type": "raw",
   "id": "f3f52ae5",
   "metadata": {},
   "source": [
    "| How | To | Make | a table|\n",
    "| :---: | :---: | :---: | :---: |\n",
    "| in   | <span style= 'background:yellow'> Jupyter </span>| <span style= 'background:yellow'> Notebook </span>| <span style= 'background:yellow'> Markdown </span> |\n",
    "| It | is | really| cool |"
   ]
  },
  {
   "cell_type": "code",
   "execution_count": null,
   "id": "e70474f0",
   "metadata": {},
   "outputs": [],
   "source": []
  },
  {
   "cell_type": "markdown",
   "id": "810a577d",
   "metadata": {},
   "source": [
    "<a class=\"anchor\" id=\"26\"></a>\n",
    "# 26. YouTube Videos (Embedding an Image That Links to a YouTube)"
   ]
  },
  {
   "cell_type": "markdown",
   "id": "e38f1acc",
   "metadata": {},
   "source": [
    "[Last Lecture: Achieving Your Childhood Dreams](https://www.youtube.com/watch?v=ji5_MqicxSo)"
   ]
  },
  {
   "cell_type": "raw",
   "id": "3c8fe4f0",
   "metadata": {},
   "source": [
    "Showing a YouTube Video In A Markdown Cell\n",
    "\n",
    "******************************************\n",
    "\n",
    "Example \n",
    "---------\n",
    "\n",
    "[![YouTube Video Link]([![YouTube Video Link](http://img.youtube.com/vi/jqSuaRpCnro/0.jpg)](http://www.youtube.com/watch?v=jqSuaRpCnro)\n"
   ]
  },
  {
   "cell_type": "markdown",
   "id": "b205418a",
   "metadata": {},
   "source": [
    "<div class=\"alert alert-block alert-success\"><b>Example:</b> Run and study the code in the RawNBConvert cell above to see and undertsand how to embed an image that links to a YouTube. \n",
    "    \n",
    "Note: You can play with the code to see if you can create a \"cleaner\" version of the label.\n",
    "      \n",
    " </div>"
   ]
  },
  {
   "cell_type": "code",
   "execution_count": null,
   "id": "7d491fbd",
   "metadata": {},
   "outputs": [],
   "source": []
  },
  {
   "cell_type": "markdown",
   "id": "c9e31fc5",
   "metadata": {},
   "source": [
    "<a class=\"anchor\" id=\"27\"></a>\n",
    "# 27.  Definition Lists"
   ]
  },
  {
   "cell_type": "raw",
   "id": "2d3af079",
   "metadata": {},
   "source": [
    "DEFINITION LISTS in a Markdown Cell\n",
    "***********************************\n",
    "\n",
    "Markdown syntax\n",
    "---------------\n",
    "\n",
    "<dl>\n",
    "<dt>First Term</dt>\n",
    "<dd>This is the definition of the first term.</dd>\n",
    "<dt>Second Term</dt>\n",
    "<dd>This is one definition of the second term. </dd>\n",
    "<dd>This is another definition of the second term.</dd>\n",
    "</dl>"
   ]
  },
  {
   "cell_type": "markdown",
   "id": "20239141",
   "metadata": {},
   "source": [
    "<div class=\"alert alert-block alert-success\"><b>Example:</b> Run and study the code in the RawNBConvert cell above to see and understand how to make a DEFINITION LIST in a Markdown cell.\n",
    "      \n",
    " </div>"
   ]
  },
  {
   "cell_type": "code",
   "execution_count": null,
   "id": "fd7fc874",
   "metadata": {},
   "outputs": [],
   "source": []
  },
  {
   "cell_type": "markdown",
   "id": "e17c4161",
   "metadata": {},
   "source": [
    "<div class=\"alert alert-block alert-success\"><b>Example:</b> Run and study the code in the RawNBConvert cell below to see and understand how to make a DEFINITION LIST in a Markdown cell.\n",
    "      \n",
    " </div>"
   ]
  },
  {
   "cell_type": "raw",
   "id": "adfcd825",
   "metadata": {},
   "source": [
    "<dl>\n",
    "<dt>Variable</dt>\n",
    "<dd>Placeholder for texts and numbers. The equal sign (=) is used to assign values to variables.\n",
    "</dd>\n",
    "<dt>Expression</dt>\n",
    "<dd>This is one definition of Expression: Python code that produces a value. </dd>\n",
    "<dd>This is another definition of Expression: Expressions are representations of value. </dd>\n",
    "</dl>"
   ]
  },
  {
   "cell_type": "code",
   "execution_count": null,
   "id": "8d293705",
   "metadata": {},
   "outputs": [],
   "source": []
  },
  {
   "cell_type": "markdown",
   "id": "c6576812",
   "metadata": {},
   "source": [
    "<a class=\"anchor\" id=\"28\"></a>\n",
    "# 28. Navigation Menus"
   ]
  },
  {
   "cell_type": "raw",
   "id": "9b8f504a",
   "metadata": {},
   "source": [
    "NAVIGATION MENU in a Markdown Cell\n",
    "**********************************\n",
    "\n",
    "It defines a set of navigation links.\n",
    "\n",
    "Markdown syntax\n",
    "---------------\n",
    "\n",
    "<nav>\n",
    "<a href=”https://www.google.com\">LinkedIn</a> |\n",
    "<a href=”/css/”>Github</a> |\n",
    "<a href=”/js/”>Medium</a> |\n",
    "</nav>"
   ]
  },
  {
   "cell_type": "markdown",
   "id": "ee07a8a2",
   "metadata": {},
   "source": [
    "<div class=\"alert alert-block alert-success\"><b>Example:</b> Run and study the code in the following RawNBConvert cell to see and undertsand how to make a NAVIGATION MENU in a Markdown cell.\n",
    "      \n",
    " </div>"
   ]
  },
  {
   "cell_type": "code",
   "execution_count": null,
   "id": "c5379871",
   "metadata": {},
   "outputs": [],
   "source": [
    "<nav>\n",
    "<a href=”https://www.google.com\">LinkedIn</a> |\n",
    "<a href=”/css/”>Github</a> |\n",
    "<a href=”/js/”>Medium</a> |\n",
    "</nav>"
   ]
  },
  {
   "cell_type": "code",
   "execution_count": null,
   "id": "71adeeb5",
   "metadata": {},
   "outputs": [],
   "source": []
  },
  {
   "cell_type": "markdown",
   "id": "0fbffed7",
   "metadata": {},
   "source": [
    "<a class=\"anchor\" id=\"29\"></a>\n",
    "# 29. LaTeX Math"
   ]
  },
  {
   "cell_type": "markdown",
   "id": "f8d03592",
   "metadata": {},
   "source": [
    "- LaTeX is a system for high-quality technical typesetting. Most mathematicians and many other people use LaTeX to typeset papers, exams, books, and more. The [LaTeX Project Home Page](https://www.latex-project.org/) has additional information.\n",
    "\n",
    "- Jupyter Notebooks’ Markdown cells support LaTeX for formatting mathematical equations."
   ]
  },
  {
   "cell_type": "raw",
   "id": "5d190f31",
   "metadata": {},
   "source": [
    "To tell Markdown to interpret your text as LaTex, surround your input with dollar signs like this: (RUN THIS CELL IN MARKDOWN!)\n",
    "\n",
    "$\\sqrt{k}$"
   ]
  },
  {
   "cell_type": "markdown",
   "id": "25bce434",
   "metadata": {},
   "source": [
    "<div class=\"alert alert-block alert-success\"><b>Example:</b> Run and study the code in the following RawNBConvert cell to see and undertsand how to use LaTeX in a Markdown cell.\n",
    "      \n",
    " </div>"
   ]
  },
  {
   "cell_type": "code",
   "execution_count": null,
   "id": "8f7c64a7",
   "metadata": {},
   "outputs": [],
   "source": []
  },
  {
   "cell_type": "markdown",
   "id": "b92a8f03",
   "metadata": {},
   "source": [
    "- We will not focus on learning LaTex at this time, but if the need arises, we will address it."
   ]
  },
  {
   "cell_type": "markdown",
   "id": "ed9262df",
   "metadata": {},
   "source": [
    "<a class=\"anchor\" id=\"30\"></a>\n",
    "# 30. Geometric Shapes"
   ]
  },
  {
   "cell_type": "raw",
   "id": "c4c40148",
   "metadata": {},
   "source": [
    "GEOMETRIC SHAPES in Markdown Cells\n",
    "*********************************\n",
    "   \n",
    "Use &# followed by the decimal or hex reference number followed by a semicolon ; for the geometric shapes rendering.\n",
    "\n",
    "Syntax: \n",
    "------\n",
    "\n",
    "&#Hex; or &#Dec;"
   ]
  },
  {
   "cell_type": "markdown",
   "id": "da940f0e",
   "metadata": {},
   "source": [
    "[Decimal and Hex Reference Numbers](https://www.w3schools.com/charsets/ref_utf_geometric.asp)"
   ]
  },
  {
   "cell_type": "code",
   "execution_count": null,
   "id": "ce0ea43e",
   "metadata": {},
   "outputs": [],
   "source": []
  },
  {
   "cell_type": "markdown",
   "id": "288f3dba",
   "metadata": {},
   "source": [
    "<div class=\"alert alert-block alert-success\"><b>Example:</b> Run and study the code in the following RawNBConvert cell to see and understand how to make GEOMETRIC FIGURES in a Markdown cell..\n",
    "      \n",
    " </div>\n"
   ]
  },
  {
   "cell_type": "markdown",
   "id": "3cefcf75",
   "metadata": {},
   "source": [
    "&#9635;\n",
    "&#9710;\n",
    "&#9699;"
   ]
  },
  {
   "cell_type": "code",
   "execution_count": null,
   "id": "94470efa",
   "metadata": {},
   "outputs": [],
   "source": []
  },
  {
   "cell_type": "markdown",
   "id": "9cf5cb36",
   "metadata": {},
   "source": [
    "<div class=\"alert alert-block alert-success\"><b>Example:</b> In the following cell practice using other geometric shapes in a Markdown cell.\n",
    "      \n",
    " </div>"
   ]
  },
  {
   "cell_type": "code",
   "execution_count": null,
   "id": "4f83900c",
   "metadata": {},
   "outputs": [],
   "source": []
  },
  {
   "cell_type": "markdown",
   "id": "c8529571",
   "metadata": {},
   "source": [
    "<a class=\"anchor\" id=\"31\"></a>\n",
    "# 31. Table of Contents"
   ]
  },
  {
   "cell_type": "markdown",
   "id": "171da804",
   "metadata": {},
   "source": [
    "[Table of Contents in Jupyter Notebook](https://moonbooks.org/Articles/How-to-create-a-table-of-contents-in-a-jupyter-notebook-/)"
   ]
  },
  {
   "cell_type": "markdown",
   "id": "d7f6b692",
   "metadata": {},
   "source": [
    "#### <center>Note: To learn how to make a Table of Contents, refer to the Table of Contents above!!</center>"
   ]
  },
  {
   "cell_type": "markdown",
   "id": "32e76538",
   "metadata": {},
   "source": [
    "<a class=\"anchor\" id=\"32\"></a>\n",
    "# 32. Adding Spaces; Indenting; and Skipping Lines/Creating Blank Lines"
   ]
  },
  {
   "cell_type": "raw",
   "id": "310270c0",
   "metadata": {},
   "source": [
    "Adding Spaces\n",
    "*************\n",
    "\n",
    "1. Type &nbsp; to add a single space\n",
    "2. Type &ensp; to add 2 spaces\n",
    "3. Type &emsp; to add 4 spaces\n",
    "4. Use &nbsp; 4 times to insert a tab.\n",
    "\n",
    "Line breaks\n",
    "***********\n",
    "Sometimes markdown doesn’t make line breaks when you want them. To force a linebreak, use the following code: <br>"
   ]
  },
  {
   "cell_type": "raw",
   "id": "875e1d9f",
   "metadata": {},
   "source": [
    "John<br>\n",
    "&nbsp; John<br>\n",
    "&ensp; John<br>\n",
    "&emsp; John<br>\n",
    "&nbsp;&nbsp;&nbsp;&nbsp; John<br>"
   ]
  },
  {
   "cell_type": "markdown",
   "id": "3aa7d41c",
   "metadata": {},
   "source": [
    "<div class=\"alert alert-block alert-success\"><b>Example:</b> Run and study the code in the RawNBConvert cell above to see and understand how to include spaces and line breaks in a Markdown cell.\n",
    "</div>\n",
    "\n"
   ]
  },
  {
   "cell_type": "raw",
   "id": "c9d75894",
   "metadata": {},
   "source": [
    "Indenting\n",
    "*********\n",
    "\n",
    "Use the greater than sign (>) followed by a space, for example:\n",
    "\n",
    "This text will not be indented.\n",
    "> Using the greater than sign will indent this text.\n",
    ">> Using three greater than signs will indent this text even further."
   ]
  },
  {
   "cell_type": "markdown",
   "id": "289d3f9d",
   "metadata": {},
   "source": [
    "<div class=\"alert alert-block alert-success\"><b>Example:</b> Run and study the code in the RawNBConvert cell above to see and understand how to indent text in a Markdown cell.\n",
    "</div>\n"
   ]
  },
  {
   "cell_type": "raw",
   "id": "93b77fe6",
   "metadata": {},
   "source": [
    "Skipping Lines (i.e. Creating a Blank Line)\n",
    "*******************************************\n",
    "\n",
    "Use <p>&nbsp;</p> to skip a line (i.e. to create a blank line) in Markdown.\n",
    "\n"
   ]
  },
  {
   "cell_type": "markdown",
   "id": "7aec1c87",
   "metadata": {},
   "source": [
    "This is line 1.<br>\n",
    "This is line 2.<br>\n",
    "This is line 3.\n",
    "\n",
    "This is line 4.<br>\n",
    "This is line 5.<br>\n",
    "<p>&nbsp;</p>\n",
    "This is line 6."
   ]
  },
  {
   "cell_type": "markdown",
   "id": "9edc605a",
   "metadata": {},
   "source": [
    "<div class=\"alert alert-block alert-success\"><b>Example:</b> Run and study the code in the RawNBConvert cell above to see and understand how to skip a line/create a blank line in a Markdown cell.\n",
    "</div>"
   ]
  },
  {
   "cell_type": "code",
   "execution_count": null,
   "id": "d27fc1be",
   "metadata": {},
   "outputs": [],
   "source": []
  },
  {
   "cell_type": "code",
   "execution_count": null,
   "id": "967926de",
   "metadata": {},
   "outputs": [],
   "source": []
  }
 ],
 "metadata": {
  "kernelspec": {
   "display_name": "Python 3 (ipykernel)",
   "language": "python",
   "name": "python3"
  },
  "language_info": {
   "codemirror_mode": {
    "name": "ipython",
    "version": 3
   },
   "file_extension": ".py",
   "mimetype": "text/x-python",
   "name": "python",
   "nbconvert_exporter": "python",
   "pygments_lexer": "ipython3",
   "version": "3.9.12"
  }
 },
 "nbformat": 4,
 "nbformat_minor": 5
}
